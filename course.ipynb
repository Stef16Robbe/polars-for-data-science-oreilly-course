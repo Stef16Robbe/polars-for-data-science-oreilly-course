{
 "cells": [
  {
   "cell_type": "markdown",
   "metadata": {},
   "source": [
    "# Polars for Data Science\n",
    "## From zero to tackling real world data science problems with Polars"
   ]
  },
  {
   "cell_type": "markdown",
   "metadata": {},
   "source": [
    "### Dataset\n",
    "For this tutorial, we will use the well-known Iris dataset."
   ]
  },
  {
   "cell_type": "markdown",
   "metadata": {},
   "source": [
    "# Getting Started\n",
    "## Install Polars; become familiar with Polars's lazy-mode versus in-memory mode; understand how to leverage Polars's query optimization."
   ]
  },
  {
   "cell_type": "markdown",
   "metadata": {},
   "source": [
    "### Loading the Data with Polars\n",
    "To start, we'll load the Iris dataset using `polars.read_csv()` and inspect it with `polars.DataFrame.head()`. Polars is very explicit about datatypes, which will be helpful when we dive into the Expression API later."
   ]
  },
  {
   "cell_type": "code",
   "execution_count": 1,
   "metadata": {},
   "outputs": [],
   "source": [
    "import polars as pl\n",
    "\n",
    "# Load the data\n",
    "df = pl.read_csv('iris.csv')\n",
    "\n",
    "# Inspect the first few rows\n",
    "print(df.head())"
   ]
  },
  {
   "cell_type": "markdown",
   "metadata": {},
   "source": [
    "### Selecting Specific Columns\n",
    "Next, we will select a few columns from the DataFrame using `polars.DataFrame.select()`. This is useful for focusing on specific parts of the data."
   ]
  },
  {
   "cell_type": "code",
   "execution_count": 2,
   "metadata": {},
   "outputs": [],
   "source": [
    "# Select specific columns\n",
    "selected_df = df.select(['sepal_length', 'species'])\n",
    "\n",
    "# Display the selected columns\n",
    "print(selected_df.head())"
   ]
  },
  {
   "cell_type": "markdown",
   "metadata": {},
   "source": [
    "### Lazy Loading with Polars\n",
    "We can also load the data lazily using `polars.scan_csv()`. Unlike `read_csv()`, `scan_csv()` does not load the data into memory immediately. Instead, it creates a LazyFrame, which allows for query optimization before the data is loaded."
   ]
  },
  {
   "cell_type": "code",
   "execution_count": 3,
   "metadata": {},
   "outputs": [],
   "source": [
    "# Lazy load the data\n",
    "lazy_df = pl.scan_csv('iris.csv')\n",
    "\n",
    "# Attempt to inspect the first few rows (this will not work as expected)\n",
    "print(lazy_df.head())"
   ]
  },
  {
   "cell_type": "markdown",
   "metadata": {},
   "source": [
    "### Selecting Columns in Lazy Mode\n",
    "We can select columns in a LazyFrame just like we did with a DataFrame. Additionally, we can use `LazyFrame.show_graph()` to visualize the query plan, demonstrating how columns that aren't selected are never read into memory."
   ]
  },
  {
   "cell_type": "code",
   "execution_count": 4,
   "metadata": {},
   "outputs": [],
   "source": [
    "# Select specific columns lazily\n",
    "lazy_selected_df = lazy_df.select(['sepal_length', 'species'])\n",
    "\n",
    "# Show the query plan graph\n",
    "lazy_selected_df.show_graph()"
   ]
  },
  {
   "cell_type": "markdown",
   "metadata": {},
   "source": [
    "### Converting LazyFrame to DataFrame\n",
    "To execute the lazy query and load the data into memory, we can use `LazyFrame.collect()`. This converts the LazyFrame into a DataFrame."
   ]
  },
  {
   "cell_type": "code",
   "execution_count": 5,
   "metadata": {},
   "outputs": [],
   "source": [
    "# Convert LazyFrame to DataFrame\n",
    "collected_df = lazy_selected_df.collect()\n",
    "\n",
    "# Display the collected DataFrame\n",
    "print(collected_df.head())"
   ]
  },
  {
   "cell_type": "markdown",
   "metadata": {},
   "source": [
    "# Data Manipulation I: Basics\n",
    "## Become familiar with the Polars API, and be able to perform basic selecting and filtering queries."
   ]
  },
  {
   "cell_type": "markdown",
   "metadata": {},
   "source": [
    "### Understanding Polars API Classes\n",
    "Polars provides four main classes of tools for data manipulation: query clauses (`select`, `filter`, `sort`, `group_by`, `agg`, etc), column expressions (`pl.col()`), collection functions (`collect`, `head`, `shape`), and miscellaneous functions (`value_counts`, `transpose`, `concat`, `plot`)."
   ]
  },
  {
   "cell_type": "markdown",
   "metadata": {},
   "source": [
    "### Polars vs. SQL Syntax\n",
    "Let's compare Polars syntax to SQL syntax. Polars provides similar functionalities to SQL but in a more programmatic and efficient way."
   ]
  },
  {
   "cell_type": "code",
   "execution_count": 6,
   "metadata": {},
   "outputs": [],
   "source": [
    "# Filter rows in Polars (similar to SQL's WHERE clause)\n",
    "filtered_df = df.filter(pl.col('sepal_length') > 5.0)\n",
    "\n",
    "# Display the filtered DataFrame\n",
    "print(filtered_df.head())"
   ]
  },
  {
   "cell_type": "markdown",
   "metadata": {},
   "source": [
    "### Exploring the Expression API\n",
    "The Expression API in Polars is powerful and flexible. Here are a few examples of expressions inside `select` statements, including `pl.col()`, `pl.col().alias()`, `pl.col().suffix()`, and `pl.col().ne()`."
   ]
  },
  {
   "cell_type": "code",
   "execution_count": 7,
   "metadata": {},
   "outputs": [],
   "source": [
    "# Using expressions in select statements\n",
    "expr_df = df.select([\n",
    "    pl.col('sepal_length').alias('length'),\n",
    "    pl.col('sepal_width').suffix('_cm'),\n",
    "    pl.col('petal_length').ne(1.4).alias('not_1.4')\n",
    "])\n",
    "\n",
    "# Display the DataFrame with expressions applied\n",
    "print(expr_df.head())"
   ]
  },
  {
   "cell_type": "markdown",
   "metadata": {},
   "source": [
    "### Basic Aggregations with Expressions\n",
    "With the Expression API, you can perform basic aggregations, such as calculating the maximum and minimum values of columns."
   ]
  },
  {
   "cell_type": "code",
   "execution_count": 8,
   "metadata": {},
   "outputs": [],
   "source": [
    "# Basic aggregations\n",
    "aggregations_df = df.select([\n",
    "    pl.col('sepal_length').max().alias('max_length'),\n",
    "    pl.col('sepal_width').min().alias('min_width')\n",
    "])\n",
    "\n",
    "# Display the aggregated DataFrame\n",
    "print(aggregations_df)"
   ]
  },
  {
   "cell_type": "markdown",
   "metadata": {},
   "source": [
    "### Exploring the Expression API Documentation\n",
    "If you want to explore the types of columns you can add, check out the [Expression API docs](https://pola-rs.github.io/polars/py-polars/html/reference/expressions.html). All expression functions are organized by namespace, with different namespaces for each datatype."
   ]
  }
 ],
 "metadata": {
  "kernelspec": {
   "display_name": "Python 3",
   "language": "python",
   "name": "python3"
  },
  "language_info": {
   "codemirror_mode": {
    "name": "ipython",
    "version": 3
   },
   "file_extension": ".py",
   "mimetype": "text/x-python",
   "name": "python",
   "nbconvert_exporter": "python",
   "pygments_lexer": "ipython3",
   "version": "3.8.5"
  }
 },
 "nbformat": 4,
 "nbformat_minor": 4
}
