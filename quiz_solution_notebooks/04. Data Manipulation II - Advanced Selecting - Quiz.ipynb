{
 "cells": [
  {
   "cell_type": "markdown",
   "id": "1653908d",
   "metadata": {},
   "source": [
    "# 4. Data Manipulation II - Advanced Selecting - Quiz.ipynb"
   ]
  },
  {
   "cell_type": "markdown",
   "id": "97a37bab",
   "metadata": {},
   "source": [
    "## 4.0. Import `polars` and Load Data"
   ]
  },
  {
   "cell_type": "code",
   "execution_count": 1,
   "id": "9f2da0ab",
   "metadata": {},
   "outputs": [],
   "source": [
    "import polars as pl"
   ]
  },
  {
   "cell_type": "code",
   "execution_count": 2,
   "id": "37f2cb81",
   "metadata": {},
   "outputs": [],
   "source": [
    "df = pl.read_parquet(\"../data/yellow_tripdata_2024-03.parquet\")"
   ]
  },
  {
   "cell_type": "markdown",
   "id": "6e0c0acc-716b-42e9-b598-01f77fa2a605",
   "metadata": {},
   "source": [
    "## 4.1. Question 1"
   ]
  },
  {
   "cell_type": "markdown",
   "id": "cbaf72a0-349e-4815-8e26-69900c2a16e6",
   "metadata": {},
   "source": [
    "Select all columns from the dataframe that have the datatype `pl.String`. How many columns are there in the result?"
   ]
  },
  {
   "cell_type": "code",
   "execution_count": 3,
   "id": "ed177cdc-e49b-41ea-969b-55c1a3ce820a",
   "metadata": {},
   "outputs": [
    {
     "name": "stdout",
     "output_type": "stream",
     "text": [
      "(3582628, 1)\n"
     ]
    }
   ],
   "source": [
    "result = (\n",
    "    df\n",
    "    #### YOUR CODE HERE\n",
    "    .select(pl.col(pl.String))\n",
    "    .shape\n",
    ")\n",
    "print(result)"
   ]
  },
  {
   "cell_type": "markdown",
   "id": "c19f63d5-3273-42b2-a2d4-839b0a059a57",
   "metadata": {},
   "source": [
    "1. 1 - correct - Exactly!\n",
    "2. 19 - incorrect - These are all the columns in the original dataframe! Are you sure you have your `.select()` statement correct?\n",
    "3. 3 - incorrect - Are you sure you're not checking for a datatype other than `pl.String`?\n",
    "4. 0 - incorrect - There is at least one column with the `pl.String` data type... check again!"
   ]
  },
  {
   "cell_type": "markdown",
   "id": "a8a6e0d9-3b8c-40c2-8352-0259d101f722",
   "metadata": {},
   "source": [
    "## 4.2. Question 2"
   ]
  },
  {
   "cell_type": "markdown",
   "id": "2f540bdd-a015-49be-adcc-41dc4a84f870",
   "metadata": {},
   "source": [
    "Select all columns from the dataframe that have the datatype `pl.Int64`. How many columns are there in the result?"
   ]
  },
  {
   "cell_type": "code",
   "execution_count": 4,
   "id": "d4eba47c-6a64-4974-b0a3-b8c056bc967f",
   "metadata": {},
   "outputs": [
    {
     "name": "stdout",
     "output_type": "stream",
     "text": [
      "(3582628, 3)\n"
     ]
    }
   ],
   "source": [
    "result = (\n",
    "    df\n",
    "    #### YOUR CODE HERE\n",
    "    .select(pl.col(pl.Int64))\n",
    "    .shape\n",
    ")\n",
    "print(result)"
   ]
  },
  {
   "cell_type": "markdown",
   "id": "5469d26f-4c80-40b9-8f94-d16dc0355ee5",
   "metadata": {},
   "source": [
    "1. 19 - incorrect - These are all the columns in the original dataframe! Are you sure you have your `.select()` statement correct?\n",
    "2. 1 - incorrect - Are you sure you're not checking for a datatype other than `pl.Int64`?\n",
    "3. 3 - correct - Exactly!\n",
    "4. 3582628 - incorrect - This is the number of rows, not the number of columns!"
   ]
  },
  {
   "cell_type": "markdown",
   "id": "9fcd80f7-c84b-4270-8c00-c674259b9478",
   "metadata": {},
   "source": [
    "## 4.3. Question 3"
   ]
  },
  {
   "cell_type": "markdown",
   "id": "4a3c9de2-02a1-47c9-85b7-a7232d8bf841",
   "metadata": {},
   "source": [
    "What fraction of rows have at least one of their `pl.Float64` columns equal to exactly `0`? (Hint: use `pl.any_horizontal()`.)"
   ]
  },
  {
   "cell_type": "code",
   "execution_count": 5,
   "id": "f6a12ad8-c16c-46ed-a19c-edc0226baa7f",
   "metadata": {},
   "outputs": [
    {
     "name": "stdout",
     "output_type": "stream",
     "text": [
      "shape: (1, 1)\n",
      "┌──────────┐\n",
      "│ fraction │\n",
      "│ ---      │\n",
      "│ f64      │\n",
      "╞══════════╡\n",
      "│ 0.0      │\n",
      "└──────────┘\n"
     ]
    }
   ],
   "source": [
    "result = (\n",
    "    df\n",
    "    .select(\n",
    "        pl.any_horizontal(pl.col(pl.Float32)).eq(0).mean().alias(\"fraction\")\n",
    "    )\n",
    ")\n",
    "print(result)"
   ]
  },
  {
   "cell_type": "markdown",
   "id": "79dc709d-ebae-424d-9cb4-225383287768",
   "metadata": {},
   "source": [
    "1. 0 - incorrect - Make sure you're using `pl.Float64` and not another datatype.\n",
    "2. 0.000076 - correct - Exactly!\n",
    "3. .50 - incorrect - Are you sure you're using the correct datatype?\n",
    "4. 1.0 - incorrect - This is all the rows! Check your code again, maybe you have the aggregation incorrect..."
   ]
  },
  {
   "cell_type": "markdown",
   "id": "f3981ad1-52fb-4fe4-9a14-583b40ae043b",
   "metadata": {},
   "source": [
    "## 4.4. Question 4"
   ]
  },
  {
   "cell_type": "markdown",
   "id": "6ad8c434-b385-4b01-a501-3337e4c4dc45",
   "metadata": {},
   "source": [
    "Create a new column called `tip_amount_plus_fare_amount`; sort the dataframe by this new column descending order. What is the `tip_amount` and `fare_amount` for the highest `tip_amount_plus_fare_amount`?"
   ]
  },
  {
   "cell_type": "code",
   "execution_count": 6,
   "id": "c6cb58aa-65a4-425a-9f43-714fbcbfe921",
   "metadata": {},
   "outputs": [
    {
     "name": "stdout",
     "output_type": "stream",
     "text": [
      "shape: (3_582_628, 3)\n",
      "┌────────────┬─────────────┬─────────────────────────────┐\n",
      "│ tip_amount ┆ fare_amount ┆ tip_amount_plus_fare_amount │\n",
      "│ ---        ┆ ---         ┆ ---                         │\n",
      "│ f64        ┆ f64         ┆ f64                         │\n",
      "╞════════════╪═════════════╪═════════════════════════════╡\n",
      "│ 999.99     ┆ 17.0        ┆ 1016.99                     │\n",
      "│ 0.0        ┆ 900.0       ┆ 900.0                       │\n",
      "│ 0.0        ┆ 850.0       ┆ 850.0                       │\n",
      "│ 0.0        ┆ 840.0       ┆ 840.0                       │\n",
      "│ 0.0        ┆ 800.0       ┆ 800.0                       │\n",
      "│ …          ┆ …           ┆ …                           │\n",
      "│ 0.0        ┆ -558.8      ┆ -558.8                      │\n",
      "│ 1.0        ┆ -600.0      ┆ -599.0                      │\n",
      "│ 0.0        ┆ -619.7      ┆ -619.7                      │\n",
      "│ 161.2      ┆ -800.0      ┆ -638.8                      │\n",
      "│ 0.01       ┆ -800.0      ┆ -799.99                     │\n",
      "└────────────┴─────────────┴─────────────────────────────┘\n"
     ]
    }
   ],
   "source": [
    "result = (\n",
    "    df\n",
    "    #### YOUR CODE HERE\n",
    "    .select(\n",
    "        pl.col([\"tip_amount\", \"fare_amount\"]),\n",
    "        (pl.col(\"tip_amount\") + pl.col(\"fare_amount\")).alias(\"tip_amount_plus_fare_amount\")\n",
    "    )\n",
    "    .sort(by=\"tip_amount_plus_fare_amount\", descending=True)\n",
    ")\n",
    "print(result)"
   ]
  },
  {
   "cell_type": "markdown",
   "id": "f52717e6-49a8-4685-8fc3-608a7b7a8ae9",
   "metadata": {},
   "source": [
    "1. `tip_amount = 17.0`, `fare_amount = 999.99` - incorrect - You might have the two columns mixed up!\n",
    "2. `tip_amount = 0.01`, `fare_amount = -800.0` - incorrect - Make sure to take sort in descending order, not ascending!\n",
    "3. `tip_amount = 999.99`, `fare_amount = 17.0` - correct - Exactly!\n",
    "4. `tip_amount = 999.99`, `fare_amount = 999.99` - incorrect - Are you sure you're computing the column `tip_amount_plus_fare_amount` correctly?"
   ]
  },
  {
   "cell_type": "markdown",
   "id": "d09514d5-efac-4907-96fd-2b3d88d43cd8",
   "metadata": {},
   "source": [
    "## 4.5. Question 5"
   ]
  },
  {
   "cell_type": "markdown",
   "id": "b274fa1d-d864-4cb4-b1e4-64272f1fe194",
   "metadata": {},
   "source": [
    "What fraction of rides had the same pickup and dropoff location?"
   ]
  },
  {
   "cell_type": "code",
   "execution_count": 7,
   "id": "2d7e9a0b-f218-4b6c-b501-47b719065d9a",
   "metadata": {},
   "outputs": [
    {
     "name": "stdout",
     "output_type": "stream",
     "text": [
      "shape: (1, 1)\n",
      "┌──────────────┐\n",
      "│ DOLocationID │\n",
      "│ ---          │\n",
      "│ f64          │\n",
      "╞══════════════╡\n",
      "│ 0.050603     │\n",
      "└──────────────┘\n"
     ]
    }
   ],
   "source": [
    "result = (\n",
    "    df\n",
    "    #### YOUR CODE HERE\n",
    "    .select(pl.col(\"DOLocationID\").eq(pl.col(\"PULocationID\")).mean())\n",
    ")\n",
    "print(result)"
   ]
  },
  {
   "cell_type": "markdown",
   "id": "206255cf-4f49-4ec9-9a36-6ad17238b04d",
   "metadata": {},
   "source": [
    "1. 0.949397 - incorrect - Close... the answer is actually 1 minus this number! Check your code again.\n",
    "2. 0.050603 - correct - Exactly!\n",
    "3. 1.0 - incorrect - This would mean that all the rides had the same pickup and dropoff location; try again!\n",
    "4. 0.0 - incorrect - This would mean that none of the rides had the same pickup and dropoff location; try again!"
   ]
  },
  {
   "cell_type": "markdown",
   "id": "c6f7e4bf-298e-4216-97af-283eb1767097",
   "metadata": {},
   "source": [
    "## 4.6. Question 6"
   ]
  },
  {
   "cell_type": "markdown",
   "id": "02a38e14-a510-480f-afec-b22e385ee158",
   "metadata": {},
   "source": [
    "Using `.with_columns()`, `pl.all()`, and `.name.suffix()`, add to the dataframe a copy of all the columns, just with the name `_new` added on to the end of each column name. How many columns are there in the resultant dataframe?"
   ]
  },
  {
   "cell_type": "code",
   "execution_count": 8,
   "id": "ef20775e-ab8b-43c4-bd95-89a7327f9771",
   "metadata": {},
   "outputs": [
    {
     "name": "stdout",
     "output_type": "stream",
     "text": [
      "(3582628, 38)\n"
     ]
    }
   ],
   "source": [
    "result = (\n",
    "    df\n",
    "    #### YOUR CODE HERE\n",
    "    .with_columns(pl.all().name.suffix(\"_new\"))\n",
    ")\n",
    "print(result.shape)"
   ]
  },
  {
   "cell_type": "markdown",
   "id": "6b915836-2690-4fc4-aac0-1b3d1cff581b",
   "metadata": {},
   "source": [
    "1. 3582628 - incorrect - This is the number of rows, not columns; try again!\n",
    "2. 38 - correct - Exactly!\n",
    "3. 19 - incorrect - This is the the number of columns in the original dataframe; the answer should actually be two times this number!\n",
    "4. 22 - incorrect - Are you sure you selected all the columns in your `.with_columns()` call?"
   ]
  },
  {
   "cell_type": "markdown",
   "id": "aa8daa07-24ef-4e4a-a15b-66a61bfa3ac6",
   "metadata": {},
   "source": [
    "## 4.7 Question 7"
   ]
  },
  {
   "cell_type": "markdown",
   "id": "076f65cf-acce-44d5-9d48-6f6c31bd57fe",
   "metadata": {},
   "source": [
    "Add a new column to the dataframe for every `pl.String` column that checks if that column has an empty string (i.e. equal to `\"\"`). How many columns are in the resultant dataframe?"
   ]
  },
  {
   "cell_type": "code",
   "execution_count": 9,
   "id": "3113c421-6aab-42ca-ba4c-2da94cdbb0f8",
   "metadata": {},
   "outputs": [
    {
     "name": "stdout",
     "output_type": "stream",
     "text": [
      "(3582628, 20)\n"
     ]
    }
   ],
   "source": [
    "result = (\n",
    "    df\n",
    "    #### YOUR CODDE HERE\n",
    "    .with_columns(pl.col(pl.String).eq(\"\").name.suffix(\"_is_empty\"))\n",
    "    .shape\n",
    ")\n",
    "print(result)"
   ]
  },
  {
   "cell_type": "markdown",
   "id": "87ff3f92-1248-4141-8642-4a3f6d2c94bc",
   "metadata": {},
   "source": [
    "1. 1 - Are you using `.select()`? Be sure to use `.with_columns()` since we are adding columns.\n",
    "2. 20 - correct - Exactly! There's only one column with the datatype `pl.String`.\n",
    "3. 22 - incorrect - Are you sure you're performing the operations on `pl.String` columns?\n",
    "4. 38 - incorrect - You may have tried something with `pl.all()`. Try again!"
   ]
  },
  {
   "cell_type": "markdown",
   "id": "130da162-bea5-4da5-bcbc-7e8a937e7c64",
   "metadata": {},
   "source": [
    "## 4.8. Question 8"
   ]
  },
  {
   "cell_type": "markdown",
   "id": "8f85c859-1c0d-4cd6-946c-7d0e1b9ba3f3",
   "metadata": {},
   "source": [
    "We'd like a dataframe of only rides that took place in one location (i.e. where `DOLocationID` equals `PULocationID`). This also means that we no longer need both of the columns `DOLocationID` and `PULocationID` (since they are equal). So, filter for same-pickup-dropoff trips, and remove either one of the pickup/dropoff location columns, and rename the other one to just be `LocationID`. What is the shape of the resultant dataframe?"
   ]
  },
  {
   "cell_type": "code",
   "execution_count": 10,
   "id": "37b2407f-fee7-474c-af53-686684442750",
   "metadata": {},
   "outputs": [
    {
     "name": "stdout",
     "output_type": "stream",
     "text": [
      "(3582628, 18)\n"
     ]
    }
   ],
   "source": [
    "result = (\n",
    "    df\n",
    "    #### YOUR CODE HERE\n",
    "    # .filter(pl.col(\"DOLocationID\").eq(pl.col(\"PULocationID\")))\n",
    "    .drop(\"DOLocationID\")\n",
    "    .rename({\"PULocationID\": \"LocationID\"})\n",
    "    .shape\n",
    ")\n",
    "print(result)"
   ]
  },
  {
   "cell_type": "markdown",
   "id": "7b20d5c7-59cd-4e79-b368-f14320348ed0",
   "metadata": {},
   "source": [
    "1. (181291, 18) - correct - Exactly! A small fraction of the rides had the same pickup and dropoff location.\n",
    "2. (3582628, 18) - incorrect - This is the number of rows in the original dataframe; are you making sure to filter appropriately?\n",
    "3. (181291, 19) - incorrect - Did you make sure to remove either the pickup or dropoff location column from the dataframe?\n",
    "4. (3401337, 18) - incorrect - are you sure you didn't accidentally take only trips where the dropoff location and pickup location are not equal?"
   ]
  }
 ],
 "metadata": {
  "kernelspec": {
   "display_name": "Python 3 (ipykernel)",
   "language": "python",
   "name": "python3"
  },
  "language_info": {
   "codemirror_mode": {
    "name": "ipython",
    "version": 3
   },
   "file_extension": ".py",
   "mimetype": "text/x-python",
   "name": "python",
   "nbconvert_exporter": "python",
   "pygments_lexer": "ipython3",
   "version": "3.9.2"
  }
 },
 "nbformat": 4,
 "nbformat_minor": 5
}
