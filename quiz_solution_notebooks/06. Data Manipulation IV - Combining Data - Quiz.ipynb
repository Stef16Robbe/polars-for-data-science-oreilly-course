{
 "cells": [
  {
   "cell_type": "markdown",
   "id": "1653908d",
   "metadata": {},
   "source": [
    "# 6. Data Manipulation IV - Combining Data - Quiz"
   ]
  },
  {
   "cell_type": "markdown",
   "id": "97a37bab",
   "metadata": {},
   "source": [
    "## 6.0. Import `polars` and Load Data"
   ]
  },
  {
   "cell_type": "code",
   "execution_count": 6,
   "id": "9f2da0ab",
   "metadata": {},
   "outputs": [],
   "source": [
    "import polars as pl"
   ]
  },
  {
   "cell_type": "code",
   "execution_count": 7,
   "id": "37f2cb81",
   "metadata": {},
   "outputs": [],
   "source": [
    "yellow_rides_column_rename_mapping = {\n",
    "    \"VendorID\": \"vendor_id\",\n",
    "    \"RatecodeID\": \"ratecode_id\",\n",
    "    \"PULocationID\": \"pu_location_id\",\n",
    "    \"DOLocationID\": \"do_location_id\",\n",
    "    \"Airport_fee\": \"airport_fee\",\n",
    "}\n",
    "march_yellow_rides_df = (\n",
    "    pl.read_parquet(\"../data/yellow_tripdata_2024-03.parquet\")\n",
    "    .rename(column_rename_mapping)\n",
    ")"
   ]
  },
  {
   "cell_type": "code",
   "execution_count": 9,
   "id": "d180a8d3-4216-4ee1-bc98-d45ea2f7e7bb",
   "metadata": {},
   "outputs": [],
   "source": [
    "zones_df = (\n",
    "    pl.read_parquet(\"../data/taxi_zone_lookup.parquet\")\n",
    "    .rename({\n",
    "        \"LocationID\": \"location_id\",\n",
    "        \"Borough\": \"borough\",\n",
    "        \"Zone\": \"zone\",\n",
    "    })\n",
    ")"
   ]
  },
  {
   "cell_type": "markdown",
   "id": "74ea04d2-31f8-45c4-b498-0c4771b09efe",
   "metadata": {},
   "source": [
    "## 6.1. Question 1"
   ]
  },
  {
   "cell_type": "markdown",
   "id": "f926a2b8-85c5-4799-beb6-c5ae12cd8ee4",
   "metadata": {},
   "source": [
    "Using the `zones_df` combined with the `march_yellow_rides_df`, which `pu_zone` `do_zone` pair had the most rides?"
   ]
  },
  {
   "cell_type": "code",
   "execution_count": 35,
   "id": "65e8a2bb-0a2b-4eea-8b8e-ea0f0a86bf2f",
   "metadata": {},
   "outputs": [
    {
     "name": "stdout",
     "output_type": "stream",
     "text": [
      "shape: (1, 3)\n",
      "┌───────────────────────┬───────────────────────┬───────────┐\n",
      "│ pu_zone               ┆ do_zone               ┆ num_rides │\n",
      "│ ---                   ┆ ---                   ┆ ---       │\n",
      "│ str                   ┆ str                   ┆ u32       │\n",
      "╞═══════════════════════╪═══════════════════════╪═══════════╡\n",
      "│ Upper East Side South ┆ Upper East Side North ┆ 21477     │\n",
      "└───────────────────────┴───────────────────────┴───────────┘\n"
     ]
    }
   ],
   "source": [
    "result = (\n",
    "    march_yellow_rides_df\n",
    "    .join(\n",
    "        zones_df.select(pl.all().name.prefix(\"pu_\")),\n",
    "        on=\"pu_location_id\",\n",
    "    )\n",
    "    .join(\n",
    "        zones_df.with_columns(pl.all().name.prefix(\"do_\")),\n",
    "        on=\"do_location_id\",\n",
    "    )\n",
    "    #### YOUR CODE HERE\n",
    "    .group_by([\"pu_zone\", \"do_zone\"])\n",
    "    .agg(pl.len().alias(\"num_rides\"))\n",
    "    .sort(\"num_rides\", descending=True)\n",
    "    .head(1)\n",
    ")\n",
    "print(result)"
   ]
  },
  {
   "cell_type": "markdown",
   "id": "9580a252-c804-4f0c-9990-d2cc8543d927",
   "metadata": {},
   "source": [
    "1. (Upper East Side South, Upper East Side North) - correct\n",
    "2. (Erasmus, Astoria) - incorrect - make sure to get the `pu_zone` `do_zone` pair with the most rides, not the least.\n",
    "3. (Upper East Side North, Upper East Side South) - incorrect - make sure to get the combination with the most rides, not the second most rides.\n",
    "4. (Midtown Center, Upper East Side North) - incorrect - make sure to aggregate by the right column."
   ]
  },
  {
   "cell_type": "markdown",
   "id": "9b41ecd4-aedd-44a5-bc0d-6a8e49425a84",
   "metadata": {},
   "source": [
    "## 6.2. Question 2"
   ]
  },
  {
   "cell_type": "markdown",
   "id": "e2202b29-5b48-40af-887f-d7b0760dd14c",
   "metadata": {},
   "source": [
    "Find the ride with the highest `passenger_count` that started in the zone \"Midtown Center\" and ended in the zone \"Upper East Side North\". What was the `passenger_count` for that ride?"
   ]
  },
  {
   "cell_type": "code",
   "execution_count": 37,
   "id": "71d8630b-0b84-4229-aa66-91d6838f0816",
   "metadata": {},
   "outputs": [
    {
     "name": "stdout",
     "output_type": "stream",
     "text": [
      "shape: (1, 1)\n",
      "┌─────────────────┐\n",
      "│ passenger_count │\n",
      "│ ---             │\n",
      "│ f64             │\n",
      "╞═════════════════╡\n",
      "│ 1.277752        │\n",
      "└─────────────────┘\n"
     ]
    }
   ],
   "source": [
    "result = (\n",
    "    march_yellow_rides_df\n",
    "    #### YOUR CODE HERE\n",
    "    .join(\n",
    "        zones_df.select(pl.all().name.prefix(\"pu_\")),\n",
    "        on=\"pu_location_id\",\n",
    "    )\n",
    "    .join(\n",
    "        zones_df.with_columns(pl.all().name.prefix(\"do_\")),\n",
    "        on=\"do_location_id\",\n",
    "    )\n",
    "    .filter(\n",
    "        pl.col(\"pu_zone\").eq(\"Midtown Center\")\n",
    "        .and_(pl.col(\"do_zone\").eq(\"Upper East Side North\"))\n",
    "    )\n",
    "    .select(pl.col(\"passenger_count\").mean())\n",
    ")\n",
    "print(result)"
   ]
  },
  {
   "cell_type": "markdown",
   "id": "271f9695-c285-4784-922d-1bd9f8b5000b",
   "metadata": {},
   "source": [
    "1. 13.526644 - incorrect - you might be measuring average `fare_amount` instead of average `passenger_count`...\n",
    "2. 1.932876 - incorrect - you might be measuring average `trip_distance` instead of average `passenger_count`...\n",
    "3. 1.277752 - correct\n",
    "4. 21.211721 - incorrect - you might be measuring average `total_amount` instead of average `passenger_count`..."
   ]
  },
  {
   "cell_type": "markdown",
   "id": "4f1e0d27-36ca-49dc-aa21-33c16b4fd96f",
   "metadata": {},
   "source": [
    "## 6.3. Question 3"
   ]
  },
  {
   "cell_type": "code",
   "execution_count": null,
   "id": "d83302a0-7fff-418b-bc31-fb14e49ef7c4",
   "metadata": {},
   "outputs": [],
   "source": []
  }
 ],
 "metadata": {
  "kernelspec": {
   "display_name": "Python 3 (ipykernel)",
   "language": "python",
   "name": "python3"
  },
  "language_info": {
   "codemirror_mode": {
    "name": "ipython",
    "version": 3
   },
   "file_extension": ".py",
   "mimetype": "text/x-python",
   "name": "python",
   "nbconvert_exporter": "python",
   "pygments_lexer": "ipython3",
   "version": "3.9.2"
  }
 },
 "nbformat": 4,
 "nbformat_minor": 5
}
