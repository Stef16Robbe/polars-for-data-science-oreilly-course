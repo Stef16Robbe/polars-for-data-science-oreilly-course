{
 "cells": [
  {
   "cell_type": "markdown",
   "id": "1653908d",
   "metadata": {},
   "source": [
    "# 5. Data Manipulation III - Grouping and Aggregation - Quiz.ipynb"
   ]
  },
  {
   "cell_type": "markdown",
   "id": "97a37bab",
   "metadata": {},
   "source": [
    "## 5.0. Import `polars` and Load Data"
   ]
  },
  {
   "cell_type": "code",
   "execution_count": 1,
   "id": "9f2da0ab",
   "metadata": {},
   "outputs": [],
   "source": [
    "import polars as pl"
   ]
  },
  {
   "cell_type": "code",
   "execution_count": 2,
   "id": "37f2cb81",
   "metadata": {},
   "outputs": [],
   "source": [
    "column_rename_mapping = {\n",
    "    \"VendorID\": \"vendor_id\",\n",
    "    \"RatecodeID\": \"ratecode_id\",\n",
    "    \"PULocationID\": \"pu_location_id\",\n",
    "    \"DOLocationID\": \"do_location_id\",\n",
    "    \"Airport_fee\": \"airport_fee\",\n",
    "}\n",
    "df = (\n",
    "    pl.read_parquet(\"../data/yellow_tripdata_2024-03.parquet\")\n",
    "    .rename(column_rename_mapping)\n",
    ")"
   ]
  },
  {
   "cell_type": "markdown",
   "id": "4e63ea01-9ea9-4a83-859b-4b8ee71a7e36",
   "metadata": {},
   "source": [
    "## 5.1. Question 1"
   ]
  },
  {
   "cell_type": "markdown",
   "id": "589db317-a1b6-4934-957b-5b2d9900f40b",
   "metadata": {},
   "source": [
    "What is the maximum trip distance for trips with `pu_location_id = 1`?"
   ]
  },
  {
   "cell_type": "code",
   "execution_count": 3,
   "id": "cf12ac74-416d-4e8d-b99a-bd3d5cf11d13",
   "metadata": {},
   "outputs": [
    {
     "name": "stdout",
     "output_type": "stream",
     "text": [
      "shape: (1, 2)\n",
      "┌────────────────┬───────────────┐\n",
      "│ pu_location_id ┆ trip_distance │\n",
      "│ ---            ┆ ---           │\n",
      "│ i32            ┆ f64           │\n",
      "╞════════════════╪═══════════════╡\n",
      "│ 1              ┆ 35.75         │\n",
      "└────────────────┴───────────────┘\n"
     ]
    }
   ],
   "source": [
    "result = (\n",
    "    df\n",
    "    .filter(\n",
    "        #### YOUR CODE HERE\n",
    "        pl.col(\"pu_location_id\").eq(1)\n",
    "    )\n",
    "    .group_by(\n",
    "        #### YOUR CODE HERE\n",
    "        \"pu_location_id\"\n",
    "    )\n",
    "    .agg(\n",
    "        #### YOUR CODE HERE\n",
    "        pl.col(\"trip_distance\").max()\n",
    "    )\n",
    ")\n",
    "print(result)"
   ]
  },
  {
   "cell_type": "markdown",
   "id": "091c9856-59c6-4c95-a1bb-d1ae63bfeb3e",
   "metadata": {},
   "source": [
    "1. 35.75 - correct\n",
    "2. 29.7 - incorrect - are you sure you chose the right `pu_location_id`?\n",
    "3. 176744.79 - incorrect - make sure to use `pu_location_id`, not `do_location_id`!\n",
    "4. 0.0 - incorrect - are you taking the minimum or the maximum?"
   ]
  },
  {
   "cell_type": "markdown",
   "id": "6c7772db-b077-45ab-9428-0022829f4d19",
   "metadata": {},
   "source": [
    "## 5.2. Question 2"
   ]
  },
  {
   "cell_type": "markdown",
   "id": "3b6a5a2f-542f-4888-9312-d5c6bd221ce5",
   "metadata": {},
   "source": [
    "Group the data by `vendor_id` and calculate the average `fare_amount` and average `trip_distance` for each. Sort descending by both `mean_fare_amount` and `mean_trip_distance`. What is the top `vendor_id`?"
   ]
  },
  {
   "cell_type": "code",
   "execution_count": 22,
   "id": "867e291c-ba9c-4414-b245-bdc7562b5b59",
   "metadata": {},
   "outputs": [
    {
     "name": "stdout",
     "output_type": "stream",
     "text": [
      "shape: (5, 3)\n",
      "┌────────────────┬──────────────────┬────────────────────┐\n",
      "│ do_location_id ┆ mean_fare_amount ┆ mean_trip_distance │\n",
      "│ ---            ┆ ---              ┆ ---                │\n",
      "│ i32            ┆ f64              ┆ f64                │\n",
      "╞════════════════╪══════════════════╪════════════════════╡\n",
      "│ 204            ┆ 121.428571       ┆ 28.712857          │\n",
      "│ 109            ┆ 100.6356         ┆ 23.93              │\n",
      "│ 5              ┆ 99.553333        ┆ 27.622667          │\n",
      "│ 84             ┆ 98.601515        ┆ 27.881818          │\n",
      "│ 265            ┆ 96.026596        ┆ 36.313287          │\n",
      "└────────────────┴──────────────────┴────────────────────┘\n"
     ]
    }
   ],
   "source": [
    "result = (\n",
    "    #### YOUR CODE HERE\n",
    "    df\n",
    "    .group_by(\"do_location_id\")\n",
    "    .agg(\n",
    "        pl.col(\"fare_amount\").mean().name.prefix(\"mean_\"),\n",
    "        pl.col(\"trip_distance\").mean().name.prefix(\"mean_\"),\n",
    "    )\n",
    "    .sort(\n",
    "        by=[\"mean_fare_amount\", \"mean_trip_distance\", ],\n",
    "        descending=True\n",
    "    )\n",
    ")\n",
    "print(result.head())"
   ]
  },
  {
   "cell_type": "markdown",
   "id": "c88c74a5-5fdb-4aa3-a0cd-95e34d963f12",
   "metadata": {},
   "source": [
    "1. 207 - incorrect - are you sure you sorted in the right direction?\n",
    "2. 205 - incorrect - be sure to sort by mean_fare_amount then mean_trip_distance, and not the other way around!\n",
    "3. 265 - incorrect - are you sure you're using `mean` and not `max`?\n",
    "4. 204 - correct"
   ]
  },
  {
   "cell_type": "markdown",
   "id": "1e3c13b2-506e-469d-ae83-50d2e229d203",
   "metadata": {},
   "source": [
    "## 5.3. Question 3"
   ]
  },
  {
   "cell_type": "markdown",
   "id": "d44a3ff6-10a1-465a-932b-6d3a6fbe54db",
   "metadata": {},
   "source": [
    "Which date for `tpep_pickup_datetime` had the most rides?"
   ]
  },
  {
   "cell_type": "code",
   "execution_count": 32,
   "id": "b490c6e2-e663-4c73-b316-2e5975947706",
   "metadata": {},
   "outputs": [
    {
     "name": "stdout",
     "output_type": "stream",
     "text": [
      "shape: (36, 2)\n",
      "┌───────────────────────┬───────────┐\n",
      "│ tpep_dropoff_datetime ┆ num_rides │\n",
      "│ ---                   ┆ ---       │\n",
      "│ date                  ┆ u32       │\n",
      "╞═══════════════════════╪═══════════╡\n",
      "│ 2024-03-09            ┆ 140383    │\n",
      "│ 2024-03-14            ┆ 136541    │\n",
      "│ 2024-03-06            ┆ 132711    │\n",
      "│ 2024-03-28            ┆ 132054    │\n",
      "│ 2024-03-16            ┆ 131129    │\n",
      "│ …                     ┆ …         │\n",
      "│ 2024-04-01            ┆ 629       │\n",
      "│ 2024-02-29            ┆ 3         │\n",
      "│ 2024-04-02            ┆ 2         │\n",
      "│ 2003-01-01            ┆ 1         │\n",
      "│ 2002-12-31            ┆ 1         │\n",
      "└───────────────────────┴───────────┘\n"
     ]
    }
   ],
   "source": [
    "result = (\n",
    "    #### YOUR CODE HERE\n",
    "    df\n",
    "    .group_by(pl.col(\"tpep_dropoff_datetime\").dt.date())\n",
    "    .agg(pl.len().alias(\"num_rides\"))\n",
    "    .sort(by=\"num_rides\", descending=True)\n",
    ")\n",
    "print(result)"
   ]
  },
  {
   "cell_type": "markdown",
   "id": "67c15a67-7133-4702-82fe-4e04f9077a1c",
   "metadata": {},
   "source": [
    "1. 2002-12-31 - incorrect - make sure to get the date with the most rides, not the least.\n",
    "2. 2024-03-14 22:04:00 - incorrect - we're looking for the date with the most rides, not the datetime with the most rides.\n",
    "3. 2024-03-09 - correct\n",
    "4. 2024-04-01 - incorrect - try again."
   ]
  },
  {
   "cell_type": "markdown",
   "id": "f2412773-e7aa-4237-8df6-effd2add08da",
   "metadata": {},
   "source": [
    "## 5.4. Question 4"
   ]
  },
  {
   "cell_type": "markdown",
   "id": "0baa4b99-3dea-4903-9ca0-0b4851dd8ba9",
   "metadata": {},
   "source": [
    "Create a pivot table that shows the average fare amount for each combination of `VendorID` and `payment_type`. What is the average fare amount associated with `vendor_id` 2 and `payment_type` 2?"
   ]
  },
  {
   "cell_type": "code",
   "execution_count": 39,
   "id": "e1ddc77c-a928-4f2e-a520-5a6bb29305d0",
   "metadata": {},
   "outputs": [
    {
     "name": "stdout",
     "output_type": "stream",
     "text": [
      "shape: (3, 6)\n",
      "┌───────────┬───────────┬───────────┬───────────┬───────────┬───────────┐\n",
      "│ vendor_id ┆ 1         ┆ 2         ┆ 4         ┆ 3         ┆ 0         │\n",
      "│ ---       ┆ ---       ┆ ---       ┆ ---       ┆ ---       ┆ ---       │\n",
      "│ i32       ┆ f64       ┆ f64       ┆ f64       ┆ f64       ┆ f64       │\n",
      "╞═══════════╪═══════════╪═══════════╪═══════════╪═══════════╪═══════════╡\n",
      "│ 1         ┆ 18.582571 ┆ 16.996263 ┆ 16.23786  ┆ 15.228555 ┆ 18.562753 │\n",
      "│ 2         ┆ 19.523008 ┆ 18.390497 ┆ -0.002382 ┆ 0.0       ┆ 18.746054 │\n",
      "│ 6         ┆ null      ┆ null      ┆ null      ┆ null      ┆ 46.21087  │\n",
      "└───────────┴───────────┴───────────┴───────────┴───────────┴───────────┘\n"
     ]
    }
   ],
   "source": [
    "result = (\n",
    "    #### YOUR CODE HERE\n",
    "    df\n",
    "    .pivot(\n",
    "        values=\"fare_amount\",\n",
    "        index=\"vendor_id\",\n",
    "        columns=\"payment_type\",\n",
    "        aggregate_function=\"mean\"\n",
    "    )\n",
    ")\n",
    "print(result)"
   ]
  },
  {
   "cell_type": "markdown",
   "id": "b96469ba-33dc-4948-92b2-042f21b9baf9",
   "metadata": {},
   "source": [
    "1. 850.0 - incorrect - be sure to take the mean, not the max.\n",
    "2. 18.390497 - correct\n",
    "3. 3.411724 - incorrect - are you sure your choice of `values` is `fare_amount`?\n",
    "4. 18.582571 - incorrect - close! but the question is about precisely `vendor_id` 2 and `payment_type` 2."
   ]
  },
  {
   "cell_type": "markdown",
   "id": "03cec7cc-e1fb-46b9-b582-38e5dfb4f1c2",
   "metadata": {},
   "source": [
    "## 5.5. Question 5"
   ]
  },
  {
   "cell_type": "markdown",
   "id": "dc673c0b-75f3-4aa4-b9b5-923944b05b15",
   "metadata": {},
   "source": [
    "Create a pivot table that shows the average trip distance for every combination of `vendor_id` and whether or not the ride has an airport fee. What is the average trip distance for rides with `vendor_id = 1` that have an airport fee?"
   ]
  },
  {
   "cell_type": "code",
   "execution_count": 44,
   "id": "155dad41-739d-49ba-b8b1-d60a6e1a0691",
   "metadata": {},
   "outputs": [
    {
     "name": "stdout",
     "output_type": "stream",
     "text": [
      "shape: (3, 4)\n",
      "┌───────────┬──────────┬───────────┬───────────┐\n",
      "│ vendor_id ┆ false    ┆ true      ┆ null      │\n",
      "│ ---       ┆ ---      ┆ ---       ┆ ---       │\n",
      "│ i32       ┆ f64      ┆ f64       ┆ f64       │\n",
      "╞═══════════╪══════════╪═══════════╪═══════════╡\n",
      "│ 1         ┆ 3.377438 ┆ 12.570663 ┆ 1.756034  │\n",
      "│ 2         ┆ 2.409085 ┆ 13.309613 ┆ 15.076071 │\n",
      "│ 6         ┆ null     ┆ null      ┆ 10.129087 │\n",
      "└───────────┴──────────┴───────────┴───────────┘\n"
     ]
    }
   ],
   "source": [
    "result = (\n",
    "    #### YOUR CODE HERE\n",
    "    df\n",
    "    .with_columns(pl.col(\"airport_fee\").gt(0).name.prefix(\"has_\"))\n",
    "    .pivot(\n",
    "        values=\"trip_distance\",\n",
    "        index=\"vendor_id\",\n",
    "        columns=\"has_airport_fee\",\n",
    "        aggregate_function=\"mean\"\n",
    "    )\n",
    ")\n",
    "print(result)"
   ]
  },
  {
   "cell_type": "markdown",
   "id": "baf66a03-0edc-425d-b338-516e8e04930a",
   "metadata": {},
   "source": [
    "1. 115.3 - incorrect - are you sure you're taking the average trip_distance and not the maximum?\n",
    "2. 13.309613 - incorrect - Make sure to check for `vendor_id = 1`, not `2`.\n",
    "3. 12.570663 - correct\n",
    "4. 2.409085 - incorrect - Make sure to check for rides that had an airport fee, not ones that didn't."
   ]
  },
  {
   "cell_type": "markdown",
   "id": "7d8ebe74-4b16-49fe-89f1-034168ba64db",
   "metadata": {},
   "source": [
    "## 5.6. Question 6"
   ]
  },
  {
   "cell_type": "markdown",
   "id": "454a3479-8c08-4320-a6d9-0d230dd8fbbf",
   "metadata": {},
   "source": [
    "Repeat Question 5, but instead of using a `pivot_table`, use `filter` to get rid of any data that's not `vendor_id = 1` and `airport_fee > 0` and then `select` to measure the average `trip_distance`. Do you arrive to the same answer as Question 5?"
   ]
  },
  {
   "cell_type": "code",
   "execution_count": 46,
   "id": "1bb7731b-b58a-49a8-83e7-6c13fa0863e5",
   "metadata": {},
   "outputs": [
    {
     "name": "stdout",
     "output_type": "stream",
     "text": [
      "shape: (1, 1)\n",
      "┌───────────────┐\n",
      "│ trip_distance │\n",
      "│ ---           │\n",
      "│ f64           │\n",
      "╞═══════════════╡\n",
      "│ 12.570663     │\n",
      "└───────────────┘\n"
     ]
    }
   ],
   "source": [
    "result = (\n",
    "    #### YOUR CODE HERE\n",
    "    df\n",
    "    .filter(pl.col(\"airport_fee\").gt(0).and_(pl.col(\"vendor_id\").eq(1)))\n",
    "    .select(pl.col(\"trip_distance\").mean())\n",
    ")\n",
    "print(result)"
   ]
  },
  {
   "cell_type": "markdown",
   "id": "41bf7d53-8970-42b1-9255-b44c55cac16b",
   "metadata": {},
   "source": [
    "1. Yes\n",
    "2. No"
   ]
  },
  {
   "cell_type": "markdown",
   "id": "e9961caf-2f30-496c-8181-5f2703363655",
   "metadata": {},
   "source": [
    "## 5.7. Question 7"
   ]
  },
  {
   "cell_type": "markdown",
   "id": "6d30e70f-a642-4790-9c6e-5fcaf1e40ab3",
   "metadata": {},
   "source": [
    "Using `rank().over()`, what is the sum of the 10th largest `trip_distance`s over all `vendor_id`s?"
   ]
  },
  {
   "cell_type": "code",
   "execution_count": 59,
   "id": "c387041f-02e1-4338-867c-a0db933cf744",
   "metadata": {},
   "outputs": [
    {
     "name": "stdout",
     "output_type": "stream",
     "text": [
      "shape: (1, 1)\n",
      "┌───────────────┐\n",
      "│ trip_distance │\n",
      "│ ---           │\n",
      "│ f64           │\n",
      "╞═══════════════╡\n",
      "│ 113916.29     │\n",
      "└───────────────┘\n"
     ]
    }
   ],
   "source": [
    "result = (\n",
    "    #### YOUR CODE HERE\n",
    "    df\n",
    "    .filter(\n",
    "        pl.col(\"trip_distance\")\n",
    "        .rank(descending=True)\n",
    "        .over(pl.col(\"vendor_id\"))\n",
    "        .eq(10)\n",
    "    )\n",
    "    .select(pl.col(\"trip_distance\").sum())\n",
    ")\n",
    "print(result)"
   ]
  },
  {
   "cell_type": "markdown",
   "id": "070bfa8a-17dd-4654-8bce-18b33e347cb1",
   "metadata": {},
   "source": [
    "1. 113916.29 - correct\n",
    "2. 115599.84 - incorrect - are you sure you taking the 10th largest trip distance, and not the 9th?\n",
    "3. 0.76 - incorrect - make sure to correctly set the `descending` argument in the `rank` function.\n",
    "4. 1178.31 - incorrect - are you sure you're using `trip_distance` and not `total_amount`?"
   ]
  },
  {
   "cell_type": "markdown",
   "id": "ee00333c-ee71-451d-8181-f030adb494de",
   "metadata": {},
   "source": [
    "## 5.8. Question 8"
   ]
  },
  {
   "cell_type": "markdown",
   "id": "2f545a1b-af21-43b7-a3be-1e7b63eb4936",
   "metadata": {},
   "source": [
    "What is the sum of the `total_amount`s for the three `pu_location_id`s with the highest maximum `trip_distance`s?"
   ]
  },
  {
   "cell_type": "code",
   "execution_count": 68,
   "id": "7b18df92-6cb2-4138-bbaf-1a5a0943ffb5",
   "metadata": {},
   "outputs": [
    {
     "name": "stdout",
     "output_type": "stream",
     "text": [
      "shape: (1, 1)\n",
      "┌──────────────┐\n",
      "│ total_amount │\n",
      "│ ---          │\n",
      "│ f64          │\n",
      "╞══════════════╡\n",
      "│ 2.3340e7     │\n",
      "└──────────────┘\n"
     ]
    }
   ],
   "source": [
    "result = (\n",
    "    df\n",
    "    .group_by(\"pu_location_id\")\n",
    "    .agg(\n",
    "        pl.col(\"total_amount\").sum(),\n",
    "        pl.col(\"trip_distance\").max().name.prefix(\"max_\")\n",
    "    )\n",
    "    .sort(\"max_trip_distance\", descending=True)\n",
    "    .head(3)\n",
    "    .select(pl.col(\"total_amount\").sum())\n",
    ")\n",
    "print(result)"
   ]
  },
  {
   "cell_type": "markdown",
   "id": "e34b571c-ee44-4229-9131-be493ccf787d",
   "metadata": {},
   "source": [
    "1. 6.0735e6 - incorrect - make sure to take only the top three `pu_location_id`s.\n",
    "2. 891.48 - incorrect - you might be taking the three `pu_location_id`s with the lowest maximum `trip_distance`, not the highest maximum `trip_distance`.\n",
    "3. 4.6460e6 - correct\n",
    "4. 2.3340e7 - incorrect - remember, you want the sum `total_amount` of the three `pu_location_id`s with the highest `max_trip_distance`, not the highest sum `total_amount`."
   ]
  },
  {
   "cell_type": "markdown",
   "id": "53d1c6c8-4e96-406b-8053-0ca19720e9e1",
   "metadata": {},
   "source": [
    "## 5.9. Question 9"
   ]
  },
  {
   "cell_type": "markdown",
   "id": "63f63978-e265-47dd-803f-29c3297a1f5b",
   "metadata": {},
   "source": [
    "Question 1 involved filtering then grouping data, but we could have done it the other way around, i.e. grouping and then filtering. In fact, let's try that here, and do a timing test. Which approach is faster and why?"
   ]
  },
  {
   "cell_type": "code",
   "execution_count": 4,
   "id": "c833eef4-026a-4605-b455-ba657ab2d15c",
   "metadata": {},
   "outputs": [
    {
     "name": "stdout",
     "output_type": "stream",
     "text": [
      "1.28 ms ± 391 µs per loop (mean ± std. dev. of 7 runs, 3 loops each)\n"
     ]
    }
   ],
   "source": [
    "%%timeit -n 3\n",
    "result = (\n",
    "    df\n",
    "    .filter(\n",
    "        pl.col(\"pu_location_id\").eq(1)\n",
    "    )\n",
    "    .group_by(\n",
    "        \"pu_location_id\"\n",
    "    )\n",
    "    .agg(\n",
    "        pl.col(\"trip_distance\").max()\n",
    "    )\n",
    ")"
   ]
  },
  {
   "cell_type": "code",
   "execution_count": 5,
   "id": "0e140bd8-95ba-4254-9587-63553f4d29ba",
   "metadata": {},
   "outputs": [
    {
     "name": "stdout",
     "output_type": "stream",
     "text": [
      "82.8 ms ± 14.2 ms per loop (mean ± std. dev. of 7 runs, 3 loops each)\n"
     ]
    }
   ],
   "source": [
    "%%timeit -n 3\n",
    "result = (\n",
    "    df\n",
    "    .group_by(\n",
    "        \"pu_location_id\"\n",
    "    )\n",
    "    .agg(\n",
    "        pl.col(\"trip_distance\").max()\n",
    "    )\n",
    "    .filter(\n",
    "        pl.col(\"pu_location_id\").eq(1)\n",
    "    )\n",
    ")"
   ]
  },
  {
   "cell_type": "markdown",
   "id": "182e165f-6738-4cbc-9c36-dc5ac354bfb6",
   "metadata": {},
   "source": [
    "1. They are the same, because the query optimization engine doesn't care about the order of operations. - incorrect - there is no query optimization in in-memory mode.\n",
    "2. Filtering before the group-by is faster, because you reduce the amount of data handled by the group by operation. - correct\n",
    "3. Filtering after the group-by is faster, because the computer doesn't have to worry about the expensive filter operation until the end. - incorrect - Filtering is actually not an expensive operation; grouping is far more expensive.\n",
    "4. Filtering after the group-by is faster, since the filter occurs on grouped data, thus it has less total rows to filter out. - incorrect - Though it might be true that there are less rows to filter out, the true bottleneck of the operation is the grouping itself!"
   ]
  },
  {
   "cell_type": "markdown",
   "id": "07b195ab-6834-4c19-a7b3-4e08eee90426",
   "metadata": {},
   "source": [
    "## 5.10. Question 10"
   ]
  },
  {
   "cell_type": "markdown",
   "id": "00850d72-9467-4356-9035-38f37e49d7fa",
   "metadata": {},
   "source": [
    "Repeat question 9, comparing but load the data afresh with `pl.scan_parquet`. Which is faster now--filtering before grouping, or grouping before filtering?"
   ]
  },
  {
   "cell_type": "code",
   "execution_count": 6,
   "id": "8a5998de-a32b-4d30-ab9a-dad740e00443",
   "metadata": {},
   "outputs": [],
   "source": [
    "column_rename_mapping = {\n",
    "    \"VendorID\": \"vendor_id\",\n",
    "    \"RatecodeID\": \"ratecode_id\",\n",
    "    \"PULocationID\": \"pu_location_id\",\n",
    "    \"DOLocationID\": \"do_location_id\",\n",
    "    \"Airport_fee\": \"airport_fee\",\n",
    "}\n",
    "lf = (\n",
    "    pl.scan_parquet(\"../data/yellow_tripdata_2024-03.parquet\")\n",
    "    .rename(column_rename_mapping)\n",
    ")"
   ]
  },
  {
   "cell_type": "code",
   "execution_count": 7,
   "id": "5f5a2dbc-c9f2-4f5e-8afc-fa1269026380",
   "metadata": {},
   "outputs": [
    {
     "name": "stdout",
     "output_type": "stream",
     "text": [
      "23.3 ms ± 4.46 ms per loop (mean ± std. dev. of 7 runs, 3 loops each)\n"
     ]
    }
   ],
   "source": [
    "%%timeit -n 3\n",
    "result = (\n",
    "    lf\n",
    "    .filter(\n",
    "        pl.col(\"pu_location_id\").eq(1)\n",
    "    )\n",
    "    .group_by(\n",
    "        \"pu_location_id\"\n",
    "    )\n",
    "    .agg(\n",
    "        pl.col(\"trip_distance\").max()\n",
    "    )\n",
    "    .collect()\n",
    ")"
   ]
  },
  {
   "cell_type": "code",
   "execution_count": 8,
   "id": "0c2d1669-5878-4235-92b8-a6e585198cfc",
   "metadata": {},
   "outputs": [
    {
     "name": "stdout",
     "output_type": "stream",
     "text": [
      "22.4 ms ± 2.98 ms per loop (mean ± std. dev. of 7 runs, 3 loops each)\n"
     ]
    }
   ],
   "source": [
    "%%timeit -n 3\n",
    "result = (\n",
    "    lf\n",
    "    .group_by(\n",
    "        \"pu_location_id\"\n",
    "    )\n",
    "    .agg(\n",
    "        pl.col(\"trip_distance\").max()\n",
    "    )\n",
    "    .filter(\n",
    "        pl.col(\"pu_location_id\").eq(1)\n",
    "    )\n",
    "    .collect()\n",
    ")"
   ]
  },
  {
   "cell_type": "markdown",
   "id": "276886c0-4f67-4768-81df-2f2b52521f86",
   "metadata": {},
   "source": [
    "1. They are the same, because the query optimization engine doesn't care about the order of operations. - correct - after the query hits the query optimization engine, they become the same query.\n",
    "2. Filtering before the group-by is faster, because you reduce the amount of data handled by the group by operation. - incorrect - this might be the case in in-memory mode, but not in lazy mode!\n",
    "3. Filtering after the group-by is faster, because the computer doesn't have to worry about the expensive filter operation until the end. - incorrect - Filtering is actually not an expensive operation; grouping is far more expensive.\n",
    "4. Filtering after the group-by is faster, since the filter occurs on grouped data, thus it has less total rows to filter out. - incorrect - Though it might be true that there are less rows to filter out, the true bottleneck of the operation is the grouping itself!"
   ]
  },
  {
   "cell_type": "code",
   "execution_count": null,
   "id": "49e30188-2ecf-4f48-bf70-c99a487d8ef2",
   "metadata": {},
   "outputs": [],
   "source": []
  }
 ],
 "metadata": {
  "kernelspec": {
   "display_name": "Python 3 (ipykernel)",
   "language": "python",
   "name": "python3"
  },
  "language_info": {
   "codemirror_mode": {
    "name": "ipython",
    "version": 3
   },
   "file_extension": ".py",
   "mimetype": "text/x-python",
   "name": "python",
   "nbconvert_exporter": "python",
   "pygments_lexer": "ipython3",
   "version": "3.9.2"
  }
 },
 "nbformat": 4,
 "nbformat_minor": 5
}
