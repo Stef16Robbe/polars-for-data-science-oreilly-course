{
 "cells": [
  {
   "cell_type": "markdown",
   "id": "1653908d",
   "metadata": {},
   "source": [
    "# 5. Data Manipulation III - Grouping and Aggregation - Quiz.ipynb"
   ]
  },
  {
   "cell_type": "markdown",
   "id": "97a37bab",
   "metadata": {},
   "source": [
    "## 5.0. Import `polars` and Load Data"
   ]
  },
  {
   "cell_type": "code",
   "execution_count": 1,
   "id": "9f2da0ab",
   "metadata": {},
   "outputs": [],
   "source": [
    "import polars as pl"
   ]
  },
  {
   "cell_type": "code",
   "execution_count": 3,
   "id": "37f2cb81",
   "metadata": {},
   "outputs": [],
   "source": [
    "column_rename_mapping = {\n",
    "    \"VendorID\": \"vendor_id\",\n",
    "    \"RatecodeID\": \"ratecode_id\",\n",
    "    \"PULocationID\": \"pu_location_id\",\n",
    "    \"DOLocationID\": \"do_location_id\",\n",
    "    \"Airport_fee\": \"airport_fee\",\n",
    "}\n",
    "df = (\n",
    "    pl.read_parquet(\"../data/yellow_tripdata_2024-03.parquet\")\n",
    "    .rename(column_rename_mapping)\n",
    ")"
   ]
  },
  {
   "cell_type": "markdown",
   "id": "4e63ea01-9ea9-4a83-859b-4b8ee71a7e36",
   "metadata": {},
   "source": [
    "## 5.1. Question 1"
   ]
  },
  {
   "cell_type": "markdown",
   "id": "589db317-a1b6-4934-957b-5b2d9900f40b",
   "metadata": {},
   "source": [
    "What is the maximum trip distance for trips with `pu_location_id = 1`?"
   ]
  },
  {
   "cell_type": "code",
   "execution_count": 12,
   "id": "cf12ac74-416d-4e8d-b99a-bd3d5cf11d13",
   "metadata": {},
   "outputs": [
    {
     "name": "stdout",
     "output_type": "stream",
     "text": [
      "shape: (1, 2)\n",
      "┌────────────────┬───────────────┐\n",
      "│ pu_location_id ┆ trip_distance │\n",
      "│ ---            ┆ ---           │\n",
      "│ i32            ┆ f64           │\n",
      "╞════════════════╪═══════════════╡\n",
      "│ 1              ┆ 0.0           │\n",
      "└────────────────┴───────────────┘\n"
     ]
    }
   ],
   "source": [
    "result = (\n",
    "    df\n",
    "    .filter(\n",
    "        #### YOUR CODE HERE\n",
    "        pl.col(\"pu_location_id\").eq(1)\n",
    "    )\n",
    "    .group_by(\n",
    "        #### YOUR CODE HERE\n",
    "        \"pu_location_id\"\n",
    "    )\n",
    "    .agg(\n",
    "        #### YOUR CODE HERE\n",
    "        pl.col(\"trip_distance\").min()\n",
    "    )\n",
    ")\n",
    "print(result)"
   ]
  },
  {
   "cell_type": "markdown",
   "id": "091c9856-59c6-4c95-a1bb-d1ae63bfeb3e",
   "metadata": {},
   "source": [
    "1. 35.75 - correct\n",
    "2. 29.7 - incorrect - are you sure you chose the right `pu_location_id`?\n",
    "3. 176744.79 - incorrect - make sure to use `pu_location_id`, not `do_location_id`!\n",
    "4. 0.0 - incorrect - are you taking the minimum or the maximum?"
   ]
  },
  {
   "cell_type": "markdown",
   "id": "53d1c6c8-4e96-406b-8053-0ca19720e9e1",
   "metadata": {},
   "source": [
    "## 5.2. Question 9"
   ]
  },
  {
   "cell_type": "markdown",
   "id": "63f63978-e265-47dd-803f-29c3297a1f5b",
   "metadata": {},
   "source": [
    "Question 1 involved filtering then grouping data, but we could have done it the other way around, i.e. grouping and then filtering. In fact, let's try that here, and do a timing test. Which approach is faster and why?"
   ]
  },
  {
   "cell_type": "code",
   "execution_count": 13,
   "id": "c833eef4-026a-4605-b455-ba657ab2d15c",
   "metadata": {},
   "outputs": [],
   "source": [
    "result = (\n",
    "    df\n",
    "    .filter(\n",
    "        #### YOUR CODE HERE\n",
    "        pl.col(\"pu_location_id\").eq(1)\n",
    "    )\n",
    "    .group_by(\n",
    "        #### YOUR CODE HERE\n",
    "        \"pu_location_id\"\n",
    "    )\n",
    "    .agg(\n",
    "        #### YOUR CODE HERE\n",
    "        pl.col(\"trip_distance\").min()\n",
    "    )\n",
    ")\n",
    "print(result)"
   ]
  },
  {
   "cell_type": "code",
   "execution_count": null,
   "id": "0e140bd8-95ba-4254-9587-63553f4d29ba",
   "metadata": {},
   "outputs": [],
   "source": []
  }
 ],
 "metadata": {
  "kernelspec": {
   "display_name": "Python 3 (ipykernel)",
   "language": "python",
   "name": "python3"
  },
  "language_info": {
   "codemirror_mode": {
    "name": "ipython",
    "version": 3
   },
   "file_extension": ".py",
   "mimetype": "text/x-python",
   "name": "python",
   "nbconvert_exporter": "python",
   "pygments_lexer": "ipython3",
   "version": "3.9.2"
  }
 },
 "nbformat": 4,
 "nbformat_minor": 5
}
