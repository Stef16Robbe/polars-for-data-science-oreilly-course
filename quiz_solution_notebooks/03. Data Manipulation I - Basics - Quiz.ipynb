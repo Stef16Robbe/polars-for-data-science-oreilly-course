{
 "cells": [
  {
   "cell_type": "markdown",
   "id": "1653908d",
   "metadata": {},
   "source": [
    "# 3. Data Manipulation I: Basics - Quiz"
   ]
  },
  {
   "cell_type": "markdown",
   "id": "97a37bab",
   "metadata": {},
   "source": [
    "## 3.0. Import `polars` and Load Data"
   ]
  },
  {
   "cell_type": "code",
   "execution_count": 1,
   "id": "9f2da0ab",
   "metadata": {},
   "outputs": [],
   "source": [
    "import polars as pl"
   ]
  },
  {
   "cell_type": "code",
   "execution_count": 2,
   "id": "37f2cb81",
   "metadata": {},
   "outputs": [],
   "source": [
    "df = pl.read_csv(\n",
    "    \"../data/yellow_tripdata_2024-03.csv\",\n",
    "    schema_overrides={\"tpep_pickup_datetime\": pl.Datetime, \"tpep_dropoff_datetime\": pl.Datetime}\n",
    ")"
   ]
  },
  {
   "cell_type": "markdown",
   "id": "6e0c0acc-716b-42e9-b598-01f77fa2a605",
   "metadata": {},
   "source": [
    "## 3.1. Question 1"
   ]
  },
  {
   "cell_type": "markdown",
   "id": "e31d6124-e654-44fc-8385-d1d89fb04642",
   "metadata": {},
   "source": [
    "Using `.select()`, fetch a column from `df` which represents whether or not a toll was paid as part of the trip. What is the datatype of that new column? (Hint: you can check if a toll was paid by seeing if `tolls_amount` is greater than 0.)"
   ]
  },
  {
   "cell_type": "code",
   "execution_count": 3,
   "id": "30ab75d3-ae6a-4fb0-a472-dfb63c14c38f",
   "metadata": {},
   "outputs": [
    {
     "name": "stdout",
     "output_type": "stream",
     "text": [
      "shape: (3_582_628, 1)\n",
      "┌──────────────┐\n",
      "│ tolls_amount │\n",
      "│ ---          │\n",
      "│ bool         │\n",
      "╞══════════════╡\n",
      "│ false        │\n",
      "│ false        │\n",
      "│ false        │\n",
      "│ false        │\n",
      "│ false        │\n",
      "│ …            │\n",
      "│ false        │\n",
      "│ false        │\n",
      "│ false        │\n",
      "│ false        │\n",
      "│ false        │\n",
      "└──────────────┘\n"
     ]
    }
   ],
   "source": [
    "result = (\n",
    "    df\n",
    "    .select(\n",
    "        ### YOUR CODE HERE\n",
    "        pl.col(\"tolls_amount\").gt(0)\n",
    "    )\n",
    ")\n",
    "print(result)"
   ]
  },
  {
   "cell_type": "markdown",
   "id": "9ce75e73-fde5-4b05-8cbb-100a455d7d70",
   "metadata": {},
   "source": [
    "1. `int64` - incorrect - Are you sure you're checking for \"greater than 0\" with the right function? Try using `.gt()`!\n",
    "2. `float64` - incorrect - This is the original datatype of the `tolls_amount` column... are you sure your function worked correctly?\n",
    "3. `str` - incorrect - Are you sure you are performing the operation on the correct column?\n",
    "4. `bool` - correct - Indeed, the function `.gt()` will return a boolean--true if greater than, false if not."
   ]
  },
  {
   "cell_type": "markdown",
   "id": "bae2e6c0-4b37-40aa-9292-866e67fe8a21",
   "metadata": {},
   "source": [
    "## 3.2. Question 2"
   ]
  },
  {
   "cell_type": "markdown",
   "id": "338eef86-333a-4091-8244-76c187b961ae",
   "metadata": {},
   "source": [
    "What was the longest trip that had `0` tolls paid (hint: use `.filter()` to get only the trips with `tolls_amount` equal to `0`, and `.select()` with `.max()` to find the longest trip)?"
   ]
  },
  {
   "cell_type": "code",
   "execution_count": 4,
   "id": "52e4faf1-3230-4de4-8868-f071684bca7d",
   "metadata": {},
   "outputs": [
    {
     "name": "stdout",
     "output_type": "stream",
     "text": [
      "shape: (1, 1)\n",
      "┌───────────────┐\n",
      "│ trip_distance │\n",
      "│ ---           │\n",
      "│ f64           │\n",
      "╞═══════════════╡\n",
      "│ 176836.3      │\n",
      "└───────────────┘\n"
     ]
    }
   ],
   "source": [
    "result = (\n",
    "    df\n",
    "    .filter(\n",
    "        #### YOUR CODE HERE\n",
    "        pl.col(\"tolls_amount\").eq(0)\n",
    "    )\n",
    "    .select(\n",
    "        #### YOUR CODE HERE\n",
    "        pl.col(\"trip_distance\").max()\n",
    "    )\n",
    ")\n",
    "print(result)"
   ]
  },
  {
   "cell_type": "markdown",
   "id": "edf481c9-2132-4c90-9d6f-eba523d61067",
   "metadata": {},
   "source": [
    "1. `176836.3` - correct - Exactly!\n",
    "2. `0` - incorrect - You might be using `.min()` instead of `.max()` by accident...\n",
    "3. `176744.79` - incorrect - Make sure to check for rides for which `tolls_amount` was equal to 0, not rides where `tolls_amount` is greater than 0!\n",
    "4. `176329.23` - incorrect - Are you sure you're using the `tolls_amount` column and not accidentally the `tip_amount` column?"
   ]
  },
  {
   "cell_type": "markdown",
   "id": "eaf6e54e-12ae-42ed-9f79-e2c707f6fd7f",
   "metadata": {},
   "source": [
    "## 3.3. Question 3"
   ]
  },
  {
   "cell_type": "markdown",
   "id": "32387cc3-1c28-43a6-a5e6-d1a4914d82fa",
   "metadata": {},
   "source": [
    "What is the mean tip amount for trips where the fare amount was greater than $20?"
   ]
  },
  {
   "cell_type": "code",
   "execution_count": 5,
   "id": "52695394-f933-4e5b-8d9d-6b089413533c",
   "metadata": {},
   "outputs": [
    {
     "name": "stdout",
     "output_type": "stream",
     "text": [
      "shape: (1, 1)\n",
      "┌─────────────┐\n",
      "│ fare_amount │\n",
      "│ ---         │\n",
      "│ f64         │\n",
      "╞═════════════╡\n",
      "│ 39.32003    │\n",
      "└─────────────┘\n"
     ]
    }
   ],
   "source": [
    "result = (\n",
    "    df\n",
    "    .filter(\n",
    "        #### YOUR CODE HERE\n",
    "        pl.col(\"fare_amount\").gt(20)\n",
    "    )\n",
    "    .select(\n",
    "        #### YOUR CODE HERE\n",
    "        pl.col(\"fare_amount\").mean()\n",
    "    )\n",
    ")\n",
    "print(result)"
   ]
  },
  {
   "cell_type": "markdown",
   "id": "a9214852-a13f-4c02-8fde-a45f95e09fb8",
   "metadata": {},
   "source": [
    "1. 39.32003 - incorrect - We're looking for the mean `tip_amount` for trips where the `fare_amount` was greater than `$20`, not the mean `fare_amount` for trips where the `fare_amount` was greater than `$20`!\n",
    "2. 598.58 - incorrect - That's a big tip amount! You might accidentally be taking the maximum tip amount rather than the mean tip amount...\n",
    "3. 5.870243 - incorrect - Make sure you're using the `.gt` function (\"greater than\") and not the `.ge` function (\"greater than or equal to\")!\n",
    "4. 5.872741 - correct - Exactly!"
   ]
  },
  {
   "cell_type": "markdown",
   "id": "2f097fd4-a3ae-4617-9e0d-da7d69f07f9f",
   "metadata": {},
   "source": [
    "## 3.4. Question 4"
   ]
  },
  {
   "cell_type": "markdown",
   "id": "af7157fd-ca84-4cfa-b107-32696c7f7c84",
   "metadata": {},
   "source": [
    "Find the maximum trip distance for trips with a passenger count of 1 or 2."
   ]
  },
  {
   "cell_type": "code",
   "execution_count": 6,
   "id": "ce5dfc92-92e6-4ee5-bc7c-26721de2f3d8",
   "metadata": {},
   "outputs": [
    {
     "name": "stdout",
     "output_type": "stream",
     "text": [
      "shape: (1, 1)\n",
      "┌──────────────┐\n",
      "│ total_amount │\n",
      "│ ---          │\n",
      "│ f64          │\n",
      "╞══════════════╡\n",
      "│ 1021.99      │\n",
      "└──────────────┘\n"
     ]
    }
   ],
   "source": [
    "result = (\n",
    "    df\n",
    "    .filter(\n",
    "        #### YOUR CODE HERE\n",
    "        pl.col(\"passenger_count\").eq(1)\n",
    "        .or_(pl.col(\"passenger_count\").eq(2))\n",
    "    )\n",
    "    .select(\n",
    "        #### YOUR CODE HERE\n",
    "        pl.col(\"total_amount\").max()\n",
    "    )\n",
    ")\n",
    "print(result)"
   ]
  },
  {
   "cell_type": "markdown",
   "id": "7507e72c-01ae-4da3-9f7f-99db1ccd15eb",
   "metadata": {},
   "source": [
    "1. 159.74 - incorrect - That's the maximum `trip_distance` for trips that had a `passenger_count` of exactly 2... Check your code again!\n",
    "2. 66907.9 - correct - Exactly!\n",
    "3. 3.530788 - incorrect - That's the mean `trip_distance` for trips with a passenger count of 1 or 2, but we're looking for the maximum!\n",
    "4. 1021.99 - incorrect - That's the maximum `total_amount` for trips with a passenger count of 1 or 2, but we're looking for the maximum `trip_distance`!"
   ]
  },
  {
   "cell_type": "markdown",
   "id": "69a4a30a-a467-4072-9ac7-c78b84887146",
   "metadata": {},
   "source": [
    "## 3.5. Question 5"
   ]
  },
  {
   "cell_type": "markdown",
   "id": "c413e1c9-763d-41df-816b-d41d6caef940",
   "metadata": {},
   "source": [
    "Sort the dataframe by `total_amount` in descending order; then, select and display only the top 5 rows and the columns `trip_distance` and `total_amount`. What are the two values of `trip_distance` associated with the two trips with the highest `total_amount`?"
   ]
  },
  {
   "cell_type": "code",
   "execution_count": 7,
   "id": "c9215031-77d6-41e7-907d-a5e9011fb0ac",
   "metadata": {},
   "outputs": [
    {
     "name": "stdout",
     "output_type": "stream",
     "text": [
      "shape: (5, 2)\n",
      "┌───────────────┬──────────────┐\n",
      "│ trip_distance ┆ total_amount │\n",
      "│ ---           ┆ ---          │\n",
      "│ f64           ┆ f64          │\n",
      "╞═══════════════╪══════════════╡\n",
      "│ 3.8           ┆ 1021.99      │\n",
      "│ 181.5         ┆ 951.26       │\n",
      "│ 0.0           ┆ 851.0        │\n",
      "│ 0.1           ┆ 841.0        │\n",
      "│ 159.74        ┆ 807.75       │\n",
      "└───────────────┴──────────────┘\n"
     ]
    }
   ],
   "source": [
    "result = (\n",
    "    df\n",
    "    .sort(\n",
    "        #### YOUR CODE HERE\n",
    "        \"total_amount\", descending=True\n",
    "    )\n",
    "    .select([\n",
    "        #### YOUR CODE HERE\n",
    "        \"trip_distance\", \"total_amount\"\n",
    "    ])\n",
    "    .head()  # Displays the top 5 rows\n",
    ")\n",
    "print(result)"
   ]
  },
  {
   "cell_type": "markdown",
   "id": "400124ef-b7b7-4b5d-858d-6d22d07e92c9",
   "metadata": {},
   "source": [
    "1. 0.0, 159.74 - incorrect - You might be sorting in ascending order rather than descending order...\n",
    "2. 3.8, 181.5 - correct\n",
    "3. 1021.99, 951.26 - incorrect - These are the two highest values for `total_amount`, but we are looking for the values of `trip_distance` associated with two highest values of `total_amount`!\n",
    "4. 5.1, 8.3 - incorrect - Are you sure you're looking at the right columns?"
   ]
  },
  {
   "cell_type": "markdown",
   "id": "929983f7-1a26-44f9-8451-6c5481420d15",
   "metadata": {},
   "source": [
    "## 3.6. Question 6"
   ]
  },
  {
   "cell_type": "markdown",
   "id": "5be3e187-b4d8-44aa-a2e4-4708adf05677",
   "metadata": {},
   "source": [
    "Calculate the maximum fare amount for trips that had a `tip_amount` greater than `$10` and a `trip_distance` greater than `10` miles."
   ]
  },
  {
   "cell_type": "code",
   "execution_count": 8,
   "id": "e128048e-bb95-4fbb-8e05-1a92eabb9e3e",
   "metadata": {},
   "outputs": [
    {
     "name": "stdout",
     "output_type": "stream",
     "text": [
      "shape: (1, 1)\n",
      "┌─────────────┐\n",
      "│ fare_amount │\n",
      "│ ---         │\n",
      "│ f64         │\n",
      "╞═════════════╡\n",
      "│ 472.0       │\n",
      "└─────────────┘\n"
     ]
    }
   ],
   "source": [
    "result = (\n",
    "    df\n",
    "    .filter(\n",
    "        #### YOUR CODE HERE\n",
    "        pl.col(\"tip_amount\").gt(10)\n",
    "        .and_(pl.col(\"trip_distance\").gt(10))\n",
    "    )\n",
    "    .select(\n",
    "        #### YOUR CODE HERE\n",
    "        pl.col(\"fare_amount\").max()\n",
    "    )\n",
    ")\n",
    "print(result)"
   ]
  },
  {
   "cell_type": "markdown",
   "id": "3fb33a53-e312-44d3-964a-701bf7378659",
   "metadata": {},
   "source": [
    "1. 472.0 - correct - Exactly!\n",
    "2. 900.0 - incorrect - We're looking for the maximum fare amount for trips that had a `tip_amount` greater than `$10` and a `trip_distance` greater than `10` miles, not either or!\n",
    "3. 66.124137 - incorrect - We're looking for the maximum fare amount, not the average!\n",
    "4. 633.3 - incorrect - Are you sure you're looking at the right column?"
   ]
  },
  {
   "cell_type": "markdown",
   "id": "d9b08b22-0226-450f-b708-022564b9d7a8",
   "metadata": {},
   "source": [
    "## 3.7. Question 7"
   ]
  },
  {
   "cell_type": "markdown",
   "id": "34de820c-93ca-49a4-b88e-91b2bc22e630",
   "metadata": {},
   "source": [
    "Find the maximum `price_per_mile` (by dividing the `total_amount` by the `trip_distance`) for trips with a distance greater than `30`."
   ]
  },
  {
   "cell_type": "code",
   "execution_count": 9,
   "id": "ca294573-6374-44e7-8710-b968ef20420e",
   "metadata": {},
   "outputs": [
    {
     "name": "stdout",
     "output_type": "stream",
     "text": [
      "shape: (1, 1)\n",
      "┌────────────────────┐\n",
      "│ max_price_per_mile │\n",
      "│ ---                │\n",
      "│ f64                │\n",
      "╞════════════════════╡\n",
      "│ 14.067142          │\n",
      "└────────────────────┘\n"
     ]
    }
   ],
   "source": [
    "result = (\n",
    "    df\n",
    "    .filter(\n",
    "        #### YOUR CODE HERE\n",
    "        pl.col(\"trip_distance\").gt(30)\n",
    "    )\n",
    "    .select([\n",
    "        #### YOUR CODE HERE\n",
    "        (pl.col(\"total_amount\") / pl.col(\"trip_distance\")).max().alias(\"max_price_per_mile\")\n",
    "    ])\n",
    ")\n",
    "print(result)"
   ]
  },
  {
   "cell_type": "markdown",
   "id": "39cdf90a-9ad8-4822-bad1-14310d3f27b1",
   "metadata": {},
   "source": [
    "1. 0.034265 - incorrect - Are you sure you're filtering for just trips with a distance greater than 30, and not filtering for trips with a distance greater than 300?\n",
    "2. 4.868929 - incorrect - This is the average `price_per_mile`, not the maximum!\n",
    "3. 14.067142 - correct - Exactly!\n",
    "4. 9.384736 - incorrect - Are you sure you're looking at the right columns?"
   ]
  },
  {
   "cell_type": "markdown",
   "id": "8a2c4f9e-1200-4716-bdd2-ac2739874615",
   "metadata": {},
   "source": [
    "## 3.8. Question 8"
   ]
  },
  {
   "cell_type": "markdown",
   "id": "3b35ee87-5185-48b1-8059-5097b6cc93b3",
   "metadata": {},
   "source": [
    "Of all the trips which had a `trip_distance` of exactly `5`, what was the latest `tpep_pickup_datetime`?"
   ]
  },
  {
   "cell_type": "code",
   "execution_count": 10,
   "id": "396ff59a-ef77-4055-ba23-734711fc2bdb",
   "metadata": {},
   "outputs": [
    {
     "name": "stdout",
     "output_type": "stream",
     "text": [
      "shape: (1, 1)\n",
      "┌──────────────────────┐\n",
      "│ tpep_pickup_datetime │\n",
      "│ ---                  │\n",
      "│ datetime[μs]         │\n",
      "╞══════════════════════╡\n",
      "│ 2024-03-31 23:46:21  │\n",
      "└──────────────────────┘\n"
     ]
    }
   ],
   "source": [
    "result = (\n",
    "    df\n",
    "    #### YOUR CODE HERE\n",
    "    .filter(pl.col(\"trip_distance\").eq(5))\n",
    "    .select(pl.col(\"tpep_pickup_datetime\").max())\n",
    ")\n",
    "print(result)"
   ]
  },
  {
   "cell_type": "markdown",
   "id": "0297efc3-fa36-4e62-a985-c31c0b42e879",
   "metadata": {},
   "source": [
    "1. 2024-03-31 23:46:21 - correct\n",
    "2. 2024-03-31 23:57:07 - incorrect - Remember--we're looking for maximum pickup datetime, not dropoff datetime!\n",
    "3. 2024-03-01 00:05:00 - incorrect - Remember--we're looking for maximum pickup datetime, not minimum!\n",
    "4. 2024-04-01 00:34:55 - incorrect - Are you sure your filtering for only trips that had a `trip_distance` of exactly 5?"
   ]
  },
  {
   "cell_type": "markdown",
   "id": "77a6b871-465f-4300-8cc5-279939d6dfc8",
   "metadata": {},
   "source": [
    "## 3.9. Question 9"
   ]
  },
  {
   "cell_type": "markdown",
   "id": "efb9c77c-80ee-4535-a26e-b1bbfe19c45f",
   "metadata": {},
   "source": [
    "Filtering only for trips that had a `fare_amount` and a `tip_amount` greater than 0, what was the lowest tip percentage (expressed as a fraction) that somebody paid? (Hint: divide `tip_amount` by `fare_amount`)."
   ]
  },
  {
   "cell_type": "code",
   "execution_count": 11,
   "id": "9a6440ba-9f46-4452-83e6-cf061be180c7",
   "metadata": {},
   "outputs": [
    {
     "name": "stdout",
     "output_type": "stream",
     "text": [
      "shape: (1, 1)\n",
      "┌────────────────────┐\n",
      "│ min_tip_percentage │\n",
      "│ ---                │\n",
      "│ f64                │\n",
      "╞════════════════════╡\n",
      "│ 0.00003            │\n",
      "└────────────────────┘\n"
     ]
    }
   ],
   "source": [
    "result = (\n",
    "    df\n",
    "    #### YOUR CODE HERE\n",
    "    .filter(\n",
    "        pl.col(\"fare_amount\").gt(0)\n",
    "        .and_(pl.col(\"tip_amount\").gt(0))\n",
    "    )\n",
    "    .select(\n",
    "        (pl.col(\"tip_amount\") / pl.col(\"fare_amount\"))\n",
    "        .min().alias(\"min_tip_percentage\")\n",
    "    )\n",
    ")\n",
    "print(result)"
   ]
  },
  {
   "cell_type": "markdown",
   "id": "f0ae3ada-4a91-4dea-bb7b-7e2247350720",
   "metadata": {},
   "source": [
    "1. 0.01 - incorrect - Are you sure you're using the right columns for calculating the tip percentage of each ride?\n",
    "2. 0.276066 - incorrect - We're looking for the minimum tip, not the average tip!\n",
    "3. -40.0 - incorrect - Don't forget to filter the data!\n",
    "4. 0.00003 - correct - Exactly!"
   ]
  },
  {
   "cell_type": "markdown",
   "id": "9335e57a-4837-46d3-ae92-e977189525d5",
   "metadata": {},
   "source": [
    "## 3.10. Question 10"
   ]
  },
  {
   "cell_type": "markdown",
   "id": "46941282-d80e-4676-a86e-7aaaa831f841",
   "metadata": {},
   "source": [
    "How many trips had a `tip_amount` greater than the `Airport_fee`?"
   ]
  },
  {
   "cell_type": "code",
   "execution_count": 12,
   "id": "34c8b596-8a8f-42a4-8f4c-1802f650df65",
   "metadata": {},
   "outputs": [
    {
     "name": "stdout",
     "output_type": "stream",
     "text": [
      "(2461463, 19)\n"
     ]
    }
   ],
   "source": [
    "result = (\n",
    "    df\n",
    "    #### YOUR CODE HERE\n",
    "    .filter(pl.col(\"tip_amount\").gt(pl.col(\"Airport_fee\")))\n",
    "    .shape\n",
    ")\n",
    "print(result)"
   ]
  },
  {
   "cell_type": "markdown",
   "id": "b854032f-7acc-4b9d-9738-4510ecaca7de",
   "metadata": {},
   "source": [
    "1. 3089862 - incorrect - Make sure to check for rides where the `tip_amount` is greater than `Airport_fee`, not rides where `tip_amount` is greater than or equal to `Airport_fee`!\n",
    "2. 3582628 - incorrect - That's the total amount of rides in the dataset! Don't forget to filter.\n",
    "3. 2461463 - correct - Exactly!\n",
    "4. 982746 - incorrect - Are you sure you're using the correct columns?"
   ]
  }
 ],
 "metadata": {
  "kernelspec": {
   "display_name": "Python 3 (ipykernel)",
   "language": "python",
   "name": "python3"
  },
  "language_info": {
   "codemirror_mode": {
    "name": "ipython",
    "version": 3
   },
   "file_extension": ".py",
   "mimetype": "text/x-python",
   "name": "python",
   "nbconvert_exporter": "python",
   "pygments_lexer": "ipython3",
   "version": "3.9.2"
  }
 },
 "nbformat": 4,
 "nbformat_minor": 5
}
