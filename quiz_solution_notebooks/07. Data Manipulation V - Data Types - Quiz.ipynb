{
 "cells": [
  {
   "cell_type": "markdown",
   "id": "1653908d",
   "metadata": {},
   "source": [
    "# 7. Data Manipulation V - Data Types - Quiz"
   ]
  },
  {
   "cell_type": "markdown",
   "id": "97a37bab",
   "metadata": {},
   "source": [
    "## 7.0. Import `polars` and Load Data"
   ]
  },
  {
   "cell_type": "code",
   "execution_count": 1,
   "id": "9f2da0ab",
   "metadata": {},
   "outputs": [],
   "source": [
    "import polars as pl"
   ]
  },
  {
   "cell_type": "code",
   "execution_count": 2,
   "id": "37f2cb81",
   "metadata": {},
   "outputs": [],
   "source": [
    "zone_column_rename_mapping = {\n",
    "    \"LocationID\": \"location_id\",\n",
    "    \"Borough\": \"borough\",\n",
    "    \"Zone\": \"zone\",\n",
    "}\n",
    "zones_df = (\n",
    "    pl.read_parquet(\"../data/taxi_zone_lookup.parquet\")\n",
    "    .rename(zone_column_rename_mapping)\n",
    ")"
   ]
  },
  {
   "cell_type": "code",
   "execution_count": 3,
   "id": "adb7a494-c830-47a0-94a5-fc4e303a92f5",
   "metadata": {},
   "outputs": [],
   "source": [
    "yellow_rides_column_rename_mapping = {\n",
    "    \"VendorID\": \"vendor_id\",\n",
    "    \"RatecodeID\": \"ratecode_id\",\n",
    "    \"PULocationID\": \"pu_location_id\",\n",
    "    \"DOLocationID\": \"do_location_id\",\n",
    "    \"Airport_fee\": \"airport_fee\",\n",
    "}\n",
    "\n",
    "rides_df = (\n",
    "    pl.read_parquet(\"../data/yellow_tripdata_2024-03.parquet\")\n",
    "    .rename(yellow_rides_column_rename_mapping)\n",
    "    .join(\n",
    "        zones_df.select(pl.all().name.prefix(\"pu_\")),\n",
    "        on=\"pu_location_id\",\n",
    "    )\n",
    "    .join(\n",
    "        zones_df.select(pl.all().name.prefix(\"do_\")),\n",
    "        on=\"do_location_id\",\n",
    "    )\n",
    ")"
   ]
  },
  {
   "cell_type": "markdown",
   "id": "74ea04d2-31f8-45c4-b498-0c4771b09efe",
   "metadata": {},
   "source": [
    "## 7.1. Question 1"
   ]
  },
  {
   "cell_type": "markdown",
   "id": "d9cf6567-2272-4968-ab6b-11e44ada89b3",
   "metadata": {},
   "source": [
    "Extract the day of the week (as a string) and the hour from the 'tpep_pickup_datetime' column. Then, calculate the average fare amount for each day-hour combination, and sort the results by average fare amount. Which day-hour combination had the highest average fare amount?"
   ]
  },
  {
   "cell_type": "code",
   "execution_count": 4,
   "id": "4dc3aa8f-b099-4216-8381-65745b64e97e",
   "metadata": {},
   "outputs": [
    {
     "name": "stdout",
     "output_type": "stream",
     "text": [
      "shape: (168, 3)\n",
      "┌─────────────┬──────┬───────────┐\n",
      "│ day_of_week ┆ hour ┆ avg_fare  │\n",
      "│ ---         ┆ ---  ┆ ---       │\n",
      "│ i8          ┆ i8   ┆ f64       │\n",
      "╞═════════════╪══════╪═══════════╡\n",
      "│ 3           ┆ 4    ┆ 28.732735 │\n",
      "│ 2           ┆ 4    ┆ 28.361275 │\n",
      "│ 1           ┆ 4    ┆ 28.345536 │\n",
      "│ 1           ┆ 1    ┆ 28.123612 │\n",
      "│ 7           ┆ 23   ┆ 27.736774 │\n",
      "│ …           ┆ …    ┆ …         │\n",
      "│ 6           ┆ 10   ┆ 15.954722 │\n",
      "│ 6           ┆ 1    ┆ 15.582336 │\n",
      "│ 6           ┆ 3    ┆ 15.483906 │\n",
      "│ 7           ┆ 2    ┆ 15.34928  │\n",
      "│ 6           ┆ 2    ┆ 14.980229 │\n",
      "└─────────────┴──────┴───────────┘\n"
     ]
    }
   ],
   "source": [
    "result = (\n",
    "    rides_df\n",
    "    #### YOUR CODE HERE\n",
    "    .with_columns([\n",
    "        pl.col(\"tpep_pickup_datetime\").dt.weekday().alias(\"day_of_week\"),\n",
    "        pl.col(\"tpep_pickup_datetime\").dt.hour().alias(\"hour\")\n",
    "    ])\n",
    "    .group_by([\"day_of_week\", \"hour\"])\n",
    "    .agg(avg_fare=pl.col(\"fare_amount\").mean())\n",
    "    .sort(\"avg_fare\", descending=True)\n",
    ")\n",
    "print(result)"
   ]
  },
  {
   "cell_type": "markdown",
   "id": "e0290583-c669-439c-ac50-c078b672031d",
   "metadata": {},
   "source": [
    "1. day=6, hour=2 - incorrect - you might be sorting ascending rather than descending.\n",
    "2. day=3, hour=4 - correct\n",
    "3. day=7, hour=23 - incorrect - you might be taking the average `total_amount` rather than the average `fare_amount`.\n",
    "4. day=1, hour=0 - incorrect - you might be taking the weekday and hour from `tpep_dropoff_datetime` instead of `tpep_pickup_datetime`."
   ]
  },
  {
   "cell_type": "markdown",
   "id": "567cdca5-7ec2-466f-b616-f52c58e6c9ed",
   "metadata": {},
   "source": [
    "## 7.2. Question 2"
   ]
  },
  {
   "cell_type": "markdown",
   "id": "9869640a-19e2-453c-b49a-37df74fdbbb2",
   "metadata": {},
   "source": [
    "Which is the `do_zone` with the highest trip duration (where \"trip duration\" is measured as the `.total_seconds()` between `tpep_pickup_datetime` and `tpep_dropoff_datetime`)?"
   ]
  },
  {
   "cell_type": "code",
   "execution_count": 5,
   "id": "e04bf6f9-51e1-4ae8-a2c5-0d9876a6ca70",
   "metadata": {},
   "outputs": [
    {
     "name": "stdout",
     "output_type": "stream",
     "text": [
      "shape: (1, 2)\n",
      "┌─────────────────────────────────┬───────────────┐\n",
      "│ do_zone                         ┆ trip_duration │\n",
      "│ ---                             ┆ ---           │\n",
      "│ str                             ┆ i64           │\n",
      "╞═════════════════════════════════╪═══════════════╡\n",
      "│ Saint Michaels Cemetery/Woodsi… ┆ 545553        │\n",
      "└─────────────────────────────────┴───────────────┘\n"
     ]
    }
   ],
   "source": [
    "result = (\n",
    "    rides_df\n",
    "    #### YOUR CODE HERE\n",
    "    .with_columns(\n",
    "        pl.col(\"tpep_dropoff_datetime\")\n",
    "        .sub(pl.col(\"tpep_pickup_datetime\"))\n",
    "        .dt.total_seconds()\n",
    "        .alias(\"trip_duration\")\n",
    "    )\n",
    "    .sort(\"trip_duration\", descending=True)\n",
    "    .head(1)\n",
    "    .select([\"do_zone\", \"trip_duration\"])\n",
    ")\n",
    "print(result)"
   ]
  },
  {
   "cell_type": "markdown",
   "id": "b9c7e0e8-310c-4bd7-b9ce-37c468a151b2",
   "metadata": {},
   "source": [
    "1. Saint Michaels Cemetery/Woodside - correct\n",
    "2. Midtown Center - incorrect - you might be taking the `do_zone` with the lowest trip duration.\n",
    "3. 207 - incorrect - almost right! But the answer should be a `do_zone`, not a `do_location_id`.\n",
    "4. Woodside - not quite!"
   ]
  },
  {
   "cell_type": "markdown",
   "id": "23353481-61ff-4dea-9436-33059a930c4f",
   "metadata": {},
   "source": [
    "## 7.3. Question 3"
   ]
  },
  {
   "cell_type": "markdown",
   "id": "b4fb20c9-38a7-448c-a522-0a1274ff82a8",
   "metadata": {},
   "source": [
    "With a group-by in `polars`, instead of finding some aggregate summary statistic for each group, you can also collect all the elements for each group into a list by simply passing in the column you'd like to aggregate to a list as a name (see below). With this, for each `pu_location_id`, make a column that aggregates all the `do_zones` associated with that `pu_location_id`; what is the `pu_location_id` with the longest list of associated `do_zone`s (hint: use the `.list` namespace)?"
   ]
  },
  {
   "cell_type": "code",
   "execution_count": 6,
   "id": "2cece8b2-6efd-4092-bd1b-232b2ff9e929",
   "metadata": {},
   "outputs": [
    {
     "name": "stdout",
     "output_type": "stream",
     "text": [
      "shape: (259, 2)\n",
      "┌────────────────┬─────────────────────────────────┐\n",
      "│ pu_location_id ┆ do_zone                         │\n",
      "│ ---            ┆ ---                             │\n",
      "│ i32            ┆ list[str]                       │\n",
      "╞════════════════╪═════════════════════════════════╡\n",
      "│ 161            ┆ [\"Lenox Hill West\", \"Greenwich… │\n",
      "│ 132            ┆ [\"South Jamaica\", \"Clinton Hil… │\n",
      "│ 237            ┆ [\"Lenox Hill West\", \"Union Sq\"… │\n",
      "│ 236            ┆ [\"Upper East Side South\", \"Blo… │\n",
      "│ 162            ┆ [\"Flatiron\", \"Midtown Center\",… │\n",
      "│ …              ┆ …                               │\n",
      "│ 199            ┆ [\"Midtown Center\", \"Times Sq/T… │\n",
      "│ 84             ┆ [\"Sheepshead Bay\"]              │\n",
      "│ 156            ┆ [\"Coney Island\"]                │\n",
      "│ 109            ┆ [\"Great Kills\"]                 │\n",
      "│ 5              ┆ [\"Arden Heights\"]               │\n",
      "└────────────────┴─────────────────────────────────┘\n"
     ]
    }
   ],
   "source": [
    "result = (\n",
    "    rides_df\n",
    "    .group_by(\"pu_location_id\")\n",
    "    .agg(pl.col(\"do_zone\"))\n",
    "    #### YOUR CODE HERE\n",
    "    .sort(pl.col(\"do_zone\").list.len(), descending=True)\n",
    ")\n",
    "print(result)"
   ]
  },
  {
   "cell_type": "markdown",
   "id": "98c4885a-5557-47f9-a253-129ec155a0d2",
   "metadata": {},
   "source": [
    "1. 161 - correct\n",
    "2. 5 - incorrect - are you sure you didn't find the `pu_location_id` with the shortest list of associated `do_zone`s?\n",
    "3. Midtown Center - incorrect - we are looking for the `pu_location_id` with the longest list of associated `do_zone`s, not the `pu_zone`!\n",
    "4. Arden Heights - incorrect - it looks like you chose the wrong sort order, and looked for `pu_zone` rather than `pu_location_id`!"
   ]
  },
  {
   "cell_type": "markdown",
   "id": "7e58ee6b-6475-408d-a40d-93c2aae3fd03",
   "metadata": {},
   "source": [
    "## 7.4. Question 4"
   ]
  },
  {
   "cell_type": "markdown",
   "id": "34aa7656-9dca-4519-abde-b2f62a6e6acf",
   "metadata": {},
   "source": [
    "You could have also answered Question 3 by finding the `pl.len()` of all the `do_zone`s for each group, rather than first putting them all into a list. Answer the same question now, but using a simple `.group_by().agg()`. Do you get the same answer as in Question 3?"
   ]
  },
  {
   "cell_type": "code",
   "execution_count": 7,
   "id": "d5f8962e-33ce-4ab2-ab8e-b5835f94da6f",
   "metadata": {},
   "outputs": [
    {
     "name": "stdout",
     "output_type": "stream",
     "text": [
      "shape: (259, 2)\n",
      "┌────────────────┬─────────┐\n",
      "│ pu_location_id ┆ do_zone │\n",
      "│ ---            ┆ ---     │\n",
      "│ i32            ┆ u32     │\n",
      "╞════════════════╪═════════╡\n",
      "│ 161            ┆ 163269  │\n",
      "│ 132            ┆ 157706  │\n",
      "│ 237            ┆ 155631  │\n",
      "│ 236            ┆ 146044  │\n",
      "│ 162            ┆ 123805  │\n",
      "│ …              ┆ …       │\n",
      "│ 199            ┆ 2       │\n",
      "│ 84             ┆ 1       │\n",
      "│ 156            ┆ 1       │\n",
      "│ 109            ┆ 1       │\n",
      "│ 5              ┆ 1       │\n",
      "└────────────────┴─────────┘\n"
     ]
    }
   ],
   "source": [
    "result = (\n",
    "    rides_df\n",
    "    .group_by(\"pu_location_id\")\n",
    "    #### YOUR CODE HERE\n",
    "    .agg(pl.col(\"do_zone\").len())\n",
    "    .sort(pl.col(\"do_zone\"), descending=True)\n",
    ")\n",
    "print(result)"
   ]
  },
  {
   "cell_type": "markdown",
   "id": "ad321b8b-c416-4aec-b8e1-11f5e9a53b9a",
   "metadata": {},
   "source": [
    "1. Yes - correct\n",
    "2. No"
   ]
  },
  {
   "cell_type": "markdown",
   "id": "10ccf20c-ce4a-4244-86ac-5802cc9bfd4d",
   "metadata": {},
   "source": [
    "## 7.5. Question 5"
   ]
  },
  {
   "cell_type": "markdown",
   "id": "cacc084e-70cd-4a11-ad92-8f89578520a6",
   "metadata": {},
   "source": [
    "Questions 3 and 4 create a list of the `do_zones` associated with all rides for every given `pu_location_id`. The result of this is that all the duplicates get counted! To handle this, there is a function `.list.unique()` to remove duplicates from a list column. Answer Question 3 again, but this time removing duplicate values of `do_zone` with `.list.unique()`. Is the answer the same as Question 3?"
   ]
  },
  {
   "cell_type": "code",
   "execution_count": 8,
   "id": "1f2e5b5c-e1be-439d-9e45-89ea937038dc",
   "metadata": {},
   "outputs": [
    {
     "name": "stdout",
     "output_type": "stream",
     "text": [
      "shape: (259, 2)\n",
      "┌────────────────┬─────────────────────────────────┐\n",
      "│ pu_location_id ┆ do_zone                         │\n",
      "│ ---            ┆ ---                             │\n",
      "│ i32            ┆ list[str]                       │\n",
      "╞════════════════╪═════════════════════════════════╡\n",
      "│ 132            ┆ [\"South Jamaica\", \"Clinton Hil… │\n",
      "│ 138            ┆ [\"Old Astoria\", \"Lincoln Squar… │\n",
      "│ 70             ┆ [\"Flushing\", \"Gramercy\", … \"Ja… │\n",
      "│ 230            ┆ [\"Midtown North\", \"Clinton Wes… │\n",
      "│ 186            ┆ [\"Lenox Hill West\", \"Murray Hi… │\n",
      "│ …              ┆ …                               │\n",
      "│ 199            ┆ [\"Midtown Center\", \"Times Sq/T… │\n",
      "│ 84             ┆ [\"Sheepshead Bay\"]              │\n",
      "│ 156            ┆ [\"Coney Island\"]                │\n",
      "│ 109            ┆ [\"Great Kills\"]                 │\n",
      "│ 5              ┆ [\"Arden Heights\"]               │\n",
      "└────────────────┴─────────────────────────────────┘\n"
     ]
    }
   ],
   "source": [
    "result = (\n",
    "    rides_df\n",
    "    .group_by(\"pu_location_id\")\n",
    "    .agg(pl.col(\"do_zone\"))\n",
    "    #### YOUR CODE HERE\n",
    "    .sort(pl.col(\"do_zone\").list.unique().list.len(), descending=True)\n",
    ")\n",
    "print(result)"
   ]
  },
  {
   "cell_type": "markdown",
   "id": "9af9c6f7-5fd5-4c80-ab94-4b62a704f3ab",
   "metadata": {},
   "source": [
    "1. Yes\n",
    "2. No - correct"
   ]
  },
  {
   "cell_type": "markdown",
   "id": "54baa7ba-6824-4bf6-b1e1-aa92bf006b5c",
   "metadata": {},
   "source": [
    "## 7.6. Question 6"
   ]
  },
  {
   "cell_type": "markdown",
   "id": "f630019a-9cf1-4a3f-9b1e-3272124cde99",
   "metadata": {},
   "source": [
    "Using just `zones_df`, split `zone` into a list on `\" \"` as seen during the module, and take the 2nd element of every list using `.list.get()`. Then, using `group_by`, answer the question--what is the most commonly occurring second word in `zones_df` (excluding `null`)?"
   ]
  },
  {
   "cell_type": "code",
   "execution_count": 9,
   "id": "b700b131-89f8-4b70-a199-5370f95973a7",
   "metadata": {},
   "outputs": [
    {
     "name": "stdout",
     "output_type": "stream",
     "text": [
      "shape: (11, 2)\n",
      "┌───────────────┬────────────────┐\n",
      "│ zone_splitted ┆ num_occurences │\n",
      "│ ---           ┆ ---            │\n",
      "│ str           ┆ u32            │\n",
      "╞═══════════════╪════════════════╡\n",
      "│ null          ┆ 250            │\n",
      "│ North         ┆ 3              │\n",
      "│ Island        ┆ 3              │\n",
      "│ South         ┆ 2              │\n",
      "│ Village       ┆ 1              │\n",
      "│ …             ┆ …              │\n",
      "│ Beach         ┆ 1              │\n",
      "│ West          ┆ 1              │\n",
      "│ Plaza         ┆ 1              │\n",
      "│ Point         ┆ 1              │\n",
      "│ Field         ┆ 1              │\n",
      "└───────────────┴────────────────┘\n"
     ]
    }
   ],
   "source": [
    "result = (\n",
    "    zones_df\n",
    "    .with_columns(pl.col(\"zone\").str.split(\" \").alias(\"zone_splitted\"))\n",
    "    #### YOUR CODE HERE\n",
    "    .group_by(pl.col(\"zone_splitted\").list.get(3))\n",
    "    .agg(pl.len().alias(\"num_occurences\"))\n",
    "    .sort(\"num_occurences\", descending=True)\n",
    ")\n",
    "print(result)"
   ]
  },
  {
   "cell_type": "markdown",
   "id": "55621bae-60cc-433f-89df-1b51fefebe1e",
   "metadata": {},
   "source": [
    "1. Park - correct\n",
    "2. `null` - incorrect - The question specifies \"excluding null\"... take another look!\n",
    "3. East - incorrect - Make sure to take the 2nd element, not the 0th!\n",
    "4. North - incorrect - Make sure to take the 2nd element, not the 3rd!"
   ]
  },
  {
   "cell_type": "markdown",
   "id": "80385b4f-5588-46f5-91e0-7f043ff3bed9",
   "metadata": {},
   "source": [
    "## 7.7. Question 7"
   ]
  },
  {
   "cell_type": "markdown",
   "id": "6a5ee80c-5612-4885-a8f6-d877dbce1531",
   "metadata": {},
   "source": [
    "How many rides had a duration of more than 60 seconds and less than 120 seconds?"
   ]
  },
  {
   "cell_type": "code",
   "execution_count": 12,
   "id": "012a73ce-9252-469d-b208-a73e5a601fdc",
   "metadata": {},
   "outputs": [
    {
     "name": "stdout",
     "output_type": "stream",
     "text": [
      "(27538, 26)\n"
     ]
    }
   ],
   "source": [
    "result = (\n",
    "    rides_df\n",
    "    #### YOUR CODE HERE\n",
    "    .with_columns((pl.col(\"tpep_dropoff_datetime\") - pl.col(\"tpep_pickup_datetime\")).dt.total_seconds().alias(\"trip_duration\"))\n",
    "    .filter(pl.col(\"trip_duration\").lt(120).and_(pl.col(\"trip_duration\").gt(60)))\n",
    "    .shape\n",
    ")\n",
    "print(result)"
   ]
  },
  {
   "cell_type": "markdown",
   "id": "c987539a-8b8d-4839-8260-8fa86fdabc8a",
   "metadata": {},
   "source": [
    "3. 27538 - correct"
   ]
  }
 ],
 "metadata": {
  "kernelspec": {
   "display_name": "Python 3 (ipykernel)",
   "language": "python",
   "name": "python3"
  },
  "language_info": {
   "codemirror_mode": {
    "name": "ipython",
    "version": 3
   },
   "file_extension": ".py",
   "mimetype": "text/x-python",
   "name": "python",
   "nbconvert_exporter": "python",
   "pygments_lexer": "ipython3",
   "version": "3.12.3"
  }
 },
 "nbformat": 4,
 "nbformat_minor": 5
}
