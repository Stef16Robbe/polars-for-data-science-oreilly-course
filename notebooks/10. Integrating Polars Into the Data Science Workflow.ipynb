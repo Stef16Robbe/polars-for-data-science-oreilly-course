{
 "cells": [
  {
   "cell_type": "markdown",
   "id": "1653908d",
   "metadata": {},
   "source": [
    "# 10. Integrating Polars Into the Data Science Workflow"
   ]
  },
  {
   "cell_type": "markdown",
   "id": "97a37bab",
   "metadata": {},
   "source": [
    "By this point in this course, we've gained a lot of dexterity with `polars`; now, it's time to use it in a real data science problem!\n",
    "\n",
    "The problem we will be trying to solve is **tip amount prediction**, using the NYC taxi rides data that we've been using throughout this course. The goal here is to provide a service to taxi drivers which, before starting a taxi ride, they can plug the details of their ride into, and receive a prediction for what tip amount that customer can be expected to pay. They could then use this information to inform themselves on how to best interact with their passengers to increase their tip; furthermore, feature importance insights from such a model could help a taxi driver decide the best places in the city to work, or the best times in the week, etc.\n",
    "\n",
    "We'll go through the entire data science process:\n",
    "1. Setting Up the Environment\n",
    "2. Loading Data\n",
    "4. Brief Data Exploration\n",
    "3. Cleaning and Preparing the Data\n",
    "4. Feature Engineering and Selection\n",
    "5. Model Building\n",
    "6. Model Evaluation\n",
    "7. Discussion\n",
    "\n",
    "Let's get into it!"
   ]
  },
  {
   "cell_type": "markdown",
   "id": "f3a90b5b",
   "metadata": {},
   "source": [
    "## 10.1. Setting up the Environment"
   ]
  },
  {
   "cell_type": "markdown",
   "id": "6591970e",
   "metadata": {},
   "source": [
    "Import `polars` as usual..."
   ]
  },
  {
   "cell_type": "code",
   "execution_count": 2,
   "id": "9f2da0ab",
   "metadata": {},
   "outputs": [],
   "source": [
    "import polars as pl"
   ]
  },
  {
   "cell_type": "markdown",
   "id": "aaa7dbbc",
   "metadata": {},
   "source": [
    "But also import some other tools from the data science suite that we'll need throughout this notebook."
   ]
  },
  {
   "cell_type": "code",
   "execution_count": 8,
   "id": "c21f37fb",
   "metadata": {},
   "outputs": [
    {
     "name": "stderr",
     "output_type": "stream",
     "text": [
      "Matplotlib is building the font cache; this may take a moment.\n"
     ]
    }
   ],
   "source": [
    "import matplotlib.pyplot as plt\n",
    "from lightgbm import LGBMRegressor"
   ]
  },
  {
   "cell_type": "markdown",
   "id": "40b91227",
   "metadata": {},
   "source": [
    "## 10.2. Loading Data"
   ]
  },
  {
   "cell_type": "markdown",
   "id": "465fb7bf",
   "metadata": {},
   "source": [
    "First, we load the data about zones:"
   ]
  },
  {
   "cell_type": "code",
   "execution_count": 9,
   "id": "a4fc8c45",
   "metadata": {},
   "outputs": [],
   "source": [
    "zone_column_rename_mapping = {\n",
    "    \"LocationID\": \"location_id\",\n",
    "    \"Borough\": \"borough\",\n",
    "    \"Zone\": \"zone\",\n",
    "}\n",
    "zones_df = (\n",
    "    pl.read_parquet(\"../data/taxi_zone_lookup.parquet\")\n",
    "    .rename(zone_column_rename_mapping)\n",
    ")"
   ]
  },
  {
   "cell_type": "markdown",
   "id": "92783d0b",
   "metadata": {},
   "source": [
    "Then, we load in the yellow trips taxi data, for both february and march, joining in the zone information as before:"
   ]
  },
  {
   "cell_type": "code",
   "execution_count": 24,
   "id": "740af260",
   "metadata": {},
   "outputs": [],
   "source": [
    "yellow_rides_column_rename_mapping = {\n",
    "    \"VendorID\": \"vendor_id\",\n",
    "    \"RatecodeID\": \"ratecode_id\",\n",
    "    \"PULocationID\": \"pu_location_id\",\n",
    "    \"DOLocationID\": \"do_location_id\",\n",
    "    \"Airport_fee\": \"airport_fee\",\n",
    "}\n",
    "\n",
    "zone_df_columns = [\"borough\", \"zone\", \"service_zone\",]\n",
    "\n",
    "rides_df_raw = (\n",
    "    pl.read_parquet(\"../data/yellow_tripdata_2024-*.parquet\")\n",
    "    .rename(yellow_rides_column_rename_mapping)\n",
    "    .join(zones_df, left_on=\"pu_location_id\", right_on=\"location_id\")\n",
    "    .rename({zone_df_column: f\"pu_{zone_df_column}\" for zone_df_column in zone_df_columns})\n",
    "    .join(zones_df, left_on=\"do_location_id\", right_on=\"location_id\")\n",
    "    .rename({zone_df_column: f\"do_{zone_df_column}\" for zone_df_column in zone_df_columns})\n",
    ")"
   ]
  },
  {
   "cell_type": "code",
   "execution_count": 25,
   "id": "594efbca",
   "metadata": {},
   "outputs": [
    {
     "data": {
      "text/plain": [
       "(6590154, 25)"
      ]
     },
     "metadata": {},
     "output_type": "display_data"
    },
    {
     "data": {
      "text/html": [
       "<div><style>\n",
       ".dataframe > thead > tr,\n",
       ".dataframe > tbody > tr {\n",
       "  text-align: right;\n",
       "  white-space: pre-wrap;\n",
       "}\n",
       "</style>\n",
       "<small>shape: (5, 25)</small><table border=\"1\" class=\"dataframe\"><thead><tr><th>vendor_id</th><th>tpep_pickup_datetime</th><th>tpep_dropoff_datetime</th><th>passenger_count</th><th>trip_distance</th><th>ratecode_id</th><th>store_and_fwd_flag</th><th>pu_location_id</th><th>do_location_id</th><th>payment_type</th><th>fare_amount</th><th>extra</th><th>mta_tax</th><th>tip_amount</th><th>tolls_amount</th><th>improvement_surcharge</th><th>total_amount</th><th>congestion_surcharge</th><th>airport_fee</th><th>pu_borough</th><th>pu_zone</th><th>pu_service_zone</th><th>do_borough</th><th>do_zone</th><th>do_service_zone</th></tr><tr><td>i32</td><td>datetime[ns]</td><td>datetime[ns]</td><td>i64</td><td>f64</td><td>i64</td><td>str</td><td>i32</td><td>i32</td><td>i64</td><td>f64</td><td>f64</td><td>f64</td><td>f64</td><td>f64</td><td>f64</td><td>f64</td><td>f64</td><td>f64</td><td>str</td><td>str</td><td>str</td><td>str</td><td>str</td><td>str</td></tr></thead><tbody><tr><td>2</td><td>2024-02-01 00:04:45</td><td>2024-02-01 00:19:58</td><td>1</td><td>4.39</td><td>1</td><td>&quot;N&quot;</td><td>68</td><td>236</td><td>1</td><td>20.5</td><td>1.0</td><td>0.5</td><td>1.28</td><td>0.0</td><td>1.0</td><td>26.78</td><td>2.5</td><td>0.0</td><td>&quot;Manhattan&quot;</td><td>&quot;East Chelsea&quot;</td><td>&quot;Yellow Zone&quot;</td><td>&quot;Manhattan&quot;</td><td>&quot;Upper East Side North&quot;</td><td>&quot;Yellow Zone&quot;</td></tr><tr><td>2</td><td>2024-02-01 00:56:31</td><td>2024-02-01 01:10:53</td><td>1</td><td>7.71</td><td>1</td><td>&quot;N&quot;</td><td>48</td><td>243</td><td>1</td><td>31.0</td><td>1.0</td><td>0.5</td><td>9.0</td><td>0.0</td><td>1.0</td><td>45.0</td><td>2.5</td><td>0.0</td><td>&quot;Manhattan&quot;</td><td>&quot;Clinton East&quot;</td><td>&quot;Yellow Zone&quot;</td><td>&quot;Manhattan&quot;</td><td>&quot;Washington Heights North&quot;</td><td>&quot;Boro Zone&quot;</td></tr><tr><td>2</td><td>2024-02-01 00:07:50</td><td>2024-02-01 00:43:12</td><td>2</td><td>28.69</td><td>2</td><td>&quot;N&quot;</td><td>132</td><td>261</td><td>2</td><td>70.0</td><td>0.0</td><td>0.5</td><td>0.0</td><td>6.94</td><td>1.0</td><td>82.69</td><td>2.5</td><td>1.75</td><td>&quot;Queens&quot;</td><td>&quot;JFK Airport&quot;</td><td>&quot;Airports&quot;</td><td>&quot;Manhattan&quot;</td><td>&quot;World Trade Center&quot;</td><td>&quot;Yellow Zone&quot;</td></tr><tr><td>1</td><td>2024-02-01 00:01:49</td><td>2024-02-01 00:10:47</td><td>1</td><td>1.1</td><td>1</td><td>&quot;N&quot;</td><td>161</td><td>163</td><td>1</td><td>9.3</td><td>3.5</td><td>0.5</td><td>2.85</td><td>0.0</td><td>1.0</td><td>17.15</td><td>2.5</td><td>0.0</td><td>&quot;Manhattan&quot;</td><td>&quot;Midtown Center&quot;</td><td>&quot;Yellow Zone&quot;</td><td>&quot;Manhattan&quot;</td><td>&quot;Midtown North&quot;</td><td>&quot;Yellow Zone&quot;</td></tr><tr><td>1</td><td>2024-02-01 00:37:35</td><td>2024-02-01 00:51:15</td><td>1</td><td>2.6</td><td>1</td><td>&quot;N&quot;</td><td>246</td><td>79</td><td>2</td><td>15.6</td><td>3.5</td><td>0.5</td><td>0.0</td><td>0.0</td><td>1.0</td><td>20.6</td><td>2.5</td><td>0.0</td><td>&quot;Manhattan&quot;</td><td>&quot;West Chelsea/Hudson Yards&quot;</td><td>&quot;Yellow Zone&quot;</td><td>&quot;Manhattan&quot;</td><td>&quot;East Village&quot;</td><td>&quot;Yellow Zone&quot;</td></tr></tbody></table></div>"
      ],
      "text/plain": [
       "shape: (5, 25)\n",
       "┌───────────┬───────────┬───────────┬───────────┬───┬───────────┬───────────┬───────────┬──────────┐\n",
       "│ vendor_id ┆ tpep_pick ┆ tpep_drop ┆ passenger ┆ … ┆ pu_servic ┆ do_boroug ┆ do_zone   ┆ do_servi │\n",
       "│ ---       ┆ up_dateti ┆ off_datet ┆ _count    ┆   ┆ e_zone    ┆ h         ┆ ---       ┆ ce_zone  │\n",
       "│ i32       ┆ me        ┆ ime       ┆ ---       ┆   ┆ ---       ┆ ---       ┆ str       ┆ ---      │\n",
       "│           ┆ ---       ┆ ---       ┆ i64       ┆   ┆ str       ┆ str       ┆           ┆ str      │\n",
       "│           ┆ datetime[ ┆ datetime[ ┆           ┆   ┆           ┆           ┆           ┆          │\n",
       "│           ┆ ns]       ┆ ns]       ┆           ┆   ┆           ┆           ┆           ┆          │\n",
       "╞═══════════╪═══════════╪═══════════╪═══════════╪═══╪═══════════╪═══════════╪═══════════╪══════════╡\n",
       "│ 2         ┆ 2024-02-0 ┆ 2024-02-0 ┆ 1         ┆ … ┆ Yellow    ┆ Manhattan ┆ Upper     ┆ Yellow   │\n",
       "│           ┆ 1         ┆ 1         ┆           ┆   ┆ Zone      ┆           ┆ East Side ┆ Zone     │\n",
       "│           ┆ 00:04:45  ┆ 00:19:58  ┆           ┆   ┆           ┆           ┆ North     ┆          │\n",
       "│ 2         ┆ 2024-02-0 ┆ 2024-02-0 ┆ 1         ┆ … ┆ Yellow    ┆ Manhattan ┆ Washingto ┆ Boro     │\n",
       "│           ┆ 1         ┆ 1         ┆           ┆   ┆ Zone      ┆           ┆ n Heights ┆ Zone     │\n",
       "│           ┆ 00:56:31  ┆ 01:10:53  ┆           ┆   ┆           ┆           ┆ North     ┆          │\n",
       "│ 2         ┆ 2024-02-0 ┆ 2024-02-0 ┆ 2         ┆ … ┆ Airports  ┆ Manhattan ┆ World     ┆ Yellow   │\n",
       "│           ┆ 1         ┆ 1         ┆           ┆   ┆           ┆           ┆ Trade     ┆ Zone     │\n",
       "│           ┆ 00:07:50  ┆ 00:43:12  ┆           ┆   ┆           ┆           ┆ Center    ┆          │\n",
       "│ 1         ┆ 2024-02-0 ┆ 2024-02-0 ┆ 1         ┆ … ┆ Yellow    ┆ Manhattan ┆ Midtown   ┆ Yellow   │\n",
       "│           ┆ 1         ┆ 1         ┆           ┆   ┆ Zone      ┆           ┆ North     ┆ Zone     │\n",
       "│           ┆ 00:01:49  ┆ 00:10:47  ┆           ┆   ┆           ┆           ┆           ┆          │\n",
       "│ 1         ┆ 2024-02-0 ┆ 2024-02-0 ┆ 1         ┆ … ┆ Yellow    ┆ Manhattan ┆ East      ┆ Yellow   │\n",
       "│           ┆ 1         ┆ 1         ┆           ┆   ┆ Zone      ┆           ┆ Village   ┆ Zone     │\n",
       "│           ┆ 00:37:35  ┆ 00:51:15  ┆           ┆   ┆           ┆           ┆           ┆          │\n",
       "└───────────┴───────────┴───────────┴───────────┴───┴───────────┴───────────┴───────────┴──────────┘"
      ]
     },
     "metadata": {},
     "output_type": "display_data"
    }
   ],
   "source": [
    "display(rides_df_raw.shape)\n",
    "display(rides_df_raw.head())"
   ]
  },
  {
   "cell_type": "markdown",
   "id": "f1176c64",
   "metadata": {},
   "source": [
    "Looks good to go!"
   ]
  },
  {
   "cell_type": "markdown",
   "id": "839ac396",
   "metadata": {},
   "source": [
    "## 10.3. Brief Data Exploration"
   ]
  },
  {
   "cell_type": "markdown",
   "id": "ec14c8b9",
   "metadata": {},
   "source": [
    "Before we proceed with any machine learning, let's first have a look at the data, viewed through the lens of the machine learning problem we're going to solve, keeping an eye out for anything we'll need to take care of during data cleaning and preparation:"
   ]
  },
  {
   "cell_type": "code",
   "execution_count": 35,
   "id": "e543210f",
   "metadata": {},
   "outputs": [
    {
     "data": {
      "text/html": [
       "<div><style>\n",
       ".dataframe > thead > tr,\n",
       ".dataframe > tbody > tr {\n",
       "  text-align: right;\n",
       "  white-space: pre-wrap;\n",
       "}\n",
       "</style>\n",
       "<small>shape: (9, 26)</small><table border=\"1\" class=\"dataframe\"><thead><tr><th>statistic</th><th>vendor_id</th><th>tpep_pickup_datetime</th><th>tpep_dropoff_datetime</th><th>passenger_count</th><th>trip_distance</th><th>ratecode_id</th><th>store_and_fwd_flag</th><th>pu_location_id</th><th>do_location_id</th><th>payment_type</th><th>fare_amount</th><th>extra</th><th>mta_tax</th><th>tip_amount</th><th>tolls_amount</th><th>improvement_surcharge</th><th>total_amount</th><th>congestion_surcharge</th><th>airport_fee</th><th>pu_borough</th><th>pu_zone</th><th>pu_service_zone</th><th>do_borough</th><th>do_zone</th><th>do_service_zone</th></tr><tr><td>str</td><td>f64</td><td>str</td><td>str</td><td>f64</td><td>f64</td><td>f64</td><td>str</td><td>f64</td><td>f64</td><td>f64</td><td>f64</td><td>f64</td><td>f64</td><td>f64</td><td>f64</td><td>f64</td><td>f64</td><td>f64</td><td>f64</td><td>str</td><td>str</td><td>str</td><td>str</td><td>str</td><td>str</td></tr></thead><tbody><tr><td>&quot;count&quot;</td><td>6.590154e6</td><td>&quot;6590154&quot;</td><td>&quot;6590154&quot;</td><td>5.978354e6</td><td>6.590154e6</td><td>5.978354e6</td><td>&quot;5978354&quot;</td><td>6.590154e6</td><td>6.590154e6</td><td>6.590154e6</td><td>6.590154e6</td><td>6.590154e6</td><td>6.590154e6</td><td>6.590154e6</td><td>6.590154e6</td><td>6.590154e6</td><td>6.590154e6</td><td>5.978354e6</td><td>5.978354e6</td><td>&quot;6590154&quot;</td><td>&quot;6590154&quot;</td><td>&quot;6590154&quot;</td><td>&quot;6590154&quot;</td><td>&quot;6590154&quot;</td><td>&quot;6590154&quot;</td></tr><tr><td>&quot;null_count&quot;</td><td>0.0</td><td>&quot;0&quot;</td><td>&quot;0&quot;</td><td>611800.0</td><td>0.0</td><td>611800.0</td><td>&quot;611800&quot;</td><td>0.0</td><td>0.0</td><td>0.0</td><td>0.0</td><td>0.0</td><td>0.0</td><td>0.0</td><td>0.0</td><td>0.0</td><td>0.0</td><td>611800.0</td><td>611800.0</td><td>&quot;0&quot;</td><td>&quot;0&quot;</td><td>&quot;0&quot;</td><td>&quot;0&quot;</td><td>&quot;0&quot;</td><td>&quot;0&quot;</td></tr><tr><td>&quot;mean&quot;</td><td>1.756811</td><td>&quot;2024-03-02 23:29:08.306262&quot;</td><td>&quot;2024-03-02 23:45:29.766303&quot;</td><td>1.332109</td><td>4.217783</td><td>2.189424</td><td>null</td><td>164.836847</td><td>163.769507</td><td>1.103447</td><td>18.39262</td><td>1.400976</td><td>0.48309</td><td>3.241934</td><td>0.526057</td><td>0.974779</td><td>26.894141</td><td>2.259032</td><td>0.136208</td><td>null</td><td>null</td><td>null</td><td>null</td><td>null</td><td>null</td></tr><tr><td>&quot;std&quot;</td><td>0.430632</td><td>null</td><td>null</td><td>0.836458</td><td>281.631336</td><td>10.395004</td><td>null</td><td>64.242165</td><td>69.446392</td><td>0.622692</td><td>18.359656</td><td>1.804078</td><td>0.119625</td><td>3.941163</td><td>2.122793</td><td>0.221227</td><td>22.897657</td><td>0.826409</td><td>0.48108</td><td>null</td><td>null</td><td>null</td><td>null</td><td>null</td><td>null</td></tr><tr><td>&quot;min&quot;</td><td>1.0</td><td>&quot;2002-12-31 22:17:10&quot;</td><td>&quot;2002-12-31 22:42:24&quot;</td><td>0.0</td><td>0.0</td><td>1.0</td><td>&quot;N&quot;</td><td>1.0</td><td>1.0</td><td>0.0</td><td>-999.0</td><td>-7.5</td><td>-0.5</td><td>-300.0</td><td>-84.3</td><td>-1.0</td><td>-1000.0</td><td>-2.5</td><td>-1.75</td><td>&quot;Bronx&quot;</td><td>&quot;Allerton/Pelham Gardens&quot;</td><td>&quot;Airports&quot;</td><td>&quot;Bronx&quot;</td><td>&quot;Allerton/Pelham Gardens&quot;</td><td>&quot;Airports&quot;</td></tr><tr><td>&quot;25%&quot;</td><td>2.0</td><td>&quot;2024-02-16 23:06:24&quot;</td><td>&quot;2024-02-16 23:22:02&quot;</td><td>1.0</td><td>1.0</td><td>1.0</td><td>null</td><td>132.0</td><td>113.0</td><td>1.0</td><td>8.61</td><td>0.0</td><td>0.5</td><td>0.0</td><td>0.0</td><td>1.0</td><td>15.48</td><td>2.5</td><td>0.0</td><td>null</td><td>null</td><td>null</td><td>null</td><td>null</td><td>null</td></tr><tr><td>&quot;50%&quot;</td><td>2.0</td><td>&quot;2024-03-03 14:05:02&quot;</td><td>&quot;2024-03-03 14:23:32&quot;</td><td>1.0</td><td>1.71</td><td>1.0</td><td>null</td><td>162.0</td><td>162.0</td><td>1.0</td><td>13.5</td><td>1.0</td><td>0.5</td><td>2.6</td><td>0.0</td><td>1.0</td><td>20.43</td><td>2.5</td><td>0.0</td><td>null</td><td>null</td><td>null</td><td>null</td><td>null</td><td>null</td></tr><tr><td>&quot;75%&quot;</td><td>2.0</td><td>&quot;2024-03-17 12:36:18&quot;</td><td>&quot;2024-03-17 12:54:35&quot;</td><td>1.0</td><td>3.2</td><td>1.0</td><td>null</td><td>234.0</td><td>234.0</td><td>1.0</td><td>21.2</td><td>2.5</td><td>0.5</td><td>4.12</td><td>0.0</td><td>1.0</td><td>29.04</td><td>2.5</td><td>0.0</td><td>null</td><td>null</td><td>null</td><td>null</td><td>null</td><td>null</td></tr><tr><td>&quot;max&quot;</td><td>6.0</td><td>&quot;2024-04-01 00:34:55&quot;</td><td>&quot;2024-04-02 18:08:46&quot;</td><td>9.0</td><td>222478.29</td><td>99.0</td><td>&quot;Y&quot;</td><td>265.0</td><td>265.0</td><td>4.0</td><td>9792.0</td><td>14.25</td><td>35.84</td><td>999.99</td><td>163.0</td><td>1.0</td><td>9792.0</td><td>2.5</td><td>1.75</td><td>&quot;Unknown&quot;</td><td>&quot;Yorkville West&quot;</td><td>&quot;Yellow Zone&quot;</td><td>&quot;Unknown&quot;</td><td>&quot;Yorkville West&quot;</td><td>&quot;Yellow Zone&quot;</td></tr></tbody></table></div>"
      ],
      "text/plain": [
       "shape: (9, 26)\n",
       "┌───────────┬───────────┬───────────┬───────────┬───┬───────────┬───────────┬───────────┬──────────┐\n",
       "│ statistic ┆ vendor_id ┆ tpep_pick ┆ tpep_drop ┆ … ┆ pu_servic ┆ do_boroug ┆ do_zone   ┆ do_servi │\n",
       "│ ---       ┆ ---       ┆ up_dateti ┆ off_datet ┆   ┆ e_zone    ┆ h         ┆ ---       ┆ ce_zone  │\n",
       "│ str       ┆ f64       ┆ me        ┆ ime       ┆   ┆ ---       ┆ ---       ┆ str       ┆ ---      │\n",
       "│           ┆           ┆ ---       ┆ ---       ┆   ┆ str       ┆ str       ┆           ┆ str      │\n",
       "│           ┆           ┆ str       ┆ str       ┆   ┆           ┆           ┆           ┆          │\n",
       "╞═══════════╪═══════════╪═══════════╪═══════════╪═══╪═══════════╪═══════════╪═══════════╪══════════╡\n",
       "│ count     ┆ 6.590154e ┆ 6590154   ┆ 6590154   ┆ … ┆ 6590154   ┆ 6590154   ┆ 6590154   ┆ 6590154  │\n",
       "│           ┆ 6         ┆           ┆           ┆   ┆           ┆           ┆           ┆          │\n",
       "│ null_coun ┆ 0.0       ┆ 0         ┆ 0         ┆ … ┆ 0         ┆ 0         ┆ 0         ┆ 0        │\n",
       "│ t         ┆           ┆           ┆           ┆   ┆           ┆           ┆           ┆          │\n",
       "│ mean      ┆ 1.756811  ┆ 2024-03-0 ┆ 2024-03-0 ┆ … ┆ null      ┆ null      ┆ null      ┆ null     │\n",
       "│           ┆           ┆ 2 23:29:0 ┆ 2 23:45:2 ┆   ┆           ┆           ┆           ┆          │\n",
       "│           ┆           ┆ 8.306262  ┆ 9.766303  ┆   ┆           ┆           ┆           ┆          │\n",
       "│ std       ┆ 0.430632  ┆ null      ┆ null      ┆ … ┆ null      ┆ null      ┆ null      ┆ null     │\n",
       "│ min       ┆ 1.0       ┆ 2002-12-3 ┆ 2002-12-3 ┆ … ┆ Airports  ┆ Bronx     ┆ Allerton/ ┆ Airports │\n",
       "│           ┆           ┆ 1         ┆ 1         ┆   ┆           ┆           ┆ Pelham    ┆          │\n",
       "│           ┆           ┆ 22:17:10  ┆ 22:42:24  ┆   ┆           ┆           ┆ Gardens   ┆          │\n",
       "│ 25%       ┆ 2.0       ┆ 2024-02-1 ┆ 2024-02-1 ┆ … ┆ null      ┆ null      ┆ null      ┆ null     │\n",
       "│           ┆           ┆ 6         ┆ 6         ┆   ┆           ┆           ┆           ┆          │\n",
       "│           ┆           ┆ 23:06:24  ┆ 23:22:02  ┆   ┆           ┆           ┆           ┆          │\n",
       "│ 50%       ┆ 2.0       ┆ 2024-03-0 ┆ 2024-03-0 ┆ … ┆ null      ┆ null      ┆ null      ┆ null     │\n",
       "│           ┆           ┆ 3         ┆ 3         ┆   ┆           ┆           ┆           ┆          │\n",
       "│           ┆           ┆ 14:05:02  ┆ 14:23:32  ┆   ┆           ┆           ┆           ┆          │\n",
       "│ 75%       ┆ 2.0       ┆ 2024-03-1 ┆ 2024-03-1 ┆ … ┆ null      ┆ null      ┆ null      ┆ null     │\n",
       "│           ┆           ┆ 7         ┆ 7         ┆   ┆           ┆           ┆           ┆          │\n",
       "│           ┆           ┆ 12:36:18  ┆ 12:54:35  ┆   ┆           ┆           ┆           ┆          │\n",
       "│ max       ┆ 6.0       ┆ 2024-04-0 ┆ 2024-04-0 ┆ … ┆ Yellow    ┆ Unknown   ┆ Yorkville ┆ Yellow   │\n",
       "│           ┆           ┆ 1         ┆ 2         ┆   ┆ Zone      ┆           ┆ West      ┆ Zone     │\n",
       "│           ┆           ┆ 00:34:55  ┆ 18:08:46  ┆   ┆           ┆           ┆           ┆          │\n",
       "└───────────┴───────────┴───────────┴───────────┴───┴───────────┴───────────┴───────────┴──────────┘"
      ]
     },
     "execution_count": 35,
     "metadata": {},
     "output_type": "execute_result"
    }
   ],
   "source": [
    "rides_df_raw.describe()"
   ]
  },
  {
   "cell_type": "markdown",
   "id": "ec815bb3",
   "metadata": {},
   "source": [
    "A few notes:\n",
    "- Some rides had pickup and dropoff times that took place outside of the data's known time range...\n",
    "- A few columns are missing data, all in exactly `611800` rows (about `10%` of the data): `\"passenger_count\"`, `\"ratecode_id\"`, `\"store_and_fwd_flag\"`, `\"congestion_surcharge\"`, and `\"airport_fee\"`.\n",
    "- Some \n",
    "\n",
    "First and foremost, what percentage of data is missing, rather than count?"
   ]
  },
  {
   "cell_type": "code",
   "execution_count": 26,
   "id": "03a5da86",
   "metadata": {},
   "outputs": [
    {
     "data": {
      "text/html": [
       "<div><style>\n",
       ".dataframe > thead > tr,\n",
       ".dataframe > tbody > tr {\n",
       "  text-align: right;\n",
       "  white-space: pre-wrap;\n",
       "}\n",
       "</style>\n",
       "<small>shape: (1, 25)</small><table border=\"1\" class=\"dataframe\"><thead><tr><th>vendor_id</th><th>tpep_pickup_datetime</th><th>tpep_dropoff_datetime</th><th>passenger_count</th><th>trip_distance</th><th>ratecode_id</th><th>store_and_fwd_flag</th><th>pu_location_id</th><th>do_location_id</th><th>payment_type</th><th>fare_amount</th><th>extra</th><th>mta_tax</th><th>tip_amount</th><th>tolls_amount</th><th>improvement_surcharge</th><th>total_amount</th><th>congestion_surcharge</th><th>airport_fee</th><th>pu_borough</th><th>pu_zone</th><th>pu_service_zone</th><th>do_borough</th><th>do_zone</th><th>do_service_zone</th></tr><tr><td>f64</td><td>f64</td><td>f64</td><td>f64</td><td>f64</td><td>f64</td><td>f64</td><td>f64</td><td>f64</td><td>f64</td><td>f64</td><td>f64</td><td>f64</td><td>f64</td><td>f64</td><td>f64</td><td>f64</td><td>f64</td><td>f64</td><td>f64</td><td>f64</td><td>f64</td><td>f64</td><td>f64</td><td>f64</td></tr></thead><tbody><tr><td>0.0</td><td>0.0</td><td>0.0</td><td>0.092835</td><td>0.0</td><td>0.092835</td><td>0.092835</td><td>0.0</td><td>0.0</td><td>0.0</td><td>0.0</td><td>0.0</td><td>0.0</td><td>0.0</td><td>0.0</td><td>0.0</td><td>0.0</td><td>0.092835</td><td>0.092835</td><td>0.0</td><td>0.0</td><td>0.0</td><td>0.0</td><td>0.0</td><td>0.0</td></tr></tbody></table></div>"
      ],
      "text/plain": [
       "shape: (1, 25)\n",
       "┌───────────┬────────────┬───────────┬───────────┬───┬───────────┬───────────┬─────────┬───────────┐\n",
       "│ vendor_id ┆ tpep_picku ┆ tpep_drop ┆ passenger ┆ … ┆ pu_servic ┆ do_boroug ┆ do_zone ┆ do_servic │\n",
       "│ ---       ┆ p_datetime ┆ off_datet ┆ _count    ┆   ┆ e_zone    ┆ h         ┆ ---     ┆ e_zone    │\n",
       "│ f64       ┆ ---        ┆ ime       ┆ ---       ┆   ┆ ---       ┆ ---       ┆ f64     ┆ ---       │\n",
       "│           ┆ f64        ┆ ---       ┆ f64       ┆   ┆ f64       ┆ f64       ┆         ┆ f64       │\n",
       "│           ┆            ┆ f64       ┆           ┆   ┆           ┆           ┆         ┆           │\n",
       "╞═══════════╪════════════╪═══════════╪═══════════╪═══╪═══════════╪═══════════╪═════════╪═══════════╡\n",
       "│ 0.0       ┆ 0.0        ┆ 0.0       ┆ 0.092835  ┆ … ┆ 0.0       ┆ 0.0       ┆ 0.0     ┆ 0.0       │\n",
       "└───────────┴────────────┴───────────┴───────────┴───┴───────────┴───────────┴─────────┴───────────┘"
      ]
     },
     "execution_count": 26,
     "metadata": {},
     "output_type": "execute_result"
    }
   ],
   "source": [
    "rides_df_raw.select(pl.all().null_count() / pl.len())"
   ]
  },
  {
   "cell_type": "markdown",
   "id": "d5bc631c",
   "metadata": {},
   "source": [
    "It appears that about 10% of the rows are missing `\"passenger_count\"`, `\"ratecode_id\"`, `\"store_and_fwd_flag\"`, `\"congestion_surcharge\"`, and `\"airport_fee\"`."
   ]
  },
  {
   "cell_type": "code",
   "execution_count": 28,
   "id": "637613a0",
   "metadata": {},
   "outputs": [
    {
     "data": {
      "text/html": [
       "<div><style>\n",
       ".dataframe > thead > tr,\n",
       ".dataframe > tbody > tr {\n",
       "  text-align: right;\n",
       "  white-space: pre-wrap;\n",
       "}\n",
       "</style>\n",
       "<small>shape: (1, 1)</small><table border=\"1\" class=\"dataframe\"><thead><tr><th>passenger_count</th></tr><tr><td>f64</td></tr></thead><tbody><tr><td>0.092835</td></tr></tbody></table></div>"
      ],
      "text/plain": [
       "shape: (1, 1)\n",
       "┌─────────────────┐\n",
       "│ passenger_count │\n",
       "│ ---             │\n",
       "│ f64             │\n",
       "╞═════════════════╡\n",
       "│ 0.092835        │\n",
       "└─────────────────┘"
      ]
     },
     "execution_count": 28,
     "metadata": {},
     "output_type": "execute_result"
    }
   ],
   "source": [
    "cols_with_null = [\"passenger_count\", \"ratecode_id\", \"store_and_fwd_flag\", \"congestion_surcharge\", \"airport_fee\"]\n",
    "rides_df_raw.select(\n",
    "    pl.all_horizontal(pl.col(cols_with_null).is_null()).sum() / pl.len())"
   ]
  },
  {
   "cell_type": "markdown",
   "id": "6d9db238",
   "metadata": {},
   "source": [
    "Indeed, they are all null together. We'll take care of this when it comes time to clean and prepare the data."
   ]
  },
  {
   "cell_type": "markdown",
   "id": "0dbea1b1",
   "metadata": {},
   "source": [
    "Next, let's plot an ECDF of the target variable. We can do this by passing a polars series to matplotlib:"
   ]
  },
  {
   "cell_type": "code",
   "execution_count": 33,
   "id": "b01a6573",
   "metadata": {},
   "outputs": [
    {
     "data": {
      "text/plain": [
       "<matplotlib.lines.Line2D at 0x137787f80>"
      ]
     },
     "execution_count": 33,
     "metadata": {},
     "output_type": "execute_result"
    },
    {
     "data": {
      "image/png": "[encoded data removed]",
      "text/plain": [
       "<Figure size 640x480 with 1 Axes>"
      ]
     },
     "metadata": {},
     "output_type": "display_data"
    }
   ],
   "source": [
    "x = rides_df_raw[\"tip_amount\"]\n",
    "plt.ecdf(x)"
   ]
  },
  {
   "cell_type": "markdown",
   "id": "7dc08caa",
   "metadata": {},
   "source": [
    "Already we see some weird stuff with `\"tip_amount\"`--the highest tip "
   ]
  },
  {
   "cell_type": "markdown",
   "id": "30c9d35f",
   "metadata": {},
   "source": [
    "## 10.3. Cleaning and Preparing the Data"
   ]
  },
  {
   "cell_type": "markdown",
   "id": "33617e5d",
   "metadata": {},
   "source": [
    "Over the course of this course, we've compiled some filters of impossible data, such as rides without passengers, and rides that had a pickup that occurred after the dropoff. Let's filter those bad data out, first quantifying the scope of the issue:"
   ]
  },
  {
   "cell_type": "code",
   "execution_count": 18,
   "id": "16111a8b",
   "metadata": {},
   "outputs": [],
   "source": [
    "remove_impossible_data_filter = (\n",
    "    pl.col(\"tpep_pickup_datetime\").lt(pl.col(\"tpep_dropoff_datetime\")) &\n",
    "    pl.col(\"passenger_count\").gt(0)\n",
    ")"
   ]
  },
  {
   "cell_type": "code",
   "execution_count": 19,
   "id": "ce99538b",
   "metadata": {},
   "outputs": [
    {
     "data": {
      "text/html": [
       "<div><style>\n",
       ".dataframe > thead > tr,\n",
       ".dataframe > tbody > tr {\n",
       "  text-align: right;\n",
       "  white-space: pre-wrap;\n",
       "}\n",
       "</style>\n",
       "<small>shape: (1, 1)</small><table border=\"1\" class=\"dataframe\"><thead><tr><th>fraction_data_usable</th></tr><tr><td>f64</td></tr></thead><tbody><tr><td>0.987248</td></tr></tbody></table></div>"
      ],
      "text/plain": [
       "shape: (1, 1)\n",
       "┌──────────────────────┐\n",
       "│ fraction_data_usable │\n",
       "│ ---                  │\n",
       "│ f64                  │\n",
       "╞══════════════════════╡\n",
       "│ 0.987248             │\n",
       "└──────────────────────┘"
      ]
     },
     "execution_count": 19,
     "metadata": {},
     "output_type": "execute_result"
    }
   ],
   "source": [
    "rides_df_raw.select(remove_impossible_data_filter.mean().alias(\"fraction_data_usable\"))"
   ]
  },
  {
   "cell_type": "markdown",
   "id": "99e44cb2",
   "metadata": {},
   "source": [
    "Looks fine to remove!"
   ]
  },
  {
   "cell_type": "markdown",
   "id": "a4399a8f",
   "metadata": {},
   "source": [
    "While we're here, before we go"
   ]
  },
  {
   "cell_type": "code",
   "execution_count": null,
   "id": "86145fa3",
   "metadata": {},
   "outputs": [],
   "source": []
  },
  {
   "cell_type": "code",
   "execution_count": null,
   "id": "ee581389",
   "metadata": {},
   "outputs": [],
   "source": []
  },
  {
   "cell_type": "markdown",
   "id": "dab6b518",
   "metadata": {},
   "source": [
    " However, we don't want to remove all the bad data just yet--**we only want to remove bad data from our train data**. This is because, when the model is performing live in the wild, we won't necessarily be guaranteed that the data will be clean in the way we'd like it to be; when taxi drivers use our system, perhaps they accidentally enter \"0 passengers\" "
   ]
  }
 ],
 "metadata": {
  "kernelspec": {
   "display_name": "Python 3 (ipykernel)",
   "language": "python",
   "name": "python3"
  },
  "language_info": {
   "codemirror_mode": {
    "name": "ipython",
    "version": 3
   },
   "file_extension": ".py",
   "mimetype": "text/x-python",
   "name": "python",
   "nbconvert_exporter": "python",
   "pygments_lexer": "ipython3",
   "version": "3.9.2"
  }
 },
 "nbformat": 4,
 "nbformat_minor": 5
}
