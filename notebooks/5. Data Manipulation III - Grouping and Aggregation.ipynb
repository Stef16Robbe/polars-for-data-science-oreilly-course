{
 "cells": [
  {
   "cell_type": "markdown",
   "id": "1653908d",
   "metadata": {},
   "source": [
    "# 5. Data Manipulation III - Grouping and Aggregation"
   ]
  },
  {
   "cell_type": "markdown",
   "id": "97a37bab",
   "metadata": {},
   "source": [
    "The goal of this module is to become familiar with grouping and aggregation. The two main topics we'll cover are:\n",
    "1. `pl.DataFrame.group_by`, the main entrypoint to group operations, along with `.agg`, the way to compute aggregations within groups.\n",
    "2. Using `polars`'s implementation of window functions, `pl.Expr.over()`.\n",
    "3. Two way group-by's: pivot tables."
   ]
  },
  {
   "cell_type": "markdown",
   "id": "f3a90b5b",
   "metadata": {},
   "source": [
    "But first we import `polars`..."
   ]
  },
  {
   "cell_type": "code",
   "execution_count": 1,
   "id": "9f2da0ab",
   "metadata": {},
   "outputs": [],
   "source": [
    "import polars as pl"
   ]
  },
  {
   "cell_type": "markdown",
   "id": "b346457f",
   "metadata": {},
   "source": [
    "... and load the data, this time using the name mapping from the last module."
   ]
  },
  {
   "cell_type": "code",
   "execution_count": 11,
   "id": "b85b1837",
   "metadata": {},
   "outputs": [
    {
     "data": {
      "text/html": [
       "<div><style>\n",
       ".dataframe > thead > tr,\n",
       ".dataframe > tbody > tr {\n",
       "  text-align: right;\n",
       "  white-space: pre-wrap;\n",
       "}\n",
       "</style>\n",
       "<small>shape: (5, 19)</small><table border=\"1\" class=\"dataframe\"><thead><tr><th>vendor_id</th><th>tpep_pickup_datetime</th><th>tpep_dropoff_datetime</th><th>passenger_count</th><th>trip_distance</th><th>ratecode_id</th><th>store_and_fwd_flag</th><th>pu_location_id</th><th>do_location_id</th><th>payment_type</th><th>fare_amount</th><th>extra</th><th>mta_tax</th><th>tip_amount</th><th>tolls_amount</th><th>improvement_surcharge</th><th>total_amount</th><th>congestion_surcharge</th><th>airport_fee</th></tr><tr><td>i32</td><td>datetime[ns]</td><td>datetime[ns]</td><td>i64</td><td>f64</td><td>i64</td><td>str</td><td>i32</td><td>i32</td><td>i64</td><td>f64</td><td>f64</td><td>f64</td><td>f64</td><td>f64</td><td>f64</td><td>f64</td><td>f64</td><td>f64</td></tr></thead><tbody><tr><td>1</td><td>2024-03-01 00:18:51</td><td>2024-03-01 00:23:45</td><td>0</td><td>1.3</td><td>1</td><td>&quot;N&quot;</td><td>142</td><td>239</td><td>1</td><td>8.6</td><td>3.5</td><td>0.5</td><td>2.7</td><td>0.0</td><td>1.0</td><td>16.3</td><td>2.5</td><td>0.0</td></tr><tr><td>1</td><td>2024-03-01 00:26:00</td><td>2024-03-01 00:29:06</td><td>0</td><td>1.1</td><td>1</td><td>&quot;N&quot;</td><td>238</td><td>24</td><td>1</td><td>7.2</td><td>3.5</td><td>0.5</td><td>3.0</td><td>0.0</td><td>1.0</td><td>15.2</td><td>2.5</td><td>0.0</td></tr><tr><td>2</td><td>2024-03-01 00:09:22</td><td>2024-03-01 00:15:24</td><td>1</td><td>0.86</td><td>1</td><td>&quot;N&quot;</td><td>263</td><td>75</td><td>2</td><td>7.9</td><td>1.0</td><td>0.5</td><td>0.0</td><td>0.0</td><td>1.0</td><td>10.4</td><td>0.0</td><td>0.0</td></tr><tr><td>2</td><td>2024-03-01 00:33:45</td><td>2024-03-01 00:39:34</td><td>1</td><td>0.82</td><td>1</td><td>&quot;N&quot;</td><td>164</td><td>162</td><td>1</td><td>7.9</td><td>1.0</td><td>0.5</td><td>1.29</td><td>0.0</td><td>1.0</td><td>14.19</td><td>2.5</td><td>0.0</td></tr><tr><td>1</td><td>2024-03-01 00:05:43</td><td>2024-03-01 00:26:22</td><td>0</td><td>4.9</td><td>1</td><td>&quot;N&quot;</td><td>263</td><td>7</td><td>2</td><td>25.4</td><td>3.5</td><td>0.5</td><td>0.0</td><td>0.0</td><td>1.0</td><td>30.4</td><td>2.5</td><td>0.0</td></tr></tbody></table></div>"
      ],
      "text/plain": [
       "shape: (5, 19)\n",
       "┌───────────┬───────────┬───────────┬───────────┬───┬───────────┬───────────┬───────────┬──────────┐\n",
       "│ vendor_id ┆ tpep_pick ┆ tpep_drop ┆ passenger ┆ … ┆ improveme ┆ total_amo ┆ congestio ┆ airport_ │\n",
       "│ ---       ┆ up_dateti ┆ off_datet ┆ _count    ┆   ┆ nt_surcha ┆ unt       ┆ n_surchar ┆ fee      │\n",
       "│ i32       ┆ me        ┆ ime       ┆ ---       ┆   ┆ rge       ┆ ---       ┆ ge        ┆ ---      │\n",
       "│           ┆ ---       ┆ ---       ┆ i64       ┆   ┆ ---       ┆ f64       ┆ ---       ┆ f64      │\n",
       "│           ┆ datetime[ ┆ datetime[ ┆           ┆   ┆ f64       ┆           ┆ f64       ┆          │\n",
       "│           ┆ ns]       ┆ ns]       ┆           ┆   ┆           ┆           ┆           ┆          │\n",
       "╞═══════════╪═══════════╪═══════════╪═══════════╪═══╪═══════════╪═══════════╪═══════════╪══════════╡\n",
       "│ 1         ┆ 2024-03-0 ┆ 2024-03-0 ┆ 0         ┆ … ┆ 1.0       ┆ 16.3      ┆ 2.5       ┆ 0.0      │\n",
       "│           ┆ 1         ┆ 1         ┆           ┆   ┆           ┆           ┆           ┆          │\n",
       "│           ┆ 00:18:51  ┆ 00:23:45  ┆           ┆   ┆           ┆           ┆           ┆          │\n",
       "│ 1         ┆ 2024-03-0 ┆ 2024-03-0 ┆ 0         ┆ … ┆ 1.0       ┆ 15.2      ┆ 2.5       ┆ 0.0      │\n",
       "│           ┆ 1         ┆ 1         ┆           ┆   ┆           ┆           ┆           ┆          │\n",
       "│           ┆ 00:26:00  ┆ 00:29:06  ┆           ┆   ┆           ┆           ┆           ┆          │\n",
       "│ 2         ┆ 2024-03-0 ┆ 2024-03-0 ┆ 1         ┆ … ┆ 1.0       ┆ 10.4      ┆ 0.0       ┆ 0.0      │\n",
       "│           ┆ 1         ┆ 1         ┆           ┆   ┆           ┆           ┆           ┆          │\n",
       "│           ┆ 00:09:22  ┆ 00:15:24  ┆           ┆   ┆           ┆           ┆           ┆          │\n",
       "│ 2         ┆ 2024-03-0 ┆ 2024-03-0 ┆ 1         ┆ … ┆ 1.0       ┆ 14.19     ┆ 2.5       ┆ 0.0      │\n",
       "│           ┆ 1         ┆ 1         ┆           ┆   ┆           ┆           ┆           ┆          │\n",
       "│           ┆ 00:33:45  ┆ 00:39:34  ┆           ┆   ┆           ┆           ┆           ┆          │\n",
       "│ 1         ┆ 2024-03-0 ┆ 2024-03-0 ┆ 0         ┆ … ┆ 1.0       ┆ 30.4      ┆ 2.5       ┆ 0.0      │\n",
       "│           ┆ 1         ┆ 1         ┆           ┆   ┆           ┆           ┆           ┆          │\n",
       "│           ┆ 00:05:43  ┆ 00:26:22  ┆           ┆   ┆           ┆           ┆           ┆          │\n",
       "└───────────┴───────────┴───────────┴───────────┴───┴───────────┴───────────┴───────────┴──────────┘"
      ]
     },
     "execution_count": 11,
     "metadata": {},
     "output_type": "execute_result"
    }
   ],
   "source": [
    "column_rename_mapping = {\n",
    "    \"VendorID\": \"vendor_id\",\n",
    "    \"RatecodeID\": \"ratecode_id\",\n",
    "    \"PULocationID\": \"pu_location_id\",\n",
    "    \"DOLocationID\": \"do_location_id\",\n",
    "    \"Airport_fee\": \"airport_fee\",\n",
    "}\n",
    "(\n",
    "    pl.read_parquet(\"../data/yellow_tripdata_2024-03.parquet\")\n",
    "    .rename(column_rename_mapping)\n",
    "    .head()\n",
    ")"
   ]
  },
  {
   "cell_type": "markdown",
   "id": "1109c3fe",
   "metadata": {},
   "source": [
    "## 5.1. Grouping Dataframes"
   ]
  },
  {
   "cell_type": "markdown",
   "id": "0307cf4b",
   "metadata": {},
   "source": [
    "As we've progressed through previous modules, we've seen how to do some basic aggregations on an entire dataframe, with functions such as `.sum()`, `.min()`, `.max()`, `.count()`, and `.mean()`. Collecting some of the examples from previous modules, we can begin to see a short summary about our dataset:"
   ]
  },
  {
   "cell_type": "code",
   "execution_count": 12,
   "id": "c2276cfb",
   "metadata": {},
   "outputs": [
    {
     "data": {
      "text/html": [
       "<div><style>\n",
       ".dataframe > thead > tr,\n",
       ".dataframe > tbody > tr {\n",
       "  text-align: right;\n",
       "  white-space: pre-wrap;\n",
       "}\n",
       "</style>\n",
       "<small>shape: (1, 4)</small><table border=\"1\" class=\"dataframe\"><thead><tr><th>fraction_rides_zero_passengers</th><th>passenger_count_max</th><th>trip_distance_min</th><th>trip_distance_max</th></tr><tr><td>f64</td><td>i64</td><td>f64</td><td>f64</td></tr></thead><tbody><tr><td>0.01279</td><td>9</td><td>0.0</td><td>176836.3</td></tr></tbody></table></div>"
      ],
      "text/plain": [
       "shape: (1, 4)\n",
       "┌────────────────────────────────┬─────────────────────┬───────────────────┬───────────────────┐\n",
       "│ fraction_rides_zero_passengers ┆ passenger_count_max ┆ trip_distance_min ┆ trip_distance_max │\n",
       "│ ---                            ┆ ---                 ┆ ---               ┆ ---               │\n",
       "│ f64                            ┆ i64                 ┆ f64               ┆ f64               │\n",
       "╞════════════════════════════════╪═════════════════════╪═══════════════════╪═══════════════════╡\n",
       "│ 0.01279                        ┆ 9                   ┆ 0.0               ┆ 176836.3          │\n",
       "└────────────────────────────────┴─────────────────────┴───────────────────┴───────────────────┘"
      ]
     },
     "execution_count": 12,
     "metadata": {},
     "output_type": "execute_result"
    }
   ],
   "source": [
    "(\n",
    "    df\n",
    "    .select(\n",
    "        (\n",
    "            pl.col(\"passenger_count\").eq(0).sum() / pl.col(\"passenger_count\").count()\n",
    "        ).alias(\"fraction_rides_zero_passengers\"),\n",
    "        pl.col(\"passenger_count\").max().name.suffix(\"_max\"),\n",
    "        pl.col(\"trip_distance\").min().name.suffix(\"_min\"),\n",
    "        pl.col(\"trip_distance\").max().name.suffix(\"_max\"),\n",
    "    )\n",
    ")"
   ]
  },
  {
   "cell_type": "markdown",
   "id": "a2f9a453",
   "metadata": {},
   "source": [
    "One taxi ride had 9 passengers? That's something we haven't seen yet, that's a lot of passengers!"
   ]
  },
  {
   "cell_type": "markdown",
   "id": "3902022d",
   "metadata": {},
   "source": [
    "But what if we wanted to know these statistics for the different pickup zones? To do that, we need to crack open the `group_by` functionality."
   ]
  },
  {
   "cell_type": "code",
   "execution_count": null,
   "id": "f4ae92e2",
   "metadata": {},
   "outputs": [],
   "source": []
  }
 ],
 "metadata": {
  "kernelspec": {
   "display_name": "Python 3 (ipykernel)",
   "language": "python",
   "name": "python3"
  },
  "language_info": {
   "codemirror_mode": {
    "name": "ipython",
    "version": 3
   },
   "file_extension": ".py",
   "mimetype": "text/x-python",
   "name": "python",
   "nbconvert_exporter": "python",
   "pygments_lexer": "ipython3",
   "version": "3.12.3"
  }
 },
 "nbformat": 4,
 "nbformat_minor": 5
}
