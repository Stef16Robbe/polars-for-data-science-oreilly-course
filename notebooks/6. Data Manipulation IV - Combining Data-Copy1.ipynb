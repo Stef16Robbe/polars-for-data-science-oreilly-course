{
 "cells": [
  {
   "cell_type": "markdown",
   "id": "1653908d",
   "metadata": {},
   "source": [
    "# 6. Data Manipulation IV - Working With Datatypes"
   ]
  },
  {
   "cell_type": "markdown",
   "id": "97a37bab",
   "metadata": {},
   "source": [
    "The goal of this module is to understand all the different datatypes in `polars`, and learn to construct datatype-specific column expressions that leverage those different datatypes."
   ]
  },
  {
   "cell_type": "markdown",
   "id": "f3a90b5b",
   "metadata": {},
   "source": [
    "But first we import `polars`..."
   ]
  },
  {
   "cell_type": "code",
   "execution_count": 25,
   "id": "9f2da0ab",
   "metadata": {},
   "outputs": [],
   "source": [
    "import polars as pl"
   ]
  },
  {
   "cell_type": "markdown",
   "id": "b346457f",
   "metadata": {},
   "source": [
    "... and load the data, this time changing the name from `df` to `march_yellow_rides_df` for what's in store in this module."
   ]
  },
  {
   "cell_type": "code",
   "execution_count": 51,
   "id": "b85b1837",
   "metadata": {},
   "outputs": [],
   "source": [
    "yellow_rides_column_rename_mapping = {\n",
    "    \"VendorID\": \"vendor_id\",\n",
    "    \"RatecodeID\": \"ratecode_id\",\n",
    "    \"PULocationID\": \"pu_location_id\",\n",
    "    \"DOLocationID\": \"do_location_id\",\n",
    "    \"Airport_fee\": \"airport_fee\",\n",
    "}\n",
    "march_yellow_rides_df = (\n",
    "    pl.read_parquet(\"../data/yellow_tripdata_2024-03.parquet\")\n",
    "    .rename(yellow_rides_column_rename_mapping)\n",
    ")"
   ]
  },
  {
   "cell_type": "markdown",
   "id": "1109c3fe",
   "metadata": {},
   "source": [
    "## 5.1. Joining Dataframes"
   ]
  },
  {
   "cell_type": "markdown",
   "id": "fd114a72",
   "metadata": {},
   "source": [
    "In the previous module, we were interested in seeing some summary statistics about each of the different pickup location IDs:"
   ]
  },
  {
   "cell_type": "code",
   "execution_count": 27,
   "id": "12bff3c0",
   "metadata": {},
   "outputs": [
    {
     "data": {
      "text/html": [
       "<div><style>\n",
       ".dataframe > thead > tr,\n",
       ".dataframe > tbody > tr {\n",
       "  text-align: right;\n",
       "  white-space: pre-wrap;\n",
       "}\n",
       "</style>\n",
       "<small>shape: (5, 5)</small><table border=\"1\" class=\"dataframe\"><thead><tr><th>pu_location_id</th><th>count_trips</th><th>trip_distance_min</th><th>trip_distance_max</th><th>trip_distance_mean</th></tr><tr><td>i32</td><td>u32</td><td>f64</td><td>f64</td><td>f64</td></tr></thead><tbody><tr><td>161</td><td>163269</td><td>0.0</td><td>51066.77</td><td>2.692728</td></tr><tr><td>132</td><td>157706</td><td>0.0</td><td>9211.95</td><td>15.76677</td></tr><tr><td>237</td><td>155631</td><td>0.0</td><td>44866.77</td><td>2.096025</td></tr><tr><td>236</td><td>146044</td><td>0.0</td><td>109619.96</td><td>3.481146</td></tr><tr><td>162</td><td>123805</td><td>0.0</td><td>57408.32</td><td>3.030781</td></tr></tbody></table></div>"
      ],
      "text/plain": [
       "shape: (5, 5)\n",
       "┌────────────────┬─────────────┬───────────────────┬───────────────────┬────────────────────┐\n",
       "│ pu_location_id ┆ count_trips ┆ trip_distance_min ┆ trip_distance_max ┆ trip_distance_mean │\n",
       "│ ---            ┆ ---         ┆ ---               ┆ ---               ┆ ---                │\n",
       "│ i32            ┆ u32         ┆ f64               ┆ f64               ┆ f64                │\n",
       "╞════════════════╪═════════════╪═══════════════════╪═══════════════════╪════════════════════╡\n",
       "│ 161            ┆ 163269      ┆ 0.0               ┆ 51066.77          ┆ 2.692728           │\n",
       "│ 132            ┆ 157706      ┆ 0.0               ┆ 9211.95           ┆ 15.76677           │\n",
       "│ 237            ┆ 155631      ┆ 0.0               ┆ 44866.77          ┆ 2.096025           │\n",
       "│ 236            ┆ 146044      ┆ 0.0               ┆ 109619.96         ┆ 3.481146           │\n",
       "│ 162            ┆ 123805      ┆ 0.0               ┆ 57408.32          ┆ 3.030781           │\n",
       "└────────────────┴─────────────┴───────────────────┴───────────────────┴────────────────────┘"
      ]
     },
     "execution_count": 27,
     "metadata": {},
     "output_type": "execute_result"
    }
   ],
   "source": [
    "location_id_summary_df = (\n",
    "    march_yellow_rides_df\n",
    "    .group_by(\"pu_location_id\")\n",
    "    .agg(\n",
    "        pl.len().alias(\"count_trips\"),\n",
    "        pl.col(\"trip_distance\").min().name.suffix(\"_min\"),\n",
    "        pl.col(\"trip_distance\").max().name.suffix(\"_max\"),\n",
    "        pl.col(\"trip_distance\").mean().name.suffix(\"_mean\"),\n",
    "    )\n",
    "    .sort(pl.col(\"count_trips\"), descending=True)\n",
    ")\n",
    "location_id_summary_df.head()"
   ]
  },
  {
   "cell_type": "markdown",
   "id": "efcd2b73",
   "metadata": {},
   "source": [
    "This is nice, but if we try to present these results to any sort of business stakeholder, the first thing they'll say is \"What are these location IDs? What is their actual name?\" Thankfully, that information is stored in another file, `\"taxi_zone_lookup.parquet\"`. Let's load it in..."
   ]
  },
  {
   "cell_type": "code",
   "execution_count": 28,
   "id": "5af5a206",
   "metadata": {},
   "outputs": [
    {
     "data": {
      "text/html": [
       "<div><style>\n",
       ".dataframe > thead > tr,\n",
       ".dataframe > tbody > tr {\n",
       "  text-align: right;\n",
       "  white-space: pre-wrap;\n",
       "}\n",
       "</style>\n",
       "<small>shape: (5, 4)</small><table border=\"1\" class=\"dataframe\"><thead><tr><th>LocationID</th><th>Borough</th><th>Zone</th><th>service_zone</th></tr><tr><td>i32</td><td>str</td><td>str</td><td>str</td></tr></thead><tbody><tr><td>1</td><td>&quot;EWR&quot;</td><td>&quot;Newark Airport&quot;</td><td>&quot;EWR&quot;</td></tr><tr><td>2</td><td>&quot;Queens&quot;</td><td>&quot;Jamaica Bay&quot;</td><td>&quot;Boro Zone&quot;</td></tr><tr><td>3</td><td>&quot;Bronx&quot;</td><td>&quot;Allerton/Pelham Gardens&quot;</td><td>&quot;Boro Zone&quot;</td></tr><tr><td>4</td><td>&quot;Manhattan&quot;</td><td>&quot;Alphabet City&quot;</td><td>&quot;Yellow Zone&quot;</td></tr><tr><td>5</td><td>&quot;Staten Island&quot;</td><td>&quot;Arden Heights&quot;</td><td>&quot;Boro Zone&quot;</td></tr></tbody></table></div>"
      ],
      "text/plain": [
       "shape: (5, 4)\n",
       "┌────────────┬───────────────┬─────────────────────────┬──────────────┐\n",
       "│ LocationID ┆ Borough       ┆ Zone                    ┆ service_zone │\n",
       "│ ---        ┆ ---           ┆ ---                     ┆ ---          │\n",
       "│ i32        ┆ str           ┆ str                     ┆ str          │\n",
       "╞════════════╪═══════════════╪═════════════════════════╪══════════════╡\n",
       "│ 1          ┆ EWR           ┆ Newark Airport          ┆ EWR          │\n",
       "│ 2          ┆ Queens        ┆ Jamaica Bay             ┆ Boro Zone    │\n",
       "│ 3          ┆ Bronx         ┆ Allerton/Pelham Gardens ┆ Boro Zone    │\n",
       "│ 4          ┆ Manhattan     ┆ Alphabet City           ┆ Yellow Zone  │\n",
       "│ 5          ┆ Staten Island ┆ Arden Heights           ┆ Boro Zone    │\n",
       "└────────────┴───────────────┴─────────────────────────┴──────────────┘"
      ]
     },
     "execution_count": 28,
     "metadata": {},
     "output_type": "execute_result"
    }
   ],
   "source": [
    "zones_df = pl.read_parquet(\"../data/taxi_zone_lookup.parquet\")\n",
    "zones_df.head()"
   ]
  },
  {
   "cell_type": "markdown",
   "id": "aa2b8b6e",
   "metadata": {},
   "source": [
    "This dataframe contains information about each location ID, and the `str` names for the Borough, Zone, and service zone that each location ID represents. Let's quickly rename the columns to make them snake_case like those of `march_yellow_rides_df`:"
   ]
  },
  {
   "cell_type": "code",
   "execution_count": 29,
   "id": "7aac4ce7",
   "metadata": {},
   "outputs": [
    {
     "data": {
      "text/html": [
       "<div><style>\n",
       ".dataframe > thead > tr,\n",
       ".dataframe > tbody > tr {\n",
       "  text-align: right;\n",
       "  white-space: pre-wrap;\n",
       "}\n",
       "</style>\n",
       "<small>shape: (5, 4)</small><table border=\"1\" class=\"dataframe\"><thead><tr><th>location_id</th><th>borough</th><th>zone</th><th>service_zone</th></tr><tr><td>i32</td><td>str</td><td>str</td><td>str</td></tr></thead><tbody><tr><td>1</td><td>&quot;EWR&quot;</td><td>&quot;Newark Airport&quot;</td><td>&quot;EWR&quot;</td></tr><tr><td>2</td><td>&quot;Queens&quot;</td><td>&quot;Jamaica Bay&quot;</td><td>&quot;Boro Zone&quot;</td></tr><tr><td>3</td><td>&quot;Bronx&quot;</td><td>&quot;Allerton/Pelham Gardens&quot;</td><td>&quot;Boro Zone&quot;</td></tr><tr><td>4</td><td>&quot;Manhattan&quot;</td><td>&quot;Alphabet City&quot;</td><td>&quot;Yellow Zone&quot;</td></tr><tr><td>5</td><td>&quot;Staten Island&quot;</td><td>&quot;Arden Heights&quot;</td><td>&quot;Boro Zone&quot;</td></tr></tbody></table></div>"
      ],
      "text/plain": [
       "shape: (5, 4)\n",
       "┌─────────────┬───────────────┬─────────────────────────┬──────────────┐\n",
       "│ location_id ┆ borough       ┆ zone                    ┆ service_zone │\n",
       "│ ---         ┆ ---           ┆ ---                     ┆ ---          │\n",
       "│ i32         ┆ str           ┆ str                     ┆ str          │\n",
       "╞═════════════╪═══════════════╪═════════════════════════╪══════════════╡\n",
       "│ 1           ┆ EWR           ┆ Newark Airport          ┆ EWR          │\n",
       "│ 2           ┆ Queens        ┆ Jamaica Bay             ┆ Boro Zone    │\n",
       "│ 3           ┆ Bronx         ┆ Allerton/Pelham Gardens ┆ Boro Zone    │\n",
       "│ 4           ┆ Manhattan     ┆ Alphabet City           ┆ Yellow Zone  │\n",
       "│ 5           ┆ Staten Island ┆ Arden Heights           ┆ Boro Zone    │\n",
       "└─────────────┴───────────────┴─────────────────────────┴──────────────┘"
      ]
     },
     "execution_count": 29,
     "metadata": {},
     "output_type": "execute_result"
    }
   ],
   "source": [
    "zones_df = (\n",
    "    zones_df\n",
    "    .rename({\n",
    "        \"LocationID\": \"location_id\",\n",
    "        \"Borough\": \"borough\",\n",
    "        \"Zone\": \"zone\",\n",
    "    })\n",
    ")\n",
    "zones_df.head()"
   ]
  },
  {
   "cell_type": "markdown",
   "id": "ea448c9b",
   "metadata": {},
   "source": [
    "Perfect."
   ]
  },
  {
   "cell_type": "markdown",
   "id": "af435413",
   "metadata": {},
   "source": [
    "If we want to now combine it with the summary statistics we just computed, we can do so by **joining** it into the summary statistics table, using `pl.DataFrame.join()`:"
   ]
  },
  {
   "cell_type": "code",
   "execution_count": 30,
   "id": "76339add",
   "metadata": {},
   "outputs": [
    {
     "data": {
      "text/html": [
       "<div><style>\n",
       ".dataframe > thead > tr,\n",
       ".dataframe > tbody > tr {\n",
       "  text-align: right;\n",
       "  white-space: pre-wrap;\n",
       "}\n",
       "</style>\n",
       "<small>shape: (5, 8)</small><table border=\"1\" class=\"dataframe\"><thead><tr><th>pu_location_id</th><th>count_trips</th><th>trip_distance_min</th><th>trip_distance_max</th><th>trip_distance_mean</th><th>borough</th><th>zone</th><th>service_zone</th></tr><tr><td>i32</td><td>u32</td><td>f64</td><td>f64</td><td>f64</td><td>str</td><td>str</td><td>str</td></tr></thead><tbody><tr><td>1</td><td>372</td><td>0.0</td><td>35.75</td><td>1.34578</td><td>&quot;EWR&quot;</td><td>&quot;Newark Airport&quot;</td><td>&quot;EWR&quot;</td></tr><tr><td>2</td><td>8</td><td>0.0</td><td>20.23</td><td>11.98</td><td>&quot;Queens&quot;</td><td>&quot;Jamaica Bay&quot;</td><td>&quot;Boro Zone&quot;</td></tr><tr><td>3</td><td>151</td><td>0.0</td><td>35.1</td><td>7.159073</td><td>&quot;Bronx&quot;</td><td>&quot;Allerton/Pelham Gardens&quot;</td><td>&quot;Boro Zone&quot;</td></tr><tr><td>4</td><td>7586</td><td>0.0</td><td>37.6</td><td>2.742518</td><td>&quot;Manhattan&quot;</td><td>&quot;Alphabet City&quot;</td><td>&quot;Yellow Zone&quot;</td></tr><tr><td>5</td><td>1</td><td>0.0</td><td>0.0</td><td>0.0</td><td>&quot;Staten Island&quot;</td><td>&quot;Arden Heights&quot;</td><td>&quot;Boro Zone&quot;</td></tr></tbody></table></div>"
      ],
      "text/plain": [
       "shape: (5, 8)\n",
       "┌────────────┬────────────┬────────────┬───────────┬───────────┬───────────┬───────────┬───────────┐\n",
       "│ pu_locatio ┆ count_trip ┆ trip_dista ┆ trip_dist ┆ trip_dist ┆ borough   ┆ zone      ┆ service_z │\n",
       "│ n_id       ┆ s          ┆ nce_min    ┆ ance_max  ┆ ance_mean ┆ ---       ┆ ---       ┆ one       │\n",
       "│ ---        ┆ ---        ┆ ---        ┆ ---       ┆ ---       ┆ str       ┆ str       ┆ ---       │\n",
       "│ i32        ┆ u32        ┆ f64        ┆ f64       ┆ f64       ┆           ┆           ┆ str       │\n",
       "╞════════════╪════════════╪════════════╪═══════════╪═══════════╪═══════════╪═══════════╪═══════════╡\n",
       "│ 1          ┆ 372        ┆ 0.0        ┆ 35.75     ┆ 1.34578   ┆ EWR       ┆ Newark    ┆ EWR       │\n",
       "│            ┆            ┆            ┆           ┆           ┆           ┆ Airport   ┆           │\n",
       "│ 2          ┆ 8          ┆ 0.0        ┆ 20.23     ┆ 11.98     ┆ Queens    ┆ Jamaica   ┆ Boro Zone │\n",
       "│            ┆            ┆            ┆           ┆           ┆           ┆ Bay       ┆           │\n",
       "│ 3          ┆ 151        ┆ 0.0        ┆ 35.1      ┆ 7.159073  ┆ Bronx     ┆ Allerton/ ┆ Boro Zone │\n",
       "│            ┆            ┆            ┆           ┆           ┆           ┆ Pelham    ┆           │\n",
       "│            ┆            ┆            ┆           ┆           ┆           ┆ Gardens   ┆           │\n",
       "│ 4          ┆ 7586       ┆ 0.0        ┆ 37.6      ┆ 2.742518  ┆ Manhattan ┆ Alphabet  ┆ Yellow    │\n",
       "│            ┆            ┆            ┆           ┆           ┆           ┆ City      ┆ Zone      │\n",
       "│ 5          ┆ 1          ┆ 0.0        ┆ 0.0       ┆ 0.0       ┆ Staten    ┆ Arden     ┆ Boro Zone │\n",
       "│            ┆            ┆            ┆           ┆           ┆ Island    ┆ Heights   ┆           │\n",
       "└────────────┴────────────┴────────────┴───────────┴───────────┴───────────┴───────────┴───────────┘"
      ]
     },
     "execution_count": 30,
     "metadata": {},
     "output_type": "execute_result"
    }
   ],
   "source": [
    "(\n",
    "    location_id_summary_df\n",
    "    .join(\n",
    "        zones_df,\n",
    "        left_on=\"pu_location_id\",\n",
    "        right_on=\"location_id\"\n",
    "    )\n",
    "    .head()\n",
    ")"
   ]
  },
  {
   "cell_type": "markdown",
   "id": "c575a651",
   "metadata": {},
   "source": [
    "Nice! The data from `zones_df` has been joined into our zone-summary table, and we can see the `\"borough\"`, `\"zone\"`, and `\"service_zone\"` alongside the `\"pu_location_id\"`! `polars`'s `.join()` functionality has all the same functionality you may be familiar with from Pandas and/or SQL:\n",
    "1. `location_id_summary_df` specifies the **left** table for the join.\n",
    "2. `.join(...)` starts the join.\n",
    "3. `zones_df` specifies the **right** table for the join.\n",
    "4. `left_on` specifies the column to join on from `location_id_summary_df`.\n",
    "5. `right_on` specifies the column to join on from `zones_df`."
   ]
  },
  {
   "cell_type": "markdown",
   "id": "41cb3caa",
   "metadata": {},
   "source": [
    "Just to be clear, though, we didn't have to do the aggregation to `location_id_summary_df`, first; we can join directly into the original `march_yellow_rides_df`:"
   ]
  },
  {
   "cell_type": "code",
   "execution_count": 31,
   "id": "8c6e5102",
   "metadata": {},
   "outputs": [
    {
     "data": {
      "text/html": [
       "<div><style>\n",
       ".dataframe > thead > tr,\n",
       ".dataframe > tbody > tr {\n",
       "  text-align: right;\n",
       "  white-space: pre-wrap;\n",
       "}\n",
       "</style>\n",
       "<small>shape: (5, 8)</small><table border=\"1\" class=\"dataframe\"><thead><tr><th>tpep_pickup_datetime</th><th>pu_location_id</th><th>do_location_id</th><th>trip_distance</th><th>total_amount</th><th>borough</th><th>zone</th><th>service_zone</th></tr><tr><td>datetime[ns]</td><td>i32</td><td>i32</td><td>f64</td><td>f64</td><td>str</td><td>str</td><td>str</td></tr></thead><tbody><tr><td>2024-03-01 00:18:51</td><td>142</td><td>239</td><td>1.3</td><td>16.3</td><td>&quot;Manhattan&quot;</td><td>&quot;Lincoln Square East&quot;</td><td>&quot;Yellow Zone&quot;</td></tr><tr><td>2024-03-01 00:26:00</td><td>238</td><td>24</td><td>1.1</td><td>15.2</td><td>&quot;Manhattan&quot;</td><td>&quot;Upper West Side North&quot;</td><td>&quot;Yellow Zone&quot;</td></tr><tr><td>2024-03-01 00:09:22</td><td>263</td><td>75</td><td>0.86</td><td>10.4</td><td>&quot;Manhattan&quot;</td><td>&quot;Yorkville West&quot;</td><td>&quot;Yellow Zone&quot;</td></tr><tr><td>2024-03-01 00:33:45</td><td>164</td><td>162</td><td>0.82</td><td>14.19</td><td>&quot;Manhattan&quot;</td><td>&quot;Midtown South&quot;</td><td>&quot;Yellow Zone&quot;</td></tr><tr><td>2024-03-01 00:05:43</td><td>263</td><td>7</td><td>4.9</td><td>30.4</td><td>&quot;Manhattan&quot;</td><td>&quot;Yorkville West&quot;</td><td>&quot;Yellow Zone&quot;</td></tr></tbody></table></div>"
      ],
      "text/plain": [
       "shape: (5, 8)\n",
       "┌────────────┬────────────┬────────────┬───────────┬───────────┬───────────┬───────────┬───────────┐\n",
       "│ tpep_picku ┆ pu_locatio ┆ do_locatio ┆ trip_dist ┆ total_amo ┆ borough   ┆ zone      ┆ service_z │\n",
       "│ p_datetime ┆ n_id       ┆ n_id       ┆ ance      ┆ unt       ┆ ---       ┆ ---       ┆ one       │\n",
       "│ ---        ┆ ---        ┆ ---        ┆ ---       ┆ ---       ┆ str       ┆ str       ┆ ---       │\n",
       "│ datetime[n ┆ i32        ┆ i32        ┆ f64       ┆ f64       ┆           ┆           ┆ str       │\n",
       "│ s]         ┆            ┆            ┆           ┆           ┆           ┆           ┆           │\n",
       "╞════════════╪════════════╪════════════╪═══════════╪═══════════╪═══════════╪═══════════╪═══════════╡\n",
       "│ 2024-03-01 ┆ 142        ┆ 239        ┆ 1.3       ┆ 16.3      ┆ Manhattan ┆ Lincoln   ┆ Yellow    │\n",
       "│ 00:18:51   ┆            ┆            ┆           ┆           ┆           ┆ Square    ┆ Zone      │\n",
       "│            ┆            ┆            ┆           ┆           ┆           ┆ East      ┆           │\n",
       "│ 2024-03-01 ┆ 238        ┆ 24         ┆ 1.1       ┆ 15.2      ┆ Manhattan ┆ Upper     ┆ Yellow    │\n",
       "│ 00:26:00   ┆            ┆            ┆           ┆           ┆           ┆ West Side ┆ Zone      │\n",
       "│            ┆            ┆            ┆           ┆           ┆           ┆ North     ┆           │\n",
       "│ 2024-03-01 ┆ 263        ┆ 75         ┆ 0.86      ┆ 10.4      ┆ Manhattan ┆ Yorkville ┆ Yellow    │\n",
       "│ 00:09:22   ┆            ┆            ┆           ┆           ┆           ┆ West      ┆ Zone      │\n",
       "│ 2024-03-01 ┆ 164        ┆ 162        ┆ 0.82      ┆ 14.19     ┆ Manhattan ┆ Midtown   ┆ Yellow    │\n",
       "│ 00:33:45   ┆            ┆            ┆           ┆           ┆           ┆ South     ┆ Zone      │\n",
       "│ 2024-03-01 ┆ 263        ┆ 7          ┆ 4.9       ┆ 30.4      ┆ Manhattan ┆ Yorkville ┆ Yellow    │\n",
       "│ 00:05:43   ┆            ┆            ┆           ┆           ┆           ┆ West      ┆ Zone      │\n",
       "└────────────┴────────────┴────────────┴───────────┴───────────┴───────────┴───────────┴───────────┘"
      ]
     },
     "execution_count": 31,
     "metadata": {},
     "output_type": "execute_result"
    }
   ],
   "source": [
    "(\n",
    "    march_yellow_rides_df\n",
    "    .select([\"tpep_pickup_datetime\", \"pu_location_id\", \"do_location_id\", \"trip_distance\", \"total_amount\"])\n",
    "    .join(\n",
    "        zones_df,\n",
    "        left_on=\"pu_location_id\",\n",
    "        right_on=\"location_id\",    \n",
    "    )\n",
    "#     .select([\"tpep_pickup_datetime\", \"pu_location_id\", \"do_location_id\", \"trip_distance\", \"total_amount\", \"borough\", \"zone\"])\n",
    "    .head()\n",
    ")"
   ]
  },
  {
   "cell_type": "markdown",
   "id": "86be53e4",
   "metadata": {},
   "source": [
    "But now, it's a bit strange that we have the `\"pu_location_id\"` and `\"do_location_id\"` in the same dataframe, because it's not clear whether the `\"borough\"` and `\"zone\"` refer to the `\"pu_location_id\"` or the `\"do_location_id\"`. We can quickly fix that:"
   ]
  },
  {
   "cell_type": "code",
   "execution_count": 32,
   "id": "0ea321b2",
   "metadata": {},
   "outputs": [
    {
     "data": {
      "text/html": [
       "<div><style>\n",
       ".dataframe > thead > tr,\n",
       ".dataframe > tbody > tr {\n",
       "  text-align: right;\n",
       "  white-space: pre-wrap;\n",
       "}\n",
       "</style>\n",
       "<small>shape: (5, 8)</small><table border=\"1\" class=\"dataframe\"><thead><tr><th>tpep_pickup_datetime</th><th>pu_location_id</th><th>do_location_id</th><th>trip_distance</th><th>total_amount</th><th>pu_borough</th><th>pu_zone</th><th>pu_service_zone</th></tr><tr><td>datetime[ns]</td><td>i32</td><td>i32</td><td>f64</td><td>f64</td><td>str</td><td>str</td><td>str</td></tr></thead><tbody><tr><td>2024-03-01 00:18:51</td><td>142</td><td>239</td><td>1.3</td><td>16.3</td><td>&quot;Manhattan&quot;</td><td>&quot;Lincoln Square East&quot;</td><td>&quot;Yellow Zone&quot;</td></tr><tr><td>2024-03-01 00:26:00</td><td>238</td><td>24</td><td>1.1</td><td>15.2</td><td>&quot;Manhattan&quot;</td><td>&quot;Upper West Side North&quot;</td><td>&quot;Yellow Zone&quot;</td></tr><tr><td>2024-03-01 00:09:22</td><td>263</td><td>75</td><td>0.86</td><td>10.4</td><td>&quot;Manhattan&quot;</td><td>&quot;Yorkville West&quot;</td><td>&quot;Yellow Zone&quot;</td></tr><tr><td>2024-03-01 00:33:45</td><td>164</td><td>162</td><td>0.82</td><td>14.19</td><td>&quot;Manhattan&quot;</td><td>&quot;Midtown South&quot;</td><td>&quot;Yellow Zone&quot;</td></tr><tr><td>2024-03-01 00:05:43</td><td>263</td><td>7</td><td>4.9</td><td>30.4</td><td>&quot;Manhattan&quot;</td><td>&quot;Yorkville West&quot;</td><td>&quot;Yellow Zone&quot;</td></tr></tbody></table></div>"
      ],
      "text/plain": [
       "shape: (5, 8)\n",
       "┌────────────┬────────────┬────────────┬───────────┬───────────┬───────────┬───────────┬───────────┐\n",
       "│ tpep_picku ┆ pu_locatio ┆ do_locatio ┆ trip_dist ┆ total_amo ┆ pu_boroug ┆ pu_zone   ┆ pu_servic │\n",
       "│ p_datetime ┆ n_id       ┆ n_id       ┆ ance      ┆ unt       ┆ h         ┆ ---       ┆ e_zone    │\n",
       "│ ---        ┆ ---        ┆ ---        ┆ ---       ┆ ---       ┆ ---       ┆ str       ┆ ---       │\n",
       "│ datetime[n ┆ i32        ┆ i32        ┆ f64       ┆ f64       ┆ str       ┆           ┆ str       │\n",
       "│ s]         ┆            ┆            ┆           ┆           ┆           ┆           ┆           │\n",
       "╞════════════╪════════════╪════════════╪═══════════╪═══════════╪═══════════╪═══════════╪═══════════╡\n",
       "│ 2024-03-01 ┆ 142        ┆ 239        ┆ 1.3       ┆ 16.3      ┆ Manhattan ┆ Lincoln   ┆ Yellow    │\n",
       "│ 00:18:51   ┆            ┆            ┆           ┆           ┆           ┆ Square    ┆ Zone      │\n",
       "│            ┆            ┆            ┆           ┆           ┆           ┆ East      ┆           │\n",
       "│ 2024-03-01 ┆ 238        ┆ 24         ┆ 1.1       ┆ 15.2      ┆ Manhattan ┆ Upper     ┆ Yellow    │\n",
       "│ 00:26:00   ┆            ┆            ┆           ┆           ┆           ┆ West Side ┆ Zone      │\n",
       "│            ┆            ┆            ┆           ┆           ┆           ┆ North     ┆           │\n",
       "│ 2024-03-01 ┆ 263        ┆ 75         ┆ 0.86      ┆ 10.4      ┆ Manhattan ┆ Yorkville ┆ Yellow    │\n",
       "│ 00:09:22   ┆            ┆            ┆           ┆           ┆           ┆ West      ┆ Zone      │\n",
       "│ 2024-03-01 ┆ 164        ┆ 162        ┆ 0.82      ┆ 14.19     ┆ Manhattan ┆ Midtown   ┆ Yellow    │\n",
       "│ 00:33:45   ┆            ┆            ┆           ┆           ┆           ┆ South     ┆ Zone      │\n",
       "│ 2024-03-01 ┆ 263        ┆ 7          ┆ 4.9       ┆ 30.4      ┆ Manhattan ┆ Yorkville ┆ Yellow    │\n",
       "│ 00:05:43   ┆            ┆            ┆           ┆           ┆           ┆ West      ┆ Zone      │\n",
       "└────────────┴────────────┴────────────┴───────────┴───────────┴───────────┴───────────┴───────────┘"
      ]
     },
     "execution_count": 32,
     "metadata": {},
     "output_type": "execute_result"
    }
   ],
   "source": [
    "zone_columns = [\"borough\", \"zone\", \"service_zone\"]\n",
    "(\n",
    "    march_yellow_rides_df\n",
    "    .select([\"tpep_pickup_datetime\", \"pu_location_id\", \"do_location_id\", \"trip_distance\", \"total_amount\"])\n",
    "    .join(\n",
    "        zones_df,\n",
    "        left_on=\"pu_location_id\",\n",
    "        right_on=\"location_id\",\n",
    "    )\n",
    "    .with_columns([pl.col(zone_columns).name.prefix(\"pu_\")])\n",
    "    .drop(zone_columns)\n",
    "    .head()\n",
    ")"
   ]
  },
  {
   "cell_type": "markdown",
   "id": "ed42a13b",
   "metadata": {},
   "source": [
    "We can also use the `on` argument in case the name of the two columns is the same in both tables. For example, imagine we wanted to join `zones_df` with the table we created in the prior module, of rides that both started in the same location ID; then we don't need to specify pickup vs dropoff:"
   ]
  },
  {
   "cell_type": "code",
   "execution_count": 33,
   "id": "86a10288",
   "metadata": {},
   "outputs": [
    {
     "data": {
      "text/html": [
       "<div><style>\n",
       ".dataframe > thead > tr,\n",
       ".dataframe > tbody > tr {\n",
       "  text-align: right;\n",
       "  white-space: pre-wrap;\n",
       "}\n",
       "</style>\n",
       "<small>shape: (5, 7)</small><table border=\"1\" class=\"dataframe\"><thead><tr><th>tpep_pickup_datetime</th><th>location_id</th><th>trip_distance</th><th>total_amount</th><th>borough</th><th>zone</th><th>service_zone</th></tr><tr><td>datetime[ns]</td><td>i32</td><td>f64</td><td>f64</td><td>str</td><td>str</td><td>str</td></tr></thead><tbody><tr><td>2024-03-01 00:12:31</td><td>158</td><td>0.65</td><td>15.48</td><td>&quot;Manhattan&quot;</td><td>&quot;Meatpacking/West Village West&quot;</td><td>&quot;Yellow Zone&quot;</td></tr><tr><td>2024-03-01 00:17:01</td><td>158</td><td>0.96</td><td>15.48</td><td>&quot;Manhattan&quot;</td><td>&quot;Meatpacking/West Village West&quot;</td><td>&quot;Yellow Zone&quot;</td></tr><tr><td>2024-03-01 01:00:25</td><td>143</td><td>0.06</td><td>8.7</td><td>&quot;Manhattan&quot;</td><td>&quot;Lincoln Square West&quot;</td><td>&quot;Yellow Zone&quot;</td></tr><tr><td>2024-03-01 00:18:13</td><td>236</td><td>0.4</td><td>11.28</td><td>&quot;Manhattan&quot;</td><td>&quot;Upper East Side North&quot;</td><td>&quot;Yellow Zone&quot;</td></tr><tr><td>2024-03-01 00:07:35</td><td>145</td><td>2.53</td><td>28.08</td><td>&quot;Queens&quot;</td><td>&quot;Long Island City/Hunters Point&quot;</td><td>&quot;Boro Zone&quot;</td></tr></tbody></table></div>"
      ],
      "text/plain": [
       "shape: (5, 7)\n",
       "┌──────────────┬─────────────┬──────────────┬──────────────┬───────────┬─────────────┬─────────────┐\n",
       "│ tpep_pickup_ ┆ location_id ┆ trip_distanc ┆ total_amount ┆ borough   ┆ zone        ┆ service_zon │\n",
       "│ datetime     ┆ ---         ┆ e            ┆ ---          ┆ ---       ┆ ---         ┆ e           │\n",
       "│ ---          ┆ i32         ┆ ---          ┆ f64          ┆ str       ┆ str         ┆ ---         │\n",
       "│ datetime[ns] ┆             ┆ f64          ┆              ┆           ┆             ┆ str         │\n",
       "╞══════════════╪═════════════╪══════════════╪══════════════╪═══════════╪═════════════╪═════════════╡\n",
       "│ 2024-03-01   ┆ 158         ┆ 0.65         ┆ 15.48        ┆ Manhattan ┆ Meatpacking ┆ Yellow Zone │\n",
       "│ 00:12:31     ┆             ┆              ┆              ┆           ┆ /West       ┆             │\n",
       "│              ┆             ┆              ┆              ┆           ┆ Village     ┆             │\n",
       "│              ┆             ┆              ┆              ┆           ┆ West        ┆             │\n",
       "│ 2024-03-01   ┆ 158         ┆ 0.96         ┆ 15.48        ┆ Manhattan ┆ Meatpacking ┆ Yellow Zone │\n",
       "│ 00:17:01     ┆             ┆              ┆              ┆           ┆ /West       ┆             │\n",
       "│              ┆             ┆              ┆              ┆           ┆ Village     ┆             │\n",
       "│              ┆             ┆              ┆              ┆           ┆ West        ┆             │\n",
       "│ 2024-03-01   ┆ 143         ┆ 0.06         ┆ 8.7          ┆ Manhattan ┆ Lincoln     ┆ Yellow Zone │\n",
       "│ 01:00:25     ┆             ┆              ┆              ┆           ┆ Square West ┆             │\n",
       "│ 2024-03-01   ┆ 236         ┆ 0.4          ┆ 11.28        ┆ Manhattan ┆ Upper East  ┆ Yellow Zone │\n",
       "│ 00:18:13     ┆             ┆              ┆              ┆           ┆ Side North  ┆             │\n",
       "│ 2024-03-01   ┆ 145         ┆ 2.53         ┆ 28.08        ┆ Queens    ┆ Long Island ┆ Boro Zone   │\n",
       "│ 00:07:35     ┆             ┆              ┆              ┆           ┆ City/Hunter ┆             │\n",
       "│              ┆             ┆              ┆              ┆           ┆ s Point     ┆             │\n",
       "└──────────────┴─────────────┴──────────────┴──────────────┴───────────┴─────────────┴─────────────┘"
      ]
     },
     "execution_count": 33,
     "metadata": {},
     "output_type": "execute_result"
    }
   ],
   "source": [
    "(\n",
    "    march_yellow_rides_df\n",
    "    .filter(pl.col(\"do_location_id\").eq(pl.col(\"pu_location_id\")))\n",
    "    .select([\n",
    "        \"tpep_pickup_datetime\",\n",
    "        pl.col(\"pu_location_id\").alias(\"location_id\"),\n",
    "        \"trip_distance\",\n",
    "        \"total_amount\",\n",
    "    ])\n",
    "    .join(\n",
    "        zones_df,\n",
    "        on=\"location_id\",\n",
    "    )\n",
    "    .head()\n",
    ")"
   ]
  },
  {
   "cell_type": "markdown",
   "id": "eb5ba807",
   "metadata": {},
   "source": [
    "`polars` also supports all possible joins: anti joins, left joins, right joins, inner joins, outer joins... you've got it all, all you have to use is the `how` argument. To this end, there's a curious difference between `zones_df` and `march_yellow_rides_df`..."
   ]
  },
  {
   "cell_type": "code",
   "execution_count": 34,
   "id": "32a35c3c",
   "metadata": {},
   "outputs": [
    {
     "name": "stdout",
     "output_type": "stream",
     "text": [
      "Number of distinct pu_location_id in `march_yellow_rides_df`: shape: (1, 1)\n",
      "┌────────────────┐\n",
      "│ pu_location_id │\n",
      "│ ---            │\n",
      "│ u32            │\n",
      "╞════════════════╡\n",
      "│ 259            │\n",
      "└────────────────┘\n",
      "Number of distinct pu_location_id in `zones_df`: shape: (1, 1)\n",
      "┌─────────────┐\n",
      "│ location_id │\n",
      "│ ---         │\n",
      "│ u32         │\n",
      "╞═════════════╡\n",
      "│ 265         │\n",
      "└─────────────┘\n"
     ]
    }
   ],
   "source": [
    "print(f\"Number of distinct pu_location_id in `march_yellow_rides_df`: {march_yellow_rides_df.select(pl.col('pu_location_id').n_unique())}\")\n",
    "print(f\"Number of distinct pu_location_id in `zones_df`: {zones_df.select(pl.col('location_id').n_unique())}\")"
   ]
  },
  {
   "cell_type": "markdown",
   "id": "3a6174d3",
   "metadata": {},
   "source": [
    "There are exactly **6** more `location_id`s in `zones_df` than there are `pu_location_id`s in `march_yellow_rides_df`! This makes sense--`zones_df` serves as an index of **all** zones, and there's no guarantee that all zones had at least one ride. What if we wanted to see which zones didn't have any rides that started in them (i.e. `location_id`s with no matching `pu_location_id`)? For that, we can use an anti-join:"
   ]
  },
  {
   "cell_type": "code",
   "execution_count": 35,
   "id": "012758c8",
   "metadata": {},
   "outputs": [
    {
     "data": {
      "text/html": [
       "<div><style>\n",
       ".dataframe > thead > tr,\n",
       ".dataframe > tbody > tr {\n",
       "  text-align: right;\n",
       "  white-space: pre-wrap;\n",
       "}\n",
       "</style>\n",
       "<small>shape: (6, 4)</small><table border=\"1\" class=\"dataframe\"><thead><tr><th>location_id</th><th>borough</th><th>zone</th><th>service_zone</th></tr><tr><td>i32</td><td>str</td><td>str</td><td>str</td></tr></thead><tbody><tr><td>99</td><td>&quot;Staten Island&quot;</td><td>&quot;Freshkills Park&quot;</td><td>&quot;Boro Zone&quot;</td></tr><tr><td>103</td><td>&quot;Manhattan&quot;</td><td>&quot;Governor&#x27;s Island/Ellis Island…</td><td>&quot;Yellow Zone&quot;</td></tr><tr><td>104</td><td>&quot;Manhattan&quot;</td><td>&quot;Governor&#x27;s Island/Ellis Island…</td><td>&quot;Yellow Zone&quot;</td></tr><tr><td>105</td><td>&quot;Manhattan&quot;</td><td>&quot;Governor&#x27;s Island/Ellis Island…</td><td>&quot;Yellow Zone&quot;</td></tr><tr><td>110</td><td>&quot;Staten Island&quot;</td><td>&quot;Great Kills Park&quot;</td><td>&quot;Boro Zone&quot;</td></tr><tr><td>204</td><td>&quot;Staten Island&quot;</td><td>&quot;Rossville/Woodrow&quot;</td><td>&quot;Boro Zone&quot;</td></tr></tbody></table></div>"
      ],
      "text/plain": [
       "shape: (6, 4)\n",
       "┌─────────────┬───────────────┬─────────────────────────────────┬──────────────┐\n",
       "│ location_id ┆ borough       ┆ zone                            ┆ service_zone │\n",
       "│ ---         ┆ ---           ┆ ---                             ┆ ---          │\n",
       "│ i32         ┆ str           ┆ str                             ┆ str          │\n",
       "╞═════════════╪═══════════════╪═════════════════════════════════╪══════════════╡\n",
       "│ 99          ┆ Staten Island ┆ Freshkills Park                 ┆ Boro Zone    │\n",
       "│ 103         ┆ Manhattan     ┆ Governor's Island/Ellis Island… ┆ Yellow Zone  │\n",
       "│ 104         ┆ Manhattan     ┆ Governor's Island/Ellis Island… ┆ Yellow Zone  │\n",
       "│ 105         ┆ Manhattan     ┆ Governor's Island/Ellis Island… ┆ Yellow Zone  │\n",
       "│ 110         ┆ Staten Island ┆ Great Kills Park                ┆ Boro Zone    │\n",
       "│ 204         ┆ Staten Island ┆ Rossville/Woodrow               ┆ Boro Zone    │\n",
       "└─────────────┴───────────────┴─────────────────────────────────┴──────────────┘"
      ]
     },
     "execution_count": 35,
     "metadata": {},
     "output_type": "execute_result"
    }
   ],
   "source": [
    "(\n",
    "    zones_df\n",
    "    .join(march_yellow_rides_df, right_on=\"pu_location_id\", left_on=\"location_id\", how=\"anti\")\n",
    ")"
   ]
  },
  {
   "cell_type": "markdown",
   "id": "27871831",
   "metadata": {},
   "source": [
    "We can confirm, the result has a length of **6** data points; exactly what we saw in our `n_unique()` check."
   ]
  },
  {
   "cell_type": "markdown",
   "id": "315ee9ae",
   "metadata": {},
   "source": [
    "And, of course, as with the other Query Statements, we can join not only on a column name `str`, but also on a `pl.Expr` object. Consider the following toy example, where we want to join two columns together based on whether or not they are even or odd:"
   ]
  },
  {
   "cell_type": "code",
   "execution_count": 36,
   "id": "d1edc95e",
   "metadata": {},
   "outputs": [
    {
     "data": {
      "text/html": [
       "<div><style>\n",
       ".dataframe > thead > tr,\n",
       ".dataframe > tbody > tr {\n",
       "  text-align: right;\n",
       "  white-space: pre-wrap;\n",
       "}\n",
       "</style>\n",
       "<small>shape: (4, 2)</small><table border=\"1\" class=\"dataframe\"><thead><tr><th>a</th><th>b</th></tr><tr><td>i64</td><td>str</td></tr></thead><tbody><tr><td>1</td><td>&quot;Danny&quot;</td></tr><tr><td>2</td><td>&quot;Donna&quot;</td></tr><tr><td>3</td><td>&quot;Lana&quot;</td></tr><tr><td>4</td><td>&quot;Sauna&quot;</td></tr></tbody></table></div>"
      ],
      "text/plain": [
       "shape: (4, 2)\n",
       "┌─────┬───────┐\n",
       "│ a   ┆ b     │\n",
       "│ --- ┆ ---   │\n",
       "│ i64 ┆ str   │\n",
       "╞═════╪═══════╡\n",
       "│ 1   ┆ Danny │\n",
       "│ 2   ┆ Donna │\n",
       "│ 3   ┆ Lana  │\n",
       "│ 4   ┆ Sauna │\n",
       "└─────┴───────┘"
      ]
     },
     "metadata": {},
     "output_type": "display_data"
    },
    {
     "data": {
      "text/html": [
       "<div><style>\n",
       ".dataframe > thead > tr,\n",
       ".dataframe > tbody > tr {\n",
       "  text-align: right;\n",
       "  white-space: pre-wrap;\n",
       "}\n",
       "</style>\n",
       "<small>shape: (2, 2)</small><table border=\"1\" class=\"dataframe\"><thead><tr><th>c</th><th>d</th></tr><tr><td>i64</td><td>str</td></tr></thead><tbody><tr><td>1</td><td>&quot;cool&quot;</td></tr><tr><td>2</td><td>&quot;not cool&quot;</td></tr></tbody></table></div>"
      ],
      "text/plain": [
       "shape: (2, 2)\n",
       "┌─────┬──────────┐\n",
       "│ c   ┆ d        │\n",
       "│ --- ┆ ---      │\n",
       "│ i64 ┆ str      │\n",
       "╞═════╪══════════╡\n",
       "│ 1   ┆ cool     │\n",
       "│ 2   ┆ not cool │\n",
       "└─────┴──────────┘"
      ]
     },
     "metadata": {},
     "output_type": "display_data"
    },
    {
     "data": {
      "text/html": [
       "<div><style>\n",
       ".dataframe > thead > tr,\n",
       ".dataframe > tbody > tr {\n",
       "  text-align: right;\n",
       "  white-space: pre-wrap;\n",
       "}\n",
       "</style>\n",
       "<small>shape: (4, 3)</small><table border=\"1\" class=\"dataframe\"><thead><tr><th>a</th><th>b</th><th>d</th></tr><tr><td>i64</td><td>str</td><td>str</td></tr></thead><tbody><tr><td>1</td><td>&quot;Danny&quot;</td><td>&quot;cool&quot;</td></tr><tr><td>0</td><td>&quot;Donna&quot;</td><td>&quot;not cool&quot;</td></tr><tr><td>1</td><td>&quot;Lana&quot;</td><td>&quot;cool&quot;</td></tr><tr><td>0</td><td>&quot;Sauna&quot;</td><td>&quot;not cool&quot;</td></tr></tbody></table></div>"
      ],
      "text/plain": [
       "shape: (4, 3)\n",
       "┌─────┬───────┬──────────┐\n",
       "│ a   ┆ b     ┆ d        │\n",
       "│ --- ┆ ---   ┆ ---      │\n",
       "│ i64 ┆ str   ┆ str      │\n",
       "╞═════╪═══════╪══════════╡\n",
       "│ 1   ┆ Danny ┆ cool     │\n",
       "│ 0   ┆ Donna ┆ not cool │\n",
       "│ 1   ┆ Lana  ┆ cool     │\n",
       "│ 0   ┆ Sauna ┆ not cool │\n",
       "└─────┴───────┴──────────┘"
      ]
     },
     "metadata": {},
     "output_type": "display_data"
    }
   ],
   "source": [
    "left_df = pl.DataFrame({\"a\": [1, 2, 3, 4], \"b\": [\"Danny\", \"Donna\", \"Lana\", \"Sauna\"]})\n",
    "right_df = pl.DataFrame({\"c\": [1, 2], \"d\": [\"cool\", \"not cool\"]})\n",
    "display(left_df)\n",
    "display(right_df)\n",
    "\n",
    "joined_df = (\n",
    "    left_df\n",
    "    .join(\n",
    "        right_df,\n",
    "        left_on=pl.col(\"a\") % 2,\n",
    "        right_on=pl.col(\"c\") % 2\n",
    "    )\n",
    ")\n",
    "display(joined_df)"
   ]
  },
  {
   "cell_type": "markdown",
   "id": "e8c791f4",
   "metadata": {},
   "source": [
    "Note, `2024-05-30`: At the time of writing, `polars` does not yet support non-equi joins. In other words, the join condition has to be an equality condition, like \"dataframe 1 column equals dataframe 2 column\". This is less flexible than join options offered by e.g. typical SQL, where you can join on a non-equality condition like \"dataframe 1 column is less than dataframe 2 column\". But not to fret! `polars` contributors are actively working on this; and you can stay tuned to the progress here: https://github.com/pola-rs/polars/issues/10068."
   ]
  },
  {
   "cell_type": "markdown",
   "id": "51b8cae4",
   "metadata": {},
   "source": [
    "## 5.2. Concatenating Dataframes"
   ]
  },
  {
   "cell_type": "markdown",
   "id": "6ea24a23",
   "metadata": {},
   "source": [
    "The data we've been working with so far has been the file `\"../data/yellow_tripdata_2024-03.parquet\"`, which contains all rides given by yellow taxis in NYC in the month of March, 2024. Amazingly, New York City records and publishes this data every month, going all the way back to 2009! What if we wanted to analyze two months' datasets together, in the same dataframe? Well, for that, we have `pl.concat()`."
   ]
  },
  {
   "cell_type": "markdown",
   "id": "88c679c9",
   "metadata": {},
   "source": [
    "Let's start by loading in February's yellow taxi trip data. It should have the same schema as the data from March, so we can use the same column name mapping dictionary."
   ]
  },
  {
   "cell_type": "code",
   "execution_count": 63,
   "id": "d377311c",
   "metadata": {},
   "outputs": [
    {
     "data": {
      "text/html": [
       "<div><style>\n",
       ".dataframe > thead > tr,\n",
       ".dataframe > tbody > tr {\n",
       "  text-align: right;\n",
       "  white-space: pre-wrap;\n",
       "}\n",
       "</style>\n",
       "<small>shape: (5, 19)</small><table border=\"1\" class=\"dataframe\"><thead><tr><th>vendor_id</th><th>tpep_pickup_datetime</th><th>tpep_dropoff_datetime</th><th>passenger_count</th><th>trip_distance</th><th>ratecode_id</th><th>store_and_fwd_flag</th><th>pu_location_id</th><th>do_location_id</th><th>payment_type</th><th>fare_amount</th><th>extra</th><th>mta_tax</th><th>tip_amount</th><th>tolls_amount</th><th>improvement_surcharge</th><th>total_amount</th><th>congestion_surcharge</th><th>airport_fee</th></tr><tr><td>i32</td><td>datetime[ns]</td><td>datetime[ns]</td><td>i64</td><td>f64</td><td>i64</td><td>str</td><td>i32</td><td>i32</td><td>i64</td><td>f64</td><td>f64</td><td>f64</td><td>f64</td><td>f64</td><td>f64</td><td>f64</td><td>f64</td><td>f64</td></tr></thead><tbody><tr><td>2</td><td>2024-02-01 00:04:45</td><td>2024-02-01 00:19:58</td><td>1</td><td>4.39</td><td>1</td><td>&quot;N&quot;</td><td>68</td><td>236</td><td>1</td><td>20.5</td><td>1.0</td><td>0.5</td><td>1.28</td><td>0.0</td><td>1.0</td><td>26.78</td><td>2.5</td><td>0.0</td></tr><tr><td>2</td><td>2024-02-01 00:56:31</td><td>2024-02-01 01:10:53</td><td>1</td><td>7.71</td><td>1</td><td>&quot;N&quot;</td><td>48</td><td>243</td><td>1</td><td>31.0</td><td>1.0</td><td>0.5</td><td>9.0</td><td>0.0</td><td>1.0</td><td>45.0</td><td>2.5</td><td>0.0</td></tr><tr><td>2</td><td>2024-02-01 00:07:50</td><td>2024-02-01 00:43:12</td><td>2</td><td>28.69</td><td>2</td><td>&quot;N&quot;</td><td>132</td><td>261</td><td>2</td><td>70.0</td><td>0.0</td><td>0.5</td><td>0.0</td><td>6.94</td><td>1.0</td><td>82.69</td><td>2.5</td><td>1.75</td></tr><tr><td>1</td><td>2024-02-01 00:01:49</td><td>2024-02-01 00:10:47</td><td>1</td><td>1.1</td><td>1</td><td>&quot;N&quot;</td><td>161</td><td>163</td><td>1</td><td>9.3</td><td>3.5</td><td>0.5</td><td>2.85</td><td>0.0</td><td>1.0</td><td>17.15</td><td>2.5</td><td>0.0</td></tr><tr><td>1</td><td>2024-02-01 00:37:35</td><td>2024-02-01 00:51:15</td><td>1</td><td>2.6</td><td>1</td><td>&quot;N&quot;</td><td>246</td><td>79</td><td>2</td><td>15.6</td><td>3.5</td><td>0.5</td><td>0.0</td><td>0.0</td><td>1.0</td><td>20.6</td><td>2.5</td><td>0.0</td></tr></tbody></table></div>"
      ],
      "text/plain": [
       "shape: (5, 19)\n",
       "┌───────────┬───────────┬───────────┬───────────┬───┬───────────┬───────────┬───────────┬──────────┐\n",
       "│ vendor_id ┆ tpep_pick ┆ tpep_drop ┆ passenger ┆ … ┆ improveme ┆ total_amo ┆ congestio ┆ airport_ │\n",
       "│ ---       ┆ up_dateti ┆ off_datet ┆ _count    ┆   ┆ nt_surcha ┆ unt       ┆ n_surchar ┆ fee      │\n",
       "│ i32       ┆ me        ┆ ime       ┆ ---       ┆   ┆ rge       ┆ ---       ┆ ge        ┆ ---      │\n",
       "│           ┆ ---       ┆ ---       ┆ i64       ┆   ┆ ---       ┆ f64       ┆ ---       ┆ f64      │\n",
       "│           ┆ datetime[ ┆ datetime[ ┆           ┆   ┆ f64       ┆           ┆ f64       ┆          │\n",
       "│           ┆ ns]       ┆ ns]       ┆           ┆   ┆           ┆           ┆           ┆          │\n",
       "╞═══════════╪═══════════╪═══════════╪═══════════╪═══╪═══════════╪═══════════╪═══════════╪══════════╡\n",
       "│ 2         ┆ 2024-02-0 ┆ 2024-02-0 ┆ 1         ┆ … ┆ 1.0       ┆ 26.78     ┆ 2.5       ┆ 0.0      │\n",
       "│           ┆ 1         ┆ 1         ┆           ┆   ┆           ┆           ┆           ┆          │\n",
       "│           ┆ 00:04:45  ┆ 00:19:58  ┆           ┆   ┆           ┆           ┆           ┆          │\n",
       "│ 2         ┆ 2024-02-0 ┆ 2024-02-0 ┆ 1         ┆ … ┆ 1.0       ┆ 45.0      ┆ 2.5       ┆ 0.0      │\n",
       "│           ┆ 1         ┆ 1         ┆           ┆   ┆           ┆           ┆           ┆          │\n",
       "│           ┆ 00:56:31  ┆ 01:10:53  ┆           ┆   ┆           ┆           ┆           ┆          │\n",
       "│ 2         ┆ 2024-02-0 ┆ 2024-02-0 ┆ 2         ┆ … ┆ 1.0       ┆ 82.69     ┆ 2.5       ┆ 1.75     │\n",
       "│           ┆ 1         ┆ 1         ┆           ┆   ┆           ┆           ┆           ┆          │\n",
       "│           ┆ 00:07:50  ┆ 00:43:12  ┆           ┆   ┆           ┆           ┆           ┆          │\n",
       "│ 1         ┆ 2024-02-0 ┆ 2024-02-0 ┆ 1         ┆ … ┆ 1.0       ┆ 17.15     ┆ 2.5       ┆ 0.0      │\n",
       "│           ┆ 1         ┆ 1         ┆           ┆   ┆           ┆           ┆           ┆          │\n",
       "│           ┆ 00:01:49  ┆ 00:10:47  ┆           ┆   ┆           ┆           ┆           ┆          │\n",
       "│ 1         ┆ 2024-02-0 ┆ 2024-02-0 ┆ 1         ┆ … ┆ 1.0       ┆ 20.6      ┆ 2.5       ┆ 0.0      │\n",
       "│           ┆ 1         ┆ 1         ┆           ┆   ┆           ┆           ┆           ┆          │\n",
       "│           ┆ 00:37:35  ┆ 00:51:15  ┆           ┆   ┆           ┆           ┆           ┆          │\n",
       "└───────────┴───────────┴───────────┴───────────┴───┴───────────┴───────────┴───────────┴──────────┘"
      ]
     },
     "execution_count": 63,
     "metadata": {},
     "output_type": "execute_result"
    }
   ],
   "source": [
    "february_yellow_rides_df = (\n",
    "    pl.read_parquet(\"../data/yellow_tripdata_2024-02.parquet\")\n",
    "    .rename(yellow_rides_column_rename_mapping)\n",
    ")\n",
    "february_yellow_rides_df.head()"
   ]
  },
  {
   "cell_type": "markdown",
   "id": "4c31054e",
   "metadata": {},
   "source": [
    "To combine these two dataframes, we just have to pass them in as a list to `pl.concat()`, and we can see the result:"
   ]
  },
  {
   "cell_type": "code",
   "execution_count": 64,
   "id": "697e0907",
   "metadata": {},
   "outputs": [
    {
     "data": {
      "text/html": [
       "<div><style>\n",
       ".dataframe > thead > tr,\n",
       ".dataframe > tbody > tr {\n",
       "  text-align: right;\n",
       "  white-space: pre-wrap;\n",
       "}\n",
       "</style>\n",
       "<small>shape: (5, 19)</small><table border=\"1\" class=\"dataframe\"><thead><tr><th>vendor_id</th><th>tpep_pickup_datetime</th><th>tpep_dropoff_datetime</th><th>passenger_count</th><th>trip_distance</th><th>ratecode_id</th><th>store_and_fwd_flag</th><th>pu_location_id</th><th>do_location_id</th><th>payment_type</th><th>fare_amount</th><th>extra</th><th>mta_tax</th><th>tip_amount</th><th>tolls_amount</th><th>improvement_surcharge</th><th>total_amount</th><th>congestion_surcharge</th><th>airport_fee</th></tr><tr><td>i32</td><td>datetime[ns]</td><td>datetime[ns]</td><td>i64</td><td>f64</td><td>i64</td><td>str</td><td>i32</td><td>i32</td><td>i64</td><td>f64</td><td>f64</td><td>f64</td><td>f64</td><td>f64</td><td>f64</td><td>f64</td><td>f64</td><td>f64</td></tr></thead><tbody><tr><td>2</td><td>2024-02-01 00:04:45</td><td>2024-02-01 00:19:58</td><td>1</td><td>4.39</td><td>1</td><td>&quot;N&quot;</td><td>68</td><td>236</td><td>1</td><td>20.5</td><td>1.0</td><td>0.5</td><td>1.28</td><td>0.0</td><td>1.0</td><td>26.78</td><td>2.5</td><td>0.0</td></tr><tr><td>2</td><td>2024-02-01 00:56:31</td><td>2024-02-01 01:10:53</td><td>1</td><td>7.71</td><td>1</td><td>&quot;N&quot;</td><td>48</td><td>243</td><td>1</td><td>31.0</td><td>1.0</td><td>0.5</td><td>9.0</td><td>0.0</td><td>1.0</td><td>45.0</td><td>2.5</td><td>0.0</td></tr><tr><td>2</td><td>2024-02-01 00:07:50</td><td>2024-02-01 00:43:12</td><td>2</td><td>28.69</td><td>2</td><td>&quot;N&quot;</td><td>132</td><td>261</td><td>2</td><td>70.0</td><td>0.0</td><td>0.5</td><td>0.0</td><td>6.94</td><td>1.0</td><td>82.69</td><td>2.5</td><td>1.75</td></tr><tr><td>1</td><td>2024-02-01 00:01:49</td><td>2024-02-01 00:10:47</td><td>1</td><td>1.1</td><td>1</td><td>&quot;N&quot;</td><td>161</td><td>163</td><td>1</td><td>9.3</td><td>3.5</td><td>0.5</td><td>2.85</td><td>0.0</td><td>1.0</td><td>17.15</td><td>2.5</td><td>0.0</td></tr><tr><td>1</td><td>2024-02-01 00:37:35</td><td>2024-02-01 00:51:15</td><td>1</td><td>2.6</td><td>1</td><td>&quot;N&quot;</td><td>246</td><td>79</td><td>2</td><td>15.6</td><td>3.5</td><td>0.5</td><td>0.0</td><td>0.0</td><td>1.0</td><td>20.6</td><td>2.5</td><td>0.0</td></tr></tbody></table></div>"
      ],
      "text/plain": [
       "shape: (5, 19)\n",
       "┌───────────┬───────────┬───────────┬───────────┬───┬───────────┬───────────┬───────────┬──────────┐\n",
       "│ vendor_id ┆ tpep_pick ┆ tpep_drop ┆ passenger ┆ … ┆ improveme ┆ total_amo ┆ congestio ┆ airport_ │\n",
       "│ ---       ┆ up_dateti ┆ off_datet ┆ _count    ┆   ┆ nt_surcha ┆ unt       ┆ n_surchar ┆ fee      │\n",
       "│ i32       ┆ me        ┆ ime       ┆ ---       ┆   ┆ rge       ┆ ---       ┆ ge        ┆ ---      │\n",
       "│           ┆ ---       ┆ ---       ┆ i64       ┆   ┆ ---       ┆ f64       ┆ ---       ┆ f64      │\n",
       "│           ┆ datetime[ ┆ datetime[ ┆           ┆   ┆ f64       ┆           ┆ f64       ┆          │\n",
       "│           ┆ ns]       ┆ ns]       ┆           ┆   ┆           ┆           ┆           ┆          │\n",
       "╞═══════════╪═══════════╪═══════════╪═══════════╪═══╪═══════════╪═══════════╪═══════════╪══════════╡\n",
       "│ 2         ┆ 2024-02-0 ┆ 2024-02-0 ┆ 1         ┆ … ┆ 1.0       ┆ 26.78     ┆ 2.5       ┆ 0.0      │\n",
       "│           ┆ 1         ┆ 1         ┆           ┆   ┆           ┆           ┆           ┆          │\n",
       "│           ┆ 00:04:45  ┆ 00:19:58  ┆           ┆   ┆           ┆           ┆           ┆          │\n",
       "│ 2         ┆ 2024-02-0 ┆ 2024-02-0 ┆ 1         ┆ … ┆ 1.0       ┆ 45.0      ┆ 2.5       ┆ 0.0      │\n",
       "│           ┆ 1         ┆ 1         ┆           ┆   ┆           ┆           ┆           ┆          │\n",
       "│           ┆ 00:56:31  ┆ 01:10:53  ┆           ┆   ┆           ┆           ┆           ┆          │\n",
       "│ 2         ┆ 2024-02-0 ┆ 2024-02-0 ┆ 2         ┆ … ┆ 1.0       ┆ 82.69     ┆ 2.5       ┆ 1.75     │\n",
       "│           ┆ 1         ┆ 1         ┆           ┆   ┆           ┆           ┆           ┆          │\n",
       "│           ┆ 00:07:50  ┆ 00:43:12  ┆           ┆   ┆           ┆           ┆           ┆          │\n",
       "│ 1         ┆ 2024-02-0 ┆ 2024-02-0 ┆ 1         ┆ … ┆ 1.0       ┆ 17.15     ┆ 2.5       ┆ 0.0      │\n",
       "│           ┆ 1         ┆ 1         ┆           ┆   ┆           ┆           ┆           ┆          │\n",
       "│           ┆ 00:01:49  ┆ 00:10:47  ┆           ┆   ┆           ┆           ┆           ┆          │\n",
       "│ 1         ┆ 2024-02-0 ┆ 2024-02-0 ┆ 1         ┆ … ┆ 1.0       ┆ 20.6      ┆ 2.5       ┆ 0.0      │\n",
       "│           ┆ 1         ┆ 1         ┆           ┆   ┆           ┆           ┆           ┆          │\n",
       "│           ┆ 00:37:35  ┆ 00:51:15  ┆           ┆   ┆           ┆           ┆           ┆          │\n",
       "└───────────┴───────────┴───────────┴───────────┴───┴───────────┴───────────┴───────────┴──────────┘"
      ]
     },
     "metadata": {},
     "output_type": "display_data"
    },
    {
     "name": "stdout",
     "output_type": "stream",
     "text": [
      "3007526 rides recorded in `february_yellow_rides_df`.\n",
      "3582628 rides recorded in `march_yellow_rides_df`.\n",
      "6590154 rides recorded in `all_yellow_rides_df`.\n"
     ]
    }
   ],
   "source": [
    "all_yellow_rides_df = pl.concat([\n",
    "    february_yellow_rides_df,\n",
    "    march_yellow_rides_df,\n",
    "])\n",
    "display(yellow_rides_df.head())\n",
    "print(f\"{february_yellow_rides_df.shape[0]} rides recorded in `february_yellow_rides_df`.\")\n",
    "print(f\"{march_yellow_rides_df.shape[0]} rides recorded in `march_yellow_rides_df`.\")\n",
    "print(f\"{all_yellow_rides_df.shape[0]} rides recorded in `all_yellow_rides_df`.\")"
   ]
  },
  {
   "cell_type": "markdown",
   "id": "d827fd08",
   "metadata": {},
   "source": [
    "And just like that, we have a combined dataframe of all the yellow taxi rides from February and March! Yellow taxis aren't the only type of taxis in New York City, though; for example, there are also green taxis, which the city of NYC also records. However, a slightly different taxi type means slightly different data... how will it be to combine such data together? Let's see..."
   ]
  },
  {
   "cell_type": "markdown",
   "id": "0d6a03ec",
   "metadata": {},
   "source": [
    "Let's start by loading in `march_green_rides_df` from file:"
   ]
  },
  {
   "cell_type": "code",
   "execution_count": 75,
   "id": "b4bfb98d",
   "metadata": {},
   "outputs": [
    {
     "data": {
      "text/html": [
       "<div><style>\n",
       ".dataframe > thead > tr,\n",
       ".dataframe > tbody > tr {\n",
       "  text-align: right;\n",
       "  white-space: pre-wrap;\n",
       "}\n",
       "</style>\n",
       "<small>shape: (5, 20)</small><table border=\"1\" class=\"dataframe\"><thead><tr><th>VendorID</th><th>lpep_pickup_datetime</th><th>lpep_dropoff_datetime</th><th>store_and_fwd_flag</th><th>RatecodeID</th><th>PULocationID</th><th>DOLocationID</th><th>passenger_count</th><th>trip_distance</th><th>fare_amount</th><th>extra</th><th>mta_tax</th><th>tip_amount</th><th>tolls_amount</th><th>ehail_fee</th><th>improvement_surcharge</th><th>total_amount</th><th>payment_type</th><th>trip_type</th><th>congestion_surcharge</th></tr><tr><td>i32</td><td>datetime[ns]</td><td>datetime[ns]</td><td>str</td><td>i64</td><td>i32</td><td>i32</td><td>i64</td><td>f64</td><td>f64</td><td>f64</td><td>f64</td><td>f64</td><td>f64</td><td>f64</td><td>f64</td><td>f64</td><td>i64</td><td>i64</td><td>f64</td></tr></thead><tbody><tr><td>2</td><td>2024-03-01 00:10:52</td><td>2024-03-01 00:26:12</td><td>&quot;N&quot;</td><td>1</td><td>129</td><td>226</td><td>1</td><td>1.72</td><td>12.8</td><td>1.0</td><td>0.5</td><td>3.06</td><td>0.0</td><td>null</td><td>1.0</td><td>18.36</td><td>1</td><td>1</td><td>0.0</td></tr><tr><td>2</td><td>2024-03-01 00:22:21</td><td>2024-03-01 00:35:15</td><td>&quot;N&quot;</td><td>1</td><td>130</td><td>218</td><td>1</td><td>3.25</td><td>17.7</td><td>1.0</td><td>0.5</td><td>0.0</td><td>0.0</td><td>null</td><td>1.0</td><td>20.2</td><td>2</td><td>1</td><td>0.0</td></tr><tr><td>2</td><td>2024-03-01 00:45:27</td><td>2024-03-01 01:04:32</td><td>&quot;N&quot;</td><td>1</td><td>255</td><td>107</td><td>2</td><td>4.58</td><td>23.3</td><td>1.0</td><td>0.5</td><td>3.5</td><td>0.0</td><td>null</td><td>1.0</td><td>32.05</td><td>1</td><td>1</td><td>2.75</td></tr><tr><td>1</td><td>2024-03-01 00:02:00</td><td>2024-03-01 00:23:45</td><td>&quot;N&quot;</td><td>1</td><td>181</td><td>71</td><td>1</td><td>0.0</td><td>22.5</td><td>0.0</td><td>1.5</td><td>0.0</td><td>0.0</td><td>null</td><td>1.0</td><td>24.0</td><td>1</td><td>1</td><td>0.0</td></tr><tr><td>2</td><td>2024-03-01 00:16:45</td><td>2024-03-01 00:23:25</td><td>&quot;N&quot;</td><td>1</td><td>95</td><td>135</td><td>1</td><td>1.15</td><td>8.6</td><td>1.0</td><td>0.5</td><td>1.0</td><td>0.0</td><td>null</td><td>1.0</td><td>12.1</td><td>1</td><td>1</td><td>0.0</td></tr></tbody></table></div>"
      ],
      "text/plain": [
       "shape: (5, 20)\n",
       "┌──────────┬───────────┬───────────┬───────────┬───┬───────────┬───────────┬───────────┬───────────┐\n",
       "│ VendorID ┆ lpep_pick ┆ lpep_drop ┆ store_and ┆ … ┆ total_amo ┆ payment_t ┆ trip_type ┆ congestio │\n",
       "│ ---      ┆ up_dateti ┆ off_datet ┆ _fwd_flag ┆   ┆ unt       ┆ ype       ┆ ---       ┆ n_surchar │\n",
       "│ i32      ┆ me        ┆ ime       ┆ ---       ┆   ┆ ---       ┆ ---       ┆ i64       ┆ ge        │\n",
       "│          ┆ ---       ┆ ---       ┆ str       ┆   ┆ f64       ┆ i64       ┆           ┆ ---       │\n",
       "│          ┆ datetime[ ┆ datetime[ ┆           ┆   ┆           ┆           ┆           ┆ f64       │\n",
       "│          ┆ ns]       ┆ ns]       ┆           ┆   ┆           ┆           ┆           ┆           │\n",
       "╞══════════╪═══════════╪═══════════╪═══════════╪═══╪═══════════╪═══════════╪═══════════╪═══════════╡\n",
       "│ 2        ┆ 2024-03-0 ┆ 2024-03-0 ┆ N         ┆ … ┆ 18.36     ┆ 1         ┆ 1         ┆ 0.0       │\n",
       "│          ┆ 1         ┆ 1         ┆           ┆   ┆           ┆           ┆           ┆           │\n",
       "│          ┆ 00:10:52  ┆ 00:26:12  ┆           ┆   ┆           ┆           ┆           ┆           │\n",
       "│ 2        ┆ 2024-03-0 ┆ 2024-03-0 ┆ N         ┆ … ┆ 20.2      ┆ 2         ┆ 1         ┆ 0.0       │\n",
       "│          ┆ 1         ┆ 1         ┆           ┆   ┆           ┆           ┆           ┆           │\n",
       "│          ┆ 00:22:21  ┆ 00:35:15  ┆           ┆   ┆           ┆           ┆           ┆           │\n",
       "│ 2        ┆ 2024-03-0 ┆ 2024-03-0 ┆ N         ┆ … ┆ 32.05     ┆ 1         ┆ 1         ┆ 2.75      │\n",
       "│          ┆ 1         ┆ 1         ┆           ┆   ┆           ┆           ┆           ┆           │\n",
       "│          ┆ 00:45:27  ┆ 01:04:32  ┆           ┆   ┆           ┆           ┆           ┆           │\n",
       "│ 1        ┆ 2024-03-0 ┆ 2024-03-0 ┆ N         ┆ … ┆ 24.0      ┆ 1         ┆ 1         ┆ 0.0       │\n",
       "│          ┆ 1         ┆ 1         ┆           ┆   ┆           ┆           ┆           ┆           │\n",
       "│          ┆ 00:02:00  ┆ 00:23:45  ┆           ┆   ┆           ┆           ┆           ┆           │\n",
       "│ 2        ┆ 2024-03-0 ┆ 2024-03-0 ┆ N         ┆ … ┆ 12.1      ┆ 1         ┆ 1         ┆ 0.0       │\n",
       "│          ┆ 1         ┆ 1         ┆           ┆   ┆           ┆           ┆           ┆           │\n",
       "│          ┆ 00:16:45  ┆ 00:23:25  ┆           ┆   ┆           ┆           ┆           ┆           │\n",
       "└──────────┴───────────┴───────────┴───────────┴───┴───────────┴───────────┴───────────┴───────────┘"
      ]
     },
     "execution_count": 75,
     "metadata": {},
     "output_type": "execute_result"
    }
   ],
   "source": [
    "march_green_rides_df = pl.read_parquet(\"../data/green_tripdata_2024-03.parquet\")\n",
    "march_green_rides_df.head()"
   ]
  },
  {
   "cell_type": "markdown",
   "id": "4c6a440e",
   "metadata": {},
   "source": [
    "Already, we can see some slight differences between the `all_yellow_rides_df` and `march_green_rides_df`--for example, `march_green_rides_df` has 20 columns, while we're accustomed to the 19 columns in `march_yellow_rides_df`--but there are also a lot of similarities. For one, `march_green_rides_df` has the same `datetime` columns (though with slighly different names), and the same TitleCase ID columns. We'll need to conform the column names so that the correct columns match up with each other upon concatenation."
   ]
  },
  {
   "cell_type": "code",
   "execution_count": 76,
   "id": "0c754047",
   "metadata": {},
   "outputs": [],
   "source": [
    "green_rides_df_column_mapping = {\n",
    "    \"VendorID\": \"vendor_id\",\n",
    "    \"RatecodeID\": \"ratecode_id\",\n",
    "    \"PULocationID\": \"pu_location_id\",\n",
    "    \"DOLocationID\": \"do_location_id\",\n",
    "    \"lpep_pickup_datetime\": \"tpep_pickup_datetime\",\n",
    "    \"lpep_dropoff_datetime\": \"tpep_dropoff_datetime\",\n",
    "    # \"Airport_fee\": \"airport_fee\",  # Doesn't exist in `green_rides_df`\n",
    "}\n",
    "march_green_rides_df = march_green_rides_df.rename(green_rides_df_column_mapping)"
   ]
  },
  {
   "cell_type": "markdown",
   "id": "d8e72b52",
   "metadata": {},
   "source": [
    "Great! Now, if we want to finally combine the yellow taxi dataframes and green taxi dataframe with `pl.concat()`, we just pass them in as a list again:"
   ]
  },
  {
   "cell_type": "code",
   "execution_count": 77,
   "id": "196c4b0d",
   "metadata": {},
   "outputs": [
    {
     "ename": "ShapeError",
     "evalue": "unable to append to a DataFrame of width 19 with a DataFrame of width 20",
     "output_type": "error",
     "traceback": [
      "\u001b[0;31m---------------------------------------------------------------------------\u001b[0m",
      "\u001b[0;31mShapeError\u001b[0m                                Traceback (most recent call last)",
      "Cell \u001b[0;32mIn[77], line 2\u001b[0m\n\u001b[1;32m      1\u001b[0m all_rides_df \u001b[38;5;241m=\u001b[39m (\n\u001b[0;32m----> 2\u001b[0m     \u001b[43mpl\u001b[49m\u001b[38;5;241;43m.\u001b[39;49m\u001b[43mconcat\u001b[49m\u001b[43m(\u001b[49m\u001b[43m[\u001b[49m\n\u001b[1;32m      3\u001b[0m \u001b[43m        \u001b[49m\u001b[43mfebruary_yellow_rides_df\u001b[49m\u001b[43m,\u001b[49m\n\u001b[1;32m      4\u001b[0m \u001b[43m        \u001b[49m\u001b[43mmarch_yellow_rides_df\u001b[49m\u001b[43m,\u001b[49m\n\u001b[1;32m      5\u001b[0m \u001b[43m        \u001b[49m\u001b[43mmarch_green_rides_df\u001b[49m\u001b[43m,\u001b[49m\n\u001b[1;32m      6\u001b[0m \u001b[43m    \u001b[49m\u001b[43m]\u001b[49m\u001b[43m)\u001b[49m\n\u001b[1;32m      7\u001b[0m )\n",
      "File \u001b[0;32m~/code/polars-oreilly-course/.venv/lib/python3.12/site-packages/polars/functions/eager.py:184\u001b[0m, in \u001b[0;36mconcat\u001b[0;34m(items, how, rechunk, parallel)\u001b[0m\n\u001b[1;32m    182\u001b[0m \u001b[38;5;28;01mif\u001b[39;00m \u001b[38;5;28misinstance\u001b[39m(first, pl\u001b[38;5;241m.\u001b[39mDataFrame):\n\u001b[1;32m    183\u001b[0m     \u001b[38;5;28;01mif\u001b[39;00m how \u001b[38;5;241m==\u001b[39m \u001b[38;5;124m\"\u001b[39m\u001b[38;5;124mvertical\u001b[39m\u001b[38;5;124m\"\u001b[39m:\n\u001b[0;32m--> 184\u001b[0m         out \u001b[38;5;241m=\u001b[39m wrap_df(\u001b[43mplr\u001b[49m\u001b[38;5;241;43m.\u001b[39;49m\u001b[43mconcat_df\u001b[49m\u001b[43m(\u001b[49m\u001b[43melems\u001b[49m\u001b[43m)\u001b[49m)\n\u001b[1;32m    185\u001b[0m     \u001b[38;5;28;01melif\u001b[39;00m how \u001b[38;5;241m==\u001b[39m \u001b[38;5;124m\"\u001b[39m\u001b[38;5;124mvertical_relaxed\u001b[39m\u001b[38;5;124m\"\u001b[39m:\n\u001b[1;32m    186\u001b[0m         out \u001b[38;5;241m=\u001b[39m wrap_ldf(\n\u001b[1;32m    187\u001b[0m             plr\u001b[38;5;241m.\u001b[39mconcat_lf(\n\u001b[1;32m    188\u001b[0m                 [df\u001b[38;5;241m.\u001b[39mlazy() \u001b[38;5;28;01mfor\u001b[39;00m df \u001b[38;5;129;01min\u001b[39;00m elems],\n\u001b[0;32m   (...)\u001b[0m\n\u001b[1;32m    192\u001b[0m             )\n\u001b[1;32m    193\u001b[0m         )\u001b[38;5;241m.\u001b[39mcollect(no_optimization\u001b[38;5;241m=\u001b[39m\u001b[38;5;28;01mTrue\u001b[39;00m)\n",
      "\u001b[0;31mShapeError\u001b[0m: unable to append to a DataFrame of width 19 with a DataFrame of width 20"
     ]
    }
   ],
   "source": [
    "all_rides_df = (\n",
    "    pl.concat([\n",
    "        february_yellow_rides_df,\n",
    "        march_yellow_rides_df,\n",
    "        march_green_rides_df,\n",
    "    ])\n",
    ")"
   ]
  },
  {
   "cell_type": "markdown",
   "id": "22aaf010",
   "metadata": {},
   "source": [
    "Even with the renaming, we got an error! That's because, by default, the two dataframes have to have the same schema. This isn't the case in our dataframes, though; however we'd still like to concatenate them! Thankfully, `polars` gives us flexible control over this, with the `how` argument. By default, `how` is set to `how=\"vertical\"`, restricting the concatenation to a strict vertical stacking of the dataframes. However, we can set `how=\"diagonal\"`, and the two dataframes will be concatenated together, with nulls used to fill in the spaces of unshared columns:"
   ]
  },
  {
   "cell_type": "code",
   "execution_count": 79,
   "id": "f1a0a834",
   "metadata": {},
   "outputs": [
    {
     "data": {
      "text/html": [
       "<div><style>\n",
       ".dataframe > thead > tr,\n",
       ".dataframe > tbody > tr {\n",
       "  text-align: right;\n",
       "  white-space: pre-wrap;\n",
       "}\n",
       "</style>\n",
       "<small>shape: (5, 21)</small><table border=\"1\" class=\"dataframe\"><thead><tr><th>vendor_id</th><th>tpep_pickup_datetime</th><th>tpep_dropoff_datetime</th><th>passenger_count</th><th>trip_distance</th><th>ratecode_id</th><th>store_and_fwd_flag</th><th>pu_location_id</th><th>do_location_id</th><th>payment_type</th><th>fare_amount</th><th>extra</th><th>mta_tax</th><th>tip_amount</th><th>tolls_amount</th><th>improvement_surcharge</th><th>total_amount</th><th>congestion_surcharge</th><th>airport_fee</th><th>ehail_fee</th><th>trip_type</th></tr><tr><td>i32</td><td>datetime[ns]</td><td>datetime[ns]</td><td>i64</td><td>f64</td><td>i64</td><td>str</td><td>i32</td><td>i32</td><td>i64</td><td>f64</td><td>f64</td><td>f64</td><td>f64</td><td>f64</td><td>f64</td><td>f64</td><td>f64</td><td>f64</td><td>f64</td><td>i64</td></tr></thead><tbody><tr><td>2</td><td>2024-02-01 00:04:45</td><td>2024-02-01 00:19:58</td><td>1</td><td>4.39</td><td>1</td><td>&quot;N&quot;</td><td>68</td><td>236</td><td>1</td><td>20.5</td><td>1.0</td><td>0.5</td><td>1.28</td><td>0.0</td><td>1.0</td><td>26.78</td><td>2.5</td><td>0.0</td><td>null</td><td>null</td></tr><tr><td>2</td><td>2024-02-01 00:56:31</td><td>2024-02-01 01:10:53</td><td>1</td><td>7.71</td><td>1</td><td>&quot;N&quot;</td><td>48</td><td>243</td><td>1</td><td>31.0</td><td>1.0</td><td>0.5</td><td>9.0</td><td>0.0</td><td>1.0</td><td>45.0</td><td>2.5</td><td>0.0</td><td>null</td><td>null</td></tr><tr><td>2</td><td>2024-02-01 00:07:50</td><td>2024-02-01 00:43:12</td><td>2</td><td>28.69</td><td>2</td><td>&quot;N&quot;</td><td>132</td><td>261</td><td>2</td><td>70.0</td><td>0.0</td><td>0.5</td><td>0.0</td><td>6.94</td><td>1.0</td><td>82.69</td><td>2.5</td><td>1.75</td><td>null</td><td>null</td></tr><tr><td>1</td><td>2024-02-01 00:01:49</td><td>2024-02-01 00:10:47</td><td>1</td><td>1.1</td><td>1</td><td>&quot;N&quot;</td><td>161</td><td>163</td><td>1</td><td>9.3</td><td>3.5</td><td>0.5</td><td>2.85</td><td>0.0</td><td>1.0</td><td>17.15</td><td>2.5</td><td>0.0</td><td>null</td><td>null</td></tr><tr><td>1</td><td>2024-02-01 00:37:35</td><td>2024-02-01 00:51:15</td><td>1</td><td>2.6</td><td>1</td><td>&quot;N&quot;</td><td>246</td><td>79</td><td>2</td><td>15.6</td><td>3.5</td><td>0.5</td><td>0.0</td><td>0.0</td><td>1.0</td><td>20.6</td><td>2.5</td><td>0.0</td><td>null</td><td>null</td></tr></tbody></table></div>"
      ],
      "text/plain": [
       "shape: (5, 21)\n",
       "┌───────────┬───────────┬───────────┬───────────┬───┬───────────┬───────────┬───────────┬──────────┐\n",
       "│ vendor_id ┆ tpep_pick ┆ tpep_drop ┆ passenger ┆ … ┆ congestio ┆ airport_f ┆ ehail_fee ┆ trip_typ │\n",
       "│ ---       ┆ up_dateti ┆ off_datet ┆ _count    ┆   ┆ n_surchar ┆ ee        ┆ ---       ┆ e        │\n",
       "│ i32       ┆ me        ┆ ime       ┆ ---       ┆   ┆ ge        ┆ ---       ┆ f64       ┆ ---      │\n",
       "│           ┆ ---       ┆ ---       ┆ i64       ┆   ┆ ---       ┆ f64       ┆           ┆ i64      │\n",
       "│           ┆ datetime[ ┆ datetime[ ┆           ┆   ┆ f64       ┆           ┆           ┆          │\n",
       "│           ┆ ns]       ┆ ns]       ┆           ┆   ┆           ┆           ┆           ┆          │\n",
       "╞═══════════╪═══════════╪═══════════╪═══════════╪═══╪═══════════╪═══════════╪═══════════╪══════════╡\n",
       "│ 2         ┆ 2024-02-0 ┆ 2024-02-0 ┆ 1         ┆ … ┆ 2.5       ┆ 0.0       ┆ null      ┆ null     │\n",
       "│           ┆ 1         ┆ 1         ┆           ┆   ┆           ┆           ┆           ┆          │\n",
       "│           ┆ 00:04:45  ┆ 00:19:58  ┆           ┆   ┆           ┆           ┆           ┆          │\n",
       "│ 2         ┆ 2024-02-0 ┆ 2024-02-0 ┆ 1         ┆ … ┆ 2.5       ┆ 0.0       ┆ null      ┆ null     │\n",
       "│           ┆ 1         ┆ 1         ┆           ┆   ┆           ┆           ┆           ┆          │\n",
       "│           ┆ 00:56:31  ┆ 01:10:53  ┆           ┆   ┆           ┆           ┆           ┆          │\n",
       "│ 2         ┆ 2024-02-0 ┆ 2024-02-0 ┆ 2         ┆ … ┆ 2.5       ┆ 1.75      ┆ null      ┆ null     │\n",
       "│           ┆ 1         ┆ 1         ┆           ┆   ┆           ┆           ┆           ┆          │\n",
       "│           ┆ 00:07:50  ┆ 00:43:12  ┆           ┆   ┆           ┆           ┆           ┆          │\n",
       "│ 1         ┆ 2024-02-0 ┆ 2024-02-0 ┆ 1         ┆ … ┆ 2.5       ┆ 0.0       ┆ null      ┆ null     │\n",
       "│           ┆ 1         ┆ 1         ┆           ┆   ┆           ┆           ┆           ┆          │\n",
       "│           ┆ 00:01:49  ┆ 00:10:47  ┆           ┆   ┆           ┆           ┆           ┆          │\n",
       "│ 1         ┆ 2024-02-0 ┆ 2024-02-0 ┆ 1         ┆ … ┆ 2.5       ┆ 0.0       ┆ null      ┆ null     │\n",
       "│           ┆ 1         ┆ 1         ┆           ┆   ┆           ┆           ┆           ┆          │\n",
       "│           ┆ 00:37:35  ┆ 00:51:15  ┆           ┆   ┆           ┆           ┆           ┆          │\n",
       "└───────────┴───────────┴───────────┴───────────┴───┴───────────┴───────────┴───────────┴──────────┘"
      ]
     },
     "execution_count": 79,
     "metadata": {},
     "output_type": "execute_result"
    }
   ],
   "source": [
    "all_rides_df = (\n",
    "    pl.concat(\n",
    "        [\n",
    "            february_yellow_rides_df,\n",
    "            march_yellow_rides_df,\n",
    "            green_rides_df,\n",
    "        ],\n",
    "        how=\"diagonal\"\n",
    "    )\n",
    ")\n",
    "all_rides_df.head()"
   ]
  },
  {
   "cell_type": "markdown",
   "id": "2ec3a3d3",
   "metadata": {},
   "source": [
    "Scrolling to the right, we can see that `ehail_fee` and `trip_type` are null, since the yellow trips data doesn't have these two columns--they are brought over from `green_rides_df`."
   ]
  },
  {
   "cell_type": "markdown",
   "id": "7ce2fa95",
   "metadata": {},
   "source": [
    "`pl.concat()` does offer a few more options, such as horizontal concatenation instead of vertical concatenation, but it's not so useful for us here; instead, I leave it to your reading!"
   ]
  },
  {
   "cell_type": "markdown",
   "id": "dbed8b23",
   "metadata": {},
   "source": [
    "# Conclusion"
   ]
  },
  {
   "cell_type": "markdown",
   "id": "498d520e",
   "metadata": {},
   "source": [
    "In this module, we learned how to combine multiple dataframes together, using two new Query Statements, `.join()` and `.concat()`."
   ]
  },
  {
   "cell_type": "code",
   "execution_count": null,
   "id": "b3b7dd08",
   "metadata": {},
   "outputs": [],
   "source": []
  }
 ],
 "metadata": {
  "kernelspec": {
   "display_name": "Python 3 (ipykernel)",
   "language": "python",
   "name": "python3"
  },
  "language_info": {
   "codemirror_mode": {
    "name": "ipython",
    "version": 3
   },
   "file_extension": ".py",
   "mimetype": "text/x-python",
   "name": "python",
   "nbconvert_exporter": "python",
   "pygments_lexer": "ipython3",
   "version": "3.9.2"
  }
 },
 "nbformat": 4,
 "nbformat_minor": 5
}
