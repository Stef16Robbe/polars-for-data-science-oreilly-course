{
 "cells": [
  {
   "cell_type": "markdown",
   "id": "1653908d",
   "metadata": {},
   "source": [
    "# 7. Data Manipulation IV - Working With Datatypes"
   ]
  },
  {
   "cell_type": "markdown",
   "id": "97a37bab",
   "metadata": {},
   "source": [
    "The goal of this module is to understand all the different datatypes in `polars`, and learn to construct datatype-specific column expressions that leverage those different datatypes."
   ]
  },
  {
   "cell_type": "markdown",
   "id": "f3a90b5b",
   "metadata": {},
   "source": [
    "But first we import `polars`..."
   ]
  },
  {
   "cell_type": "code",
   "execution_count": 1,
   "id": "9f2da0ab",
   "metadata": {},
   "outputs": [],
   "source": [
    "import polars as pl"
   ]
  },
  {
   "cell_type": "markdown",
   "id": "b346457f",
   "metadata": {},
   "source": [
    "... and load the rides data, already joining with the `zones_df` dataframe as in the previous module."
   ]
  },
  {
   "cell_type": "code",
   "execution_count": 3,
   "id": "c78648a1",
   "metadata": {},
   "outputs": [],
   "source": [
    "zone_column_rename_mapping = {\n",
    "    \"LocationID\": \"location_id\",\n",
    "    \"Borough\": \"borough\",\n",
    "    \"Zone\": \"zone\",\n",
    "}\n",
    "zones_df = (\n",
    "    pl.read_parquet(\"../data/taxi_zone_lookup.parquet\")\n",
    "    .rename(zone_column_rename_mapping)\n",
    ")"
   ]
  },
  {
   "cell_type": "markdown",
   "id": "0f4de06f",
   "metadata": {},
   "source": [
    "This time, we'll join `zones_df` into the rides dataframe twice--once for `pu_location_id`, and once for `do_location_id`."
   ]
  },
  {
   "cell_type": "code",
   "execution_count": 5,
   "id": "b85b1837",
   "metadata": {},
   "outputs": [
    {
     "data": {
      "text/html": [
       "<div><style>\n",
       ".dataframe > thead > tr,\n",
       ".dataframe > tbody > tr {\n",
       "  text-align: right;\n",
       "  white-space: pre-wrap;\n",
       "}\n",
       "</style>\n",
       "<small>shape: (5, 25)</small><table border=\"1\" class=\"dataframe\"><thead><tr><th>vendor_id</th><th>tpep_pickup_datetime</th><th>tpep_dropoff_datetime</th><th>passenger_count</th><th>trip_distance</th><th>ratecode_id</th><th>store_and_fwd_flag</th><th>pu_location_id</th><th>do_location_id</th><th>payment_type</th><th>fare_amount</th><th>extra</th><th>mta_tax</th><th>tip_amount</th><th>tolls_amount</th><th>improvement_surcharge</th><th>total_amount</th><th>congestion_surcharge</th><th>airport_fee</th><th>pu_borough</th><th>pu_zone</th><th>pu_service_zone</th><th>do_borough</th><th>do_zone</th><th>do_service_zone</th></tr><tr><td>i32</td><td>datetime[ns]</td><td>datetime[ns]</td><td>i64</td><td>f64</td><td>i64</td><td>str</td><td>i32</td><td>i32</td><td>i64</td><td>f64</td><td>f64</td><td>f64</td><td>f64</td><td>f64</td><td>f64</td><td>f64</td><td>f64</td><td>f64</td><td>str</td><td>str</td><td>str</td><td>str</td><td>str</td><td>str</td></tr></thead><tbody><tr><td>1</td><td>2024-03-01 00:18:51</td><td>2024-03-01 00:23:45</td><td>0</td><td>1.3</td><td>1</td><td>&quot;N&quot;</td><td>142</td><td>239</td><td>1</td><td>8.6</td><td>3.5</td><td>0.5</td><td>2.7</td><td>0.0</td><td>1.0</td><td>16.3</td><td>2.5</td><td>0.0</td><td>&quot;Manhattan&quot;</td><td>&quot;Lincoln Square East&quot;</td><td>&quot;Yellow Zone&quot;</td><td>&quot;Manhattan&quot;</td><td>&quot;Upper West Side South&quot;</td><td>&quot;Yellow Zone&quot;</td></tr><tr><td>1</td><td>2024-03-01 00:26:00</td><td>2024-03-01 00:29:06</td><td>0</td><td>1.1</td><td>1</td><td>&quot;N&quot;</td><td>238</td><td>24</td><td>1</td><td>7.2</td><td>3.5</td><td>0.5</td><td>3.0</td><td>0.0</td><td>1.0</td><td>15.2</td><td>2.5</td><td>0.0</td><td>&quot;Manhattan&quot;</td><td>&quot;Upper West Side North&quot;</td><td>&quot;Yellow Zone&quot;</td><td>&quot;Manhattan&quot;</td><td>&quot;Bloomingdale&quot;</td><td>&quot;Yellow Zone&quot;</td></tr><tr><td>2</td><td>2024-03-01 00:09:22</td><td>2024-03-01 00:15:24</td><td>1</td><td>0.86</td><td>1</td><td>&quot;N&quot;</td><td>263</td><td>75</td><td>2</td><td>7.9</td><td>1.0</td><td>0.5</td><td>0.0</td><td>0.0</td><td>1.0</td><td>10.4</td><td>0.0</td><td>0.0</td><td>&quot;Manhattan&quot;</td><td>&quot;Yorkville West&quot;</td><td>&quot;Yellow Zone&quot;</td><td>&quot;Manhattan&quot;</td><td>&quot;East Harlem South&quot;</td><td>&quot;Boro Zone&quot;</td></tr><tr><td>2</td><td>2024-03-01 00:33:45</td><td>2024-03-01 00:39:34</td><td>1</td><td>0.82</td><td>1</td><td>&quot;N&quot;</td><td>164</td><td>162</td><td>1</td><td>7.9</td><td>1.0</td><td>0.5</td><td>1.29</td><td>0.0</td><td>1.0</td><td>14.19</td><td>2.5</td><td>0.0</td><td>&quot;Manhattan&quot;</td><td>&quot;Midtown South&quot;</td><td>&quot;Yellow Zone&quot;</td><td>&quot;Manhattan&quot;</td><td>&quot;Midtown East&quot;</td><td>&quot;Yellow Zone&quot;</td></tr><tr><td>1</td><td>2024-03-01 00:05:43</td><td>2024-03-01 00:26:22</td><td>0</td><td>4.9</td><td>1</td><td>&quot;N&quot;</td><td>263</td><td>7</td><td>2</td><td>25.4</td><td>3.5</td><td>0.5</td><td>0.0</td><td>0.0</td><td>1.0</td><td>30.4</td><td>2.5</td><td>0.0</td><td>&quot;Manhattan&quot;</td><td>&quot;Yorkville West&quot;</td><td>&quot;Yellow Zone&quot;</td><td>&quot;Queens&quot;</td><td>&quot;Astoria&quot;</td><td>&quot;Boro Zone&quot;</td></tr></tbody></table></div>"
      ],
      "text/plain": [
       "shape: (5, 25)\n",
       "┌───────────┬───────────┬───────────┬───────────┬───┬───────────┬───────────┬───────────┬──────────┐\n",
       "│ vendor_id ┆ tpep_pick ┆ tpep_drop ┆ passenger ┆ … ┆ pu_servic ┆ do_boroug ┆ do_zone   ┆ do_servi │\n",
       "│ ---       ┆ up_dateti ┆ off_datet ┆ _count    ┆   ┆ e_zone    ┆ h         ┆ ---       ┆ ce_zone  │\n",
       "│ i32       ┆ me        ┆ ime       ┆ ---       ┆   ┆ ---       ┆ ---       ┆ str       ┆ ---      │\n",
       "│           ┆ ---       ┆ ---       ┆ i64       ┆   ┆ str       ┆ str       ┆           ┆ str      │\n",
       "│           ┆ datetime[ ┆ datetime[ ┆           ┆   ┆           ┆           ┆           ┆          │\n",
       "│           ┆ ns]       ┆ ns]       ┆           ┆   ┆           ┆           ┆           ┆          │\n",
       "╞═══════════╪═══════════╪═══════════╪═══════════╪═══╪═══════════╪═══════════╪═══════════╪══════════╡\n",
       "│ 1         ┆ 2024-03-0 ┆ 2024-03-0 ┆ 0         ┆ … ┆ Yellow    ┆ Manhattan ┆ Upper     ┆ Yellow   │\n",
       "│           ┆ 1         ┆ 1         ┆           ┆   ┆ Zone      ┆           ┆ West Side ┆ Zone     │\n",
       "│           ┆ 00:18:51  ┆ 00:23:45  ┆           ┆   ┆           ┆           ┆ South     ┆          │\n",
       "│ 1         ┆ 2024-03-0 ┆ 2024-03-0 ┆ 0         ┆ … ┆ Yellow    ┆ Manhattan ┆ Bloomingd ┆ Yellow   │\n",
       "│           ┆ 1         ┆ 1         ┆           ┆   ┆ Zone      ┆           ┆ ale       ┆ Zone     │\n",
       "│           ┆ 00:26:00  ┆ 00:29:06  ┆           ┆   ┆           ┆           ┆           ┆          │\n",
       "│ 2         ┆ 2024-03-0 ┆ 2024-03-0 ┆ 1         ┆ … ┆ Yellow    ┆ Manhattan ┆ East      ┆ Boro     │\n",
       "│           ┆ 1         ┆ 1         ┆           ┆   ┆ Zone      ┆           ┆ Harlem    ┆ Zone     │\n",
       "│           ┆ 00:09:22  ┆ 00:15:24  ┆           ┆   ┆           ┆           ┆ South     ┆          │\n",
       "│ 2         ┆ 2024-03-0 ┆ 2024-03-0 ┆ 1         ┆ … ┆ Yellow    ┆ Manhattan ┆ Midtown   ┆ Yellow   │\n",
       "│           ┆ 1         ┆ 1         ┆           ┆   ┆ Zone      ┆           ┆ East      ┆ Zone     │\n",
       "│           ┆ 00:33:45  ┆ 00:39:34  ┆           ┆   ┆           ┆           ┆           ┆          │\n",
       "│ 1         ┆ 2024-03-0 ┆ 2024-03-0 ┆ 0         ┆ … ┆ Yellow    ┆ Queens    ┆ Astoria   ┆ Boro     │\n",
       "│           ┆ 1         ┆ 1         ┆           ┆   ┆ Zone      ┆           ┆           ┆ Zone     │\n",
       "│           ┆ 00:05:43  ┆ 00:26:22  ┆           ┆   ┆           ┆           ┆           ┆          │\n",
       "└───────────┴───────────┴───────────┴───────────┴───┴───────────┴───────────┴───────────┴──────────┘"
      ]
     },
     "execution_count": 5,
     "metadata": {},
     "output_type": "execute_result"
    }
   ],
   "source": [
    "yellow_rides_column_rename_mapping = {\n",
    "    \"VendorID\": \"vendor_id\",\n",
    "    \"RatecodeID\": \"ratecode_id\",\n",
    "    \"PULocationID\": \"pu_location_id\",\n",
    "    \"DOLocationID\": \"do_location_id\",\n",
    "    \"Airport_fee\": \"airport_fee\",\n",
    "}\n",
    "\n",
    "zone_df_columns = [\"borough\", \"zone\", \"service_zone\",]\n",
    "\n",
    "rides_df = (\n",
    "    pl.read_parquet(\"../data/yellow_tripdata_2024-03.parquet\")\n",
    "    .rename(yellow_rides_column_rename_mapping)\n",
    "    .join(zones_df, left_on=\"pu_location_id\", right_on=\"location_id\")\n",
    "    .rename({zone_df_column: f\"pu_{zone_df_column}\" for zone_df_column in zone_df_columns})\n",
    "    .join(zones_df, left_on=\"do_location_id\", right_on=\"location_id\")\n",
    "    .rename({zone_df_column: f\"do_{zone_df_column}\" for zone_df_column in zone_df_columns})\n",
    ")\n",
    "\n",
    "rides_df.head()"
   ]
  },
  {
   "cell_type": "markdown",
   "id": "59815ad3",
   "metadata": {},
   "source": [
    "Let's go!"
   ]
  },
  {
   "cell_type": "markdown",
   "id": "1109c3fe",
   "metadata": {},
   "source": [
    "## 5.1. Datatypes - an Overview"
   ]
  },
  {
   "cell_type": "markdown",
   "id": "fd114a72",
   "metadata": {},
   "source": [
    "In the previous modules, we've seen how `polars` prioritizes clarity and organization of datatypes, even displaying data types alongside each column name when displaying a dataframe:"
   ]
  },
  {
   "cell_type": "code",
   "execution_count": 7,
   "id": "12bff3c0",
   "metadata": {},
   "outputs": [
    {
     "data": {
      "text/html": [
       "<div><style>\n",
       ".dataframe > thead > tr,\n",
       ".dataframe > tbody > tr {\n",
       "  text-align: right;\n",
       "  white-space: pre-wrap;\n",
       "}\n",
       "</style>\n",
       "<small>shape: (0, 25)</small><table border=\"1\" class=\"dataframe\"><thead><tr><th>vendor_id</th><th>tpep_pickup_datetime</th><th>tpep_dropoff_datetime</th><th>passenger_count</th><th>trip_distance</th><th>ratecode_id</th><th>store_and_fwd_flag</th><th>pu_location_id</th><th>do_location_id</th><th>payment_type</th><th>fare_amount</th><th>extra</th><th>mta_tax</th><th>tip_amount</th><th>tolls_amount</th><th>improvement_surcharge</th><th>total_amount</th><th>congestion_surcharge</th><th>airport_fee</th><th>pu_borough</th><th>pu_zone</th><th>pu_service_zone</th><th>do_borough</th><th>do_zone</th><th>do_service_zone</th></tr><tr><td>i32</td><td>datetime[ns]</td><td>datetime[ns]</td><td>i64</td><td>f64</td><td>i64</td><td>str</td><td>i32</td><td>i32</td><td>i64</td><td>f64</td><td>f64</td><td>f64</td><td>f64</td><td>f64</td><td>f64</td><td>f64</td><td>f64</td><td>f64</td><td>str</td><td>str</td><td>str</td><td>str</td><td>str</td><td>str</td></tr></thead><tbody></tbody></table></div>"
      ],
      "text/plain": [
       "shape: (0, 25)\n",
       "┌───────────┬────────────┬───────────┬───────────┬───┬───────────┬───────────┬─────────┬───────────┐\n",
       "│ vendor_id ┆ tpep_picku ┆ tpep_drop ┆ passenger ┆ … ┆ pu_servic ┆ do_boroug ┆ do_zone ┆ do_servic │\n",
       "│ ---       ┆ p_datetime ┆ off_datet ┆ _count    ┆   ┆ e_zone    ┆ h         ┆ ---     ┆ e_zone    │\n",
       "│ i32       ┆ ---        ┆ ime       ┆ ---       ┆   ┆ ---       ┆ ---       ┆ str     ┆ ---       │\n",
       "│           ┆ datetime[n ┆ ---       ┆ i64       ┆   ┆ str       ┆ str       ┆         ┆ str       │\n",
       "│           ┆ s]         ┆ datetime[ ┆           ┆   ┆           ┆           ┆         ┆           │\n",
       "│           ┆            ┆ ns]       ┆           ┆   ┆           ┆           ┆         ┆           │\n",
       "╞═══════════╪════════════╪═══════════╪═══════════╪═══╪═══════════╪═══════════╪═════════╪═══════════╡\n",
       "└───────────┴────────────┴───────────┴───────────┴───┴───────────┴───────────┴─────────┴───────────┘"
      ]
     },
     "execution_count": 7,
     "metadata": {},
     "output_type": "execute_result"
    }
   ],
   "source": [
    "rides_df.head(0)"
   ]
  },
  {
   "cell_type": "markdown",
   "id": "cf6058b7",
   "metadata": {},
   "source": [
    "We also saw in an earlier module that we can see a dataframe's datatypes by checking its schema:"
   ]
  },
  {
   "cell_type": "code",
   "execution_count": 8,
   "id": "1682ca98",
   "metadata": {},
   "outputs": [
    {
     "data": {
      "text/plain": [
       "OrderedDict([('vendor_id', Int32),\n",
       "             ('tpep_pickup_datetime',\n",
       "              Datetime(time_unit='ns', time_zone=None)),\n",
       "             ('tpep_dropoff_datetime',\n",
       "              Datetime(time_unit='ns', time_zone=None)),\n",
       "             ('passenger_count', Int64),\n",
       "             ('trip_distance', Float64),\n",
       "             ('ratecode_id', Int64),\n",
       "             ('store_and_fwd_flag', String),\n",
       "             ('pu_location_id', Int32),\n",
       "             ('do_location_id', Int32),\n",
       "             ('payment_type', Int64),\n",
       "             ('fare_amount', Float64),\n",
       "             ('extra', Float64),\n",
       "             ('mta_tax', Float64),\n",
       "             ('tip_amount', Float64),\n",
       "             ('tolls_amount', Float64),\n",
       "             ('improvement_surcharge', Float64),\n",
       "             ('total_amount', Float64),\n",
       "             ('congestion_surcharge', Float64),\n",
       "             ('airport_fee', Float64),\n",
       "             ('pu_borough', String),\n",
       "             ('pu_zone', String),\n",
       "             ('pu_service_zone', String),\n",
       "             ('do_borough', String),\n",
       "             ('do_zone', String),\n",
       "             ('do_service_zone', String)])"
      ]
     },
     "execution_count": 8,
     "metadata": {},
     "output_type": "execute_result"
    }
   ],
   "source": [
    "rides_df.schema"
   ]
  },
  {
   "cell_type": "markdown",
   "id": "6ae6a3d5",
   "metadata": {},
   "source": [
    "In our dataframe alone, we have a few different datatypes:\n",
    "- `pl.Int32`, `pl.Int64`\n",
    "- `pl.Datetime`\n",
    "- `pl.String`\n",
    "\n",
    "But `polars` has so much more than this. Taking from [the docs](https://docs.pola.rs/py-polars/html/reference/datatypes.html), `polars` has numeric, temporal, nested, string, and other datatypes:\n",
    "\n",
    "**Numeric**\n",
    "- `pl.Decimal`: Decimal 128-bit type with an optional precision and non-negative scale.\n",
    "- `pl.Float32`: 32-bit floating point type.\n",
    "- `pl.Float64`: 64-bit floating point type.\n",
    "- `pl.Int8`: 8-bit signed integer type.\n",
    "- `pl.Int16`: 16-bit signed integer type.\n",
    "- `pl.Int32`: 32-bit signed integer type.\n",
    "- `pl.Int64`: 64-bit signed integer type.\n",
    "- `pl.UInt8`: 8-bit unsigned integer type.\n",
    "- `pl.UInt16`: 16-bit unsigned integer type.\n",
    "- `pl.UInt32`: 32-bit unsigned integer type.\n",
    "- `pl.UInt64`: 64-bit unsigned integer type.\n",
    "\n",
    "**Temporal**\n",
    "- `pl.Date`: Data type representing a calendar date.\n",
    "- `pl.Datetime`: Data type representing a calendar date and time of day.\n",
    "- `pl.Duration`: Data type representing a time duration.\n",
    "- `pl.Time`: Data type representing the time of day.\n",
    "\n",
    "**Nested**\n",
    "- `pl.Array(inner[, shape, width])`: Fixed length list type.\n",
    "- `pl.List(inner)`: Variable length list type.\n",
    "- `pl.Struct(fields)`: Struct composite type.\n",
    "\n",
    "**String**\n",
    "- `pl.String`: UTF-8 encoded string type.\n",
    "- `pl.Categorical`: A categorical encoding of a set of strings.\n",
    "- `pl.Enum`: A fixed set categorical encoding of a set of strings.\n",
    "- `pl.Utf8`: Alias of String.\n",
    "\n",
    "**Other**\n",
    "- `pl.Binary`: Binary type.\n",
    "- `pl.Boolean`: Boolean type.\n",
    "- `pl.Null`: Data type representing null values.\n",
    "- `pl.Object`: Data type for wrapping arbitrary Python objects.\n",
    "- `pl.Unknown`: Type representing DataType values that could not be determined statically."
   ]
  },
  {
   "cell_type": "markdown",
   "id": "3fc0f971",
   "metadata": {},
   "source": [
    "But what does this really all mean for us, as the end users?"
   ]
  },
  {
   "cell_type": "markdown",
   "id": "64333168",
   "metadata": {},
   "source": [
    "## 5.2 Working with `pl.String`"
   ]
  },
  {
   "cell_type": "markdown",
   "id": "4e1a9b43",
   "metadata": {},
   "source": [
    "Up until now, we've covered mostly basic operations on columns, such as `eq()`, `count()`, `max()` etc, which work across all datatypes. However, there are many datatype-specific operations that can be done as well. To access those datatype-specific operations, we do so through that datatype's **namespace**."
   ]
  },
  {
   "cell_type": "markdown",
   "id": "3f24b6bb",
   "metadata": {},
   "source": [
    "For example, let's say that, as part of our data cleaning process, we want to confirm that all rides that had an `airport fee` actually involved either a pickup or dropoff at the airport; for that, we need a special `pl.String` operation, `.contains()`:"
   ]
  },
  {
   "cell_type": "markdown",
   "id": "593f78eb",
   "metadata": {},
   "source": [
    "#### Example 1: substring containment check."
   ]
  },
  {
   "cell_type": "code",
   "execution_count": 23,
   "id": "1a1ecb5f",
   "metadata": {},
   "outputs": [
    {
     "data": {
      "text/html": [
       "<div><style>\n",
       ".dataframe > thead > tr,\n",
       ".dataframe > tbody > tr {\n",
       "  text-align: right;\n",
       "  white-space: pre-wrap;\n",
       "}\n",
       "</style>\n",
       "<small>shape: (5, 5)</small><table border=\"1\" class=\"dataframe\"><thead><tr><th>tpep_pickup_datetime</th><th>total_amount</th><th>airport_fee</th><th>pu_zone</th><th>is_airport_pickup</th></tr><tr><td>datetime[ns]</td><td>f64</td><td>f64</td><td>str</td><td>bool</td></tr></thead><tbody><tr><td>2024-03-01 00:02:47</td><td>34.74</td><td>1.75</td><td>&quot;JFK Airport&quot;</td><td>true</td></tr><tr><td>2024-03-01 00:33:43</td><td>91.0</td><td>1.75</td><td>&quot;JFK Airport&quot;</td><td>true</td></tr><tr><td>2024-03-01 00:24:10</td><td>95.85</td><td>1.75</td><td>&quot;JFK Airport&quot;</td><td>true</td></tr><tr><td>2024-03-01 00:06:35</td><td>80.19</td><td>1.75</td><td>&quot;JFK Airport&quot;</td><td>true</td></tr><tr><td>2024-03-01 00:06:56</td><td>41.55</td><td>1.75</td><td>&quot;JFK Airport&quot;</td><td>true</td></tr></tbody></table></div>"
      ],
      "text/plain": [
       "shape: (5, 5)\n",
       "┌──────────────────────┬──────────────┬─────────────┬─────────────┬───────────────────┐\n",
       "│ tpep_pickup_datetime ┆ total_amount ┆ airport_fee ┆ pu_zone     ┆ is_airport_pickup │\n",
       "│ ---                  ┆ ---          ┆ ---         ┆ ---         ┆ ---               │\n",
       "│ datetime[ns]         ┆ f64          ┆ f64         ┆ str         ┆ bool              │\n",
       "╞══════════════════════╪══════════════╪═════════════╪═════════════╪═══════════════════╡\n",
       "│ 2024-03-01 00:02:47  ┆ 34.74        ┆ 1.75        ┆ JFK Airport ┆ true              │\n",
       "│ 2024-03-01 00:33:43  ┆ 91.0         ┆ 1.75        ┆ JFK Airport ┆ true              │\n",
       "│ 2024-03-01 00:24:10  ┆ 95.85        ┆ 1.75        ┆ JFK Airport ┆ true              │\n",
       "│ 2024-03-01 00:06:35  ┆ 80.19        ┆ 1.75        ┆ JFK Airport ┆ true              │\n",
       "│ 2024-03-01 00:06:56  ┆ 41.55        ┆ 1.75        ┆ JFK Airport ┆ true              │\n",
       "└──────────────────────┴──────────────┴─────────────┴─────────────┴───────────────────┘"
      ]
     },
     "execution_count": 23,
     "metadata": {},
     "output_type": "execute_result"
    }
   ],
   "source": [
    "(\n",
    "    rides_df\n",
    "    .select([\"tpep_pickup_datetime\", \"total_amount\", \"airport_fee\", \"pu_zone\"])\n",
    "    .with_columns(pl.col(\"pu_zone\").str.contains(\"Airport\").alias(\"is_airport_pickup\"))\n",
    "    .filter(\"is_airport_pickup\")\n",
    "    .head()\n",
    ")"
   ]
  },
  {
   "cell_type": "markdown",
   "id": "86b75f70",
   "metadata": {},
   "source": [
    "Nice! To access the string dataypes special operations, we just prefix the operation with the namespace keyword `str`, like `pl.Expr.str.contains()`.\n",
    "\n",
    "Let's see what else can be done with `pl.String`s in `polars`:"
   ]
  },
  {
   "cell_type": "markdown",
   "id": "e534b931",
   "metadata": {},
   "source": [
    "#### Example 2: Splitting strings."
   ]
  },
  {
   "cell_type": "markdown",
   "id": "73bf737f",
   "metadata": {},
   "source": [
    "We can split strings with `pl.Expr.str.split()`:"
   ]
  },
  {
   "cell_type": "code",
   "execution_count": 30,
   "id": "03565ea3",
   "metadata": {},
   "outputs": [
    {
     "data": {
      "text/html": [
       "<div><style>\n",
       ".dataframe > thead > tr,\n",
       ".dataframe > tbody > tr {\n",
       "  text-align: right;\n",
       "  white-space: pre-wrap;\n",
       "}\n",
       "</style>\n",
       "<small>shape: (5, 3)</small><table border=\"1\" class=\"dataframe\"><thead><tr><th>tpep_pickup_datetime</th><th>pu_service_zone</th><th>pu_service_zone_splitted</th></tr><tr><td>datetime[ns]</td><td>str</td><td>list[str]</td></tr></thead><tbody><tr><td>2024-03-01 00:18:51</td><td>&quot;Yellow Zone&quot;</td><td>[&quot;Yellow&quot;, &quot;Zone&quot;]</td></tr><tr><td>2024-03-01 00:26:00</td><td>&quot;Yellow Zone&quot;</td><td>[&quot;Yellow&quot;, &quot;Zone&quot;]</td></tr><tr><td>2024-03-01 00:09:22</td><td>&quot;Yellow Zone&quot;</td><td>[&quot;Yellow&quot;, &quot;Zone&quot;]</td></tr><tr><td>2024-03-01 00:33:45</td><td>&quot;Yellow Zone&quot;</td><td>[&quot;Yellow&quot;, &quot;Zone&quot;]</td></tr><tr><td>2024-03-01 00:05:43</td><td>&quot;Yellow Zone&quot;</td><td>[&quot;Yellow&quot;, &quot;Zone&quot;]</td></tr></tbody></table></div>"
      ],
      "text/plain": [
       "shape: (5, 3)\n",
       "┌──────────────────────┬─────────────────┬──────────────────────────┐\n",
       "│ tpep_pickup_datetime ┆ pu_service_zone ┆ pu_service_zone_splitted │\n",
       "│ ---                  ┆ ---             ┆ ---                      │\n",
       "│ datetime[ns]         ┆ str             ┆ list[str]                │\n",
       "╞══════════════════════╪═════════════════╪══════════════════════════╡\n",
       "│ 2024-03-01 00:18:51  ┆ Yellow Zone     ┆ [\"Yellow\", \"Zone\"]       │\n",
       "│ 2024-03-01 00:26:00  ┆ Yellow Zone     ┆ [\"Yellow\", \"Zone\"]       │\n",
       "│ 2024-03-01 00:09:22  ┆ Yellow Zone     ┆ [\"Yellow\", \"Zone\"]       │\n",
       "│ 2024-03-01 00:33:45  ┆ Yellow Zone     ┆ [\"Yellow\", \"Zone\"]       │\n",
       "│ 2024-03-01 00:05:43  ┆ Yellow Zone     ┆ [\"Yellow\", \"Zone\"]       │\n",
       "└──────────────────────┴─────────────────┴──────────────────────────┘"
      ]
     },
     "execution_count": 30,
     "metadata": {},
     "output_type": "execute_result"
    }
   ],
   "source": [
    "(\n",
    "    rides_df\n",
    "    .select([\n",
    "        \"tpep_pickup_datetime\",\n",
    "        \"pu_service_zone\",\n",
    "        pl.col(\"pu_service_zone\").str.split(by=\" \").name.suffix(\"_splitted\"),\n",
    "    ])\n",
    "    .head()\n",
    ")"
   ]
  },
  {
   "cell_type": "markdown",
   "id": "0d39cc00",
   "metadata": {},
   "source": [
    "The result is a `pl.List` datatype! We'll get more into that in a moment ;)"
   ]
  },
  {
   "cell_type": "markdown",
   "id": "2a84a3ed",
   "metadata": {},
   "source": [
    "#### Example 3: Measuring string lengths."
   ]
  },
  {
   "cell_type": "code",
   "execution_count": 31,
   "id": "81092762",
   "metadata": {},
   "outputs": [
    {
     "data": {
      "text/html": [
       "<div><style>\n",
       ".dataframe > thead > tr,\n",
       ".dataframe > tbody > tr {\n",
       "  text-align: right;\n",
       "  white-space: pre-wrap;\n",
       "}\n",
       "</style>\n",
       "<small>shape: (5, 3)</small><table border=\"1\" class=\"dataframe\"><thead><tr><th>tpep_pickup_datetime</th><th>pu_service_zone</th><th>pu_service_zone_str_length</th></tr><tr><td>datetime[ns]</td><td>str</td><td>u32</td></tr></thead><tbody><tr><td>2024-03-01 00:18:51</td><td>&quot;Yellow Zone&quot;</td><td>11</td></tr><tr><td>2024-03-01 00:26:00</td><td>&quot;Yellow Zone&quot;</td><td>11</td></tr><tr><td>2024-03-01 00:09:22</td><td>&quot;Yellow Zone&quot;</td><td>11</td></tr><tr><td>2024-03-01 00:33:45</td><td>&quot;Yellow Zone&quot;</td><td>11</td></tr><tr><td>2024-03-01 00:05:43</td><td>&quot;Yellow Zone&quot;</td><td>11</td></tr></tbody></table></div>"
      ],
      "text/plain": [
       "shape: (5, 3)\n",
       "┌──────────────────────┬─────────────────┬────────────────────────────┐\n",
       "│ tpep_pickup_datetime ┆ pu_service_zone ┆ pu_service_zone_str_length │\n",
       "│ ---                  ┆ ---             ┆ ---                        │\n",
       "│ datetime[ns]         ┆ str             ┆ u32                        │\n",
       "╞══════════════════════╪═════════════════╪════════════════════════════╡\n",
       "│ 2024-03-01 00:18:51  ┆ Yellow Zone     ┆ 11                         │\n",
       "│ 2024-03-01 00:26:00  ┆ Yellow Zone     ┆ 11                         │\n",
       "│ 2024-03-01 00:09:22  ┆ Yellow Zone     ┆ 11                         │\n",
       "│ 2024-03-01 00:33:45  ┆ Yellow Zone     ┆ 11                         │\n",
       "│ 2024-03-01 00:05:43  ┆ Yellow Zone     ┆ 11                         │\n",
       "└──────────────────────┴─────────────────┴────────────────────────────┘"
      ]
     },
     "execution_count": 31,
     "metadata": {},
     "output_type": "execute_result"
    }
   ],
   "source": [
    "(\n",
    "    rides_df\n",
    "    .select([\n",
    "        \"tpep_pickup_datetime\",\n",
    "        \"pu_service_zone\",\n",
    "        pl.col(\"pu_service_zone\").str.len_chars().name.suffix(\"_str_length\"),\n",
    "    ])\n",
    "    .head()\n",
    ")"
   ]
  },
  {
   "cell_type": "markdown",
   "id": "c47d1319",
   "metadata": {},
   "source": [
    "Notice that the resultant column `pu_service_zone_str_length` takes on the datatype `pl.UInt32`. It's an unsigned int because length can never be negative!"
   ]
  },
  {
   "cell_type": "code",
   "execution_count": null,
   "id": "222a836f",
   "metadata": {},
   "outputs": [],
   "source": []
  }
 ],
 "metadata": {
  "kernelspec": {
   "display_name": "Python 3 (ipykernel)",
   "language": "python",
   "name": "python3"
  },
  "language_info": {
   "codemirror_mode": {
    "name": "ipython",
    "version": 3
   },
   "file_extension": ".py",
   "mimetype": "text/x-python",
   "name": "python",
   "nbconvert_exporter": "python",
   "pygments_lexer": "ipython3",
   "version": "3.12.3"
  }
 },
 "nbformat": 4,
 "nbformat_minor": 5
}
