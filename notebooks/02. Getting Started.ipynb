{
 "cells": [
  {
   "cell_type": "markdown",
   "id": "1653908d",
   "metadata": {},
   "source": [
    "# 02. Getting Started"
   ]
  },
  {
   "cell_type": "markdown",
   "id": "97a37bab",
   "metadata": {},
   "source": [
    "The goal of this module is to create `polars` dataframes in memory and by loading data; become familiar with `polars`'s lazy-mode versus in-memory mode; understand how to leverage `polars`'s query optimization; and become familiar with how to generate some basic summary statistics about a dataframe.\n",
    "\n",
    "If you had any issues installing the environment, please write me directly: benfeifke@gmail.com."
   ]
  },
  {
   "cell_type": "markdown",
   "id": "1109c3fe",
   "metadata": {},
   "source": [
    "## 2.0. Importing Polars"
   ]
  },
  {
   "cell_type": "code",
   "execution_count": 1,
   "id": "3db2bd08",
   "metadata": {},
   "outputs": [],
   "source": [
    "import polars as pl"
   ]
  },
  {
   "cell_type": "markdown",
   "id": "dff3475d",
   "metadata": {},
   "source": [
    "## 2.1. Creating a `pl.DataFrame`"
   ]
  },
  {
   "cell_type": "markdown",
   "id": "7c8396d2",
   "metadata": {},
   "source": [
    "The main entrypoint to any work we'll do in `polars` is the dataframe. If you're familiar with creating a dataframe in `pandas`, creating a dataframe in `polars` is very similar:"
   ]
  },
  {
   "cell_type": "code",
   "execution_count": 3,
   "id": "6de06f5a",
   "metadata": {},
   "outputs": [],
   "source": [
    "scratch_df = pl.DataFrame({\n",
    "    \"customer_id\": [1, 2, 3,],\n",
    "    \"first_name\": [\"dan\", \"stan\", \"jan\",],\n",
    "    \"last_name\": [\"hanson\", \"flanson\", \"ransom\",],\n",
    "})"
   ]
  },
  {
   "cell_type": "markdown",
   "id": "2d8dae31",
   "metadata": {},
   "source": [
    "In a Jupyter Notebook, we can easily display the dataframe:"
   ]
  },
  {
   "cell_type": "code",
   "execution_count": 4,
   "id": "c69cf1d8",
   "metadata": {},
   "outputs": [
    {
     "data": {
      "text/html": [
       "<div><style>\n",
       ".dataframe > thead > tr,\n",
       ".dataframe > tbody > tr {\n",
       "  text-align: right;\n",
       "  white-space: pre-wrap;\n",
       "}\n",
       "</style>\n",
       "<small>shape: (3, 3)</small><table border=\"1\" class=\"dataframe\"><thead><tr><th>customer_id</th><th>first_name</th><th>last_name</th></tr><tr><td>i64</td><td>str</td><td>str</td></tr></thead><tbody><tr><td>1</td><td>&quot;dan&quot;</td><td>&quot;hanson&quot;</td></tr><tr><td>2</td><td>&quot;stan&quot;</td><td>&quot;flanson&quot;</td></tr><tr><td>3</td><td>&quot;jan&quot;</td><td>&quot;ransom&quot;</td></tr></tbody></table></div>"
      ],
      "text/plain": [
       "shape: (3, 3)\n",
       "┌─────────────┬────────────┬───────────┐\n",
       "│ customer_id ┆ first_name ┆ last_name │\n",
       "│ ---         ┆ ---        ┆ ---       │\n",
       "│ i64         ┆ str        ┆ str       │\n",
       "╞═════════════╪════════════╪═══════════╡\n",
       "│ 1           ┆ dan        ┆ hanson    │\n",
       "│ 2           ┆ stan       ┆ flanson   │\n",
       "│ 3           ┆ jan        ┆ ransom    │\n",
       "└─────────────┴────────────┴───────────┘"
      ]
     },
     "metadata": {},
     "output_type": "display_data"
    }
   ],
   "source": [
    "display(scratch_df)"
   ]
  },
  {
   "cell_type": "markdown",
   "id": "2353a618",
   "metadata": {},
   "source": [
    "Or `polars` offers a great output style if we're printing it as if we're in the console:"
   ]
  },
  {
   "cell_type": "code",
   "execution_count": 5,
   "id": "59235361",
   "metadata": {},
   "outputs": [
    {
     "name": "stdout",
     "output_type": "stream",
     "text": [
      "shape: (3, 3)\n",
      "┌─────────────┬────────────┬───────────┐\n",
      "│ customer_id ┆ first_name ┆ last_name │\n",
      "│ ---         ┆ ---        ┆ ---       │\n",
      "│ i64         ┆ str        ┆ str       │\n",
      "╞═════════════╪════════════╪═══════════╡\n",
      "│ 1           ┆ dan        ┆ hanson    │\n",
      "│ 2           ┆ stan       ┆ flanson   │\n",
      "│ 3           ┆ jan        ┆ ransom    │\n",
      "└─────────────┴────────────┴───────────┘\n"
     ]
    }
   ],
   "source": [
    "print(scratch_df)"
   ]
  },
  {
   "cell_type": "markdown",
   "id": "581aa162",
   "metadata": {},
   "source": [
    "We already see some cool things, like the way that `polars` explicitly tells us the shape and dtypes of the dataframe when we print it. But you didn't come here for fake data, did you? Let's load some real data!"
   ]
  },
  {
   "cell_type": "markdown",
   "id": "368150ba",
   "metadata": {},
   "source": [
    "## 2.2. Reading Data From `csv`"
   ]
  },
  {
   "cell_type": "markdown",
   "id": "367c31a1",
   "metadata": {},
   "source": [
    "The data used throughout this course will be data from taxi rides in New York City, offered publicly by the city: https://www.nyc.gov/site/tlc/about/tlc-trip-record-data.page (see a detailed description of the schema of this dataset [here](https://www.nyc.gov/assets/tlc/downloads/pdf/data_dictionary_trip_records_yellow.pdf)).\n",
    "\n",
    "There are many ways to load data in `polars`: from `csv` files, `parquet` files, `xlsx` files, or even directly from databases. We'll start with a `csv`, with the function `polars.read_csv()`."
   ]
  },
  {
   "cell_type": "code",
   "execution_count": 6,
   "id": "5c29ce91",
   "metadata": {},
   "outputs": [],
   "source": [
    "df = pl.read_csv(\"../data/yellow_tripdata_2024-03.csv\")"
   ]
  },
  {
   "cell_type": "markdown",
   "id": "db80743b",
   "metadata": {},
   "source": [
    "We can take a quick look at the data with a call to `.head()`:"
   ]
  },
  {
   "cell_type": "code",
   "execution_count": 7,
   "id": "b9455839",
   "metadata": {},
   "outputs": [
    {
     "data": {
      "text/html": [
       "<div><style>\n",
       ".dataframe > thead > tr,\n",
       ".dataframe > tbody > tr {\n",
       "  text-align: right;\n",
       "  white-space: pre-wrap;\n",
       "}\n",
       "</style>\n",
       "<small>shape: (5, 19)</small><table border=\"1\" class=\"dataframe\"><thead><tr><th>VendorID</th><th>tpep_pickup_datetime</th><th>tpep_dropoff_datetime</th><th>passenger_count</th><th>trip_distance</th><th>RatecodeID</th><th>store_and_fwd_flag</th><th>PULocationID</th><th>DOLocationID</th><th>payment_type</th><th>fare_amount</th><th>extra</th><th>mta_tax</th><th>tip_amount</th><th>tolls_amount</th><th>improvement_surcharge</th><th>total_amount</th><th>congestion_surcharge</th><th>Airport_fee</th></tr><tr><td>i64</td><td>str</td><td>str</td><td>i64</td><td>f64</td><td>i64</td><td>str</td><td>i64</td><td>i64</td><td>i64</td><td>f64</td><td>f64</td><td>f64</td><td>f64</td><td>f64</td><td>f64</td><td>f64</td><td>f64</td><td>f64</td></tr></thead><tbody><tr><td>1</td><td>&quot;2024-03-01T00:18:51.000000000&quot;</td><td>&quot;2024-03-01T00:23:45.000000000&quot;</td><td>0</td><td>1.3</td><td>1</td><td>&quot;N&quot;</td><td>142</td><td>239</td><td>1</td><td>8.6</td><td>3.5</td><td>0.5</td><td>2.7</td><td>0.0</td><td>1.0</td><td>16.3</td><td>2.5</td><td>0.0</td></tr><tr><td>1</td><td>&quot;2024-03-01T00:26:00.000000000&quot;</td><td>&quot;2024-03-01T00:29:06.000000000&quot;</td><td>0</td><td>1.1</td><td>1</td><td>&quot;N&quot;</td><td>238</td><td>24</td><td>1</td><td>7.2</td><td>3.5</td><td>0.5</td><td>3.0</td><td>0.0</td><td>1.0</td><td>15.2</td><td>2.5</td><td>0.0</td></tr><tr><td>2</td><td>&quot;2024-03-01T00:09:22.000000000&quot;</td><td>&quot;2024-03-01T00:15:24.000000000&quot;</td><td>1</td><td>0.86</td><td>1</td><td>&quot;N&quot;</td><td>263</td><td>75</td><td>2</td><td>7.9</td><td>1.0</td><td>0.5</td><td>0.0</td><td>0.0</td><td>1.0</td><td>10.4</td><td>0.0</td><td>0.0</td></tr><tr><td>2</td><td>&quot;2024-03-01T00:33:45.000000000&quot;</td><td>&quot;2024-03-01T00:39:34.000000000&quot;</td><td>1</td><td>0.82</td><td>1</td><td>&quot;N&quot;</td><td>164</td><td>162</td><td>1</td><td>7.9</td><td>1.0</td><td>0.5</td><td>1.29</td><td>0.0</td><td>1.0</td><td>14.19</td><td>2.5</td><td>0.0</td></tr><tr><td>1</td><td>&quot;2024-03-01T00:05:43.000000000&quot;</td><td>&quot;2024-03-01T00:26:22.000000000&quot;</td><td>0</td><td>4.9</td><td>1</td><td>&quot;N&quot;</td><td>263</td><td>7</td><td>2</td><td>25.4</td><td>3.5</td><td>0.5</td><td>0.0</td><td>0.0</td><td>1.0</td><td>30.4</td><td>2.5</td><td>0.0</td></tr></tbody></table></div>"
      ],
      "text/plain": [
       "shape: (5, 19)\n",
       "┌──────────┬───────────┬───────────┬───────────┬───┬───────────┬───────────┬───────────┬───────────┐\n",
       "│ VendorID ┆ tpep_pick ┆ tpep_drop ┆ passenger ┆ … ┆ improveme ┆ total_amo ┆ congestio ┆ Airport_f │\n",
       "│ ---      ┆ up_dateti ┆ off_datet ┆ _count    ┆   ┆ nt_surcha ┆ unt       ┆ n_surchar ┆ ee        │\n",
       "│ i64      ┆ me        ┆ ime       ┆ ---       ┆   ┆ rge       ┆ ---       ┆ ge        ┆ ---       │\n",
       "│          ┆ ---       ┆ ---       ┆ i64       ┆   ┆ ---       ┆ f64       ┆ ---       ┆ f64       │\n",
       "│          ┆ str       ┆ str       ┆           ┆   ┆ f64       ┆           ┆ f64       ┆           │\n",
       "╞══════════╪═══════════╪═══════════╪═══════════╪═══╪═══════════╪═══════════╪═══════════╪═══════════╡\n",
       "│ 1        ┆ 2024-03-0 ┆ 2024-03-0 ┆ 0         ┆ … ┆ 1.0       ┆ 16.3      ┆ 2.5       ┆ 0.0       │\n",
       "│          ┆ 1T00:18:5 ┆ 1T00:23:4 ┆           ┆   ┆           ┆           ┆           ┆           │\n",
       "│          ┆ 1.0000000 ┆ 5.0000000 ┆           ┆   ┆           ┆           ┆           ┆           │\n",
       "│          ┆ 00        ┆ 00        ┆           ┆   ┆           ┆           ┆           ┆           │\n",
       "│ 1        ┆ 2024-03-0 ┆ 2024-03-0 ┆ 0         ┆ … ┆ 1.0       ┆ 15.2      ┆ 2.5       ┆ 0.0       │\n",
       "│          ┆ 1T00:26:0 ┆ 1T00:29:0 ┆           ┆   ┆           ┆           ┆           ┆           │\n",
       "│          ┆ 0.0000000 ┆ 6.0000000 ┆           ┆   ┆           ┆           ┆           ┆           │\n",
       "│          ┆ 00        ┆ 00        ┆           ┆   ┆           ┆           ┆           ┆           │\n",
       "│ 2        ┆ 2024-03-0 ┆ 2024-03-0 ┆ 1         ┆ … ┆ 1.0       ┆ 10.4      ┆ 0.0       ┆ 0.0       │\n",
       "│          ┆ 1T00:09:2 ┆ 1T00:15:2 ┆           ┆   ┆           ┆           ┆           ┆           │\n",
       "│          ┆ 2.0000000 ┆ 4.0000000 ┆           ┆   ┆           ┆           ┆           ┆           │\n",
       "│          ┆ 00        ┆ 00        ┆           ┆   ┆           ┆           ┆           ┆           │\n",
       "│ 2        ┆ 2024-03-0 ┆ 2024-03-0 ┆ 1         ┆ … ┆ 1.0       ┆ 14.19     ┆ 2.5       ┆ 0.0       │\n",
       "│          ┆ 1T00:33:4 ┆ 1T00:39:3 ┆           ┆   ┆           ┆           ┆           ┆           │\n",
       "│          ┆ 5.0000000 ┆ 4.0000000 ┆           ┆   ┆           ┆           ┆           ┆           │\n",
       "│          ┆ 00        ┆ 00        ┆           ┆   ┆           ┆           ┆           ┆           │\n",
       "│ 1        ┆ 2024-03-0 ┆ 2024-03-0 ┆ 0         ┆ … ┆ 1.0       ┆ 30.4      ┆ 2.5       ┆ 0.0       │\n",
       "│          ┆ 1T00:05:4 ┆ 1T00:26:2 ┆           ┆   ┆           ┆           ┆           ┆           │\n",
       "│          ┆ 3.0000000 ┆ 2.0000000 ┆           ┆   ┆           ┆           ┆           ┆           │\n",
       "│          ┆ 00        ┆ 00        ┆           ┆   ┆           ┆           ┆           ┆           │\n",
       "└──────────┴───────────┴───────────┴───────────┴───┴───────────┴───────────┴───────────┴───────────┘"
      ]
     },
     "execution_count": 7,
     "metadata": {},
     "output_type": "execute_result"
    }
   ],
   "source": [
    "df.head()"
   ]
  },
  {
   "cell_type": "markdown",
   "id": "54622dd0",
   "metadata": {},
   "source": [
    "One thing that's nice about the `polars.DataFrame.head()` operation is the way that it shows the datatype of every column, making the schema explicitly clear. In this case, we have 19 columns:\n",
    "1. `'VendorID'`: `Int64`\n",
    "2. `'tpep_pickup_datetime'`: `String`\n",
    "3. `'tpep_dropoff_datetime'`: `String`\n",
    "4. `'passenger_count'`: `Int64`\n",
    "5. `'trip_distance'`: `Float64`\n",
    "6. `'RatecodeID'`: `Int64`\n",
    "7. `'store_and_fwd_flag'`: `String`\n",
    "8. `'PULocationID'`: `Int64`\n",
    "9. `'DOLocationID'`: `Int64`\n",
    "10. `'payment_type'`: `Int64`\n",
    "11. `'fare_amount'`: `Float64`\n",
    "12. `'extra'`: `Float64`\n",
    "13. `'mta_tax'`: `Float64`\n",
    "14. `'tip_amount'`: `Float64`\n",
    "15. `'tolls_amount'`: `Float64`\n",
    "16. `'improvement_surcharge'`: `Float64`\n",
    "17. `'total_amount'`: `Float64`\n",
    "18. `'congestion_surcharge'`: `Float64`\n",
    "19. `'Airport_fee'`: `Float64`\n",
    "\n",
    "You might have noticed something strange--why are `tpep_pickup_datetime` and `tpep_dropoff_datetime` recognized as a `string` datatype? After all, they look a lot like datetimes...\n",
    "\n",
    "Well, `polars.read_csv()` doesn't do much to detect datatypes beyond strings and numbers upon reading in data... unless of course you ask it to! This can be done with a simple inclusion of the `schema_overrides` argument to the `polars.read_csv()` call:"
   ]
  },
  {
   "cell_type": "code",
   "execution_count": 10,
   "id": "09e8356f",
   "metadata": {},
   "outputs": [
    {
     "data": {
      "text/html": [
       "<div><style>\n",
       ".dataframe > thead > tr,\n",
       ".dataframe > tbody > tr {\n",
       "  text-align: right;\n",
       "  white-space: pre-wrap;\n",
       "}\n",
       "</style>\n",
       "<small>shape: (5, 19)</small><table border=\"1\" class=\"dataframe\"><thead><tr><th>VendorID</th><th>tpep_pickup_datetime</th><th>tpep_dropoff_datetime</th><th>passenger_count</th><th>trip_distance</th><th>RatecodeID</th><th>store_and_fwd_flag</th><th>PULocationID</th><th>DOLocationID</th><th>payment_type</th><th>fare_amount</th><th>extra</th><th>mta_tax</th><th>tip_amount</th><th>tolls_amount</th><th>improvement_surcharge</th><th>total_amount</th><th>congestion_surcharge</th><th>Airport_fee</th></tr><tr><td>i64</td><td>datetime[μs]</td><td>datetime[μs]</td><td>i64</td><td>f64</td><td>i64</td><td>str</td><td>i64</td><td>i64</td><td>i64</td><td>f64</td><td>f64</td><td>f64</td><td>f64</td><td>f64</td><td>f64</td><td>f64</td><td>f64</td><td>f64</td></tr></thead><tbody><tr><td>1</td><td>2024-03-01 00:18:51</td><td>2024-03-01 00:23:45</td><td>0</td><td>1.3</td><td>1</td><td>&quot;N&quot;</td><td>142</td><td>239</td><td>1</td><td>8.6</td><td>3.5</td><td>0.5</td><td>2.7</td><td>0.0</td><td>1.0</td><td>16.3</td><td>2.5</td><td>0.0</td></tr><tr><td>1</td><td>2024-03-01 00:26:00</td><td>2024-03-01 00:29:06</td><td>0</td><td>1.1</td><td>1</td><td>&quot;N&quot;</td><td>238</td><td>24</td><td>1</td><td>7.2</td><td>3.5</td><td>0.5</td><td>3.0</td><td>0.0</td><td>1.0</td><td>15.2</td><td>2.5</td><td>0.0</td></tr><tr><td>2</td><td>2024-03-01 00:09:22</td><td>2024-03-01 00:15:24</td><td>1</td><td>0.86</td><td>1</td><td>&quot;N&quot;</td><td>263</td><td>75</td><td>2</td><td>7.9</td><td>1.0</td><td>0.5</td><td>0.0</td><td>0.0</td><td>1.0</td><td>10.4</td><td>0.0</td><td>0.0</td></tr><tr><td>2</td><td>2024-03-01 00:33:45</td><td>2024-03-01 00:39:34</td><td>1</td><td>0.82</td><td>1</td><td>&quot;N&quot;</td><td>164</td><td>162</td><td>1</td><td>7.9</td><td>1.0</td><td>0.5</td><td>1.29</td><td>0.0</td><td>1.0</td><td>14.19</td><td>2.5</td><td>0.0</td></tr><tr><td>1</td><td>2024-03-01 00:05:43</td><td>2024-03-01 00:26:22</td><td>0</td><td>4.9</td><td>1</td><td>&quot;N&quot;</td><td>263</td><td>7</td><td>2</td><td>25.4</td><td>3.5</td><td>0.5</td><td>0.0</td><td>0.0</td><td>1.0</td><td>30.4</td><td>2.5</td><td>0.0</td></tr></tbody></table></div>"
      ],
      "text/plain": [
       "shape: (5, 19)\n",
       "┌──────────┬───────────┬───────────┬───────────┬───┬───────────┬───────────┬───────────┬───────────┐\n",
       "│ VendorID ┆ tpep_pick ┆ tpep_drop ┆ passenger ┆ … ┆ improveme ┆ total_amo ┆ congestio ┆ Airport_f │\n",
       "│ ---      ┆ up_dateti ┆ off_datet ┆ _count    ┆   ┆ nt_surcha ┆ unt       ┆ n_surchar ┆ ee        │\n",
       "│ i64      ┆ me        ┆ ime       ┆ ---       ┆   ┆ rge       ┆ ---       ┆ ge        ┆ ---       │\n",
       "│          ┆ ---       ┆ ---       ┆ i64       ┆   ┆ ---       ┆ f64       ┆ ---       ┆ f64       │\n",
       "│          ┆ datetime[ ┆ datetime[ ┆           ┆   ┆ f64       ┆           ┆ f64       ┆           │\n",
       "│          ┆ μs]       ┆ μs]       ┆           ┆   ┆           ┆           ┆           ┆           │\n",
       "╞══════════╪═══════════╪═══════════╪═══════════╪═══╪═══════════╪═══════════╪═══════════╪═══════════╡\n",
       "│ 1        ┆ 2024-03-0 ┆ 2024-03-0 ┆ 0         ┆ … ┆ 1.0       ┆ 16.3      ┆ 2.5       ┆ 0.0       │\n",
       "│          ┆ 1         ┆ 1         ┆           ┆   ┆           ┆           ┆           ┆           │\n",
       "│          ┆ 00:18:51  ┆ 00:23:45  ┆           ┆   ┆           ┆           ┆           ┆           │\n",
       "│ 1        ┆ 2024-03-0 ┆ 2024-03-0 ┆ 0         ┆ … ┆ 1.0       ┆ 15.2      ┆ 2.5       ┆ 0.0       │\n",
       "│          ┆ 1         ┆ 1         ┆           ┆   ┆           ┆           ┆           ┆           │\n",
       "│          ┆ 00:26:00  ┆ 00:29:06  ┆           ┆   ┆           ┆           ┆           ┆           │\n",
       "│ 2        ┆ 2024-03-0 ┆ 2024-03-0 ┆ 1         ┆ … ┆ 1.0       ┆ 10.4      ┆ 0.0       ┆ 0.0       │\n",
       "│          ┆ 1         ┆ 1         ┆           ┆   ┆           ┆           ┆           ┆           │\n",
       "│          ┆ 00:09:22  ┆ 00:15:24  ┆           ┆   ┆           ┆           ┆           ┆           │\n",
       "│ 2        ┆ 2024-03-0 ┆ 2024-03-0 ┆ 1         ┆ … ┆ 1.0       ┆ 14.19     ┆ 2.5       ┆ 0.0       │\n",
       "│          ┆ 1         ┆ 1         ┆           ┆   ┆           ┆           ┆           ┆           │\n",
       "│          ┆ 00:33:45  ┆ 00:39:34  ┆           ┆   ┆           ┆           ┆           ┆           │\n",
       "│ 1        ┆ 2024-03-0 ┆ 2024-03-0 ┆ 0         ┆ … ┆ 1.0       ┆ 30.4      ┆ 2.5       ┆ 0.0       │\n",
       "│          ┆ 1         ┆ 1         ┆           ┆   ┆           ┆           ┆           ┆           │\n",
       "│          ┆ 00:05:43  ┆ 00:26:22  ┆           ┆   ┆           ┆           ┆           ┆           │\n",
       "└──────────┴───────────┴───────────┴───────────┴───┴───────────┴───────────┴───────────┴───────────┘"
      ]
     },
     "execution_count": 10,
     "metadata": {},
     "output_type": "execute_result"
    }
   ],
   "source": [
    "df = pl.read_csv(\n",
    "    \"../data/yellow_tripdata_2024-03.csv\",\n",
    "    schema_overrides={\"tpep_pickup_datetime\": pl.Datetime, \"tpep_dropoff_datetime\": pl.Datetime}#, \"passenger_count\": pl.Datetime}\n",
    ")\n",
    "df.head()"
   ]
  },
  {
   "cell_type": "markdown",
   "id": "024880c9",
   "metadata": {},
   "source": [
    "Now `\"tpep_pickup_datetime\"` and `\"tpep_dropoff_datetime\"` are parsed as datetimes, just as we wanted.\n",
    "\n",
    "This is one of the greatest strenghts of `polars`: easily managing data types and making them organized and transparent for users. This might not seem like a big deal right now, but when it comes time to do complex operations on columns, you'll very much appreciate this! But more on that in a few modules. For now, what else can we learn about this data?"
   ]
  },
  {
   "cell_type": "markdown",
   "id": "df1c1f27",
   "metadata": {},
   "source": [
    "We can see the shape of the whole dataframe with `pl.DataFrame.shape`:"
   ]
  },
  {
   "cell_type": "code",
   "execution_count": 12,
   "id": "ba12a9e1",
   "metadata": {},
   "outputs": [
    {
     "data": {
      "text/plain": [
       "(3582628, 19)"
      ]
     },
     "execution_count": 12,
     "metadata": {},
     "output_type": "execute_result"
    }
   ],
   "source": [
    "df.shape"
   ]
  },
  {
   "cell_type": "markdown",
   "id": "3b5c0e94",
   "metadata": {},
   "source": [
    "That's a lot of data! We can also see a brief set of summary statistics about the dataframe with `pl.DataFrame.describe()`:"
   ]
  },
  {
   "cell_type": "code",
   "execution_count": 13,
   "id": "8a5bad08",
   "metadata": {},
   "outputs": [
    {
     "data": {
      "text/html": [
       "<div><style>\n",
       ".dataframe > thead > tr,\n",
       ".dataframe > tbody > tr {\n",
       "  text-align: right;\n",
       "  white-space: pre-wrap;\n",
       "}\n",
       "</style>\n",
       "<small>shape: (9, 20)</small><table border=\"1\" class=\"dataframe\"><thead><tr><th>statistic</th><th>VendorID</th><th>tpep_pickup_datetime</th><th>tpep_dropoff_datetime</th><th>passenger_count</th><th>trip_distance</th><th>RatecodeID</th><th>store_and_fwd_flag</th><th>PULocationID</th><th>DOLocationID</th><th>payment_type</th><th>fare_amount</th><th>extra</th><th>mta_tax</th><th>tip_amount</th><th>tolls_amount</th><th>improvement_surcharge</th><th>total_amount</th><th>congestion_surcharge</th><th>Airport_fee</th></tr><tr><td>str</td><td>f64</td><td>str</td><td>str</td><td>f64</td><td>f64</td><td>f64</td><td>str</td><td>f64</td><td>f64</td><td>f64</td><td>f64</td><td>f64</td><td>f64</td><td>f64</td><td>f64</td><td>f64</td><td>f64</td><td>f64</td><td>f64</td></tr></thead><tbody><tr><td>&quot;count&quot;</td><td>3.582628e6</td><td>&quot;3582628&quot;</td><td>&quot;3582628&quot;</td><td>3.156438e6</td><td>3.582628e6</td><td>3.156438e6</td><td>&quot;3156438&quot;</td><td>3.582628e6</td><td>3.582628e6</td><td>3.582628e6</td><td>3.582628e6</td><td>3.582628e6</td><td>3.582628e6</td><td>3.582628e6</td><td>3.582628e6</td><td>3.582628e6</td><td>3.582628e6</td><td>3.156438e6</td><td>3.156438e6</td></tr><tr><td>&quot;null_count&quot;</td><td>0.0</td><td>&quot;0&quot;</td><td>&quot;0&quot;</td><td>426190.0</td><td>0.0</td><td>426190.0</td><td>&quot;426190&quot;</td><td>0.0</td><td>0.0</td><td>0.0</td><td>0.0</td><td>0.0</td><td>0.0</td><td>0.0</td><td>0.0</td><td>0.0</td><td>0.0</td><td>426190.0</td><td>426190.0</td></tr><tr><td>&quot;mean&quot;</td><td>1.758135</td><td>&quot;2024-03-16 13:36:21.144780&quot;</td><td>&quot;2024-03-16 13:53:01.505051&quot;</td><td>1.337625</td><td>4.517412</td><td>2.255811</td><td>null</td><td>164.210534</td><td>163.156381</td><td>1.076212</td><td>18.682512</td><td>1.363928</td><td>0.482816</td><td>3.190803</td><td>0.541547</td><td>0.974287</td><td>27.12057</td><td>2.25238</td><td>0.142545</td></tr><tr><td>&quot;std&quot;</td><td>0.431201</td><td>null</td><td>null</td><td>0.84003</td><td>302.411739</td><td>10.67769</td><td>null</td><td>64.470651</td><td>69.569802</td><td>0.64724</td><td>18.120599</td><td>1.808785</td><td>0.121177</td><td>4.032913</td><td>2.157286</td><td>0.223011</td><td>22.832365</td><td>0.837835</td><td>0.491772</td></tr><tr><td>&quot;min&quot;</td><td>1.0</td><td>&quot;2002-12-31 22:17:10&quot;</td><td>&quot;2002-12-31 22:42:24&quot;</td><td>0.0</td><td>0.0</td><td>1.0</td><td>&quot;N&quot;</td><td>1.0</td><td>1.0</td><td>0.0</td><td>-800.0</td><td>-7.5</td><td>-0.5</td><td>-300.0</td><td>-84.3</td><td>-1.0</td><td>-800.99</td><td>-2.5</td><td>-1.75</td></tr><tr><td>&quot;25%&quot;</td><td>2.0</td><td>&quot;2024-03-08 20:50:42&quot;</td><td>&quot;2024-03-08 21:05:46&quot;</td><td>1.0</td><td>1.01</td><td>1.0</td><td>null</td><td>132.0</td><td>113.0</td><td>1.0</td><td>9.3</td><td>0.0</td><td>0.5</td><td>0.0</td><td>0.0</td><td>1.0</td><td>15.48</td><td>2.5</td><td>0.0</td></tr><tr><td>&quot;50%&quot;</td><td>2.0</td><td>&quot;2024-03-16 10:54:00&quot;</td><td>&quot;2024-03-16 11:08:28&quot;</td><td>1.0</td><td>1.75</td><td>1.0</td><td>null</td><td>161.0</td><td>162.0</td><td>1.0</td><td>13.5</td><td>1.0</td><td>0.5</td><td>2.52</td><td>0.0</td><td>1.0</td><td>20.52</td><td>2.5</td><td>0.0</td></tr><tr><td>&quot;75%&quot;</td><td>2.0</td><td>&quot;2024-03-23 23:37:26&quot;</td><td>&quot;2024-03-23 23:52:31&quot;</td><td>1.0</td><td>3.3</td><td>1.0</td><td>null</td><td>233.0</td><td>234.0</td><td>1.0</td><td>21.55</td><td>2.5</td><td>0.5</td><td>4.1</td><td>0.0</td><td>1.0</td><td>29.4</td><td>2.5</td><td>0.0</td></tr><tr><td>&quot;max&quot;</td><td>6.0</td><td>&quot;2024-04-01 00:34:55&quot;</td><td>&quot;2024-04-02 18:08:46&quot;</td><td>9.0</td><td>176836.3</td><td>99.0</td><td>&quot;Y&quot;</td><td>265.0</td><td>265.0</td><td>4.0</td><td>900.0</td><td>14.25</td><td>35.84</td><td>999.99</td><td>163.0</td><td>1.0</td><td>1021.99</td><td>2.5</td><td>1.75</td></tr></tbody></table></div>"
      ],
      "text/plain": [
       "shape: (9, 20)\n",
       "┌───────────┬───────────┬───────────┬───────────┬───┬───────────┬───────────┬───────────┬──────────┐\n",
       "│ statistic ┆ VendorID  ┆ tpep_pick ┆ tpep_drop ┆ … ┆ improveme ┆ total_amo ┆ congestio ┆ Airport_ │\n",
       "│ ---       ┆ ---       ┆ up_dateti ┆ off_datet ┆   ┆ nt_surcha ┆ unt       ┆ n_surchar ┆ fee      │\n",
       "│ str       ┆ f64       ┆ me        ┆ ime       ┆   ┆ rge       ┆ ---       ┆ ge        ┆ ---      │\n",
       "│           ┆           ┆ ---       ┆ ---       ┆   ┆ ---       ┆ f64       ┆ ---       ┆ f64      │\n",
       "│           ┆           ┆ str       ┆ str       ┆   ┆ f64       ┆           ┆ f64       ┆          │\n",
       "╞═══════════╪═══════════╪═══════════╪═══════════╪═══╪═══════════╪═══════════╪═══════════╪══════════╡\n",
       "│ count     ┆ 3.582628e ┆ 3582628   ┆ 3582628   ┆ … ┆ 3.582628e ┆ 3.582628e ┆ 3.156438e ┆ 3.156438 │\n",
       "│           ┆ 6         ┆           ┆           ┆   ┆ 6         ┆ 6         ┆ 6         ┆ e6       │\n",
       "│ null_coun ┆ 0.0       ┆ 0         ┆ 0         ┆ … ┆ 0.0       ┆ 0.0       ┆ 426190.0  ┆ 426190.0 │\n",
       "│ t         ┆           ┆           ┆           ┆   ┆           ┆           ┆           ┆          │\n",
       "│ mean      ┆ 1.758135  ┆ 2024-03-1 ┆ 2024-03-1 ┆ … ┆ 0.974287  ┆ 27.12057  ┆ 2.25238   ┆ 0.142545 │\n",
       "│           ┆           ┆ 6 13:36:2 ┆ 6 13:53:0 ┆   ┆           ┆           ┆           ┆          │\n",
       "│           ┆           ┆ 1.144780  ┆ 1.505051  ┆   ┆           ┆           ┆           ┆          │\n",
       "│ std       ┆ 0.431201  ┆ null      ┆ null      ┆ … ┆ 0.223011  ┆ 22.832365 ┆ 0.837835  ┆ 0.491772 │\n",
       "│ min       ┆ 1.0       ┆ 2002-12-3 ┆ 2002-12-3 ┆ … ┆ -1.0      ┆ -800.99   ┆ -2.5      ┆ -1.75    │\n",
       "│           ┆           ┆ 1         ┆ 1         ┆   ┆           ┆           ┆           ┆          │\n",
       "│           ┆           ┆ 22:17:10  ┆ 22:42:24  ┆   ┆           ┆           ┆           ┆          │\n",
       "│ 25%       ┆ 2.0       ┆ 2024-03-0 ┆ 2024-03-0 ┆ … ┆ 1.0       ┆ 15.48     ┆ 2.5       ┆ 0.0      │\n",
       "│           ┆           ┆ 8         ┆ 8         ┆   ┆           ┆           ┆           ┆          │\n",
       "│           ┆           ┆ 20:50:42  ┆ 21:05:46  ┆   ┆           ┆           ┆           ┆          │\n",
       "│ 50%       ┆ 2.0       ┆ 2024-03-1 ┆ 2024-03-1 ┆ … ┆ 1.0       ┆ 20.52     ┆ 2.5       ┆ 0.0      │\n",
       "│           ┆           ┆ 6         ┆ 6         ┆   ┆           ┆           ┆           ┆          │\n",
       "│           ┆           ┆ 10:54:00  ┆ 11:08:28  ┆   ┆           ┆           ┆           ┆          │\n",
       "│ 75%       ┆ 2.0       ┆ 2024-03-2 ┆ 2024-03-2 ┆ … ┆ 1.0       ┆ 29.4      ┆ 2.5       ┆ 0.0      │\n",
       "│           ┆           ┆ 3         ┆ 3         ┆   ┆           ┆           ┆           ┆          │\n",
       "│           ┆           ┆ 23:37:26  ┆ 23:52:31  ┆   ┆           ┆           ┆           ┆          │\n",
       "│ max       ┆ 6.0       ┆ 2024-04-0 ┆ 2024-04-0 ┆ … ┆ 1.0       ┆ 1021.99   ┆ 2.5       ┆ 1.75     │\n",
       "│           ┆           ┆ 1         ┆ 2         ┆   ┆           ┆           ┆           ┆          │\n",
       "│           ┆           ┆ 00:34:55  ┆ 18:08:46  ┆   ┆           ┆           ┆           ┆          │\n",
       "└───────────┴───────────┴───────────┴───────────┴───┴───────────┴───────────┴───────────┴──────────┘"
      ]
     },
     "execution_count": 13,
     "metadata": {},
     "output_type": "execute_result"
    }
   ],
   "source": [
    "df.describe()"
   ]
  },
  {
   "cell_type": "markdown",
   "id": "d4f2beb1",
   "metadata": {},
   "source": [
    "Here we can see how many null and non-null values are in each column, the average and standard deviation of each column, and the key quantiles of each column."
   ]
  },
  {
   "cell_type": "markdown",
   "id": "84fddd02",
   "metadata": {},
   "source": [
    "Now, it's time to get lazy... let's try loading data with `polars` in lazy mode!"
   ]
  },
  {
   "cell_type": "markdown",
   "id": "b3c44cc5",
   "metadata": {},
   "source": [
    "## 2.3. Scanning Data From `csv`"
   ]
  },
  {
   "cell_type": "markdown",
   "id": "f5f49cd3",
   "metadata": {},
   "source": [
    "As we mentioned in the previous module, `polars` supports two ways of loading and processing data: the in-memory mode with `DataFrame`, and the lazy mode with `LazyFrame`. With `DataFrame`, all operations are executed as they are written; with `LazyFrame`, however, operations are optimized before they are executed.\n",
    "\n",
    "The most common way to enter lazy mode is by starting with `polars.scan_csv()` instead of `polars.read_csv()`:"
   ]
  },
  {
   "cell_type": "code",
   "execution_count": 14,
   "id": "b2840091",
   "metadata": {},
   "outputs": [],
   "source": [
    "lf = pl.scan_csv(\n",
    "    \"../data/yellow_tripdata_2024-03.csv\",\n",
    "    schema_overrides={\"tpep_pickup_datetime\": pl.Datetime, \"tpep_dropoff_datetime\": pl.Datetime}\n",
    ")"
   ]
  },
  {
   "cell_type": "markdown",
   "id": "d37e8bae",
   "metadata": {},
   "source": [
    "That's right--we can use the `schema_overrides` argument with `polars.scan_csv()` as well! `polars.scan_csv()` supports (almost) all the same input arguments as `polars.read_csv()`, making it easy to work with.\n",
    "\n",
    "As in the last section, let's do `head()` to take a look at the data."
   ]
  },
  {
   "cell_type": "code",
   "execution_count": 15,
   "id": "cdf23d81",
   "metadata": {},
   "outputs": [
    {
     "data": {
      "text/html": [
       "<h4>NAIVE QUERY PLAN</h4><p>run <b>LazyFrame.show_graph()</b> to see the optimized version</p><?xml version=\"1.0\" encoding=\"UTF-8\" standalone=\"no\"?>\n",
       "<!DOCTYPE svg PUBLIC \"-//W3C//DTD SVG 1.1//EN\"\n",
       " \"http://www.w3.org/Graphics/SVG/1.1/DTD/svg11.dtd\">\n",
       "<!-- Generated by graphviz version 11.0.0 (20240428.1522)\n",
       " -->\n",
       "<!-- Title: polars_query Pages: 1 -->\n",
       "<svg width=\"284pt\" height=\"138pt\"\n",
       " viewBox=\"0.00 0.00 284.25 137.50\" xmlns=\"http://www.w3.org/2000/svg\" xmlns:xlink=\"http://www.w3.org/1999/xlink\">\n",
       "<g id=\"graph0\" class=\"graph\" transform=\"scale(1 1) rotate(0) translate(4 133.5)\">\n",
       "<title>polars_query</title>\n",
       "<polygon fill=\"white\" stroke=\"none\" points=\"-4,4 -4,-133.5 280.25,-133.5 280.25,4 -4,4\"/>\n",
       "<!-- p1 -->\n",
       "<g id=\"node1\" class=\"node\">\n",
       "<title>p1</title>\n",
       "<polygon fill=\"none\" stroke=\"black\" points=\"208.38,-129.5 67.88,-129.5 67.88,-93.5 208.38,-93.5 208.38,-129.5\"/>\n",
       "<text text-anchor=\"middle\" x=\"138.12\" y=\"-106.45\" font-family=\"Times,serif\" font-size=\"14.00\">SLICE offset: 0; len: 5</text>\n",
       "</g>\n",
       "<!-- p2 -->\n",
       "<g id=\"node2\" class=\"node\">\n",
       "<title>p2</title>\n",
       "<polygon fill=\"none\" stroke=\"black\" points=\"276.25,-57.5 0,-57.5 0,0 276.25,0 276.25,-57.5\"/>\n",
       "<text text-anchor=\"middle\" x=\"138.12\" y=\"-40.2\" font-family=\"Times,serif\" font-size=\"14.00\">Csv SCAN ../data/yellow_tripdata_2024&#45;03.csv</text>\n",
       "<text text-anchor=\"middle\" x=\"138.12\" y=\"-23.7\" font-family=\"Times,serif\" font-size=\"14.00\">π */19;</text>\n",
       "<text text-anchor=\"middle\" x=\"138.12\" y=\"-7.2\" font-family=\"Times,serif\" font-size=\"14.00\">σ None</text>\n",
       "</g>\n",
       "<!-- p1&#45;&#45;p2 -->\n",
       "<g id=\"edge1\" class=\"edge\">\n",
       "<title>p1&#45;&#45;p2</title>\n",
       "<path fill=\"none\" stroke=\"black\" d=\"M138.12,-93.38C138.12,-83.1 138.12,-69.77 138.12,-57.97\"/>\n",
       "</g>\n",
       "</g>\n",
       "</svg>\n"
      ],
      "text/plain": [
       "<LazyFrame at 0x108C49B20>"
      ]
     },
     "execution_count": 15,
     "metadata": {},
     "output_type": "execute_result"
    }
   ],
   "source": [
    "lf.head()"
   ]
  },
  {
   "cell_type": "markdown",
   "id": "90b88a74",
   "metadata": {},
   "source": [
    "Hey, that's not a dataframe!\n",
    "\n",
    "When working with a `LazyFrame`, it's better to think of it as a \"query\" rather than as a \"dataframe\". To this end, displaying a `LazyFrame` object doesn't show the data result; rather, **it shows you what the computer is going to do to get you the data result**.\n",
    "\n",
    "In this case (reading the graph in the image from bottom to top), polars will:\n",
    "- `pl.scan_csv(...)`: scan the csv, selecting all columns (\"π \\*/19\") and filtering None (\"σ None\").\n",
    "- `.head()`: Take the first five rows (\"SLICE offset: 0; len: 5\").\n",
    "\n",
    "_Note: If this didn't work for you, you need to install `graphviz`. You can read more about how to do that on the [`graphviz` website](https://graphviz.org/download/)._\n",
    "\n",
    "_Another note: If the syntax here with π and σ looks weird to you, that's relational algebra, the formal algebra and notation underlying relational data (i.e. columnar data). For a deeper look into that, check out [the Wikipedia page about it](https://en.wikipedia.org/wiki/Relational_algebra)._"
   ]
  },
  {
   "cell_type": "markdown",
   "id": "b00feec4",
   "metadata": {},
   "source": [
    "You might also notice that, the graph instructs us to *\"run **LazyFrame.show_graph()** to see the optimized version\"*. Let's do that!"
   ]
  },
  {
   "cell_type": "code",
   "execution_count": 16,
   "id": "0ef18eba",
   "metadata": {},
   "outputs": [
    {
     "data": {
      "image/svg+xml": [
       "<svg xmlns=\"http://www.w3.org/2000/svg\" xmlns:xlink=\"http://www.w3.org/1999/xlink\" width=\"284pt\" height=\"138pt\" viewBox=\"0.00 0.00 284.25 137.50\">\n",
       "<g id=\"graph0\" class=\"graph\" transform=\"scale(1 1) rotate(0) translate(4 133.5)\">\n",
       "<title>polars_query</title>\n",
       "<polygon fill=\"white\" stroke=\"none\" points=\"-4,4 -4,-133.5 280.25,-133.5 280.25,4 -4,4\"/>\n",
       "<!-- p1 -->\n",
       "<g id=\"node1\" class=\"node\">\n",
       "<title>p1</title>\n",
       "<polygon fill=\"none\" stroke=\"black\" points=\"208.38,-129.5 67.88,-129.5 67.88,-93.5 208.38,-93.5 208.38,-129.5\"/>\n",
       "<text text-anchor=\"middle\" x=\"138.12\" y=\"-106.45\" font-family=\"Times,serif\" font-size=\"14.00\">SLICE offset: 0; len: 5</text>\n",
       "</g>\n",
       "<!-- p2 -->\n",
       "<g id=\"node2\" class=\"node\">\n",
       "<title>p2</title>\n",
       "<polygon fill=\"none\" stroke=\"black\" points=\"276.25,-57.5 0,-57.5 0,0 276.25,0 276.25,-57.5\"/>\n",
       "<text text-anchor=\"middle\" x=\"138.12\" y=\"-40.2\" font-family=\"Times,serif\" font-size=\"14.00\">Csv SCAN ../data/yellow_tripdata_2024-03.csv</text>\n",
       "<text text-anchor=\"middle\" x=\"138.12\" y=\"-23.7\" font-family=\"Times,serif\" font-size=\"14.00\">π */19;</text>\n",
       "<text text-anchor=\"middle\" x=\"138.12\" y=\"-7.2\" font-family=\"Times,serif\" font-size=\"14.00\">σ None</text>\n",
       "</g>\n",
       "<!-- p1&#45;&#45;p2 -->\n",
       "<g id=\"edge1\" class=\"edge\">\n",
       "<title>p1--p2</title>\n",
       "<path fill=\"none\" stroke=\"black\" d=\"M138.12,-93.38C138.12,-83.1 138.12,-69.77 138.12,-57.97\"/>\n",
       "</g>\n",
       "</g>\n",
       "</svg>"
      ],
      "text/plain": [
       "<IPython.core.display.SVG object>"
      ]
     },
     "metadata": {},
     "output_type": "display_data"
    }
   ],
   "source": [
    "lf.head().show_graph()"
   ]
  },
  {
   "cell_type": "markdown",
   "id": "2564b9ca",
   "metadata": {},
   "source": [
    "Looks the same as the naive query plan--nothing to optimize here! Either way, we can see the result of the data with a call to `.collect()`:"
   ]
  },
  {
   "cell_type": "code",
   "execution_count": 17,
   "id": "21b22d2d",
   "metadata": {},
   "outputs": [
    {
     "data": {
      "text/html": [
       "<div><style>\n",
       ".dataframe > thead > tr,\n",
       ".dataframe > tbody > tr {\n",
       "  text-align: right;\n",
       "  white-space: pre-wrap;\n",
       "}\n",
       "</style>\n",
       "<small>shape: (5, 19)</small><table border=\"1\" class=\"dataframe\"><thead><tr><th>VendorID</th><th>tpep_pickup_datetime</th><th>tpep_dropoff_datetime</th><th>passenger_count</th><th>trip_distance</th><th>RatecodeID</th><th>store_and_fwd_flag</th><th>PULocationID</th><th>DOLocationID</th><th>payment_type</th><th>fare_amount</th><th>extra</th><th>mta_tax</th><th>tip_amount</th><th>tolls_amount</th><th>improvement_surcharge</th><th>total_amount</th><th>congestion_surcharge</th><th>Airport_fee</th></tr><tr><td>i64</td><td>datetime[μs]</td><td>datetime[μs]</td><td>i64</td><td>f64</td><td>i64</td><td>str</td><td>i64</td><td>i64</td><td>i64</td><td>f64</td><td>f64</td><td>f64</td><td>f64</td><td>f64</td><td>f64</td><td>f64</td><td>f64</td><td>f64</td></tr></thead><tbody><tr><td>1</td><td>2024-03-01 00:18:51</td><td>2024-03-01 00:23:45</td><td>0</td><td>1.3</td><td>1</td><td>&quot;N&quot;</td><td>142</td><td>239</td><td>1</td><td>8.6</td><td>3.5</td><td>0.5</td><td>2.7</td><td>0.0</td><td>1.0</td><td>16.3</td><td>2.5</td><td>0.0</td></tr><tr><td>1</td><td>2024-03-01 00:26:00</td><td>2024-03-01 00:29:06</td><td>0</td><td>1.1</td><td>1</td><td>&quot;N&quot;</td><td>238</td><td>24</td><td>1</td><td>7.2</td><td>3.5</td><td>0.5</td><td>3.0</td><td>0.0</td><td>1.0</td><td>15.2</td><td>2.5</td><td>0.0</td></tr><tr><td>2</td><td>2024-03-01 00:09:22</td><td>2024-03-01 00:15:24</td><td>1</td><td>0.86</td><td>1</td><td>&quot;N&quot;</td><td>263</td><td>75</td><td>2</td><td>7.9</td><td>1.0</td><td>0.5</td><td>0.0</td><td>0.0</td><td>1.0</td><td>10.4</td><td>0.0</td><td>0.0</td></tr><tr><td>2</td><td>2024-03-01 00:33:45</td><td>2024-03-01 00:39:34</td><td>1</td><td>0.82</td><td>1</td><td>&quot;N&quot;</td><td>164</td><td>162</td><td>1</td><td>7.9</td><td>1.0</td><td>0.5</td><td>1.29</td><td>0.0</td><td>1.0</td><td>14.19</td><td>2.5</td><td>0.0</td></tr><tr><td>1</td><td>2024-03-01 00:05:43</td><td>2024-03-01 00:26:22</td><td>0</td><td>4.9</td><td>1</td><td>&quot;N&quot;</td><td>263</td><td>7</td><td>2</td><td>25.4</td><td>3.5</td><td>0.5</td><td>0.0</td><td>0.0</td><td>1.0</td><td>30.4</td><td>2.5</td><td>0.0</td></tr></tbody></table></div>"
      ],
      "text/plain": [
       "shape: (5, 19)\n",
       "┌──────────┬───────────┬───────────┬───────────┬───┬───────────┬───────────┬───────────┬───────────┐\n",
       "│ VendorID ┆ tpep_pick ┆ tpep_drop ┆ passenger ┆ … ┆ improveme ┆ total_amo ┆ congestio ┆ Airport_f │\n",
       "│ ---      ┆ up_dateti ┆ off_datet ┆ _count    ┆   ┆ nt_surcha ┆ unt       ┆ n_surchar ┆ ee        │\n",
       "│ i64      ┆ me        ┆ ime       ┆ ---       ┆   ┆ rge       ┆ ---       ┆ ge        ┆ ---       │\n",
       "│          ┆ ---       ┆ ---       ┆ i64       ┆   ┆ ---       ┆ f64       ┆ ---       ┆ f64       │\n",
       "│          ┆ datetime[ ┆ datetime[ ┆           ┆   ┆ f64       ┆           ┆ f64       ┆           │\n",
       "│          ┆ μs]       ┆ μs]       ┆           ┆   ┆           ┆           ┆           ┆           │\n",
       "╞══════════╪═══════════╪═══════════╪═══════════╪═══╪═══════════╪═══════════╪═══════════╪═══════════╡\n",
       "│ 1        ┆ 2024-03-0 ┆ 2024-03-0 ┆ 0         ┆ … ┆ 1.0       ┆ 16.3      ┆ 2.5       ┆ 0.0       │\n",
       "│          ┆ 1         ┆ 1         ┆           ┆   ┆           ┆           ┆           ┆           │\n",
       "│          ┆ 00:18:51  ┆ 00:23:45  ┆           ┆   ┆           ┆           ┆           ┆           │\n",
       "│ 1        ┆ 2024-03-0 ┆ 2024-03-0 ┆ 0         ┆ … ┆ 1.0       ┆ 15.2      ┆ 2.5       ┆ 0.0       │\n",
       "│          ┆ 1         ┆ 1         ┆           ┆   ┆           ┆           ┆           ┆           │\n",
       "│          ┆ 00:26:00  ┆ 00:29:06  ┆           ┆   ┆           ┆           ┆           ┆           │\n",
       "│ 2        ┆ 2024-03-0 ┆ 2024-03-0 ┆ 1         ┆ … ┆ 1.0       ┆ 10.4      ┆ 0.0       ┆ 0.0       │\n",
       "│          ┆ 1         ┆ 1         ┆           ┆   ┆           ┆           ┆           ┆           │\n",
       "│          ┆ 00:09:22  ┆ 00:15:24  ┆           ┆   ┆           ┆           ┆           ┆           │\n",
       "│ 2        ┆ 2024-03-0 ┆ 2024-03-0 ┆ 1         ┆ … ┆ 1.0       ┆ 14.19     ┆ 2.5       ┆ 0.0       │\n",
       "│          ┆ 1         ┆ 1         ┆           ┆   ┆           ┆           ┆           ┆           │\n",
       "│          ┆ 00:33:45  ┆ 00:39:34  ┆           ┆   ┆           ┆           ┆           ┆           │\n",
       "│ 1        ┆ 2024-03-0 ┆ 2024-03-0 ┆ 0         ┆ … ┆ 1.0       ┆ 30.4      ┆ 2.5       ┆ 0.0       │\n",
       "│          ┆ 1         ┆ 1         ┆           ┆   ┆           ┆           ┆           ┆           │\n",
       "│          ┆ 00:05:43  ┆ 00:26:22  ┆           ┆   ┆           ┆           ┆           ┆           │\n",
       "└──────────┴───────────┴───────────┴───────────┴───┴───────────┴───────────┴───────────┴───────────┘"
      ]
     },
     "execution_count": 17,
     "metadata": {},
     "output_type": "execute_result"
    }
   ],
   "source": [
    "lf.head().collect()"
   ]
  },
  {
   "cell_type": "markdown",
   "id": "cc9f0355",
   "metadata": {},
   "source": [
    "Now you can load `csv`'s the in-memory way, and the lazy way--great! Now, let's actually do something beyond just loading... something that will trigger the query optimization engine..."
   ]
  },
  {
   "cell_type": "markdown",
   "id": "401e78db",
   "metadata": {},
   "source": [
    "## 2.4. Selecting Data"
   ]
  },
  {
   "cell_type": "markdown",
   "id": "ee9c2c20",
   "metadata": {},
   "source": [
    "Now that we have the data loaded--both as a `polars.DataFrame` and as a `polars.LazyFrame`--it's time to start querying it! Let's start with the most straightforward: selecting.\n",
    "\n",
    "If you're coming from `pandas`, the notation for selecting columns is with brackets, like `pandas.Dataframe[]`; if you're coming from `SQL`, the notation is `SELECT`. `Polars` is more like `SQL`, the notation is `polars.DataFrame.select()`.\n",
    "\n",
    "Suppose we only want to know the pickup and dropoff time of each taxi ride..."
   ]
  },
  {
   "cell_type": "code",
   "execution_count": 18,
   "id": "25268035",
   "metadata": {},
   "outputs": [
    {
     "data": {
      "text/html": [
       "<div><style>\n",
       ".dataframe > thead > tr,\n",
       ".dataframe > tbody > tr {\n",
       "  text-align: right;\n",
       "  white-space: pre-wrap;\n",
       "}\n",
       "</style>\n",
       "<small>shape: (5, 2)</small><table border=\"1\" class=\"dataframe\"><thead><tr><th>tpep_pickup_datetime</th><th>tpep_dropoff_datetime</th></tr><tr><td>datetime[μs]</td><td>datetime[μs]</td></tr></thead><tbody><tr><td>2024-03-01 00:18:51</td><td>2024-03-01 00:23:45</td></tr><tr><td>2024-03-01 00:26:00</td><td>2024-03-01 00:29:06</td></tr><tr><td>2024-03-01 00:09:22</td><td>2024-03-01 00:15:24</td></tr><tr><td>2024-03-01 00:33:45</td><td>2024-03-01 00:39:34</td></tr><tr><td>2024-03-01 00:05:43</td><td>2024-03-01 00:26:22</td></tr></tbody></table></div>"
      ],
      "text/plain": [
       "shape: (5, 2)\n",
       "┌──────────────────────┬───────────────────────┐\n",
       "│ tpep_pickup_datetime ┆ tpep_dropoff_datetime │\n",
       "│ ---                  ┆ ---                   │\n",
       "│ datetime[μs]         ┆ datetime[μs]          │\n",
       "╞══════════════════════╪═══════════════════════╡\n",
       "│ 2024-03-01 00:18:51  ┆ 2024-03-01 00:23:45   │\n",
       "│ 2024-03-01 00:26:00  ┆ 2024-03-01 00:29:06   │\n",
       "│ 2024-03-01 00:09:22  ┆ 2024-03-01 00:15:24   │\n",
       "│ 2024-03-01 00:33:45  ┆ 2024-03-01 00:39:34   │\n",
       "│ 2024-03-01 00:05:43  ┆ 2024-03-01 00:26:22   │\n",
       "└──────────────────────┴───────────────────────┘"
      ]
     },
     "execution_count": 18,
     "metadata": {},
     "output_type": "execute_result"
    }
   ],
   "source": [
    "(\n",
    "    df\n",
    "    .select([\"tpep_pickup_datetime\", \"tpep_dropoff_datetime\"])\n",
    "    .head()\n",
    ")"
   ]
  },
  {
   "cell_type": "markdown",
   "id": "81b96b5e",
   "metadata": {},
   "source": [
    "Easy! Let's see what that looks like with the `LazyFrame`:"
   ]
  },
  {
   "cell_type": "code",
   "execution_count": 20,
   "id": "88028b1a",
   "metadata": {},
   "outputs": [
    {
     "data": {
      "text/html": [
       "<h4>NAIVE QUERY PLAN</h4><p>run <b>LazyFrame.show_graph()</b> to see the optimized version</p><?xml version=\"1.0\" encoding=\"UTF-8\" standalone=\"no\"?>\n",
       "<!DOCTYPE svg PUBLIC \"-//W3C//DTD SVG 1.1//EN\"\n",
       " \"http://www.w3.org/Graphics/SVG/1.1/DTD/svg11.dtd\">\n",
       "<!-- Generated by graphviz version 11.0.0 (20240428.1522)\n",
       " -->\n",
       "<!-- Title: polars_query Pages: 1 -->\n",
       "<svg width=\"284pt\" height=\"210pt\"\n",
       " viewBox=\"0.00 0.00 284.25 209.50\" xmlns=\"http://www.w3.org/2000/svg\" xmlns:xlink=\"http://www.w3.org/1999/xlink\">\n",
       "<g id=\"graph0\" class=\"graph\" transform=\"scale(1 1) rotate(0) translate(4 205.5)\">\n",
       "<title>polars_query</title>\n",
       "<polygon fill=\"white\" stroke=\"none\" points=\"-4,4 -4,-205.5 280.25,-205.5 280.25,4 -4,4\"/>\n",
       "<!-- p1 -->\n",
       "<g id=\"node1\" class=\"node\">\n",
       "<title>p1</title>\n",
       "<polygon fill=\"none\" stroke=\"black\" points=\"208.38,-201.5 67.88,-201.5 67.88,-165.5 208.38,-165.5 208.38,-201.5\"/>\n",
       "<text text-anchor=\"middle\" x=\"138.12\" y=\"-178.45\" font-family=\"Times,serif\" font-size=\"14.00\">SLICE offset: 0; len: 5</text>\n",
       "</g>\n",
       "<!-- p2 -->\n",
       "<g id=\"node2\" class=\"node\">\n",
       "<title>p2</title>\n",
       "<polygon fill=\"none\" stroke=\"black\" points=\"165.12,-129.5 111.12,-129.5 111.12,-93.5 165.12,-93.5 165.12,-129.5\"/>\n",
       "<text text-anchor=\"middle\" x=\"138.12\" y=\"-106.45\" font-family=\"Times,serif\" font-size=\"14.00\">π 2/2</text>\n",
       "</g>\n",
       "<!-- p1&#45;&#45;p2 -->\n",
       "<g id=\"edge1\" class=\"edge\">\n",
       "<title>p1&#45;&#45;p2</title>\n",
       "<path fill=\"none\" stroke=\"black\" d=\"M138.12,-165.2C138.12,-154.35 138.12,-140.42 138.12,-129.6\"/>\n",
       "</g>\n",
       "<!-- p3 -->\n",
       "<g id=\"node3\" class=\"node\">\n",
       "<title>p3</title>\n",
       "<polygon fill=\"none\" stroke=\"black\" points=\"276.25,-57.5 0,-57.5 0,0 276.25,0 276.25,-57.5\"/>\n",
       "<text text-anchor=\"middle\" x=\"138.12\" y=\"-40.2\" font-family=\"Times,serif\" font-size=\"14.00\">Csv SCAN ../data/yellow_tripdata_2024&#45;03.csv</text>\n",
       "<text text-anchor=\"middle\" x=\"138.12\" y=\"-23.7\" font-family=\"Times,serif\" font-size=\"14.00\">π */19;</text>\n",
       "<text text-anchor=\"middle\" x=\"138.12\" y=\"-7.2\" font-family=\"Times,serif\" font-size=\"14.00\">σ None</text>\n",
       "</g>\n",
       "<!-- p2&#45;&#45;p3 -->\n",
       "<g id=\"edge2\" class=\"edge\">\n",
       "<title>p2&#45;&#45;p3</title>\n",
       "<path fill=\"none\" stroke=\"black\" d=\"M138.12,-93.38C138.12,-83.1 138.12,-69.77 138.12,-57.97\"/>\n",
       "</g>\n",
       "</g>\n",
       "</svg>\n"
      ],
      "text/plain": [
       "<LazyFrame at 0x108D5F170>"
      ]
     },
     "execution_count": 20,
     "metadata": {},
     "output_type": "execute_result"
    }
   ],
   "source": [
    "(\n",
    "    lf\n",
    "    .select([\"tpep_pickup_datetime\", \"tpep_dropoff_datetime\"])\n",
    "    .head()\n",
    ")"
   ]
  },
  {
   "cell_type": "markdown",
   "id": "9274c712",
   "metadata": {},
   "source": [
    "Again, you can see the naively sequential order of the query in the naive query plan:\n",
    "- `pl.scan_csv(...)`: scan the csv, selecting all columns (\"π \\*/19\") and filtering None (\"σ None\").\n",
    "- `.select(...)`: select two columns (\"π 2/2\").\n",
    "- `.head()`: Take the first five rows (\"SLICE offset: 0; len: 5\").\n",
    "\n",
    "But let's see what `Polars` will *actually* do to execute the query:"
   ]
  },
  {
   "cell_type": "code",
   "execution_count": 21,
   "id": "ed0dc8ed",
   "metadata": {},
   "outputs": [
    {
     "data": {
      "image/svg+xml": [
       "<svg xmlns=\"http://www.w3.org/2000/svg\" xmlns:xlink=\"http://www.w3.org/1999/xlink\" width=\"284pt\" height=\"138pt\" viewBox=\"0.00 0.00 284.25 137.50\">\n",
       "<g id=\"graph0\" class=\"graph\" transform=\"scale(1 1) rotate(0) translate(4 133.5)\">\n",
       "<title>polars_query</title>\n",
       "<polygon fill=\"white\" stroke=\"none\" points=\"-4,4 -4,-133.5 280.25,-133.5 280.25,4 -4,4\"/>\n",
       "<!-- p1 -->\n",
       "<g id=\"node1\" class=\"node\">\n",
       "<title>p1</title>\n",
       "<polygon fill=\"none\" stroke=\"black\" points=\"208.38,-129.5 67.88,-129.5 67.88,-93.5 208.38,-93.5 208.38,-129.5\"/>\n",
       "<text text-anchor=\"middle\" x=\"138.12\" y=\"-106.45\" font-family=\"Times,serif\" font-size=\"14.00\">SLICE offset: 0; len: 5</text>\n",
       "</g>\n",
       "<!-- p2 -->\n",
       "<g id=\"node2\" class=\"node\">\n",
       "<title>p2</title>\n",
       "<polygon fill=\"none\" stroke=\"black\" points=\"276.25,-57.5 0,-57.5 0,0 276.25,0 276.25,-57.5\"/>\n",
       "<text text-anchor=\"middle\" x=\"138.12\" y=\"-40.2\" font-family=\"Times,serif\" font-size=\"14.00\">Csv SCAN ../data/yellow_tripdata_2024-03.csv</text>\n",
       "<text text-anchor=\"middle\" x=\"138.12\" y=\"-23.7\" font-family=\"Times,serif\" font-size=\"14.00\">π 2/19;</text>\n",
       "<text text-anchor=\"middle\" x=\"138.12\" y=\"-7.2\" font-family=\"Times,serif\" font-size=\"14.00\">σ None</text>\n",
       "</g>\n",
       "<!-- p1&#45;&#45;p2 -->\n",
       "<g id=\"edge1\" class=\"edge\">\n",
       "<title>p1--p2</title>\n",
       "<path fill=\"none\" stroke=\"black\" d=\"M138.12,-93.38C138.12,-83.1 138.12,-69.77 138.12,-57.97\"/>\n",
       "</g>\n",
       "</g>\n",
       "</svg>"
      ],
      "text/plain": [
       "<IPython.core.display.SVG object>"
      ]
     },
     "metadata": {},
     "output_type": "display_data"
    }
   ],
   "source": [
    "(\n",
    "    lf\n",
    "    .select([\"tpep_pickup_datetime\", \"tpep_dropoff_datetime\"])\n",
    "    .head()\n",
    "    .show_graph()\n",
    ")"
   ]
  },
  {
   "cell_type": "markdown",
   "id": "5990721c",
   "metadata": {},
   "source": [
    "It's different! Rather than the naive query plan, in which all 19 columns are selected during the data loading, only to be selected down to 2 columns immediately thereafter, the optimized query plan shows that the two columns `\"tpep_pickup_datetime\"` and `\"tpep_dropoff_datetime\"` are being selected **while** the CSV is being read! This means that **the other 17 columns are never loaded into memory**, giving your code a massive boost in storage performance, and run performance during reading.\n",
    "\n",
    "Let's run the query:"
   ]
  },
  {
   "cell_type": "code",
   "execution_count": 22,
   "id": "9929a89f",
   "metadata": {},
   "outputs": [
    {
     "data": {
      "text/html": [
       "<div><style>\n",
       ".dataframe > thead > tr,\n",
       ".dataframe > tbody > tr {\n",
       "  text-align: right;\n",
       "  white-space: pre-wrap;\n",
       "}\n",
       "</style>\n",
       "<small>shape: (5, 2)</small><table border=\"1\" class=\"dataframe\"><thead><tr><th>tpep_pickup_datetime</th><th>tpep_dropoff_datetime</th></tr><tr><td>datetime[μs]</td><td>datetime[μs]</td></tr></thead><tbody><tr><td>2024-03-01 00:18:51</td><td>2024-03-01 00:23:45</td></tr><tr><td>2024-03-01 00:26:00</td><td>2024-03-01 00:29:06</td></tr><tr><td>2024-03-01 00:09:22</td><td>2024-03-01 00:15:24</td></tr><tr><td>2024-03-01 00:33:45</td><td>2024-03-01 00:39:34</td></tr><tr><td>2024-03-01 00:05:43</td><td>2024-03-01 00:26:22</td></tr></tbody></table></div>"
      ],
      "text/plain": [
       "shape: (5, 2)\n",
       "┌──────────────────────┬───────────────────────┐\n",
       "│ tpep_pickup_datetime ┆ tpep_dropoff_datetime │\n",
       "│ ---                  ┆ ---                   │\n",
       "│ datetime[μs]         ┆ datetime[μs]          │\n",
       "╞══════════════════════╪═══════════════════════╡\n",
       "│ 2024-03-01 00:18:51  ┆ 2024-03-01 00:23:45   │\n",
       "│ 2024-03-01 00:26:00  ┆ 2024-03-01 00:29:06   │\n",
       "│ 2024-03-01 00:09:22  ┆ 2024-03-01 00:15:24   │\n",
       "│ 2024-03-01 00:33:45  ┆ 2024-03-01 00:39:34   │\n",
       "│ 2024-03-01 00:05:43  ┆ 2024-03-01 00:26:22   │\n",
       "└──────────────────────┴───────────────────────┘"
      ]
     },
     "execution_count": 22,
     "metadata": {},
     "output_type": "execute_result"
    }
   ],
   "source": [
    "(\n",
    "    lf\n",
    "    .select([\"tpep_pickup_datetime\", \"tpep_dropoff_datetime\"])\n",
    "    .head()\n",
    "    .collect()\n",
    ")"
   ]
  },
  {
   "cell_type": "markdown",
   "id": "7fa1d87d",
   "metadata": {},
   "source": [
    "And the result is identical to doing it with `DataFrame`! But before moving on, let's see--how much of a boost to run-performance did we get?"
   ]
  },
  {
   "cell_type": "code",
   "execution_count": 23,
   "id": "6df1d3d7",
   "metadata": {},
   "outputs": [
    {
     "name": "stdout",
     "output_type": "stream",
     "text": [
      "624 ms ± 35.1 ms per loop (mean ± std. dev. of 7 runs, 3 loops each)\n"
     ]
    }
   ],
   "source": [
    "%%timeit -n 3\n",
    "(\n",
    "    pl.read_csv(\n",
    "        \"../data/yellow_tripdata_2024-03.csv\",\n",
    "        schema_overrides={\"tpep_pickup_datetime\": pl.Datetime, \"tpep_dropoff_datetime\": pl.Datetime}\n",
    "    )\n",
    "    .select([\"tpep_pickup_datetime\", \"tpep_dropoff_datetime\"])\n",
    ")"
   ]
  },
  {
   "cell_type": "code",
   "execution_count": 24,
   "id": "e6226416",
   "metadata": {},
   "outputs": [
    {
     "name": "stdout",
     "output_type": "stream",
     "text": [
      "213 ms ± 6.78 ms per loop (mean ± std. dev. of 7 runs, 3 loops each)\n"
     ]
    }
   ],
   "source": [
    "%%timeit -n 3\n",
    "(\n",
    "    pl.scan_csv(\n",
    "        \"../data/yellow_tripdata_2024-03.csv\",\n",
    "        schema_overrides={\"tpep_pickup_datetime\": pl.Datetime, \"tpep_dropoff_datetime\": pl.Datetime}\n",
    "    )\n",
    "    .select([\"tpep_pickup_datetime\", \"tpep_dropoff_datetime\"])\n",
    "    .collect()\n",
    ")"
   ]
  },
  {
   "cell_type": "markdown",
   "id": "8ff3d9f1",
   "metadata": {},
   "source": [
    "Almost a 3x speed increase!"
   ]
  },
  {
   "cell_type": "markdown",
   "id": "50b2f006",
   "metadata": {},
   "source": [
    "You'll also notice, again, that the syntax for selecting columns with the `polars.LazyFrame` is identical to the syntax for selecting columns with `polars.DataFrame`. In almost all cases, this is true in `Polars`--that the syntax for the two is the same, only that `polars.LazyFrame` requires a `.collect()` call to actually return data."
   ]
  },
  {
   "cell_type": "markdown",
   "id": "2d3b7c2b",
   "metadata": {},
   "source": [
    "It's also worth mentioning here that, while we can easily convert a `pl.LazyFrame` to a `pl.DataFrame` with `.collect()`, the same can be done in the opposite direction with `pl.DataFrame.lazy()`. Let's check it out:"
   ]
  },
  {
   "cell_type": "code",
   "execution_count": 25,
   "id": "5c0629fc",
   "metadata": {},
   "outputs": [
    {
     "data": {
      "text/plain": [
       "polars.lazyframe.frame.LazyFrame"
      ]
     },
     "execution_count": 25,
     "metadata": {},
     "output_type": "execute_result"
    }
   ],
   "source": [
    "df_as_lazy = (\n",
    "    pl.read_csv(\n",
    "        \"../data/yellow_tripdata_2024-03.csv\",\n",
    "        schema_overrides={\"tpep_pickup_datetime\": pl.Datetime, \"tpep_dropoff_datetime\": pl.Datetime}\n",
    "    )\n",
    "    .lazy()\n",
    ")\n",
    "type(df_as_lazy)"
   ]
  },
  {
   "cell_type": "markdown",
   "id": "21c228e3",
   "metadata": {},
   "source": [
    "Before moving onto the next module, let's try loading in one more file type: `parquet`."
   ]
  },
  {
   "cell_type": "markdown",
   "id": "2e17a1a3",
   "metadata": {},
   "source": [
    "## 2.5. Reading and Scanning From `parquet`"
   ]
  },
  {
   "cell_type": "markdown",
   "id": "49834d80",
   "metadata": {},
   "source": [
    "In the course introduction, we saw that `polars` uses the Apache Arrow columnar memory format, a memory format that's optimized for modern column-oriented analytics use-cases, where columns are more important than rows. Apache Arrow optimizes for modern column-oriented analytics use-cases by placing values in a column next to each other in memory, rather than placing values in a row next to each other in memory.\n",
    "\n",
    "Well, there's also a file type that uses the Apache Arrow columnar memory format--`parquet`. Due to this connection, `polars` and `parquet` work very well together, and are a great toolkit for data science.\n",
    "\n",
    "Let's try and read and scan data from parquet in the same way we did for `csv`:"
   ]
  },
  {
   "cell_type": "code",
   "execution_count": 26,
   "id": "1128812d",
   "metadata": {},
   "outputs": [
    {
     "data": {
      "text/html": [
       "<div><style>\n",
       ".dataframe > thead > tr,\n",
       ".dataframe > tbody > tr {\n",
       "  text-align: right;\n",
       "  white-space: pre-wrap;\n",
       "}\n",
       "</style>\n",
       "<small>shape: (5, 19)</small><table border=\"1\" class=\"dataframe\"><thead><tr><th>VendorID</th><th>tpep_pickup_datetime</th><th>tpep_dropoff_datetime</th><th>passenger_count</th><th>trip_distance</th><th>RatecodeID</th><th>store_and_fwd_flag</th><th>PULocationID</th><th>DOLocationID</th><th>payment_type</th><th>fare_amount</th><th>extra</th><th>mta_tax</th><th>tip_amount</th><th>tolls_amount</th><th>improvement_surcharge</th><th>total_amount</th><th>congestion_surcharge</th><th>Airport_fee</th></tr><tr><td>i32</td><td>datetime[ns]</td><td>datetime[ns]</td><td>i64</td><td>f64</td><td>i64</td><td>str</td><td>i32</td><td>i32</td><td>i64</td><td>f64</td><td>f64</td><td>f64</td><td>f64</td><td>f64</td><td>f64</td><td>f64</td><td>f64</td><td>f64</td></tr></thead><tbody><tr><td>1</td><td>2024-03-01 00:18:51</td><td>2024-03-01 00:23:45</td><td>0</td><td>1.3</td><td>1</td><td>&quot;N&quot;</td><td>142</td><td>239</td><td>1</td><td>8.6</td><td>3.5</td><td>0.5</td><td>2.7</td><td>0.0</td><td>1.0</td><td>16.3</td><td>2.5</td><td>0.0</td></tr><tr><td>1</td><td>2024-03-01 00:26:00</td><td>2024-03-01 00:29:06</td><td>0</td><td>1.1</td><td>1</td><td>&quot;N&quot;</td><td>238</td><td>24</td><td>1</td><td>7.2</td><td>3.5</td><td>0.5</td><td>3.0</td><td>0.0</td><td>1.0</td><td>15.2</td><td>2.5</td><td>0.0</td></tr><tr><td>2</td><td>2024-03-01 00:09:22</td><td>2024-03-01 00:15:24</td><td>1</td><td>0.86</td><td>1</td><td>&quot;N&quot;</td><td>263</td><td>75</td><td>2</td><td>7.9</td><td>1.0</td><td>0.5</td><td>0.0</td><td>0.0</td><td>1.0</td><td>10.4</td><td>0.0</td><td>0.0</td></tr><tr><td>2</td><td>2024-03-01 00:33:45</td><td>2024-03-01 00:39:34</td><td>1</td><td>0.82</td><td>1</td><td>&quot;N&quot;</td><td>164</td><td>162</td><td>1</td><td>7.9</td><td>1.0</td><td>0.5</td><td>1.29</td><td>0.0</td><td>1.0</td><td>14.19</td><td>2.5</td><td>0.0</td></tr><tr><td>1</td><td>2024-03-01 00:05:43</td><td>2024-03-01 00:26:22</td><td>0</td><td>4.9</td><td>1</td><td>&quot;N&quot;</td><td>263</td><td>7</td><td>2</td><td>25.4</td><td>3.5</td><td>0.5</td><td>0.0</td><td>0.0</td><td>1.0</td><td>30.4</td><td>2.5</td><td>0.0</td></tr></tbody></table></div>"
      ],
      "text/plain": [
       "shape: (5, 19)\n",
       "┌──────────┬───────────┬───────────┬───────────┬───┬───────────┬───────────┬───────────┬───────────┐\n",
       "│ VendorID ┆ tpep_pick ┆ tpep_drop ┆ passenger ┆ … ┆ improveme ┆ total_amo ┆ congestio ┆ Airport_f │\n",
       "│ ---      ┆ up_dateti ┆ off_datet ┆ _count    ┆   ┆ nt_surcha ┆ unt       ┆ n_surchar ┆ ee        │\n",
       "│ i32      ┆ me        ┆ ime       ┆ ---       ┆   ┆ rge       ┆ ---       ┆ ge        ┆ ---       │\n",
       "│          ┆ ---       ┆ ---       ┆ i64       ┆   ┆ ---       ┆ f64       ┆ ---       ┆ f64       │\n",
       "│          ┆ datetime[ ┆ datetime[ ┆           ┆   ┆ f64       ┆           ┆ f64       ┆           │\n",
       "│          ┆ ns]       ┆ ns]       ┆           ┆   ┆           ┆           ┆           ┆           │\n",
       "╞══════════╪═══════════╪═══════════╪═══════════╪═══╪═══════════╪═══════════╪═══════════╪═══════════╡\n",
       "│ 1        ┆ 2024-03-0 ┆ 2024-03-0 ┆ 0         ┆ … ┆ 1.0       ┆ 16.3      ┆ 2.5       ┆ 0.0       │\n",
       "│          ┆ 1         ┆ 1         ┆           ┆   ┆           ┆           ┆           ┆           │\n",
       "│          ┆ 00:18:51  ┆ 00:23:45  ┆           ┆   ┆           ┆           ┆           ┆           │\n",
       "│ 1        ┆ 2024-03-0 ┆ 2024-03-0 ┆ 0         ┆ … ┆ 1.0       ┆ 15.2      ┆ 2.5       ┆ 0.0       │\n",
       "│          ┆ 1         ┆ 1         ┆           ┆   ┆           ┆           ┆           ┆           │\n",
       "│          ┆ 00:26:00  ┆ 00:29:06  ┆           ┆   ┆           ┆           ┆           ┆           │\n",
       "│ 2        ┆ 2024-03-0 ┆ 2024-03-0 ┆ 1         ┆ … ┆ 1.0       ┆ 10.4      ┆ 0.0       ┆ 0.0       │\n",
       "│          ┆ 1         ┆ 1         ┆           ┆   ┆           ┆           ┆           ┆           │\n",
       "│          ┆ 00:09:22  ┆ 00:15:24  ┆           ┆   ┆           ┆           ┆           ┆           │\n",
       "│ 2        ┆ 2024-03-0 ┆ 2024-03-0 ┆ 1         ┆ … ┆ 1.0       ┆ 14.19     ┆ 2.5       ┆ 0.0       │\n",
       "│          ┆ 1         ┆ 1         ┆           ┆   ┆           ┆           ┆           ┆           │\n",
       "│          ┆ 00:33:45  ┆ 00:39:34  ┆           ┆   ┆           ┆           ┆           ┆           │\n",
       "│ 1        ┆ 2024-03-0 ┆ 2024-03-0 ┆ 0         ┆ … ┆ 1.0       ┆ 30.4      ┆ 2.5       ┆ 0.0       │\n",
       "│          ┆ 1         ┆ 1         ┆           ┆   ┆           ┆           ┆           ┆           │\n",
       "│          ┆ 00:05:43  ┆ 00:26:22  ┆           ┆   ┆           ┆           ┆           ┆           │\n",
       "└──────────┴───────────┴───────────┴───────────┴───┴───────────┴───────────┴───────────┴───────────┘"
      ]
     },
     "execution_count": 26,
     "metadata": {},
     "output_type": "execute_result"
    }
   ],
   "source": [
    "df = pl.read_parquet(\"../data/yellow_tripdata_2024-03.parquet\")\n",
    "df.head()"
   ]
  },
  {
   "cell_type": "markdown",
   "id": "c5d6d403",
   "metadata": {},
   "source": [
    "Something's changed--the `\"tpep_pickup_datetime\"` and `\"tpep_dropoff_datetime\"` get automatically read in as `datetime` data type! But why is that?\n",
    "\n",
    "Similar to how `polars` places a high importance on data types, so does `parquet`; with this, it's possible to store columns' data types alongside the data in a `parquet` file. This is something that `csv` just can't do!\n",
    "\n",
    "And, of course, there's also `scan_parquet()`:"
   ]
  },
  {
   "cell_type": "code",
   "execution_count": 27,
   "id": "74446421",
   "metadata": {},
   "outputs": [
    {
     "data": {
      "text/html": [
       "<div><style>\n",
       ".dataframe > thead > tr,\n",
       ".dataframe > tbody > tr {\n",
       "  text-align: right;\n",
       "  white-space: pre-wrap;\n",
       "}\n",
       "</style>\n",
       "<small>shape: (5, 19)</small><table border=\"1\" class=\"dataframe\"><thead><tr><th>VendorID</th><th>tpep_pickup_datetime</th><th>tpep_dropoff_datetime</th><th>passenger_count</th><th>trip_distance</th><th>RatecodeID</th><th>store_and_fwd_flag</th><th>PULocationID</th><th>DOLocationID</th><th>payment_type</th><th>fare_amount</th><th>extra</th><th>mta_tax</th><th>tip_amount</th><th>tolls_amount</th><th>improvement_surcharge</th><th>total_amount</th><th>congestion_surcharge</th><th>Airport_fee</th></tr><tr><td>i32</td><td>datetime[ns]</td><td>datetime[ns]</td><td>i64</td><td>f64</td><td>i64</td><td>str</td><td>i32</td><td>i32</td><td>i64</td><td>f64</td><td>f64</td><td>f64</td><td>f64</td><td>f64</td><td>f64</td><td>f64</td><td>f64</td><td>f64</td></tr></thead><tbody><tr><td>1</td><td>2024-03-01 00:18:51</td><td>2024-03-01 00:23:45</td><td>0</td><td>1.3</td><td>1</td><td>&quot;N&quot;</td><td>142</td><td>239</td><td>1</td><td>8.6</td><td>3.5</td><td>0.5</td><td>2.7</td><td>0.0</td><td>1.0</td><td>16.3</td><td>2.5</td><td>0.0</td></tr><tr><td>1</td><td>2024-03-01 00:26:00</td><td>2024-03-01 00:29:06</td><td>0</td><td>1.1</td><td>1</td><td>&quot;N&quot;</td><td>238</td><td>24</td><td>1</td><td>7.2</td><td>3.5</td><td>0.5</td><td>3.0</td><td>0.0</td><td>1.0</td><td>15.2</td><td>2.5</td><td>0.0</td></tr><tr><td>2</td><td>2024-03-01 00:09:22</td><td>2024-03-01 00:15:24</td><td>1</td><td>0.86</td><td>1</td><td>&quot;N&quot;</td><td>263</td><td>75</td><td>2</td><td>7.9</td><td>1.0</td><td>0.5</td><td>0.0</td><td>0.0</td><td>1.0</td><td>10.4</td><td>0.0</td><td>0.0</td></tr><tr><td>2</td><td>2024-03-01 00:33:45</td><td>2024-03-01 00:39:34</td><td>1</td><td>0.82</td><td>1</td><td>&quot;N&quot;</td><td>164</td><td>162</td><td>1</td><td>7.9</td><td>1.0</td><td>0.5</td><td>1.29</td><td>0.0</td><td>1.0</td><td>14.19</td><td>2.5</td><td>0.0</td></tr><tr><td>1</td><td>2024-03-01 00:05:43</td><td>2024-03-01 00:26:22</td><td>0</td><td>4.9</td><td>1</td><td>&quot;N&quot;</td><td>263</td><td>7</td><td>2</td><td>25.4</td><td>3.5</td><td>0.5</td><td>0.0</td><td>0.0</td><td>1.0</td><td>30.4</td><td>2.5</td><td>0.0</td></tr></tbody></table></div>"
      ],
      "text/plain": [
       "shape: (5, 19)\n",
       "┌──────────┬───────────┬───────────┬───────────┬───┬───────────┬───────────┬───────────┬───────────┐\n",
       "│ VendorID ┆ tpep_pick ┆ tpep_drop ┆ passenger ┆ … ┆ improveme ┆ total_amo ┆ congestio ┆ Airport_f │\n",
       "│ ---      ┆ up_dateti ┆ off_datet ┆ _count    ┆   ┆ nt_surcha ┆ unt       ┆ n_surchar ┆ ee        │\n",
       "│ i32      ┆ me        ┆ ime       ┆ ---       ┆   ┆ rge       ┆ ---       ┆ ge        ┆ ---       │\n",
       "│          ┆ ---       ┆ ---       ┆ i64       ┆   ┆ ---       ┆ f64       ┆ ---       ┆ f64       │\n",
       "│          ┆ datetime[ ┆ datetime[ ┆           ┆   ┆ f64       ┆           ┆ f64       ┆           │\n",
       "│          ┆ ns]       ┆ ns]       ┆           ┆   ┆           ┆           ┆           ┆           │\n",
       "╞══════════╪═══════════╪═══════════╪═══════════╪═══╪═══════════╪═══════════╪═══════════╪═══════════╡\n",
       "│ 1        ┆ 2024-03-0 ┆ 2024-03-0 ┆ 0         ┆ … ┆ 1.0       ┆ 16.3      ┆ 2.5       ┆ 0.0       │\n",
       "│          ┆ 1         ┆ 1         ┆           ┆   ┆           ┆           ┆           ┆           │\n",
       "│          ┆ 00:18:51  ┆ 00:23:45  ┆           ┆   ┆           ┆           ┆           ┆           │\n",
       "│ 1        ┆ 2024-03-0 ┆ 2024-03-0 ┆ 0         ┆ … ┆ 1.0       ┆ 15.2      ┆ 2.5       ┆ 0.0       │\n",
       "│          ┆ 1         ┆ 1         ┆           ┆   ┆           ┆           ┆           ┆           │\n",
       "│          ┆ 00:26:00  ┆ 00:29:06  ┆           ┆   ┆           ┆           ┆           ┆           │\n",
       "│ 2        ┆ 2024-03-0 ┆ 2024-03-0 ┆ 1         ┆ … ┆ 1.0       ┆ 10.4      ┆ 0.0       ┆ 0.0       │\n",
       "│          ┆ 1         ┆ 1         ┆           ┆   ┆           ┆           ┆           ┆           │\n",
       "│          ┆ 00:09:22  ┆ 00:15:24  ┆           ┆   ┆           ┆           ┆           ┆           │\n",
       "│ 2        ┆ 2024-03-0 ┆ 2024-03-0 ┆ 1         ┆ … ┆ 1.0       ┆ 14.19     ┆ 2.5       ┆ 0.0       │\n",
       "│          ┆ 1         ┆ 1         ┆           ┆   ┆           ┆           ┆           ┆           │\n",
       "│          ┆ 00:33:45  ┆ 00:39:34  ┆           ┆   ┆           ┆           ┆           ┆           │\n",
       "│ 1        ┆ 2024-03-0 ┆ 2024-03-0 ┆ 0         ┆ … ┆ 1.0       ┆ 30.4      ┆ 2.5       ┆ 0.0       │\n",
       "│          ┆ 1         ┆ 1         ┆           ┆   ┆           ┆           ┆           ┆           │\n",
       "│          ┆ 00:05:43  ┆ 00:26:22  ┆           ┆   ┆           ┆           ┆           ┆           │\n",
       "└──────────┴───────────┴───────────┴───────────┴───┴───────────┴───────────┴───────────┴───────────┘"
      ]
     },
     "execution_count": 27,
     "metadata": {},
     "output_type": "execute_result"
    }
   ],
   "source": [
    "pl.scan_parquet(\"../data/yellow_tripdata_2024-03.parquet\").head().collect()"
   ]
  },
  {
   "cell_type": "markdown",
   "id": "421516e1",
   "metadata": {},
   "source": [
    "## 2.6. Conclusion"
   ]
  },
  {
   "cell_type": "markdown",
   "id": "57a52b2f",
   "metadata": {},
   "source": [
    "In this module, we've learned:\n",
    "- How to create a dataframe from scratch;\n",
    "- How to load data to a dataframe, both from `csv` and from `parquet`, and display some basic information about it;\n",
    "- How to work with in-memory mode vs lazy mode, and the performance difference that can be expected beteween the two;\n",
    "- How to begin writing queries, with the `select` function, and how this is executed differently in in-memory vs lazy mode."
   ]
  },
  {
   "cell_type": "markdown",
   "id": "3a72630a",
   "metadata": {},
   "source": [
    "In the next module, \"Data Manipulation I: Basics\", we'll go deeper into manipulating dataframes. As a note, since this course has a more practical focus, from here on out only `DataFrame`s will be used, for syntactic brevity. As noted in this module, however, note that `DataFrame` and `LazyFrame` can almost always be used interchangeably."
   ]
  },
  {
   "cell_type": "code",
   "execution_count": null,
   "id": "596f1ebd-ad2f-4b6b-b22f-eb881c20d241",
   "metadata": {},
   "outputs": [],
   "source": []
  },
  {
   "cell_type": "code",
   "execution_count": null,
   "id": "a73c0428-3ded-4881-b42a-8f331077f1e7",
   "metadata": {},
   "outputs": [],
   "source": []
  },
  {
   "cell_type": "code",
   "execution_count": null,
   "id": "ca7df3f1-5ac1-40a3-8999-8f7ad2f23a94",
   "metadata": {},
   "outputs": [],
   "source": []
  },
  {
   "cell_type": "code",
   "execution_count": null,
   "id": "847918fe-baf0-4085-adb0-aa1c9f50505d",
   "metadata": {},
   "outputs": [],
   "source": []
  },
  {
   "cell_type": "code",
   "execution_count": null,
   "id": "fb4f197c-18b4-4bd2-828c-7b75353f2d44",
   "metadata": {},
   "outputs": [],
   "source": []
  },
  {
   "cell_type": "code",
   "execution_count": null,
   "id": "214f1359-db61-4504-9ca9-e4e402e4c895",
   "metadata": {},
   "outputs": [],
   "source": []
  }
 ],
 "metadata": {
  "kernelspec": {
   "display_name": "Python 3 (ipykernel)",
   "language": "python",
   "name": "python3"
  },
  "language_info": {
   "codemirror_mode": {
    "name": "ipython",
    "version": 3
   },
   "file_extension": ".py",
   "mimetype": "text/x-python",
   "name": "python",
   "nbconvert_exporter": "python",
   "pygments_lexer": "ipython3",
   "version": "3.12.3"
  }
 },
 "nbformat": 4,
 "nbformat_minor": 5
}
