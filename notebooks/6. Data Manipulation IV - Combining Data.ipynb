{
 "cells": [
  {
   "cell_type": "markdown",
   "id": "1653908d",
   "metadata": {},
   "source": [
    "# 6. Data Manipulation IV - Combining Data"
   ]
  },
  {
   "cell_type": "markdown",
   "id": "97a37bab",
   "metadata": {},
   "source": [
    "The goal of this module is to learn to perform Polars queries that involve combining data. More specifically, we'll cover two new Query Statements:\n",
    "1. Joining dataframes with `.join()`.\n",
    "2. Concatenating dataframes with `.concat()`."
   ]
  },
  {
   "cell_type": "markdown",
   "id": "f3a90b5b",
   "metadata": {},
   "source": [
    "But first we import `polars`..."
   ]
  },
  {
   "cell_type": "code",
   "execution_count": 1,
   "id": "9f2da0ab",
   "metadata": {},
   "outputs": [],
   "source": [
    "import polars as pl"
   ]
  },
  {
   "cell_type": "markdown",
   "id": "b346457f",
   "metadata": {},
   "source": [
    "... and load the data, this time changing the name from `df` to `rides_df` for what's in store in this module."
   ]
  },
  {
   "cell_type": "code",
   "execution_count": 11,
   "id": "b85b1837",
   "metadata": {},
   "outputs": [],
   "source": [
    "column_rename_mapping = {\n",
    "    \"VendorID\": \"vendor_id\",\n",
    "    \"RatecodeID\": \"ratecode_id\",\n",
    "    \"PULocationID\": \"pu_location_id\",\n",
    "    \"DOLocationID\": \"do_location_id\",\n",
    "    \"Airport_fee\": \"airport_fee\",\n",
    "}\n",
    "rides_df = (\n",
    "    pl.read_parquet(\"../data/yellow_tripdata_2024-03.parquet\")\n",
    "    .rename(column_rename_mapping)\n",
    ")"
   ]
  },
  {
   "cell_type": "markdown",
   "id": "1109c3fe",
   "metadata": {},
   "source": [
    "## 5.1. Joining Dataframes"
   ]
  },
  {
   "cell_type": "markdown",
   "id": "fd114a72",
   "metadata": {},
   "source": [
    "In the previous module, we were interested in seeing some summary statistics about each of the different pickup location IDs:"
   ]
  },
  {
   "cell_type": "code",
   "execution_count": 31,
   "id": "12bff3c0",
   "metadata": {},
   "outputs": [
    {
     "data": {
      "text/html": [
       "<div><style>\n",
       ".dataframe > thead > tr,\n",
       ".dataframe > tbody > tr {\n",
       "  text-align: right;\n",
       "  white-space: pre-wrap;\n",
       "}\n",
       "</style>\n",
       "<small>shape: (5, 5)</small><table border=\"1\" class=\"dataframe\"><thead><tr><th>pu_location_id</th><th>count_trips</th><th>trip_distance_min</th><th>trip_distance_max</th><th>trip_distance_mean</th></tr><tr><td>i32</td><td>u32</td><td>f64</td><td>f64</td><td>f64</td></tr></thead><tbody><tr><td>161</td><td>163269</td><td>0.0</td><td>51066.77</td><td>2.692728</td></tr><tr><td>132</td><td>157706</td><td>0.0</td><td>9211.95</td><td>15.76677</td></tr><tr><td>237</td><td>155631</td><td>0.0</td><td>44866.77</td><td>2.096025</td></tr><tr><td>236</td><td>146044</td><td>0.0</td><td>109619.96</td><td>3.481146</td></tr><tr><td>162</td><td>123805</td><td>0.0</td><td>57408.32</td><td>3.030781</td></tr></tbody></table></div>"
      ],
      "text/plain": [
       "shape: (5, 5)\n",
       "┌────────────────┬─────────────┬───────────────────┬───────────────────┬────────────────────┐\n",
       "│ pu_location_id ┆ count_trips ┆ trip_distance_min ┆ trip_distance_max ┆ trip_distance_mean │\n",
       "│ ---            ┆ ---         ┆ ---               ┆ ---               ┆ ---                │\n",
       "│ i32            ┆ u32         ┆ f64               ┆ f64               ┆ f64                │\n",
       "╞════════════════╪═════════════╪═══════════════════╪═══════════════════╪════════════════════╡\n",
       "│ 161            ┆ 163269      ┆ 0.0               ┆ 51066.77          ┆ 2.692728           │\n",
       "│ 132            ┆ 157706      ┆ 0.0               ┆ 9211.95           ┆ 15.76677           │\n",
       "│ 237            ┆ 155631      ┆ 0.0               ┆ 44866.77          ┆ 2.096025           │\n",
       "│ 236            ┆ 146044      ┆ 0.0               ┆ 109619.96         ┆ 3.481146           │\n",
       "│ 162            ┆ 123805      ┆ 0.0               ┆ 57408.32          ┆ 3.030781           │\n",
       "└────────────────┴─────────────┴───────────────────┴───────────────────┴────────────────────┘"
      ]
     },
     "execution_count": 31,
     "metadata": {},
     "output_type": "execute_result"
    }
   ],
   "source": [
    "location_id_summary_df = (\n",
    "    rides_df\n",
    "    .group_by(\"pu_location_id\")\n",
    "    .agg(\n",
    "        pl.len().alias(\"count_trips\"),\n",
    "        pl.col(\"trip_distance\").min().name.suffix(\"_min\"),\n",
    "        pl.col(\"trip_distance\").max().name.suffix(\"_max\"),\n",
    "        pl.col(\"trip_distance\").mean().name.suffix(\"_mean\"),\n",
    "    )\n",
    "    .sort(pl.col(\"count_trips\"), descending=True)\n",
    ")\n",
    "location_id_summary_df.head()"
   ]
  },
  {
   "cell_type": "markdown",
   "id": "efcd2b73",
   "metadata": {},
   "source": [
    "This is nice, but if we try to present these results to any sort of business stakeholder, the first thing they'll say is \"What are these location IDs? What is their actual name?\" Thankfully, that information is stored in another file, `\"taxi_zone_lookup.parquet\"`. Let's load it in..."
   ]
  },
  {
   "cell_type": "code",
   "execution_count": 26,
   "id": "5af5a206",
   "metadata": {},
   "outputs": [
    {
     "data": {
      "text/html": [
       "<div><style>\n",
       ".dataframe > thead > tr,\n",
       ".dataframe > tbody > tr {\n",
       "  text-align: right;\n",
       "  white-space: pre-wrap;\n",
       "}\n",
       "</style>\n",
       "<small>shape: (5, 4)</small><table border=\"1\" class=\"dataframe\"><thead><tr><th>LocationID</th><th>Borough</th><th>Zone</th><th>service_zone</th></tr><tr><td>i32</td><td>str</td><td>str</td><td>str</td></tr></thead><tbody><tr><td>1</td><td>&quot;EWR&quot;</td><td>&quot;Newark Airport&quot;</td><td>&quot;EWR&quot;</td></tr><tr><td>2</td><td>&quot;Queens&quot;</td><td>&quot;Jamaica Bay&quot;</td><td>&quot;Boro Zone&quot;</td></tr><tr><td>3</td><td>&quot;Bronx&quot;</td><td>&quot;Allerton/Pelham Gardens&quot;</td><td>&quot;Boro Zone&quot;</td></tr><tr><td>4</td><td>&quot;Manhattan&quot;</td><td>&quot;Alphabet City&quot;</td><td>&quot;Yellow Zone&quot;</td></tr><tr><td>5</td><td>&quot;Staten Island&quot;</td><td>&quot;Arden Heights&quot;</td><td>&quot;Boro Zone&quot;</td></tr></tbody></table></div>"
      ],
      "text/plain": [
       "shape: (5, 4)\n",
       "┌────────────┬───────────────┬─────────────────────────┬──────────────┐\n",
       "│ LocationID ┆ Borough       ┆ Zone                    ┆ service_zone │\n",
       "│ ---        ┆ ---           ┆ ---                     ┆ ---          │\n",
       "│ i32        ┆ str           ┆ str                     ┆ str          │\n",
       "╞════════════╪═══════════════╪═════════════════════════╪══════════════╡\n",
       "│ 1          ┆ EWR           ┆ Newark Airport          ┆ EWR          │\n",
       "│ 2          ┆ Queens        ┆ Jamaica Bay             ┆ Boro Zone    │\n",
       "│ 3          ┆ Bronx         ┆ Allerton/Pelham Gardens ┆ Boro Zone    │\n",
       "│ 4          ┆ Manhattan     ┆ Alphabet City           ┆ Yellow Zone  │\n",
       "│ 5          ┆ Staten Island ┆ Arden Heights           ┆ Boro Zone    │\n",
       "└────────────┴───────────────┴─────────────────────────┴──────────────┘"
      ]
     },
     "execution_count": 26,
     "metadata": {},
     "output_type": "execute_result"
    }
   ],
   "source": [
    "zones_df = pl.read_parquet(\"../data/taxi_zone_lookup.parquet\")\n",
    "zones_df.head()"
   ]
  },
  {
   "cell_type": "markdown",
   "id": "aa2b8b6e",
   "metadata": {},
   "source": [
    "This dataframe contains information about each location ID, and the `str` names for the Borough, Zone, and service zone that each location ID represents. Let's quickly rename the columns to make them snake_case like those of `rides_df`:"
   ]
  },
  {
   "cell_type": "code",
   "execution_count": 27,
   "id": "7aac4ce7",
   "metadata": {},
   "outputs": [
    {
     "data": {
      "text/html": [
       "<div><style>\n",
       ".dataframe > thead > tr,\n",
       ".dataframe > tbody > tr {\n",
       "  text-align: right;\n",
       "  white-space: pre-wrap;\n",
       "}\n",
       "</style>\n",
       "<small>shape: (5, 4)</small><table border=\"1\" class=\"dataframe\"><thead><tr><th>location_id</th><th>borough</th><th>zone</th><th>service_zone</th></tr><tr><td>i32</td><td>str</td><td>str</td><td>str</td></tr></thead><tbody><tr><td>1</td><td>&quot;EWR&quot;</td><td>&quot;Newark Airport&quot;</td><td>&quot;EWR&quot;</td></tr><tr><td>2</td><td>&quot;Queens&quot;</td><td>&quot;Jamaica Bay&quot;</td><td>&quot;Boro Zone&quot;</td></tr><tr><td>3</td><td>&quot;Bronx&quot;</td><td>&quot;Allerton/Pelham Gardens&quot;</td><td>&quot;Boro Zone&quot;</td></tr><tr><td>4</td><td>&quot;Manhattan&quot;</td><td>&quot;Alphabet City&quot;</td><td>&quot;Yellow Zone&quot;</td></tr><tr><td>5</td><td>&quot;Staten Island&quot;</td><td>&quot;Arden Heights&quot;</td><td>&quot;Boro Zone&quot;</td></tr></tbody></table></div>"
      ],
      "text/plain": [
       "shape: (5, 4)\n",
       "┌─────────────┬───────────────┬─────────────────────────┬──────────────┐\n",
       "│ location_id ┆ borough       ┆ zone                    ┆ service_zone │\n",
       "│ ---         ┆ ---           ┆ ---                     ┆ ---          │\n",
       "│ i32         ┆ str           ┆ str                     ┆ str          │\n",
       "╞═════════════╪═══════════════╪═════════════════════════╪══════════════╡\n",
       "│ 1           ┆ EWR           ┆ Newark Airport          ┆ EWR          │\n",
       "│ 2           ┆ Queens        ┆ Jamaica Bay             ┆ Boro Zone    │\n",
       "│ 3           ┆ Bronx         ┆ Allerton/Pelham Gardens ┆ Boro Zone    │\n",
       "│ 4           ┆ Manhattan     ┆ Alphabet City           ┆ Yellow Zone  │\n",
       "│ 5           ┆ Staten Island ┆ Arden Heights           ┆ Boro Zone    │\n",
       "└─────────────┴───────────────┴─────────────────────────┴──────────────┘"
      ]
     },
     "execution_count": 27,
     "metadata": {},
     "output_type": "execute_result"
    }
   ],
   "source": [
    "zones_df = (\n",
    "    zones_df\n",
    "    .rename({\n",
    "        \"LocationID\": \"location_id\",\n",
    "        \"Borough\": \"borough\",\n",
    "        \"Zone\": \"zone\",\n",
    "    })\n",
    ")\n",
    "zones_df.head()"
   ]
  },
  {
   "cell_type": "markdown",
   "id": "ea448c9b",
   "metadata": {},
   "source": [
    "Perfect."
   ]
  },
  {
   "cell_type": "markdown",
   "id": "af435413",
   "metadata": {},
   "source": [
    "If we want to now combine it with the summary statistics we just computed, we can do so by **joining** it into the summary statistics table, using `pl.DataFrame.join()`:"
   ]
  },
  {
   "cell_type": "code",
   "execution_count": 32,
   "id": "76339add",
   "metadata": {},
   "outputs": [
    {
     "data": {
      "text/html": [
       "<div><style>\n",
       ".dataframe > thead > tr,\n",
       ".dataframe > tbody > tr {\n",
       "  text-align: right;\n",
       "  white-space: pre-wrap;\n",
       "}\n",
       "</style>\n",
       "<small>shape: (5, 8)</small><table border=\"1\" class=\"dataframe\"><thead><tr><th>pu_location_id</th><th>count_trips</th><th>trip_distance_min</th><th>trip_distance_max</th><th>trip_distance_mean</th><th>borough</th><th>zone</th><th>service_zone</th></tr><tr><td>i32</td><td>u32</td><td>f64</td><td>f64</td><td>f64</td><td>str</td><td>str</td><td>str</td></tr></thead><tbody><tr><td>1</td><td>372</td><td>0.0</td><td>35.75</td><td>1.34578</td><td>&quot;EWR&quot;</td><td>&quot;Newark Airport&quot;</td><td>&quot;EWR&quot;</td></tr><tr><td>2</td><td>8</td><td>0.0</td><td>20.23</td><td>11.98</td><td>&quot;Queens&quot;</td><td>&quot;Jamaica Bay&quot;</td><td>&quot;Boro Zone&quot;</td></tr><tr><td>3</td><td>151</td><td>0.0</td><td>35.1</td><td>7.159073</td><td>&quot;Bronx&quot;</td><td>&quot;Allerton/Pelham Gardens&quot;</td><td>&quot;Boro Zone&quot;</td></tr><tr><td>4</td><td>7586</td><td>0.0</td><td>37.6</td><td>2.742518</td><td>&quot;Manhattan&quot;</td><td>&quot;Alphabet City&quot;</td><td>&quot;Yellow Zone&quot;</td></tr><tr><td>5</td><td>1</td><td>0.0</td><td>0.0</td><td>0.0</td><td>&quot;Staten Island&quot;</td><td>&quot;Arden Heights&quot;</td><td>&quot;Boro Zone&quot;</td></tr></tbody></table></div>"
      ],
      "text/plain": [
       "shape: (5, 8)\n",
       "┌────────────┬────────────┬────────────┬───────────┬───────────┬───────────┬───────────┬───────────┐\n",
       "│ pu_locatio ┆ count_trip ┆ trip_dista ┆ trip_dist ┆ trip_dist ┆ borough   ┆ zone      ┆ service_z │\n",
       "│ n_id       ┆ s          ┆ nce_min    ┆ ance_max  ┆ ance_mean ┆ ---       ┆ ---       ┆ one       │\n",
       "│ ---        ┆ ---        ┆ ---        ┆ ---       ┆ ---       ┆ str       ┆ str       ┆ ---       │\n",
       "│ i32        ┆ u32        ┆ f64        ┆ f64       ┆ f64       ┆           ┆           ┆ str       │\n",
       "╞════════════╪════════════╪════════════╪═══════════╪═══════════╪═══════════╪═══════════╪═══════════╡\n",
       "│ 1          ┆ 372        ┆ 0.0        ┆ 35.75     ┆ 1.34578   ┆ EWR       ┆ Newark    ┆ EWR       │\n",
       "│            ┆            ┆            ┆           ┆           ┆           ┆ Airport   ┆           │\n",
       "│ 2          ┆ 8          ┆ 0.0        ┆ 20.23     ┆ 11.98     ┆ Queens    ┆ Jamaica   ┆ Boro Zone │\n",
       "│            ┆            ┆            ┆           ┆           ┆           ┆ Bay       ┆           │\n",
       "│ 3          ┆ 151        ┆ 0.0        ┆ 35.1      ┆ 7.159073  ┆ Bronx     ┆ Allerton/ ┆ Boro Zone │\n",
       "│            ┆            ┆            ┆           ┆           ┆           ┆ Pelham    ┆           │\n",
       "│            ┆            ┆            ┆           ┆           ┆           ┆ Gardens   ┆           │\n",
       "│ 4          ┆ 7586       ┆ 0.0        ┆ 37.6      ┆ 2.742518  ┆ Manhattan ┆ Alphabet  ┆ Yellow    │\n",
       "│            ┆            ┆            ┆           ┆           ┆           ┆ City      ┆ Zone      │\n",
       "│ 5          ┆ 1          ┆ 0.0        ┆ 0.0       ┆ 0.0       ┆ Staten    ┆ Arden     ┆ Boro Zone │\n",
       "│            ┆            ┆            ┆           ┆           ┆ Island    ┆ Heights   ┆           │\n",
       "└────────────┴────────────┴────────────┴───────────┴───────────┴───────────┴───────────┴───────────┘"
      ]
     },
     "execution_count": 32,
     "metadata": {},
     "output_type": "execute_result"
    }
   ],
   "source": [
    "(\n",
    "    location_id_summary_df\n",
    "    .join(\n",
    "        zones_df,\n",
    "        left_on=\"pu_location_id\",\n",
    "        right_on=\"location_id\"\n",
    "    )\n",
    "    .head()\n",
    ")"
   ]
  },
  {
   "cell_type": "markdown",
   "id": "c575a651",
   "metadata": {},
   "source": [
    "Nice! The data from `zones_df` has been joined into our zone-summary table, and we can see the `\"borough\"`, `\"zone\"`, and `\"service_zone\"` alongside the `\"pu_location_id\"`! `polars`'s `.join()` functionality has all the same functionality you may be familiar with from Pandas and/or SQL:\n",
    "1. `location_id_summary_df` specifies the **left** table for the join.\n",
    "2. `.join(...)` starts the join.\n",
    "3. `zones_df` specifies the **right** table for the join.\n",
    "4. `left_on` specifies the column to join on from `location_id_summary_df`.\n",
    "5. `right_on` specifies the column to join on from `zones_df`."
   ]
  },
  {
   "cell_type": "markdown",
   "id": "41cb3caa",
   "metadata": {},
   "source": [
    "Just to be clear, though, we didn't have to do the aggregation to `location_id_summary_df`, first; we can join directly into the original `rides_df`:"
   ]
  },
  {
   "cell_type": "code",
   "execution_count": 37,
   "id": "8c6e5102",
   "metadata": {},
   "outputs": [
    {
     "data": {
      "text/html": [
       "<div><style>\n",
       ".dataframe > thead > tr,\n",
       ".dataframe > tbody > tr {\n",
       "  text-align: right;\n",
       "  white-space: pre-wrap;\n",
       "}\n",
       "</style>\n",
       "<small>shape: (5, 8)</small><table border=\"1\" class=\"dataframe\"><thead><tr><th>tpep_pickup_datetime</th><th>pu_location_id</th><th>do_location_id</th><th>trip_distance</th><th>total_amount</th><th>borough</th><th>zone</th><th>service_zone</th></tr><tr><td>datetime[ns]</td><td>i32</td><td>i32</td><td>f64</td><td>f64</td><td>str</td><td>str</td><td>str</td></tr></thead><tbody><tr><td>2024-03-01 00:18:51</td><td>142</td><td>239</td><td>1.3</td><td>16.3</td><td>&quot;Manhattan&quot;</td><td>&quot;Lincoln Square East&quot;</td><td>&quot;Yellow Zone&quot;</td></tr><tr><td>2024-03-01 00:26:00</td><td>238</td><td>24</td><td>1.1</td><td>15.2</td><td>&quot;Manhattan&quot;</td><td>&quot;Upper West Side North&quot;</td><td>&quot;Yellow Zone&quot;</td></tr><tr><td>2024-03-01 00:09:22</td><td>263</td><td>75</td><td>0.86</td><td>10.4</td><td>&quot;Manhattan&quot;</td><td>&quot;Yorkville West&quot;</td><td>&quot;Yellow Zone&quot;</td></tr><tr><td>2024-03-01 00:33:45</td><td>164</td><td>162</td><td>0.82</td><td>14.19</td><td>&quot;Manhattan&quot;</td><td>&quot;Midtown South&quot;</td><td>&quot;Yellow Zone&quot;</td></tr><tr><td>2024-03-01 00:05:43</td><td>263</td><td>7</td><td>4.9</td><td>30.4</td><td>&quot;Manhattan&quot;</td><td>&quot;Yorkville West&quot;</td><td>&quot;Yellow Zone&quot;</td></tr></tbody></table></div>"
      ],
      "text/plain": [
       "shape: (5, 8)\n",
       "┌────────────┬────────────┬────────────┬───────────┬───────────┬───────────┬───────────┬───────────┐\n",
       "│ tpep_picku ┆ pu_locatio ┆ do_locatio ┆ trip_dist ┆ total_amo ┆ borough   ┆ zone      ┆ service_z │\n",
       "│ p_datetime ┆ n_id       ┆ n_id       ┆ ance      ┆ unt       ┆ ---       ┆ ---       ┆ one       │\n",
       "│ ---        ┆ ---        ┆ ---        ┆ ---       ┆ ---       ┆ str       ┆ str       ┆ ---       │\n",
       "│ datetime[n ┆ i32        ┆ i32        ┆ f64       ┆ f64       ┆           ┆           ┆ str       │\n",
       "│ s]         ┆            ┆            ┆           ┆           ┆           ┆           ┆           │\n",
       "╞════════════╪════════════╪════════════╪═══════════╪═══════════╪═══════════╪═══════════╪═══════════╡\n",
       "│ 2024-03-01 ┆ 142        ┆ 239        ┆ 1.3       ┆ 16.3      ┆ Manhattan ┆ Lincoln   ┆ Yellow    │\n",
       "│ 00:18:51   ┆            ┆            ┆           ┆           ┆           ┆ Square    ┆ Zone      │\n",
       "│            ┆            ┆            ┆           ┆           ┆           ┆ East      ┆           │\n",
       "│ 2024-03-01 ┆ 238        ┆ 24         ┆ 1.1       ┆ 15.2      ┆ Manhattan ┆ Upper     ┆ Yellow    │\n",
       "│ 00:26:00   ┆            ┆            ┆           ┆           ┆           ┆ West Side ┆ Zone      │\n",
       "│            ┆            ┆            ┆           ┆           ┆           ┆ North     ┆           │\n",
       "│ 2024-03-01 ┆ 263        ┆ 75         ┆ 0.86      ┆ 10.4      ┆ Manhattan ┆ Yorkville ┆ Yellow    │\n",
       "│ 00:09:22   ┆            ┆            ┆           ┆           ┆           ┆ West      ┆ Zone      │\n",
       "│ 2024-03-01 ┆ 164        ┆ 162        ┆ 0.82      ┆ 14.19     ┆ Manhattan ┆ Midtown   ┆ Yellow    │\n",
       "│ 00:33:45   ┆            ┆            ┆           ┆           ┆           ┆ South     ┆ Zone      │\n",
       "│ 2024-03-01 ┆ 263        ┆ 7          ┆ 4.9       ┆ 30.4      ┆ Manhattan ┆ Yorkville ┆ Yellow    │\n",
       "│ 00:05:43   ┆            ┆            ┆           ┆           ┆           ┆ West      ┆ Zone      │\n",
       "└────────────┴────────────┴────────────┴───────────┴───────────┴───────────┴───────────┴───────────┘"
      ]
     },
     "execution_count": 37,
     "metadata": {},
     "output_type": "execute_result"
    }
   ],
   "source": [
    "(\n",
    "    rides_df\n",
    "    .select([\"tpep_pickup_datetime\", \"pu_location_id\", \"do_location_id\", \"trip_distance\", \"total_amount\"])\n",
    "    .join(\n",
    "        zones_df,\n",
    "        left_on=\"pu_location_id\",\n",
    "        right_on=\"location_id\",    \n",
    "    )\n",
    "#     .select([\"tpep_pickup_datetime\", \"pu_location_id\", \"do_location_id\", \"trip_distance\", \"total_amount\", \"borough\", \"zone\"])\n",
    "    .head()\n",
    ")"
   ]
  },
  {
   "cell_type": "markdown",
   "id": "86be53e4",
   "metadata": {},
   "source": [
    "But now, it's a bit strange that we have the `\"pu_location_id\"` and `\"do_location_id\"` in the same dataframe, because it's not clear whether the `\"borough\"` and `\"zone\"` refer to the `\"pu_location_id\"` or the `\"do_location_id\"`. We can quickly fix that:"
   ]
  },
  {
   "cell_type": "code",
   "execution_count": 40,
   "id": "0ea321b2",
   "metadata": {},
   "outputs": [
    {
     "data": {
      "text/html": [
       "<div><style>\n",
       ".dataframe > thead > tr,\n",
       ".dataframe > tbody > tr {\n",
       "  text-align: right;\n",
       "  white-space: pre-wrap;\n",
       "}\n",
       "</style>\n",
       "<small>shape: (5, 8)</small><table border=\"1\" class=\"dataframe\"><thead><tr><th>tpep_pickup_datetime</th><th>pu_location_id</th><th>do_location_id</th><th>trip_distance</th><th>total_amount</th><th>pu_borough</th><th>pu_zone</th><th>pu_service_zone</th></tr><tr><td>datetime[ns]</td><td>i32</td><td>i32</td><td>f64</td><td>f64</td><td>str</td><td>str</td><td>str</td></tr></thead><tbody><tr><td>2024-03-01 00:18:51</td><td>142</td><td>239</td><td>1.3</td><td>16.3</td><td>&quot;Manhattan&quot;</td><td>&quot;Lincoln Square East&quot;</td><td>&quot;Yellow Zone&quot;</td></tr><tr><td>2024-03-01 00:26:00</td><td>238</td><td>24</td><td>1.1</td><td>15.2</td><td>&quot;Manhattan&quot;</td><td>&quot;Upper West Side North&quot;</td><td>&quot;Yellow Zone&quot;</td></tr><tr><td>2024-03-01 00:09:22</td><td>263</td><td>75</td><td>0.86</td><td>10.4</td><td>&quot;Manhattan&quot;</td><td>&quot;Yorkville West&quot;</td><td>&quot;Yellow Zone&quot;</td></tr><tr><td>2024-03-01 00:33:45</td><td>164</td><td>162</td><td>0.82</td><td>14.19</td><td>&quot;Manhattan&quot;</td><td>&quot;Midtown South&quot;</td><td>&quot;Yellow Zone&quot;</td></tr><tr><td>2024-03-01 00:05:43</td><td>263</td><td>7</td><td>4.9</td><td>30.4</td><td>&quot;Manhattan&quot;</td><td>&quot;Yorkville West&quot;</td><td>&quot;Yellow Zone&quot;</td></tr></tbody></table></div>"
      ],
      "text/plain": [
       "shape: (5, 8)\n",
       "┌────────────┬────────────┬────────────┬───────────┬───────────┬───────────┬───────────┬───────────┐\n",
       "│ tpep_picku ┆ pu_locatio ┆ do_locatio ┆ trip_dist ┆ total_amo ┆ pu_boroug ┆ pu_zone   ┆ pu_servic │\n",
       "│ p_datetime ┆ n_id       ┆ n_id       ┆ ance      ┆ unt       ┆ h         ┆ ---       ┆ e_zone    │\n",
       "│ ---        ┆ ---        ┆ ---        ┆ ---       ┆ ---       ┆ ---       ┆ str       ┆ ---       │\n",
       "│ datetime[n ┆ i32        ┆ i32        ┆ f64       ┆ f64       ┆ str       ┆           ┆ str       │\n",
       "│ s]         ┆            ┆            ┆           ┆           ┆           ┆           ┆           │\n",
       "╞════════════╪════════════╪════════════╪═══════════╪═══════════╪═══════════╪═══════════╪═══════════╡\n",
       "│ 2024-03-01 ┆ 142        ┆ 239        ┆ 1.3       ┆ 16.3      ┆ Manhattan ┆ Lincoln   ┆ Yellow    │\n",
       "│ 00:18:51   ┆            ┆            ┆           ┆           ┆           ┆ Square    ┆ Zone      │\n",
       "│            ┆            ┆            ┆           ┆           ┆           ┆ East      ┆           │\n",
       "│ 2024-03-01 ┆ 238        ┆ 24         ┆ 1.1       ┆ 15.2      ┆ Manhattan ┆ Upper     ┆ Yellow    │\n",
       "│ 00:26:00   ┆            ┆            ┆           ┆           ┆           ┆ West Side ┆ Zone      │\n",
       "│            ┆            ┆            ┆           ┆           ┆           ┆ North     ┆           │\n",
       "│ 2024-03-01 ┆ 263        ┆ 75         ┆ 0.86      ┆ 10.4      ┆ Manhattan ┆ Yorkville ┆ Yellow    │\n",
       "│ 00:09:22   ┆            ┆            ┆           ┆           ┆           ┆ West      ┆ Zone      │\n",
       "│ 2024-03-01 ┆ 164        ┆ 162        ┆ 0.82      ┆ 14.19     ┆ Manhattan ┆ Midtown   ┆ Yellow    │\n",
       "│ 00:33:45   ┆            ┆            ┆           ┆           ┆           ┆ South     ┆ Zone      │\n",
       "│ 2024-03-01 ┆ 263        ┆ 7          ┆ 4.9       ┆ 30.4      ┆ Manhattan ┆ Yorkville ┆ Yellow    │\n",
       "│ 00:05:43   ┆            ┆            ┆           ┆           ┆           ┆ West      ┆ Zone      │\n",
       "└────────────┴────────────┴────────────┴───────────┴───────────┴───────────┴───────────┴───────────┘"
      ]
     },
     "execution_count": 40,
     "metadata": {},
     "output_type": "execute_result"
    }
   ],
   "source": [
    "zone_columns = [\"borough\", \"zone\", \"service_zone\"]\n",
    "(\n",
    "    rides_df\n",
    "    .select([\"tpep_pickup_datetime\", \"pu_location_id\", \"do_location_id\", \"trip_distance\", \"total_amount\"])\n",
    "    .join(\n",
    "        zones_df,\n",
    "        left_on=\"pu_location_id\",\n",
    "        right_on=\"location_id\",\n",
    "    )\n",
    "    .with_columns([pl.col(zone_columns).name.prefix(\"pu_\")])\n",
    "    .drop(zone_columns)\n",
    "    .head()\n",
    ")"
   ]
  },
  {
   "cell_type": "markdown",
   "id": "ed42a13b",
   "metadata": {},
   "source": [
    "We can also use the `on` argument in case the name of the two columns is the same in both tables. For example, imagine we wanted to join `zones_df` with the table we created in the prior module, of rides that both started in the same location ID; then we don't need to specify pickup vs dropoff:"
   ]
  },
  {
   "cell_type": "code",
   "execution_count": 42,
   "id": "86a10288",
   "metadata": {},
   "outputs": [
    {
     "data": {
      "text/html": [
       "<div><style>\n",
       ".dataframe > thead > tr,\n",
       ".dataframe > tbody > tr {\n",
       "  text-align: right;\n",
       "  white-space: pre-wrap;\n",
       "}\n",
       "</style>\n",
       "<small>shape: (5, 7)</small><table border=\"1\" class=\"dataframe\"><thead><tr><th>tpep_pickup_datetime</th><th>location_id</th><th>trip_distance</th><th>total_amount</th><th>borough</th><th>zone</th><th>service_zone</th></tr><tr><td>datetime[ns]</td><td>i32</td><td>f64</td><td>f64</td><td>str</td><td>str</td><td>str</td></tr></thead><tbody><tr><td>2024-03-01 00:12:31</td><td>158</td><td>0.65</td><td>15.48</td><td>&quot;Manhattan&quot;</td><td>&quot;Meatpacking/West Village West&quot;</td><td>&quot;Yellow Zone&quot;</td></tr><tr><td>2024-03-01 00:17:01</td><td>158</td><td>0.96</td><td>15.48</td><td>&quot;Manhattan&quot;</td><td>&quot;Meatpacking/West Village West&quot;</td><td>&quot;Yellow Zone&quot;</td></tr><tr><td>2024-03-01 01:00:25</td><td>143</td><td>0.06</td><td>8.7</td><td>&quot;Manhattan&quot;</td><td>&quot;Lincoln Square West&quot;</td><td>&quot;Yellow Zone&quot;</td></tr><tr><td>2024-03-01 00:18:13</td><td>236</td><td>0.4</td><td>11.28</td><td>&quot;Manhattan&quot;</td><td>&quot;Upper East Side North&quot;</td><td>&quot;Yellow Zone&quot;</td></tr><tr><td>2024-03-01 00:07:35</td><td>145</td><td>2.53</td><td>28.08</td><td>&quot;Queens&quot;</td><td>&quot;Long Island City/Hunters Point&quot;</td><td>&quot;Boro Zone&quot;</td></tr></tbody></table></div>"
      ],
      "text/plain": [
       "shape: (5, 7)\n",
       "┌──────────────┬─────────────┬──────────────┬──────────────┬───────────┬─────────────┬─────────────┐\n",
       "│ tpep_pickup_ ┆ location_id ┆ trip_distanc ┆ total_amount ┆ borough   ┆ zone        ┆ service_zon │\n",
       "│ datetime     ┆ ---         ┆ e            ┆ ---          ┆ ---       ┆ ---         ┆ e           │\n",
       "│ ---          ┆ i32         ┆ ---          ┆ f64          ┆ str       ┆ str         ┆ ---         │\n",
       "│ datetime[ns] ┆             ┆ f64          ┆              ┆           ┆             ┆ str         │\n",
       "╞══════════════╪═════════════╪══════════════╪══════════════╪═══════════╪═════════════╪═════════════╡\n",
       "│ 2024-03-01   ┆ 158         ┆ 0.65         ┆ 15.48        ┆ Manhattan ┆ Meatpacking ┆ Yellow Zone │\n",
       "│ 00:12:31     ┆             ┆              ┆              ┆           ┆ /West       ┆             │\n",
       "│              ┆             ┆              ┆              ┆           ┆ Village     ┆             │\n",
       "│              ┆             ┆              ┆              ┆           ┆ West        ┆             │\n",
       "│ 2024-03-01   ┆ 158         ┆ 0.96         ┆ 15.48        ┆ Manhattan ┆ Meatpacking ┆ Yellow Zone │\n",
       "│ 00:17:01     ┆             ┆              ┆              ┆           ┆ /West       ┆             │\n",
       "│              ┆             ┆              ┆              ┆           ┆ Village     ┆             │\n",
       "│              ┆             ┆              ┆              ┆           ┆ West        ┆             │\n",
       "│ 2024-03-01   ┆ 143         ┆ 0.06         ┆ 8.7          ┆ Manhattan ┆ Lincoln     ┆ Yellow Zone │\n",
       "│ 01:00:25     ┆             ┆              ┆              ┆           ┆ Square West ┆             │\n",
       "│ 2024-03-01   ┆ 236         ┆ 0.4          ┆ 11.28        ┆ Manhattan ┆ Upper East  ┆ Yellow Zone │\n",
       "│ 00:18:13     ┆             ┆              ┆              ┆           ┆ Side North  ┆             │\n",
       "│ 2024-03-01   ┆ 145         ┆ 2.53         ┆ 28.08        ┆ Queens    ┆ Long Island ┆ Boro Zone   │\n",
       "│ 00:07:35     ┆             ┆              ┆              ┆           ┆ City/Hunter ┆             │\n",
       "│              ┆             ┆              ┆              ┆           ┆ s Point     ┆             │\n",
       "└──────────────┴─────────────┴──────────────┴──────────────┴───────────┴─────────────┴─────────────┘"
      ]
     },
     "execution_count": 42,
     "metadata": {},
     "output_type": "execute_result"
    }
   ],
   "source": [
    "(\n",
    "    rides_df\n",
    "    .filter(pl.col(\"do_location_id\").eq(pl.col(\"pu_location_id\")))\n",
    "    .select([\n",
    "        \"tpep_pickup_datetime\",\n",
    "        pl.col(\"pu_location_id\").alias(\"location_id\"),\n",
    "        \"trip_distance\",\n",
    "        \"total_amount\",\n",
    "    ])\n",
    "    .join(\n",
    "        zones_df,\n",
    "        on=\"location_id\",\n",
    "    )\n",
    "    .head()\n",
    ")"
   ]
  },
  {
   "cell_type": "markdown",
   "id": "315ee9ae",
   "metadata": {},
   "source": [
    "And, of course, as with the other Query Statements, we can join not only on a column name `str`, but also on a `pl.Expr` object. Consider the following toy example, where we want to join even numbers and odd numbers:"
   ]
  },
  {
   "cell_type": "code",
   "execution_count": 48,
   "id": "d1edc95e",
   "metadata": {},
   "outputs": [
    {
     "data": {
      "text/html": [
       "<div><style>\n",
       ".dataframe > thead > tr,\n",
       ".dataframe > tbody > tr {\n",
       "  text-align: right;\n",
       "  white-space: pre-wrap;\n",
       "}\n",
       "</style>\n",
       "<small>shape: (4, 2)</small><table border=\"1\" class=\"dataframe\"><thead><tr><th>a</th><th>b</th></tr><tr><td>i64</td><td>str</td></tr></thead><tbody><tr><td>1</td><td>&quot;Danny&quot;</td></tr><tr><td>2</td><td>&quot;Donna&quot;</td></tr><tr><td>3</td><td>&quot;Lana&quot;</td></tr><tr><td>4</td><td>&quot;Sauna&quot;</td></tr></tbody></table></div>"
      ],
      "text/plain": [
       "shape: (4, 2)\n",
       "┌─────┬───────┐\n",
       "│ a   ┆ b     │\n",
       "│ --- ┆ ---   │\n",
       "│ i64 ┆ str   │\n",
       "╞═════╪═══════╡\n",
       "│ 1   ┆ Danny │\n",
       "│ 2   ┆ Donna │\n",
       "│ 3   ┆ Lana  │\n",
       "│ 4   ┆ Sauna │\n",
       "└─────┴───────┘"
      ]
     },
     "metadata": {},
     "output_type": "display_data"
    },
    {
     "data": {
      "text/html": [
       "<div><style>\n",
       ".dataframe > thead > tr,\n",
       ".dataframe > tbody > tr {\n",
       "  text-align: right;\n",
       "  white-space: pre-wrap;\n",
       "}\n",
       "</style>\n",
       "<small>shape: (2, 2)</small><table border=\"1\" class=\"dataframe\"><thead><tr><th>c</th><th>d</th></tr><tr><td>i64</td><td>str</td></tr></thead><tbody><tr><td>1</td><td>&quot;cool&quot;</td></tr><tr><td>2</td><td>&quot;not cool&quot;</td></tr></tbody></table></div>"
      ],
      "text/plain": [
       "shape: (2, 2)\n",
       "┌─────┬──────────┐\n",
       "│ c   ┆ d        │\n",
       "│ --- ┆ ---      │\n",
       "│ i64 ┆ str      │\n",
       "╞═════╪══════════╡\n",
       "│ 1   ┆ cool     │\n",
       "│ 2   ┆ not cool │\n",
       "└─────┴──────────┘"
      ]
     },
     "metadata": {},
     "output_type": "display_data"
    },
    {
     "data": {
      "text/html": [
       "<div><style>\n",
       ".dataframe > thead > tr,\n",
       ".dataframe > tbody > tr {\n",
       "  text-align: right;\n",
       "  white-space: pre-wrap;\n",
       "}\n",
       "</style>\n",
       "<small>shape: (4, 3)</small><table border=\"1\" class=\"dataframe\"><thead><tr><th>a</th><th>b</th><th>d</th></tr><tr><td>i64</td><td>str</td><td>str</td></tr></thead><tbody><tr><td>1</td><td>&quot;Danny&quot;</td><td>&quot;cool&quot;</td></tr><tr><td>0</td><td>&quot;Donna&quot;</td><td>&quot;not cool&quot;</td></tr><tr><td>1</td><td>&quot;Lana&quot;</td><td>&quot;cool&quot;</td></tr><tr><td>0</td><td>&quot;Sauna&quot;</td><td>&quot;not cool&quot;</td></tr></tbody></table></div>"
      ],
      "text/plain": [
       "shape: (4, 3)\n",
       "┌─────┬───────┬──────────┐\n",
       "│ a   ┆ b     ┆ d        │\n",
       "│ --- ┆ ---   ┆ ---      │\n",
       "│ i64 ┆ str   ┆ str      │\n",
       "╞═════╪═══════╪══════════╡\n",
       "│ 1   ┆ Danny ┆ cool     │\n",
       "│ 0   ┆ Donna ┆ not cool │\n",
       "│ 1   ┆ Lana  ┆ cool     │\n",
       "│ 0   ┆ Sauna ┆ not cool │\n",
       "└─────┴───────┴──────────┘"
      ]
     },
     "metadata": {},
     "output_type": "display_data"
    }
   ],
   "source": [
    "left_df = pl.DataFrame({\"a\": [1, 2, 3, 4], \"b\": [\"Danny\", \"Donna\", \"Lana\", \"Sauna\"]})\n",
    "right_df = pl.DataFrame({\"c\": [1, 2], \"d\": [\"cool\", \"not cool\"]})\n",
    "display(left_df)\n",
    "display(right_df)\n",
    "\n",
    "joined_df = (\n",
    "    left_df\n",
    "    .join(\n",
    "        right_df,\n",
    "        left_on=pl.col(\"a\") % 2,\n",
    "        right_on=pl.col(\"c\") % 2\n",
    "    )\n",
    ")\n",
    "display(joined_df)"
   ]
  },
  {
   "cell_type": "code",
   "execution_count": null,
   "id": "1b034726",
   "metadata": {},
   "outputs": [],
   "source": []
  }
 ],
 "metadata": {
  "kernelspec": {
   "display_name": "Python 3 (ipykernel)",
   "language": "python",
   "name": "python3"
  },
  "language_info": {
   "codemirror_mode": {
    "name": "ipython",
    "version": 3
   },
   "file_extension": ".py",
   "mimetype": "text/x-python",
   "name": "python",
   "nbconvert_exporter": "python",
   "pygments_lexer": "ipython3",
   "version": "3.12.3"
  }
 },
 "nbformat": 4,
 "nbformat_minor": 5
}
