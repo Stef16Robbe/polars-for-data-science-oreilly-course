{
 "cells": [
  {
   "cell_type": "markdown",
   "id": "1653908d",
   "metadata": {},
   "source": [
    "# 2. Getting Started"
   ]
  },
  {
   "cell_type": "markdown",
   "id": "97a37bab",
   "metadata": {},
   "source": [
    "The goal of this module is to install `polars`; become familiar with `polars`'s lazy-mode versus in-memory mode; and understand how to leverage `polars`'s query optimization."
   ]
  },
  {
   "cell_type": "markdown",
   "id": "a60495a9",
   "metadata": {},
   "source": [
    "Functions we will cover:\n",
    "- `polars.read_csv()`\n",
    "- `polars.scan_csv()`\n",
    "- `polars.read_parquet()`\n",
    "- `polars.DataFrame.head()`\n",
    "- `polars.DataFrame.select()`\n",
    "- `polars.LazyFrame.select()`\n",
    "- `polars.LazyFrame.show_graph()`"
   ]
  },
  {
   "cell_type": "markdown",
   "id": "1109c3fe",
   "metadata": {},
   "source": [
    "## 2.0. Installing and Importing Polars"
   ]
  },
  {
   "cell_type": "markdown",
   "id": "f09c6fba",
   "metadata": {},
   "source": [
    "If you haven't already, you can install `polars`. The preferred way is with `pip`.\n",
    "\n",
    "```bash\n",
    "pip install polars\n",
    "```\n",
    "\n",
    "You can do it right here in the notebook, if it's easiest:"
   ]
  },
  {
   "cell_type": "code",
   "execution_count": 1,
   "id": "4b3d9ca7",
   "metadata": {},
   "outputs": [
    {
     "name": "stdout",
     "output_type": "stream",
     "text": [
      "Requirement already satisfied: polars in /Users/benfeifke/code/polars-oreilly-course/.venv/lib/python3.12/site-packages (0.20.28)\r\n"
     ]
    }
   ],
   "source": [
    "!pip install polars"
   ]
  },
  {
   "cell_type": "markdown",
   "id": "112f93cb",
   "metadata": {},
   "source": [
    "And of course, now it can be imported."
   ]
  },
  {
   "cell_type": "code",
   "execution_count": 2,
   "id": "3db2bd08",
   "metadata": {},
   "outputs": [],
   "source": [
    "import polars as pl"
   ]
  },
  {
   "cell_type": "markdown",
   "id": "368150ba",
   "metadata": {},
   "source": [
    "## 2.1. Reading Data From `csv`"
   ]
  },
  {
   "cell_type": "markdown",
   "id": "367c31a1",
   "metadata": {},
   "source": [
    "The data used throughout this course will be data from taxi rides in new york city, offered publicly by the city of NYC: https://www.nyc.gov/site/tlc/about/tlc-trip-record-data.page.\n",
    "\n",
    "There are many ways to load data in `polars`: from `csv` files, `parquet` files, `xlsx` files, or even directly from databases. We'll start with a `csv`."
   ]
  },
  {
   "cell_type": "code",
   "execution_count": 11,
   "id": "5c29ce91",
   "metadata": {},
   "outputs": [],
   "source": [
    "df = pl.read_csv(\"../data/yellow_tripdata_2024-03.csv\")"
   ]
  },
  {
   "cell_type": "markdown",
   "id": "db80743b",
   "metadata": {},
   "source": [
    "As with `Pandas`, we can take a quick look at it with a call to `.head()`:"
   ]
  },
  {
   "cell_type": "code",
   "execution_count": 12,
   "id": "b9455839",
   "metadata": {},
   "outputs": [
    {
     "data": {
      "text/html": [
       "<div><style>\n",
       ".dataframe > thead > tr,\n",
       ".dataframe > tbody > tr {\n",
       "  text-align: right;\n",
       "  white-space: pre-wrap;\n",
       "}\n",
       "</style>\n",
       "<small>shape: (5, 19)</small><table border=\"1\" class=\"dataframe\"><thead><tr><th>VendorID</th><th>tpep_pickup_datetime</th><th>tpep_dropoff_datetime</th><th>passenger_count</th><th>trip_distance</th><th>RatecodeID</th><th>store_and_fwd_flag</th><th>PULocationID</th><th>DOLocationID</th><th>payment_type</th><th>fare_amount</th><th>extra</th><th>mta_tax</th><th>tip_amount</th><th>tolls_amount</th><th>improvement_surcharge</th><th>total_amount</th><th>congestion_surcharge</th><th>Airport_fee</th></tr><tr><td>i64</td><td>str</td><td>str</td><td>i64</td><td>f64</td><td>i64</td><td>str</td><td>i64</td><td>i64</td><td>i64</td><td>f64</td><td>f64</td><td>f64</td><td>f64</td><td>f64</td><td>f64</td><td>f64</td><td>f64</td><td>f64</td></tr></thead><tbody><tr><td>1</td><td>&quot;2024-03-01T00:18:51.000000000&quot;</td><td>&quot;2024-03-01T00:23:45.000000000&quot;</td><td>0</td><td>1.3</td><td>1</td><td>&quot;N&quot;</td><td>142</td><td>239</td><td>1</td><td>8.6</td><td>3.5</td><td>0.5</td><td>2.7</td><td>0.0</td><td>1.0</td><td>16.3</td><td>2.5</td><td>0.0</td></tr><tr><td>1</td><td>&quot;2024-03-01T00:26:00.000000000&quot;</td><td>&quot;2024-03-01T00:29:06.000000000&quot;</td><td>0</td><td>1.1</td><td>1</td><td>&quot;N&quot;</td><td>238</td><td>24</td><td>1</td><td>7.2</td><td>3.5</td><td>0.5</td><td>3.0</td><td>0.0</td><td>1.0</td><td>15.2</td><td>2.5</td><td>0.0</td></tr><tr><td>2</td><td>&quot;2024-03-01T00:09:22.000000000&quot;</td><td>&quot;2024-03-01T00:15:24.000000000&quot;</td><td>1</td><td>0.86</td><td>1</td><td>&quot;N&quot;</td><td>263</td><td>75</td><td>2</td><td>7.9</td><td>1.0</td><td>0.5</td><td>0.0</td><td>0.0</td><td>1.0</td><td>10.4</td><td>0.0</td><td>0.0</td></tr><tr><td>2</td><td>&quot;2024-03-01T00:33:45.000000000&quot;</td><td>&quot;2024-03-01T00:39:34.000000000&quot;</td><td>1</td><td>0.82</td><td>1</td><td>&quot;N&quot;</td><td>164</td><td>162</td><td>1</td><td>7.9</td><td>1.0</td><td>0.5</td><td>1.29</td><td>0.0</td><td>1.0</td><td>14.19</td><td>2.5</td><td>0.0</td></tr><tr><td>1</td><td>&quot;2024-03-01T00:05:43.000000000&quot;</td><td>&quot;2024-03-01T00:26:22.000000000&quot;</td><td>0</td><td>4.9</td><td>1</td><td>&quot;N&quot;</td><td>263</td><td>7</td><td>2</td><td>25.4</td><td>3.5</td><td>0.5</td><td>0.0</td><td>0.0</td><td>1.0</td><td>30.4</td><td>2.5</td><td>0.0</td></tr></tbody></table></div>"
      ],
      "text/plain": [
       "shape: (5, 19)\n",
       "┌──────────┬───────────┬───────────┬───────────┬───┬───────────┬───────────┬───────────┬───────────┐\n",
       "│ VendorID ┆ tpep_pick ┆ tpep_drop ┆ passenger ┆ … ┆ improveme ┆ total_amo ┆ congestio ┆ Airport_f │\n",
       "│ ---      ┆ up_dateti ┆ off_datet ┆ _count    ┆   ┆ nt_surcha ┆ unt       ┆ n_surchar ┆ ee        │\n",
       "│ i64      ┆ me        ┆ ime       ┆ ---       ┆   ┆ rge       ┆ ---       ┆ ge        ┆ ---       │\n",
       "│          ┆ ---       ┆ ---       ┆ i64       ┆   ┆ ---       ┆ f64       ┆ ---       ┆ f64       │\n",
       "│          ┆ str       ┆ str       ┆           ┆   ┆ f64       ┆           ┆ f64       ┆           │\n",
       "╞══════════╪═══════════╪═══════════╪═══════════╪═══╪═══════════╪═══════════╪═══════════╪═══════════╡\n",
       "│ 1        ┆ 2024-03-0 ┆ 2024-03-0 ┆ 0         ┆ … ┆ 1.0       ┆ 16.3      ┆ 2.5       ┆ 0.0       │\n",
       "│          ┆ 1T00:18:5 ┆ 1T00:23:4 ┆           ┆   ┆           ┆           ┆           ┆           │\n",
       "│          ┆ 1.0000000 ┆ 5.0000000 ┆           ┆   ┆           ┆           ┆           ┆           │\n",
       "│          ┆ 00        ┆ 00        ┆           ┆   ┆           ┆           ┆           ┆           │\n",
       "│ 1        ┆ 2024-03-0 ┆ 2024-03-0 ┆ 0         ┆ … ┆ 1.0       ┆ 15.2      ┆ 2.5       ┆ 0.0       │\n",
       "│          ┆ 1T00:26:0 ┆ 1T00:29:0 ┆           ┆   ┆           ┆           ┆           ┆           │\n",
       "│          ┆ 0.0000000 ┆ 6.0000000 ┆           ┆   ┆           ┆           ┆           ┆           │\n",
       "│          ┆ 00        ┆ 00        ┆           ┆   ┆           ┆           ┆           ┆           │\n",
       "│ 2        ┆ 2024-03-0 ┆ 2024-03-0 ┆ 1         ┆ … ┆ 1.0       ┆ 10.4      ┆ 0.0       ┆ 0.0       │\n",
       "│          ┆ 1T00:09:2 ┆ 1T00:15:2 ┆           ┆   ┆           ┆           ┆           ┆           │\n",
       "│          ┆ 2.0000000 ┆ 4.0000000 ┆           ┆   ┆           ┆           ┆           ┆           │\n",
       "│          ┆ 00        ┆ 00        ┆           ┆   ┆           ┆           ┆           ┆           │\n",
       "│ 2        ┆ 2024-03-0 ┆ 2024-03-0 ┆ 1         ┆ … ┆ 1.0       ┆ 14.19     ┆ 2.5       ┆ 0.0       │\n",
       "│          ┆ 1T00:33:4 ┆ 1T00:39:3 ┆           ┆   ┆           ┆           ┆           ┆           │\n",
       "│          ┆ 5.0000000 ┆ 4.0000000 ┆           ┆   ┆           ┆           ┆           ┆           │\n",
       "│          ┆ 00        ┆ 00        ┆           ┆   ┆           ┆           ┆           ┆           │\n",
       "│ 1        ┆ 2024-03-0 ┆ 2024-03-0 ┆ 0         ┆ … ┆ 1.0       ┆ 30.4      ┆ 2.5       ┆ 0.0       │\n",
       "│          ┆ 1T00:05:4 ┆ 1T00:26:2 ┆           ┆   ┆           ┆           ┆           ┆           │\n",
       "│          ┆ 3.0000000 ┆ 2.0000000 ┆           ┆   ┆           ┆           ┆           ┆           │\n",
       "│          ┆ 00        ┆ 00        ┆           ┆   ┆           ┆           ┆           ┆           │\n",
       "└──────────┴───────────┴───────────┴───────────┴───┴───────────┴───────────┴───────────┴───────────┘"
      ]
     },
     "execution_count": 12,
     "metadata": {},
     "output_type": "execute_result"
    }
   ],
   "source": [
    "df.head()"
   ]
  },
  {
   "cell_type": "markdown",
   "id": "54622dd0",
   "metadata": {},
   "source": [
    "One thing that's nice about the `polars.DataFrame.head()` operation is the way that it shows the datatype of every column, making the schema explicitly clear. In this case, we have 19 columns:\n",
    "1. `'VendorID'`: `Int64`\n",
    "2. `'tpep_pickup_datetime'`: `String`\n",
    "3. `'tpep_dropoff_datetime'`: `String`\n",
    "4. `'passenger_count'`: `Int64`\n",
    "5. `'trip_distance'`: `Float64`\n",
    "6. `'RatecodeID'`: `Int64`\n",
    "7. `'store_and_fwd_flag'`: `String`\n",
    "8. `'PULocationID'`: `Int64`\n",
    "9. `'DOLocationID'`: `Int64`\n",
    "10. `'payment_type'`: `Int64`\n",
    "11. `'fare_amount'`: `Float64`\n",
    "12. `'extra'`: `Float64`\n",
    "13. `'mta_tax'`: `Float64`\n",
    "14. `'tip_amount'`: `Float64`\n",
    "15. `'tolls_amount'`: `Float64`\n",
    "16. `'improvement_surcharge'`: `Float64`\n",
    "17. `'total_amount'`: `Float64`\n",
    "18. `'congestion_surcharge'`: `Float64`\n",
    "19. `'Airport_fee'`: `Float64`\n",
    "\n",
    "You might have noticed something strange--why are `tpep_pickup_datetime` and `tpep_dropoff_datetime` recognized as a `string` datatype?\n",
    "\n",
    "Well, `polars.read_csv()` doesn't do much to detect datatypes beyond strings and numbers upon reading in data... unless of course you ask it to! This can be done with a simple addition to the `polars.read_csv()` call:"
   ]
  },
  {
   "cell_type": "code",
   "execution_count": 22,
   "id": "09e8356f",
   "metadata": {},
   "outputs": [
    {
     "data": {
      "text/html": [
       "<div><style>\n",
       ".dataframe > thead > tr,\n",
       ".dataframe > tbody > tr {\n",
       "  text-align: right;\n",
       "  white-space: pre-wrap;\n",
       "}\n",
       "</style>\n",
       "<small>shape: (5, 19)</small><table border=\"1\" class=\"dataframe\"><thead><tr><th>VendorID</th><th>tpep_pickup_datetime</th><th>tpep_dropoff_datetime</th><th>passenger_count</th><th>trip_distance</th><th>RatecodeID</th><th>store_and_fwd_flag</th><th>PULocationID</th><th>DOLocationID</th><th>payment_type</th><th>fare_amount</th><th>extra</th><th>mta_tax</th><th>tip_amount</th><th>tolls_amount</th><th>improvement_surcharge</th><th>total_amount</th><th>congestion_surcharge</th><th>Airport_fee</th></tr><tr><td>i64</td><td>datetime[μs]</td><td>datetime[μs]</td><td>i64</td><td>f64</td><td>i64</td><td>str</td><td>i64</td><td>i64</td><td>i64</td><td>f64</td><td>f64</td><td>f64</td><td>f64</td><td>f64</td><td>f64</td><td>f64</td><td>f64</td><td>f64</td></tr></thead><tbody><tr><td>1</td><td>2024-03-01 00:18:51</td><td>2024-03-01 00:23:45</td><td>0</td><td>1.3</td><td>1</td><td>&quot;N&quot;</td><td>142</td><td>239</td><td>1</td><td>8.6</td><td>3.5</td><td>0.5</td><td>2.7</td><td>0.0</td><td>1.0</td><td>16.3</td><td>2.5</td><td>0.0</td></tr><tr><td>1</td><td>2024-03-01 00:26:00</td><td>2024-03-01 00:29:06</td><td>0</td><td>1.1</td><td>1</td><td>&quot;N&quot;</td><td>238</td><td>24</td><td>1</td><td>7.2</td><td>3.5</td><td>0.5</td><td>3.0</td><td>0.0</td><td>1.0</td><td>15.2</td><td>2.5</td><td>0.0</td></tr><tr><td>2</td><td>2024-03-01 00:09:22</td><td>2024-03-01 00:15:24</td><td>1</td><td>0.86</td><td>1</td><td>&quot;N&quot;</td><td>263</td><td>75</td><td>2</td><td>7.9</td><td>1.0</td><td>0.5</td><td>0.0</td><td>0.0</td><td>1.0</td><td>10.4</td><td>0.0</td><td>0.0</td></tr><tr><td>2</td><td>2024-03-01 00:33:45</td><td>2024-03-01 00:39:34</td><td>1</td><td>0.82</td><td>1</td><td>&quot;N&quot;</td><td>164</td><td>162</td><td>1</td><td>7.9</td><td>1.0</td><td>0.5</td><td>1.29</td><td>0.0</td><td>1.0</td><td>14.19</td><td>2.5</td><td>0.0</td></tr><tr><td>1</td><td>2024-03-01 00:05:43</td><td>2024-03-01 00:26:22</td><td>0</td><td>4.9</td><td>1</td><td>&quot;N&quot;</td><td>263</td><td>7</td><td>2</td><td>25.4</td><td>3.5</td><td>0.5</td><td>0.0</td><td>0.0</td><td>1.0</td><td>30.4</td><td>2.5</td><td>0.0</td></tr></tbody></table></div>"
      ],
      "text/plain": [
       "shape: (5, 19)\n",
       "┌──────────┬───────────┬───────────┬───────────┬───┬───────────┬───────────┬───────────┬───────────┐\n",
       "│ VendorID ┆ tpep_pick ┆ tpep_drop ┆ passenger ┆ … ┆ improveme ┆ total_amo ┆ congestio ┆ Airport_f │\n",
       "│ ---      ┆ up_dateti ┆ off_datet ┆ _count    ┆   ┆ nt_surcha ┆ unt       ┆ n_surchar ┆ ee        │\n",
       "│ i64      ┆ me        ┆ ime       ┆ ---       ┆   ┆ rge       ┆ ---       ┆ ge        ┆ ---       │\n",
       "│          ┆ ---       ┆ ---       ┆ i64       ┆   ┆ ---       ┆ f64       ┆ ---       ┆ f64       │\n",
       "│          ┆ datetime[ ┆ datetime[ ┆           ┆   ┆ f64       ┆           ┆ f64       ┆           │\n",
       "│          ┆ μs]       ┆ μs]       ┆           ┆   ┆           ┆           ┆           ┆           │\n",
       "╞══════════╪═══════════╪═══════════╪═══════════╪═══╪═══════════╪═══════════╪═══════════╪═══════════╡\n",
       "│ 1        ┆ 2024-03-0 ┆ 2024-03-0 ┆ 0         ┆ … ┆ 1.0       ┆ 16.3      ┆ 2.5       ┆ 0.0       │\n",
       "│          ┆ 1         ┆ 1         ┆           ┆   ┆           ┆           ┆           ┆           │\n",
       "│          ┆ 00:18:51  ┆ 00:23:45  ┆           ┆   ┆           ┆           ┆           ┆           │\n",
       "│ 1        ┆ 2024-03-0 ┆ 2024-03-0 ┆ 0         ┆ … ┆ 1.0       ┆ 15.2      ┆ 2.5       ┆ 0.0       │\n",
       "│          ┆ 1         ┆ 1         ┆           ┆   ┆           ┆           ┆           ┆           │\n",
       "│          ┆ 00:26:00  ┆ 00:29:06  ┆           ┆   ┆           ┆           ┆           ┆           │\n",
       "│ 2        ┆ 2024-03-0 ┆ 2024-03-0 ┆ 1         ┆ … ┆ 1.0       ┆ 10.4      ┆ 0.0       ┆ 0.0       │\n",
       "│          ┆ 1         ┆ 1         ┆           ┆   ┆           ┆           ┆           ┆           │\n",
       "│          ┆ 00:09:22  ┆ 00:15:24  ┆           ┆   ┆           ┆           ┆           ┆           │\n",
       "│ 2        ┆ 2024-03-0 ┆ 2024-03-0 ┆ 1         ┆ … ┆ 1.0       ┆ 14.19     ┆ 2.5       ┆ 0.0       │\n",
       "│          ┆ 1         ┆ 1         ┆           ┆   ┆           ┆           ┆           ┆           │\n",
       "│          ┆ 00:33:45  ┆ 00:39:34  ┆           ┆   ┆           ┆           ┆           ┆           │\n",
       "│ 1        ┆ 2024-03-0 ┆ 2024-03-0 ┆ 0         ┆ … ┆ 1.0       ┆ 30.4      ┆ 2.5       ┆ 0.0       │\n",
       "│          ┆ 1         ┆ 1         ┆           ┆   ┆           ┆           ┆           ┆           │\n",
       "│          ┆ 00:05:43  ┆ 00:26:22  ┆           ┆   ┆           ┆           ┆           ┆           │\n",
       "└──────────┴───────────┴───────────┴───────────┴───┴───────────┴───────────┴───────────┴───────────┘"
      ]
     },
     "execution_count": 22,
     "metadata": {},
     "output_type": "execute_result"
    }
   ],
   "source": [
    "df = pl.read_csv(\n",
    "    \"../data/yellow_tripdata_2024-03.csv\",\n",
    "    dtypes={\"tpep_pickup_datetime\": pl.Datetime, \"tpep_dropoff_datetime\": pl.Datetime}\n",
    ")\n",
    "df.head()"
   ]
  },
  {
   "cell_type": "markdown",
   "id": "024880c9",
   "metadata": {},
   "source": [
    "This is one of the greatest strenghts of `polars`: easily managing data types and making them organized and transparent for users. This might not seem like a big deal right now, but when it comes time to do complex operations on columns, you'll very much appreciate this! But more on that in a few modules. For now, let's try loading data with `polars` in a different way--the lazy way."
   ]
  },
  {
   "cell_type": "markdown",
   "id": "b3c44cc5",
   "metadata": {},
   "source": [
    "## 2.2. Scanning Data From `csv`"
   ]
  },
  {
   "cell_type": "markdown",
   "id": "f5f49cd3",
   "metadata": {},
   "source": [
    "As we mentioned in the previous module, `polars` supports two ways of loading and processing data: the in-memory mode with `DataFrame`, and the lazy mode with `LazyFrame`. With `DataFrame`, all operations are executed as they are written; with `LazyFrame`, however, operations are optimized before they are executed.\n",
    "\n",
    "The most common way to enter lazy mode is by starting with `polars.scan_csv()` instead of `polars.read_csv()`:"
   ]
  },
  {
   "cell_type": "code",
   "execution_count": 24,
   "id": "b2840091",
   "metadata": {},
   "outputs": [],
   "source": [
    "lf = pl.scan_csv(\n",
    "    \"../data/yellow_tripdata_2024-03.csv\",\n",
    "    dtypes={\"tpep_pickup_datetime\": pl.Datetime, \"tpep_dropoff_datetime\": pl.Datetime}\n",
    ")"
   ]
  },
  {
   "cell_type": "markdown",
   "id": "d37e8bae",
   "metadata": {},
   "source": [
    "That's right--we can use the `dtypes` argument with `polars.scan_csv()` as well! `polars.scan_csv()` supports (almost) all the same input arguments as `polars.read_csv()`, making it easy to work with.\n",
    "\n",
    "As in the last section, let's do `head()` to take a look at the data."
   ]
  },
  {
   "cell_type": "code",
   "execution_count": 31,
   "id": "cdf23d81",
   "metadata": {},
   "outputs": [
    {
     "data": {
      "text/html": [
       "<h4>NAIVE QUERY PLAN</h4><p>run <b>LazyFrame.show_graph()</b> to see the optimized version</p><?xml version=\"1.0\" encoding=\"UTF-8\" standalone=\"no\"?>\n",
       "<!DOCTYPE svg PUBLIC \"-//W3C//DTD SVG 1.1//EN\"\n",
       " \"http://www.w3.org/Graphics/SVG/1.1/DTD/svg11.dtd\">\n",
       "<!-- Generated by graphviz version 11.0.0 (20240428.1522)\n",
       " -->\n",
       "<!-- Title: polars_query Pages: 1 -->\n",
       "<svg width=\"284pt\" height=\"138pt\"\n",
       " viewBox=\"0.00 0.00 284.25 137.50\" xmlns=\"http://www.w3.org/2000/svg\" xmlns:xlink=\"http://www.w3.org/1999/xlink\">\n",
       "<g id=\"graph0\" class=\"graph\" transform=\"scale(1 1) rotate(0) translate(4 133.5)\">\n",
       "<title>polars_query</title>\n",
       "<polygon fill=\"white\" stroke=\"none\" points=\"-4,4 -4,-133.5 280.25,-133.5 280.25,4 -4,4\"/>\n",
       "<!-- p1 -->\n",
       "<g id=\"node1\" class=\"node\">\n",
       "<title>p1</title>\n",
       "<polygon fill=\"none\" stroke=\"black\" points=\"208.38,-129.5 67.88,-129.5 67.88,-93.5 208.38,-93.5 208.38,-129.5\"/>\n",
       "<text text-anchor=\"middle\" x=\"138.12\" y=\"-106.45\" font-family=\"Times,serif\" font-size=\"14.00\">SLICE offset: 0; len: 5</text>\n",
       "</g>\n",
       "<!-- p2 -->\n",
       "<g id=\"node2\" class=\"node\">\n",
       "<title>p2</title>\n",
       "<polygon fill=\"none\" stroke=\"black\" points=\"276.25,-57.5 0,-57.5 0,0 276.25,0 276.25,-57.5\"/>\n",
       "<text text-anchor=\"middle\" x=\"138.12\" y=\"-40.2\" font-family=\"Times,serif\" font-size=\"14.00\">Csv SCAN ../data/yellow_tripdata_2024&#45;03.csv</text>\n",
       "<text text-anchor=\"middle\" x=\"138.12\" y=\"-23.7\" font-family=\"Times,serif\" font-size=\"14.00\">π */19;</text>\n",
       "<text text-anchor=\"middle\" x=\"138.12\" y=\"-7.2\" font-family=\"Times,serif\" font-size=\"14.00\">σ None</text>\n",
       "</g>\n",
       "<!-- p1&#45;&#45;p2 -->\n",
       "<g id=\"edge1\" class=\"edge\">\n",
       "<title>p1&#45;&#45;p2</title>\n",
       "<path fill=\"none\" stroke=\"black\" d=\"M138.12,-93.38C138.12,-83.1 138.12,-69.77 138.12,-57.97\"/>\n",
       "</g>\n",
       "</g>\n",
       "</svg>\n"
      ],
      "text/plain": [
       "<LazyFrame at 0x2455AEE70>"
      ]
     },
     "execution_count": 31,
     "metadata": {},
     "output_type": "execute_result"
    }
   ],
   "source": [
    "lf.head()"
   ]
  },
  {
   "cell_type": "markdown",
   "id": "90b88a74",
   "metadata": {},
   "source": [
    "Hey, that's not a dataframe!\n",
    "\n",
    "When working with `LazyFrame`s, it's better to think of them as \"queries\" rather than as \"dataframes\". To this end, displaying a `LazyFrame` object doesn't show the data result; rather, **it shows you what the computer is going to do to get you the data result**.\n",
    "\n",
    "In this case, "
   ]
  },
  {
   "cell_type": "code",
   "execution_count": null,
   "id": "e3e3b81f",
   "metadata": {},
   "outputs": [],
   "source": []
  }
 ],
 "metadata": {
  "kernelspec": {
   "display_name": "Python 3 (ipykernel)",
   "language": "python",
   "name": "python3"
  },
  "language_info": {
   "codemirror_mode": {
    "name": "ipython",
    "version": 3
   },
   "file_extension": ".py",
   "mimetype": "text/x-python",
   "name": "python",
   "nbconvert_exporter": "python",
   "pygments_lexer": "ipython3",
   "version": "3.12.3"
  }
 },
 "nbformat": 4,
 "nbformat_minor": 5
}
