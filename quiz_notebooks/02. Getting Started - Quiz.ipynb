{
 "cells": [
  {
   "cell_type": "markdown",
   "id": "1653908d",
   "metadata": {},
   "source": [
    "# 02. Getting Started - Quiz"
   ]
  },
  {
   "cell_type": "markdown",
   "id": "1109c3fe",
   "metadata": {},
   "source": [
    "## 2.0. Imports"
   ]
  },
  {
   "cell_type": "markdown",
   "id": "112f93cb",
   "metadata": {},
   "source": [
    "Import `polars`."
   ]
  },
  {
   "cell_type": "code",
   "execution_count": 1,
   "id": "3db2bd08",
   "metadata": {},
   "outputs": [],
   "source": [
    "import polars as pl"
   ]
  },
  {
   "cell_type": "markdown",
   "id": "dff3475d",
   "metadata": {},
   "source": [
    "## 2.1. Question 1"
   ]
  },
  {
   "cell_type": "markdown",
   "id": "7c8396d2",
   "metadata": {},
   "source": [
    "Given the following data dictionary about school children, create a `pl.DataFrame` and display it. What are the datatypes of each column?"
   ]
  },
  {
   "cell_type": "code",
   "execution_count": 11,
   "id": "6de06f5a",
   "metadata": {},
   "outputs": [],
   "source": [
    "data_dictionary = {\n",
    "    \"first_name\": [\"danny\", \"stanny\", \"ranny\"],\n",
    "    \"last_name\": [\"lang\", \"slang\", \"rang\"],\n",
    "    \"age\": [4, 5, 4.5],\n",
    "    \"favorite_subject\": [\"math\", \"english\", \"art\"],\n",
    "}\n",
    "#### YOUR CODE HERE"
   ]
  },
  {
   "cell_type": "markdown",
   "id": "0d3a4fe9-d2c5-4094-8427-fe226b59257b",
   "metadata": {},
   "source": [
    "1. (`str`, `str`, `f64`, `cat`)\n",
    "2. (`str`, `str`, `f64`, `str`)\n",
    "3. (`str`, `str`, `i64`, `cat`)\n",
    "4. (`str`, `i64`, `cat`)"
   ]
  },
  {
   "cell_type": "markdown",
   "id": "1d21327f-88f1-469c-845d-fb19772ffe24",
   "metadata": {},
   "source": [
    "## 2.2. Question 2"
   ]
  },
  {
   "cell_type": "markdown",
   "id": "408f4f7f-4986-45f6-8ca1-1b3b843315de",
   "metadata": {},
   "source": [
    "During the module, we saw that selecting columns from a `LazyFrame` was ~2-3x faster than selecting columns from a `DataFrame`:"
   ]
  },
  {
   "cell_type": "code",
   "execution_count": 9,
   "id": "81d53160-2e5e-42c1-b523-564a514200fb",
   "metadata": {},
   "outputs": [
    {
     "name": "stdout",
     "output_type": "stream",
     "text": [
      "423 ms ± 48.7 ms per loop (mean ± std. dev. of 7 runs, 3 loops each)\n"
     ]
    }
   ],
   "source": [
    "%%timeit -n 3\n",
    "(\n",
    "    pl.read_csv(\n",
    "        \"../data/yellow_tripdata_2024-03.csv\",\n",
    "        schema_overrides={\"tpep_pickup_datetime\": pl.Datetime, \"tpep_dropoff_datetime\": pl.Datetime}\n",
    "    )\n",
    "    .select([\"tpep_pickup_datetime\", \"tpep_dropoff_datetime\"])\n",
    ")"
   ]
  },
  {
   "cell_type": "code",
   "execution_count": 10,
   "id": "1a3fc7a5-98fa-49ac-840b-11d83c631f9b",
   "metadata": {},
   "outputs": [
    {
     "name": "stdout",
     "output_type": "stream",
     "text": [
      "218 ms ± 3.4 ms per loop (mean ± std. dev. of 7 runs, 3 loops each)\n"
     ]
    }
   ],
   "source": [
    "%%timeit -n 3\n",
    "(\n",
    "    pl.scan_csv(\n",
    "        \"../data/yellow_tripdata_2024-03.csv\",\n",
    "        schema_overrides={\"tpep_pickup_datetime\": pl.Datetime, \"tpep_dropoff_datetime\": pl.Datetime}\n",
    "    )\n",
    "    .select([\"tpep_pickup_datetime\", \"tpep_dropoff_datetime\"])\n",
    "    .collect()\n",
    ")"
   ]
  },
  {
   "cell_type": "markdown",
   "id": "62df985e-f2ef-476c-af32-eaa2c23a2819",
   "metadata": {},
   "source": [
    "Now perform the same comparison, but for the `parquet` file (hint: you can just copy-paste the two cells from above with `read_csv` and `scan_csv` and simply change the word `csv` to `parquet`). What is the speed increase from selecting on a `DataFrame` to selecting on a `LazyFrame` for the `parquet` file?"
   ]
  },
  {
   "cell_type": "code",
   "execution_count": 25,
   "id": "49ed2f28-243e-4851-971e-c4a7dbaf9ea4",
   "metadata": {},
   "outputs": [],
   "source": [
    "#### YOUR CODE HERE"
   ]
  },
  {
   "cell_type": "code",
   "execution_count": 26,
   "id": "ea75a814-e1c8-46ac-af59-89fd60532311",
   "metadata": {},
   "outputs": [],
   "source": [
    "#### YOUR CODE HERE"
   ]
  },
  {
   "cell_type": "markdown",
   "id": "c5f8239b-f57f-4f16-b4e3-35d55f68a04a",
   "metadata": {},
   "source": [
    "1. .5-1x\n",
    "2. 1-2x\n",
    "3. 3-5x\n",
    "4. 5-10x"
   ]
  },
  {
   "cell_type": "markdown",
   "id": "dad10071-7303-4337-b7d1-f875108c1259",
   "metadata": {},
   "source": [
    "## 2.3 Question 3"
   ]
  },
  {
   "cell_type": "markdown",
   "id": "e35adfe5-d9c6-45b6-94a0-338dae32ee04",
   "metadata": {},
   "source": [
    "Which file type demonstrated a greater speedup from selecting on a `DataFrame` to selecting on a `LazyFrame`: `csv` or `parquet`?"
   ]
  },
  {
   "cell_type": "markdown",
   "id": "29dfbeda-7b9c-407d-89e5-f828dcbee773",
   "metadata": {},
   "source": [
    "1. `csv`\n",
    "2. `parquet`"
   ]
  },
  {
   "cell_type": "markdown",
   "id": "e17f21b9-2d8e-475c-bfdb-cc43deaf7e82",
   "metadata": {},
   "source": [
    "## 2.4 Question 4"
   ]
  },
  {
   "cell_type": "markdown",
   "id": "6e3d164c-385c-4824-bcb4-370f08390cba",
   "metadata": {},
   "source": [
    "Using what you know what you know about `parquet` files, why was selecting on a `LazyFrame` faster than selecting on a `DataFrame` for `parquet` than for `csv`?"
   ]
  },
  {
   "cell_type": "markdown",
   "id": "7b742c84-ff0d-4066-b307-4ced7151b952",
   "metadata": {},
   "source": [
    "1. Because the `parquet` file is smaller than the `csv` file.\n",
    "2. Because Polars is built on the Apache Arrow memory model, the development team has spent more time developing the functionality associated with parquet, which is also built on the Apache Arrow memory model, thus making its IO operations faster.\n",
    "3. `parquet` files keep data from the same column in the same location in memory, so when the `select` gets pushed down to the read operation of `LazyFrame`, the input engine can skip the unnecessary columns' data faster than it can for `csv`.\n",
    "4. Because `parquet` is a newer, more advanced file type."
   ]
  },
  {
   "cell_type": "code",
   "execution_count": null,
   "id": "196f55a1-d944-49dd-a9b4-fadf34c30c42",
   "metadata": {},
   "outputs": [],
   "source": []
  }
 ],
 "metadata": {
  "kernelspec": {
   "display_name": "Python 3 (ipykernel)",
   "language": "python",
   "name": "python3"
  },
  "language_info": {
   "codemirror_mode": {
    "name": "ipython",
    "version": 3
   },
   "file_extension": ".py",
   "mimetype": "text/x-python",
   "name": "python",
   "nbconvert_exporter": "python",
   "pygments_lexer": "ipython3",
   "version": "3.9.2"
  }
 },
 "nbformat": 4,
 "nbformat_minor": 5
}
