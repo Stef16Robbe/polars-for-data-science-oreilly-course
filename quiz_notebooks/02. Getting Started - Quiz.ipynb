{
 "cells": [
  {
   "cell_type": "markdown",
   "id": "0",
   "metadata": {},
   "source": [
    "# 2. Getting Started - Quiz"
   ]
  },
  {
   "cell_type": "markdown",
   "id": "1",
   "metadata": {},
   "source": [
    "## 2.0. Imports"
   ]
  },
  {
   "cell_type": "markdown",
   "id": "2",
   "metadata": {},
   "source": [
    "Import `polars`."
   ]
  },
  {
   "cell_type": "code",
   "execution_count": 1,
   "id": "3",
   "metadata": {},
   "outputs": [],
   "source": [
    "import polars as pl"
   ]
  },
  {
   "cell_type": "markdown",
   "id": "4",
   "metadata": {},
   "source": [
    "## 2.1 Question 1: Creating DataFrame from Dictionary"
   ]
  },
  {
   "cell_type": "markdown",
   "id": "5",
   "metadata": {},
   "source": [
    "Given the data dictionary about schoolchildren, create a `pl.DataFrame` and display it. What are the datatypes of each column?"
   ]
  },
  {
   "cell_type": "code",
   "execution_count": 6,
   "id": "6",
   "metadata": {},
   "outputs": [
    {
     "data": {
      "text/html": [
       "<div><style>\n",
       ".dataframe > thead > tr,\n",
       ".dataframe > tbody > tr {\n",
       "  text-align: right;\n",
       "  white-space: pre-wrap;\n",
       "}\n",
       "</style>\n",
       "<small>shape: (3, 4)</small><table border=\"1\" class=\"dataframe\"><thead><tr><th>first_name</th><th>last_name</th><th>age</th><th>favorite_subject</th></tr><tr><td>str</td><td>str</td><td>f64</td><td>str</td></tr></thead><tbody><tr><td>&quot;danny&quot;</td><td>&quot;lang&quot;</td><td>4.5</td><td>&quot;math&quot;</td></tr><tr><td>&quot;stanny&quot;</td><td>&quot;slang&quot;</td><td>4.0</td><td>&quot;english&quot;</td></tr><tr><td>&quot;ranny&quot;</td><td>&quot;rang&quot;</td><td>5.0</td><td>&quot;art&quot;</td></tr></tbody></table></div>"
      ],
      "text/plain": [
       "shape: (3, 4)\n",
       "┌────────────┬───────────┬─────┬──────────────────┐\n",
       "│ first_name ┆ last_name ┆ age ┆ favorite_subject │\n",
       "│ ---        ┆ ---       ┆ --- ┆ ---              │\n",
       "│ str        ┆ str       ┆ f64 ┆ str              │\n",
       "╞════════════╪═══════════╪═════╪══════════════════╡\n",
       "│ danny      ┆ lang      ┆ 4.5 ┆ math             │\n",
       "│ stanny     ┆ slang     ┆ 4.0 ┆ english          │\n",
       "│ ranny      ┆ rang      ┆ 5.0 ┆ art              │\n",
       "└────────────┴───────────┴─────┴──────────────────┘"
      ]
     },
     "execution_count": 6,
     "metadata": {},
     "output_type": "execute_result"
    }
   ],
   "source": [
    "data_dictionary = {\n",
    "    \"first_name\": [\"danny\", \"stanny\", \"ranny\"],\n",
    "    \"last_name\": [\"lang\", \"slang\", \"rang\"],\n",
    "    \"age\": [4.5, 4., 5.],\n",
    "    \"favorite_subject\": [\"math\", \"english\", \"art\"],\n",
    "}\n",
    "#### YOUR CODE HERE\n",
    "df = pl.DataFrame(data=data_dictionary)\n",
    "df.head()\n"
   ]
  },
  {
   "cell_type": "markdown",
   "id": "7",
   "metadata": {},
   "source": [
    "1. (`str`, `str`, `f64`, `str`)\n",
    "2. (`str`, `str`, `f64`, `cat`)\n",
    "3. (`str`, `str`, `i64`, `cat`)\n",
    "4. (`str`, `i64`, `cat`)"
   ]
  },
  {
   "cell_type": "markdown",
   "id": "8",
   "metadata": {},
   "source": [
    "## 2.2 Question 2: Loading CSV with Schema Override"
   ]
  },
  {
   "cell_type": "markdown",
   "id": "9",
   "metadata": {},
   "source": [
    "In the module, we loaded data from the CSV file, overriding the schema of the columns `tpep_pickup_datetime` and `tpep_dropoff_datetime` and loading them as a `pl.Datetime` datatype. Now, override the schema to load them as a `pl.Date` datatype. What happens?"
   ]
  },
  {
   "cell_type": "code",
   "execution_count": 3,
   "id": "10",
   "metadata": {},
   "outputs": [
    {
     "data": {
      "text/html": [
       "<div><style>\n",
       ".dataframe > thead > tr,\n",
       ".dataframe > tbody > tr {\n",
       "  text-align: right;\n",
       "  white-space: pre-wrap;\n",
       "}\n",
       "</style>\n",
       "<small>shape: (5, 19)</small><table border=\"1\" class=\"dataframe\"><thead><tr><th>VendorID</th><th>tpep_pickup_datetime</th><th>tpep_dropoff_datetime</th><th>passenger_count</th><th>trip_distance</th><th>RatecodeID</th><th>store_and_fwd_flag</th><th>PULocationID</th><th>DOLocationID</th><th>payment_type</th><th>fare_amount</th><th>extra</th><th>mta_tax</th><th>tip_amount</th><th>tolls_amount</th><th>improvement_surcharge</th><th>total_amount</th><th>congestion_surcharge</th><th>Airport_fee</th></tr><tr><td>i64</td><td>str</td><td>str</td><td>i64</td><td>f64</td><td>i64</td><td>str</td><td>i64</td><td>i64</td><td>i64</td><td>f64</td><td>f64</td><td>f64</td><td>f64</td><td>f64</td><td>f64</td><td>f64</td><td>f64</td><td>f64</td></tr></thead><tbody><tr><td>1</td><td>&quot;2024-03-01T00:18:51.000000000&quot;</td><td>&quot;2024-03-01T00:23:45.000000000&quot;</td><td>0</td><td>1.3</td><td>1</td><td>&quot;N&quot;</td><td>142</td><td>239</td><td>1</td><td>8.6</td><td>3.5</td><td>0.5</td><td>2.7</td><td>0.0</td><td>1.0</td><td>16.3</td><td>2.5</td><td>0.0</td></tr><tr><td>1</td><td>&quot;2024-03-01T00:26:00.000000000&quot;</td><td>&quot;2024-03-01T00:29:06.000000000&quot;</td><td>0</td><td>1.1</td><td>1</td><td>&quot;N&quot;</td><td>238</td><td>24</td><td>1</td><td>7.2</td><td>3.5</td><td>0.5</td><td>3.0</td><td>0.0</td><td>1.0</td><td>15.2</td><td>2.5</td><td>0.0</td></tr><tr><td>2</td><td>&quot;2024-03-01T00:09:22.000000000&quot;</td><td>&quot;2024-03-01T00:15:24.000000000&quot;</td><td>1</td><td>0.86</td><td>1</td><td>&quot;N&quot;</td><td>263</td><td>75</td><td>2</td><td>7.9</td><td>1.0</td><td>0.5</td><td>0.0</td><td>0.0</td><td>1.0</td><td>10.4</td><td>0.0</td><td>0.0</td></tr><tr><td>2</td><td>&quot;2024-03-01T00:33:45.000000000&quot;</td><td>&quot;2024-03-01T00:39:34.000000000&quot;</td><td>1</td><td>0.82</td><td>1</td><td>&quot;N&quot;</td><td>164</td><td>162</td><td>1</td><td>7.9</td><td>1.0</td><td>0.5</td><td>1.29</td><td>0.0</td><td>1.0</td><td>14.19</td><td>2.5</td><td>0.0</td></tr><tr><td>1</td><td>&quot;2024-03-01T00:05:43.000000000&quot;</td><td>&quot;2024-03-01T00:26:22.000000000&quot;</td><td>0</td><td>4.9</td><td>1</td><td>&quot;N&quot;</td><td>263</td><td>7</td><td>2</td><td>25.4</td><td>3.5</td><td>0.5</td><td>0.0</td><td>0.0</td><td>1.0</td><td>30.4</td><td>2.5</td><td>0.0</td></tr></tbody></table></div>"
      ],
      "text/plain": [
       "shape: (5, 19)\n",
       "┌──────────┬───────────┬───────────┬───────────┬───┬───────────┬───────────┬───────────┬───────────┐\n",
       "│ VendorID ┆ tpep_pick ┆ tpep_drop ┆ passenger ┆ … ┆ improveme ┆ total_amo ┆ congestio ┆ Airport_f │\n",
       "│ ---      ┆ up_dateti ┆ off_datet ┆ _count    ┆   ┆ nt_surcha ┆ unt       ┆ n_surchar ┆ ee        │\n",
       "│ i64      ┆ me        ┆ ime       ┆ ---       ┆   ┆ rge       ┆ ---       ┆ ge        ┆ ---       │\n",
       "│          ┆ ---       ┆ ---       ┆ i64       ┆   ┆ ---       ┆ f64       ┆ ---       ┆ f64       │\n",
       "│          ┆ str       ┆ str       ┆           ┆   ┆ f64       ┆           ┆ f64       ┆           │\n",
       "╞══════════╪═══════════╪═══════════╪═══════════╪═══╪═══════════╪═══════════╪═══════════╪═══════════╡\n",
       "│ 1        ┆ 2024-03-0 ┆ 2024-03-0 ┆ 0         ┆ … ┆ 1.0       ┆ 16.3      ┆ 2.5       ┆ 0.0       │\n",
       "│          ┆ 1T00:18:5 ┆ 1T00:23:4 ┆           ┆   ┆           ┆           ┆           ┆           │\n",
       "│          ┆ 1.0000000 ┆ 5.0000000 ┆           ┆   ┆           ┆           ┆           ┆           │\n",
       "│          ┆ 00        ┆ 00        ┆           ┆   ┆           ┆           ┆           ┆           │\n",
       "│ 1        ┆ 2024-03-0 ┆ 2024-03-0 ┆ 0         ┆ … ┆ 1.0       ┆ 15.2      ┆ 2.5       ┆ 0.0       │\n",
       "│          ┆ 1T00:26:0 ┆ 1T00:29:0 ┆           ┆   ┆           ┆           ┆           ┆           │\n",
       "│          ┆ 0.0000000 ┆ 6.0000000 ┆           ┆   ┆           ┆           ┆           ┆           │\n",
       "│          ┆ 00        ┆ 00        ┆           ┆   ┆           ┆           ┆           ┆           │\n",
       "│ 2        ┆ 2024-03-0 ┆ 2024-03-0 ┆ 1         ┆ … ┆ 1.0       ┆ 10.4      ┆ 0.0       ┆ 0.0       │\n",
       "│          ┆ 1T00:09:2 ┆ 1T00:15:2 ┆           ┆   ┆           ┆           ┆           ┆           │\n",
       "│          ┆ 2.0000000 ┆ 4.0000000 ┆           ┆   ┆           ┆           ┆           ┆           │\n",
       "│          ┆ 00        ┆ 00        ┆           ┆   ┆           ┆           ┆           ┆           │\n",
       "│ 2        ┆ 2024-03-0 ┆ 2024-03-0 ┆ 1         ┆ … ┆ 1.0       ┆ 14.19     ┆ 2.5       ┆ 0.0       │\n",
       "│          ┆ 1T00:33:4 ┆ 1T00:39:3 ┆           ┆   ┆           ┆           ┆           ┆           │\n",
       "│          ┆ 5.0000000 ┆ 4.0000000 ┆           ┆   ┆           ┆           ┆           ┆           │\n",
       "│          ┆ 00        ┆ 00        ┆           ┆   ┆           ┆           ┆           ┆           │\n",
       "│ 1        ┆ 2024-03-0 ┆ 2024-03-0 ┆ 0         ┆ … ┆ 1.0       ┆ 30.4      ┆ 2.5       ┆ 0.0       │\n",
       "│          ┆ 1T00:05:4 ┆ 1T00:26:2 ┆           ┆   ┆           ┆           ┆           ┆           │\n",
       "│          ┆ 3.0000000 ┆ 2.0000000 ┆           ┆   ┆           ┆           ┆           ┆           │\n",
       "│          ┆ 00        ┆ 00        ┆           ┆   ┆           ┆           ┆           ┆           │\n",
       "└──────────┴───────────┴───────────┴───────────┴───┴───────────┴───────────┴───────────┴───────────┘"
      ]
     },
     "execution_count": 3,
     "metadata": {},
     "output_type": "execute_result"
    }
   ],
   "source": [
    "df = pl.read_csv(\n",
    "    \"../data/yellow_tripdata_2024-03.csv\",\n",
    "    schema_overrides={\n",
    "        #### YOUR CODE HERE\n",
    "    }\n",
    ")\n",
    "df.head()"
   ]
  },
  {
   "cell_type": "markdown",
   "id": "11",
   "metadata": {},
   "source": [
    "1. All the data is loaded, and the columns `tpep_pickup_datetime` and `tpep_dropoff_datetime` are loaded as a `str` datatype\n",
    "2. All the data is loaded, and the columns `tpep_pickup_datetime` and `tpep_dropoff_datetime` are loaded as a `datetime` datatype\n",
    "3. The data doesn't load\n",
    "4. All the data is loaded, and the columns `tpep_pickup_datetime` and `tpep_dropoff_datetime` are loaded as a `date` datatype"
   ]
  },
  {
   "cell_type": "markdown",
   "id": "12",
   "metadata": {},
   "source": [
    "## 2.3 Question 3: LazyFrame vs DataFrame Selection Speed"
   ]
  },
  {
   "cell_type": "markdown",
   "id": "13",
   "metadata": {},
   "source": [
    "In the module, you saw that selecting columns from a `LazyFrame` is about two or three times faster than selecting columns from a `DataFrame` when data is loaded from a CSV file. However, we only did this for CSV, not for Parquet. Which file type do you think would see a greater speedup when selecting on a `DataFrame` than selecting on a `LazyFrame`: CSV or Parquet and why?"
   ]
  },
  {
   "cell_type": "markdown",
   "id": "14",
   "metadata": {},
   "source": [
    "1. CSV, because it's a simpler file type\n",
    "2. CSV, because it's an older file format and thus the Polars code for interacting with it is better developed\n",
    "3. Parquet, because both Polars and Parquet are built on the Apache Arrow memory model and thus the Polars development team has spent more time developing the functionality associated with Parquet, making its IO operations faster\n",
    "4. Parquet, because Parquet files keep data from the same column in the same location in memory and thus, when the select gets pushed down to the read operation of LazyFrame, the input engine can skip the unnecessary columns' data faster than it can for a CSV file"
   ]
  },
  {
   "cell_type": "markdown",
   "id": "15",
   "metadata": {},
   "source": [
    "## 2.4 Question 4: Highest Null Count in Dataset"
   ]
  },
  {
   "cell_type": "markdown",
   "id": "16",
   "metadata": {},
   "source": [
    "Inspect the dataset with `df.describe()`. What is the highest `null_count` of any column?"
   ]
  },
  {
   "cell_type": "code",
   "execution_count": 4,
   "id": "17",
   "metadata": {},
   "outputs": [],
   "source": [
    "#### YOUR CODE HERE"
   ]
  },
  {
   "cell_type": "markdown",
   "id": "18",
   "metadata": {},
   "source": [
    "1. 3582628\n",
    "2. 426190\n",
    "3. 0\n",
    "4. 176836"
   ]
  }
 ],
 "metadata": {
  "kernelspec": {
   "display_name": ".venv",
   "language": "python",
   "name": "python3"
  },
  "language_info": {
   "codemirror_mode": {
    "name": "ipython",
    "version": 3
   },
   "file_extension": ".py",
   "mimetype": "text/x-python",
   "name": "python",
   "nbconvert_exporter": "python",
   "pygments_lexer": "ipython3",
   "version": "3.12.3"
  }
 },
 "nbformat": 4,
 "nbformat_minor": 5
}
